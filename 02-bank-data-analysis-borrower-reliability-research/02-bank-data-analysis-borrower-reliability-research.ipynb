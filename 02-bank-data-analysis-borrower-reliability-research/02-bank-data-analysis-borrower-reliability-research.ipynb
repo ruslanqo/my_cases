{
 "cells": [
  {
   "cell_type": "markdown",
   "metadata": {},
   "source": [
    "# Исследование надежности заемщиков."
   ]
  },
  {
   "cell_type": "markdown",
   "metadata": {},
   "source": [
    "### Шаг 1. Обзор данных"
   ]
  },
  {
   "cell_type": "markdown",
   "metadata": {},
   "source": [
    "**Открываю таблицу и изучаю общую информацию о данных методом .info().**   "
   ]
  },
  {
   "cell_type": "code",
   "execution_count": 1,
   "metadata": {
    "scrolled": false
   },
   "outputs": [
    {
     "name": "stdout",
     "output_type": "stream",
     "text": [
      "<class 'pandas.core.frame.DataFrame'>\n",
      "RangeIndex: 21525 entries, 0 to 21524\n",
      "Data columns (total 12 columns):\n",
      "children            21525 non-null int64\n",
      "days_employed       19351 non-null float64\n",
      "dob_years           21525 non-null int64\n",
      "education           21525 non-null object\n",
      "education_id        21525 non-null int64\n",
      "family_status       21525 non-null object\n",
      "family_status_id    21525 non-null int64\n",
      "gender              21525 non-null object\n",
      "income_type         21525 non-null object\n",
      "debt                21525 non-null int64\n",
      "total_income        19351 non-null float64\n",
      "purpose             21525 non-null object\n",
      "dtypes: float64(2), int64(5), object(5)\n",
      "memory usage: 2.0+ MB\n"
     ]
    },
    {
     "data": {
      "text/html": [
       "<div>\n",
       "<style scoped>\n",
       "    .dataframe tbody tr th:only-of-type {\n",
       "        vertical-align: middle;\n",
       "    }\n",
       "\n",
       "    .dataframe tbody tr th {\n",
       "        vertical-align: top;\n",
       "    }\n",
       "\n",
       "    .dataframe thead th {\n",
       "        text-align: right;\n",
       "    }\n",
       "</style>\n",
       "<table border=\"1\" class=\"dataframe\">\n",
       "  <thead>\n",
       "    <tr style=\"text-align: right;\">\n",
       "      <th></th>\n",
       "      <th>children</th>\n",
       "      <th>days_employed</th>\n",
       "      <th>dob_years</th>\n",
       "      <th>education</th>\n",
       "      <th>education_id</th>\n",
       "      <th>family_status</th>\n",
       "      <th>family_status_id</th>\n",
       "      <th>gender</th>\n",
       "      <th>income_type</th>\n",
       "      <th>debt</th>\n",
       "      <th>total_income</th>\n",
       "      <th>purpose</th>\n",
       "    </tr>\n",
       "  </thead>\n",
       "  <tbody>\n",
       "    <tr>\n",
       "      <td>0</td>\n",
       "      <td>1</td>\n",
       "      <td>-8437.673028</td>\n",
       "      <td>42</td>\n",
       "      <td>высшее</td>\n",
       "      <td>0</td>\n",
       "      <td>женат / замужем</td>\n",
       "      <td>0</td>\n",
       "      <td>F</td>\n",
       "      <td>сотрудник</td>\n",
       "      <td>0</td>\n",
       "      <td>253875.639453</td>\n",
       "      <td>покупка жилья</td>\n",
       "    </tr>\n",
       "    <tr>\n",
       "      <td>1</td>\n",
       "      <td>1</td>\n",
       "      <td>-4024.803754</td>\n",
       "      <td>36</td>\n",
       "      <td>среднее</td>\n",
       "      <td>1</td>\n",
       "      <td>женат / замужем</td>\n",
       "      <td>0</td>\n",
       "      <td>F</td>\n",
       "      <td>сотрудник</td>\n",
       "      <td>0</td>\n",
       "      <td>112080.014102</td>\n",
       "      <td>приобретение автомобиля</td>\n",
       "    </tr>\n",
       "    <tr>\n",
       "      <td>2</td>\n",
       "      <td>0</td>\n",
       "      <td>-5623.422610</td>\n",
       "      <td>33</td>\n",
       "      <td>Среднее</td>\n",
       "      <td>1</td>\n",
       "      <td>женат / замужем</td>\n",
       "      <td>0</td>\n",
       "      <td>M</td>\n",
       "      <td>сотрудник</td>\n",
       "      <td>0</td>\n",
       "      <td>145885.952297</td>\n",
       "      <td>покупка жилья</td>\n",
       "    </tr>\n",
       "    <tr>\n",
       "      <td>3</td>\n",
       "      <td>3</td>\n",
       "      <td>-4124.747207</td>\n",
       "      <td>32</td>\n",
       "      <td>среднее</td>\n",
       "      <td>1</td>\n",
       "      <td>женат / замужем</td>\n",
       "      <td>0</td>\n",
       "      <td>M</td>\n",
       "      <td>сотрудник</td>\n",
       "      <td>0</td>\n",
       "      <td>267628.550329</td>\n",
       "      <td>дополнительное образование</td>\n",
       "    </tr>\n",
       "    <tr>\n",
       "      <td>4</td>\n",
       "      <td>0</td>\n",
       "      <td>340266.072047</td>\n",
       "      <td>53</td>\n",
       "      <td>среднее</td>\n",
       "      <td>1</td>\n",
       "      <td>гражданский брак</td>\n",
       "      <td>1</td>\n",
       "      <td>F</td>\n",
       "      <td>пенсионер</td>\n",
       "      <td>0</td>\n",
       "      <td>158616.077870</td>\n",
       "      <td>сыграть свадьбу</td>\n",
       "    </tr>\n",
       "    <tr>\n",
       "      <td>5</td>\n",
       "      <td>0</td>\n",
       "      <td>-926.185831</td>\n",
       "      <td>27</td>\n",
       "      <td>высшее</td>\n",
       "      <td>0</td>\n",
       "      <td>гражданский брак</td>\n",
       "      <td>1</td>\n",
       "      <td>M</td>\n",
       "      <td>компаньон</td>\n",
       "      <td>0</td>\n",
       "      <td>255763.565419</td>\n",
       "      <td>покупка жилья</td>\n",
       "    </tr>\n",
       "    <tr>\n",
       "      <td>6</td>\n",
       "      <td>0</td>\n",
       "      <td>-2879.202052</td>\n",
       "      <td>43</td>\n",
       "      <td>высшее</td>\n",
       "      <td>0</td>\n",
       "      <td>женат / замужем</td>\n",
       "      <td>0</td>\n",
       "      <td>F</td>\n",
       "      <td>компаньон</td>\n",
       "      <td>0</td>\n",
       "      <td>240525.971920</td>\n",
       "      <td>операции с жильем</td>\n",
       "    </tr>\n",
       "    <tr>\n",
       "      <td>7</td>\n",
       "      <td>0</td>\n",
       "      <td>-152.779569</td>\n",
       "      <td>50</td>\n",
       "      <td>СРЕДНЕЕ</td>\n",
       "      <td>1</td>\n",
       "      <td>женат / замужем</td>\n",
       "      <td>0</td>\n",
       "      <td>M</td>\n",
       "      <td>сотрудник</td>\n",
       "      <td>0</td>\n",
       "      <td>135823.934197</td>\n",
       "      <td>образование</td>\n",
       "    </tr>\n",
       "    <tr>\n",
       "      <td>8</td>\n",
       "      <td>2</td>\n",
       "      <td>-6929.865299</td>\n",
       "      <td>35</td>\n",
       "      <td>ВЫСШЕЕ</td>\n",
       "      <td>0</td>\n",
       "      <td>гражданский брак</td>\n",
       "      <td>1</td>\n",
       "      <td>F</td>\n",
       "      <td>сотрудник</td>\n",
       "      <td>0</td>\n",
       "      <td>95856.832424</td>\n",
       "      <td>на проведение свадьбы</td>\n",
       "    </tr>\n",
       "    <tr>\n",
       "      <td>9</td>\n",
       "      <td>0</td>\n",
       "      <td>-2188.756445</td>\n",
       "      <td>41</td>\n",
       "      <td>среднее</td>\n",
       "      <td>1</td>\n",
       "      <td>женат / замужем</td>\n",
       "      <td>0</td>\n",
       "      <td>M</td>\n",
       "      <td>сотрудник</td>\n",
       "      <td>0</td>\n",
       "      <td>144425.938277</td>\n",
       "      <td>покупка жилья для семьи</td>\n",
       "    </tr>\n",
       "    <tr>\n",
       "      <td>10</td>\n",
       "      <td>2</td>\n",
       "      <td>-4171.483647</td>\n",
       "      <td>36</td>\n",
       "      <td>высшее</td>\n",
       "      <td>0</td>\n",
       "      <td>женат / замужем</td>\n",
       "      <td>0</td>\n",
       "      <td>M</td>\n",
       "      <td>компаньон</td>\n",
       "      <td>0</td>\n",
       "      <td>113943.491460</td>\n",
       "      <td>покупка недвижимости</td>\n",
       "    </tr>\n",
       "    <tr>\n",
       "      <td>11</td>\n",
       "      <td>0</td>\n",
       "      <td>-792.701887</td>\n",
       "      <td>40</td>\n",
       "      <td>среднее</td>\n",
       "      <td>1</td>\n",
       "      <td>женат / замужем</td>\n",
       "      <td>0</td>\n",
       "      <td>F</td>\n",
       "      <td>сотрудник</td>\n",
       "      <td>0</td>\n",
       "      <td>77069.234271</td>\n",
       "      <td>покупка коммерческой недвижимости</td>\n",
       "    </tr>\n",
       "    <tr>\n",
       "      <td>12</td>\n",
       "      <td>0</td>\n",
       "      <td>NaN</td>\n",
       "      <td>65</td>\n",
       "      <td>среднее</td>\n",
       "      <td>1</td>\n",
       "      <td>гражданский брак</td>\n",
       "      <td>1</td>\n",
       "      <td>M</td>\n",
       "      <td>пенсионер</td>\n",
       "      <td>0</td>\n",
       "      <td>NaN</td>\n",
       "      <td>сыграть свадьбу</td>\n",
       "    </tr>\n",
       "    <tr>\n",
       "      <td>13</td>\n",
       "      <td>0</td>\n",
       "      <td>-1846.641941</td>\n",
       "      <td>54</td>\n",
       "      <td>неоконченное высшее</td>\n",
       "      <td>2</td>\n",
       "      <td>женат / замужем</td>\n",
       "      <td>0</td>\n",
       "      <td>F</td>\n",
       "      <td>сотрудник</td>\n",
       "      <td>0</td>\n",
       "      <td>130458.228857</td>\n",
       "      <td>приобретение автомобиля</td>\n",
       "    </tr>\n",
       "    <tr>\n",
       "      <td>14</td>\n",
       "      <td>0</td>\n",
       "      <td>-1844.956182</td>\n",
       "      <td>56</td>\n",
       "      <td>высшее</td>\n",
       "      <td>0</td>\n",
       "      <td>гражданский брак</td>\n",
       "      <td>1</td>\n",
       "      <td>F</td>\n",
       "      <td>компаньон</td>\n",
       "      <td>1</td>\n",
       "      <td>165127.911772</td>\n",
       "      <td>покупка жилой недвижимости</td>\n",
       "    </tr>\n",
       "  </tbody>\n",
       "</table>\n",
       "</div>"
      ],
      "text/plain": [
       "    children  days_employed  dob_years            education  education_id  \\\n",
       "0          1   -8437.673028         42               высшее             0   \n",
       "1          1   -4024.803754         36              среднее             1   \n",
       "2          0   -5623.422610         33              Среднее             1   \n",
       "3          3   -4124.747207         32              среднее             1   \n",
       "4          0  340266.072047         53              среднее             1   \n",
       "5          0    -926.185831         27               высшее             0   \n",
       "6          0   -2879.202052         43               высшее             0   \n",
       "7          0    -152.779569         50              СРЕДНЕЕ             1   \n",
       "8          2   -6929.865299         35               ВЫСШЕЕ             0   \n",
       "9          0   -2188.756445         41              среднее             1   \n",
       "10         2   -4171.483647         36               высшее             0   \n",
       "11         0    -792.701887         40              среднее             1   \n",
       "12         0            NaN         65              среднее             1   \n",
       "13         0   -1846.641941         54  неоконченное высшее             2   \n",
       "14         0   -1844.956182         56               высшее             0   \n",
       "\n",
       "       family_status  family_status_id gender income_type  debt  \\\n",
       "0    женат / замужем                 0      F   сотрудник     0   \n",
       "1    женат / замужем                 0      F   сотрудник     0   \n",
       "2    женат / замужем                 0      M   сотрудник     0   \n",
       "3    женат / замужем                 0      M   сотрудник     0   \n",
       "4   гражданский брак                 1      F   пенсионер     0   \n",
       "5   гражданский брак                 1      M   компаньон     0   \n",
       "6    женат / замужем                 0      F   компаньон     0   \n",
       "7    женат / замужем                 0      M   сотрудник     0   \n",
       "8   гражданский брак                 1      F   сотрудник     0   \n",
       "9    женат / замужем                 0      M   сотрудник     0   \n",
       "10   женат / замужем                 0      M   компаньон     0   \n",
       "11   женат / замужем                 0      F   сотрудник     0   \n",
       "12  гражданский брак                 1      M   пенсионер     0   \n",
       "13   женат / замужем                 0      F   сотрудник     0   \n",
       "14  гражданский брак                 1      F   компаньон     1   \n",
       "\n",
       "     total_income                            purpose  \n",
       "0   253875.639453                      покупка жилья  \n",
       "1   112080.014102            приобретение автомобиля  \n",
       "2   145885.952297                      покупка жилья  \n",
       "3   267628.550329         дополнительное образование  \n",
       "4   158616.077870                    сыграть свадьбу  \n",
       "5   255763.565419                      покупка жилья  \n",
       "6   240525.971920                  операции с жильем  \n",
       "7   135823.934197                        образование  \n",
       "8    95856.832424              на проведение свадьбы  \n",
       "9   144425.938277            покупка жилья для семьи  \n",
       "10  113943.491460               покупка недвижимости  \n",
       "11   77069.234271  покупка коммерческой недвижимости  \n",
       "12            NaN                    сыграть свадьбу  \n",
       "13  130458.228857            приобретение автомобиля  \n",
       "14  165127.911772         покупка жилой недвижимости  "
      ]
     },
     "metadata": {},
     "output_type": "display_data"
    }
   ],
   "source": [
    "import pandas as pd\n",
    "data = pd.read_csv('/datasets/data.csv')\n",
    "data.info()\n",
    "display(data.head(15))"
   ]
  },
  {
   "cell_type": "markdown",
   "metadata": {},
   "source": [
    "Выведу на экран первые 15 строк таблицы методом .head(15).    \n",
    "Обнаруживаю, что в 2-х столбцах 'days_employed' и 'total_income' есть пропуски."
   ]
  },
  {
   "cell_type": "markdown",
   "metadata": {},
   "source": [
    "### Шаг 2.1 Заполнение пропусков"
   ]
  },
  {
   "cell_type": "markdown",
   "metadata": {},
   "source": [
    "**Узнав, что в 2-х столбцах 'days_employed' и 'total_income' есть пропуски, методом isna() найду все строки с пропусками и просмотрю первые пять. Обнаруживаю, что это значение NaN.**    \n",
    "\n",
    "**Затем определю, какую долю в процентах составляют пропущенные значения в каждом из столбцов с пропусками. Доля тоже одинаковая.**\n",
    "\n",
    "Полагаю, что возможными причинами пропусков являются: человеческий фактор, ошибка ввода данных, сокрытие информации."
   ]
  },
  {
   "cell_type": "code",
   "execution_count": 2,
   "metadata": {
    "scrolled": true
   },
   "outputs": [
    {
     "name": "stdout",
     "output_type": "stream",
     "text": [
      "Доля пропусков составляет 11.0 %\n"
     ]
    }
   ],
   "source": [
    "print('Доля пропусков составляет', (len(data[data['days_employed'].isna()]) / \n",
    "      data['days_employed'].value_counts().sum()*100).round(), '%') #определяю долю пропусков в days_employed"
   ]
  },
  {
   "cell_type": "markdown",
   "metadata": {},
   "source": [
    "**Однако, прежде, чем заполнять пропуски NaN, необходимо разобраться с аномалиями, которые я обнаружил.**  \n",
    "Хотя этот шаг предлагается выполнить позже (\"Шаг 2.2\"), на мой взгляд, важно и нужно перед заполнением пропусков сначала разобраться с артефактами в столбце days_employed.\n",
    "\n",
    "**Аномалия №1:** столбец 'days_employed' содержит отрицательные значения, если значение столбца 'income_type' != 'пенсионер'.  \n",
    "Исправлю это: приму все значения столбца  по модулю (т.к. кол-во дней по смыслу не может быть отрицательным). "
   ]
  },
  {
   "cell_type": "code",
   "execution_count": 3,
   "metadata": {},
   "outputs": [],
   "source": [
    "data['days_employed'] = abs(data['days_employed']) #все значения в days_employed сделаю положительными"
   ]
  },
  {
   "cell_type": "markdown",
   "metadata": {},
   "source": [
    "**Аномалия №2:** столбец 'days_employed' у \"пенсионеров\" и \"безработных\" содержит значения в часах, а не днях.  \n",
    "\n",
    "Для решения этой проблемы сначала проанализирую данные: сформирую и выведу таблицу значений max, min, count, mean и median в столбце 'days_employed'."
   ]
  },
  {
   "cell_type": "code",
   "execution_count": 4,
   "metadata": {},
   "outputs": [
    {
     "data": {
      "text/html": [
       "<div>\n",
       "<style scoped>\n",
       "    .dataframe tbody tr th:only-of-type {\n",
       "        vertical-align: middle;\n",
       "    }\n",
       "\n",
       "    .dataframe tbody tr th {\n",
       "        vertical-align: top;\n",
       "    }\n",
       "\n",
       "    .dataframe thead tr th {\n",
       "        text-align: left;\n",
       "    }\n",
       "\n",
       "    .dataframe thead tr:last-of-type th {\n",
       "        text-align: right;\n",
       "    }\n",
       "</style>\n",
       "<table border=\"1\" class=\"dataframe\">\n",
       "  <thead>\n",
       "    <tr>\n",
       "      <th></th>\n",
       "      <th colspan=\"5\" halign=\"left\">days_employed</th>\n",
       "    </tr>\n",
       "    <tr>\n",
       "      <th></th>\n",
       "      <th>mean</th>\n",
       "      <th>median</th>\n",
       "      <th>min</th>\n",
       "      <th>max</th>\n",
       "      <th>count</th>\n",
       "    </tr>\n",
       "    <tr>\n",
       "      <th>income_type</th>\n",
       "      <th></th>\n",
       "      <th></th>\n",
       "      <th></th>\n",
       "      <th></th>\n",
       "      <th></th>\n",
       "    </tr>\n",
       "  </thead>\n",
       "  <tbody>\n",
       "    <tr>\n",
       "      <td>безработный</td>\n",
       "      <td>366414.0</td>\n",
       "      <td>366414.0</td>\n",
       "      <td>337524.0</td>\n",
       "      <td>395303.0</td>\n",
       "      <td>2</td>\n",
       "    </tr>\n",
       "    <tr>\n",
       "      <td>в декрете</td>\n",
       "      <td>3297.0</td>\n",
       "      <td>3297.0</td>\n",
       "      <td>3297.0</td>\n",
       "      <td>3297.0</td>\n",
       "      <td>1</td>\n",
       "    </tr>\n",
       "    <tr>\n",
       "      <td>госслужащий</td>\n",
       "      <td>3400.0</td>\n",
       "      <td>2689.0</td>\n",
       "      <td>40.0</td>\n",
       "      <td>15193.0</td>\n",
       "      <td>1312</td>\n",
       "    </tr>\n",
       "    <tr>\n",
       "      <td>компаньон</td>\n",
       "      <td>2112.0</td>\n",
       "      <td>1547.0</td>\n",
       "      <td>30.0</td>\n",
       "      <td>17616.0</td>\n",
       "      <td>4577</td>\n",
       "    </tr>\n",
       "    <tr>\n",
       "      <td>пенсионер</td>\n",
       "      <td>365003.0</td>\n",
       "      <td>365213.0</td>\n",
       "      <td>328729.0</td>\n",
       "      <td>401755.0</td>\n",
       "      <td>3443</td>\n",
       "    </tr>\n",
       "    <tr>\n",
       "      <td>предприниматель</td>\n",
       "      <td>521.0</td>\n",
       "      <td>521.0</td>\n",
       "      <td>521.0</td>\n",
       "      <td>521.0</td>\n",
       "      <td>1</td>\n",
       "    </tr>\n",
       "    <tr>\n",
       "      <td>сотрудник</td>\n",
       "      <td>2326.0</td>\n",
       "      <td>1574.0</td>\n",
       "      <td>24.0</td>\n",
       "      <td>18389.0</td>\n",
       "      <td>10014</td>\n",
       "    </tr>\n",
       "    <tr>\n",
       "      <td>студент</td>\n",
       "      <td>579.0</td>\n",
       "      <td>579.0</td>\n",
       "      <td>579.0</td>\n",
       "      <td>579.0</td>\n",
       "      <td>1</td>\n",
       "    </tr>\n",
       "  </tbody>\n",
       "</table>\n",
       "</div>"
      ],
      "text/plain": [
       "                days_employed                                     \n",
       "                         mean    median       min       max  count\n",
       "income_type                                                       \n",
       "безработный          366414.0  366414.0  337524.0  395303.0      2\n",
       "в декрете              3297.0    3297.0    3297.0    3297.0      1\n",
       "госслужащий            3400.0    2689.0      40.0   15193.0   1312\n",
       "компаньон              2112.0    1547.0      30.0   17616.0   4577\n",
       "пенсионер            365003.0  365213.0  328729.0  401755.0   3443\n",
       "предприниматель         521.0     521.0     521.0     521.0      1\n",
       "сотрудник              2326.0    1574.0      24.0   18389.0  10014\n",
       "студент                 579.0     579.0     579.0     579.0      1"
      ]
     },
     "metadata": {},
     "output_type": "display_data"
    }
   ],
   "source": [
    "parameters_table = data.groupby('income_type').agg({'days_employed': ['mean', 'median', 'min', 'max', 'count']})\n",
    "display(parameters_table.round()) #сформирую таблицу и проанализирую значения"
   ]
  },
  {
   "cell_type": "markdown",
   "metadata": {},
   "source": [
    "**Напишу функцию**, которая будет делить значение в столбце 'days_employed' на 24, если значение в столбце 'days_employed' > 18389, поскольку это максимальное значение в столбце (без пенсионеров и безработных)."
   ]
  },
  {
   "cell_type": "code",
   "execution_count": 5,
   "metadata": {},
   "outputs": [],
   "source": [
    "def hours_to_days(hours):  \n",
    "    if hours > 18389:      \n",
    "        days = hours / 24  \n",
    "    else:\n",
    "        days = hours\n",
    "    return (days)\n",
    "\n",
    "data['days_employed'] = data['days_employed'].apply(hours_to_days)"
   ]
  },
  {
   "cell_type": "code",
   "execution_count": 6,
   "metadata": {
    "scrolled": true
   },
   "outputs": [
    {
     "data": {
      "text/html": [
       "<div>\n",
       "<style scoped>\n",
       "    .dataframe tbody tr th:only-of-type {\n",
       "        vertical-align: middle;\n",
       "    }\n",
       "\n",
       "    .dataframe tbody tr th {\n",
       "        vertical-align: top;\n",
       "    }\n",
       "\n",
       "    .dataframe thead th {\n",
       "        text-align: right;\n",
       "    }\n",
       "</style>\n",
       "<table border=\"1\" class=\"dataframe\">\n",
       "  <thead>\n",
       "    <tr style=\"text-align: right;\">\n",
       "      <th></th>\n",
       "      <th>children</th>\n",
       "      <th>days_employed</th>\n",
       "      <th>dob_years</th>\n",
       "      <th>education</th>\n",
       "      <th>education_id</th>\n",
       "      <th>family_status</th>\n",
       "      <th>family_status_id</th>\n",
       "      <th>gender</th>\n",
       "      <th>income_type</th>\n",
       "      <th>debt</th>\n",
       "      <th>total_income</th>\n",
       "      <th>purpose</th>\n",
       "    </tr>\n",
       "  </thead>\n",
       "  <tbody>\n",
       "    <tr>\n",
       "      <td>0</td>\n",
       "      <td>1</td>\n",
       "      <td>8438.0</td>\n",
       "      <td>42</td>\n",
       "      <td>высшее</td>\n",
       "      <td>0</td>\n",
       "      <td>женат / замужем</td>\n",
       "      <td>0</td>\n",
       "      <td>F</td>\n",
       "      <td>сотрудник</td>\n",
       "      <td>0</td>\n",
       "      <td>253876.0</td>\n",
       "      <td>покупка жилья</td>\n",
       "    </tr>\n",
       "    <tr>\n",
       "      <td>1</td>\n",
       "      <td>1</td>\n",
       "      <td>4025.0</td>\n",
       "      <td>36</td>\n",
       "      <td>среднее</td>\n",
       "      <td>1</td>\n",
       "      <td>женат / замужем</td>\n",
       "      <td>0</td>\n",
       "      <td>F</td>\n",
       "      <td>сотрудник</td>\n",
       "      <td>0</td>\n",
       "      <td>112080.0</td>\n",
       "      <td>приобретение автомобиля</td>\n",
       "    </tr>\n",
       "    <tr>\n",
       "      <td>2</td>\n",
       "      <td>0</td>\n",
       "      <td>5623.0</td>\n",
       "      <td>33</td>\n",
       "      <td>Среднее</td>\n",
       "      <td>1</td>\n",
       "      <td>женат / замужем</td>\n",
       "      <td>0</td>\n",
       "      <td>M</td>\n",
       "      <td>сотрудник</td>\n",
       "      <td>0</td>\n",
       "      <td>145886.0</td>\n",
       "      <td>покупка жилья</td>\n",
       "    </tr>\n",
       "    <tr>\n",
       "      <td>3</td>\n",
       "      <td>3</td>\n",
       "      <td>4125.0</td>\n",
       "      <td>32</td>\n",
       "      <td>среднее</td>\n",
       "      <td>1</td>\n",
       "      <td>женат / замужем</td>\n",
       "      <td>0</td>\n",
       "      <td>M</td>\n",
       "      <td>сотрудник</td>\n",
       "      <td>0</td>\n",
       "      <td>267629.0</td>\n",
       "      <td>дополнительное образование</td>\n",
       "    </tr>\n",
       "    <tr>\n",
       "      <td>4</td>\n",
       "      <td>0</td>\n",
       "      <td>14178.0</td>\n",
       "      <td>53</td>\n",
       "      <td>среднее</td>\n",
       "      <td>1</td>\n",
       "      <td>гражданский брак</td>\n",
       "      <td>1</td>\n",
       "      <td>F</td>\n",
       "      <td>пенсионер</td>\n",
       "      <td>0</td>\n",
       "      <td>158616.0</td>\n",
       "      <td>сыграть свадьбу</td>\n",
       "    </tr>\n",
       "    <tr>\n",
       "      <td>5</td>\n",
       "      <td>0</td>\n",
       "      <td>926.0</td>\n",
       "      <td>27</td>\n",
       "      <td>высшее</td>\n",
       "      <td>0</td>\n",
       "      <td>гражданский брак</td>\n",
       "      <td>1</td>\n",
       "      <td>M</td>\n",
       "      <td>компаньон</td>\n",
       "      <td>0</td>\n",
       "      <td>255764.0</td>\n",
       "      <td>покупка жилья</td>\n",
       "    </tr>\n",
       "    <tr>\n",
       "      <td>6</td>\n",
       "      <td>0</td>\n",
       "      <td>2879.0</td>\n",
       "      <td>43</td>\n",
       "      <td>высшее</td>\n",
       "      <td>0</td>\n",
       "      <td>женат / замужем</td>\n",
       "      <td>0</td>\n",
       "      <td>F</td>\n",
       "      <td>компаньон</td>\n",
       "      <td>0</td>\n",
       "      <td>240526.0</td>\n",
       "      <td>операции с жильем</td>\n",
       "    </tr>\n",
       "    <tr>\n",
       "      <td>7</td>\n",
       "      <td>0</td>\n",
       "      <td>153.0</td>\n",
       "      <td>50</td>\n",
       "      <td>СРЕДНЕЕ</td>\n",
       "      <td>1</td>\n",
       "      <td>женат / замужем</td>\n",
       "      <td>0</td>\n",
       "      <td>M</td>\n",
       "      <td>сотрудник</td>\n",
       "      <td>0</td>\n",
       "      <td>135824.0</td>\n",
       "      <td>образование</td>\n",
       "    </tr>\n",
       "    <tr>\n",
       "      <td>8</td>\n",
       "      <td>2</td>\n",
       "      <td>6930.0</td>\n",
       "      <td>35</td>\n",
       "      <td>ВЫСШЕЕ</td>\n",
       "      <td>0</td>\n",
       "      <td>гражданский брак</td>\n",
       "      <td>1</td>\n",
       "      <td>F</td>\n",
       "      <td>сотрудник</td>\n",
       "      <td>0</td>\n",
       "      <td>95857.0</td>\n",
       "      <td>на проведение свадьбы</td>\n",
       "    </tr>\n",
       "    <tr>\n",
       "      <td>9</td>\n",
       "      <td>0</td>\n",
       "      <td>2189.0</td>\n",
       "      <td>41</td>\n",
       "      <td>среднее</td>\n",
       "      <td>1</td>\n",
       "      <td>женат / замужем</td>\n",
       "      <td>0</td>\n",
       "      <td>M</td>\n",
       "      <td>сотрудник</td>\n",
       "      <td>0</td>\n",
       "      <td>144426.0</td>\n",
       "      <td>покупка жилья для семьи</td>\n",
       "    </tr>\n",
       "    <tr>\n",
       "      <td>10</td>\n",
       "      <td>2</td>\n",
       "      <td>4171.0</td>\n",
       "      <td>36</td>\n",
       "      <td>высшее</td>\n",
       "      <td>0</td>\n",
       "      <td>женат / замужем</td>\n",
       "      <td>0</td>\n",
       "      <td>M</td>\n",
       "      <td>компаньон</td>\n",
       "      <td>0</td>\n",
       "      <td>113943.0</td>\n",
       "      <td>покупка недвижимости</td>\n",
       "    </tr>\n",
       "    <tr>\n",
       "      <td>11</td>\n",
       "      <td>0</td>\n",
       "      <td>793.0</td>\n",
       "      <td>40</td>\n",
       "      <td>среднее</td>\n",
       "      <td>1</td>\n",
       "      <td>женат / замужем</td>\n",
       "      <td>0</td>\n",
       "      <td>F</td>\n",
       "      <td>сотрудник</td>\n",
       "      <td>0</td>\n",
       "      <td>77069.0</td>\n",
       "      <td>покупка коммерческой недвижимости</td>\n",
       "    </tr>\n",
       "    <tr>\n",
       "      <td>12</td>\n",
       "      <td>0</td>\n",
       "      <td>NaN</td>\n",
       "      <td>65</td>\n",
       "      <td>среднее</td>\n",
       "      <td>1</td>\n",
       "      <td>гражданский брак</td>\n",
       "      <td>1</td>\n",
       "      <td>M</td>\n",
       "      <td>пенсионер</td>\n",
       "      <td>0</td>\n",
       "      <td>NaN</td>\n",
       "      <td>сыграть свадьбу</td>\n",
       "    </tr>\n",
       "    <tr>\n",
       "      <td>13</td>\n",
       "      <td>0</td>\n",
       "      <td>1847.0</td>\n",
       "      <td>54</td>\n",
       "      <td>неоконченное высшее</td>\n",
       "      <td>2</td>\n",
       "      <td>женат / замужем</td>\n",
       "      <td>0</td>\n",
       "      <td>F</td>\n",
       "      <td>сотрудник</td>\n",
       "      <td>0</td>\n",
       "      <td>130458.0</td>\n",
       "      <td>приобретение автомобиля</td>\n",
       "    </tr>\n",
       "    <tr>\n",
       "      <td>14</td>\n",
       "      <td>0</td>\n",
       "      <td>1845.0</td>\n",
       "      <td>56</td>\n",
       "      <td>высшее</td>\n",
       "      <td>0</td>\n",
       "      <td>гражданский брак</td>\n",
       "      <td>1</td>\n",
       "      <td>F</td>\n",
       "      <td>компаньон</td>\n",
       "      <td>1</td>\n",
       "      <td>165128.0</td>\n",
       "      <td>покупка жилой недвижимости</td>\n",
       "    </tr>\n",
       "  </tbody>\n",
       "</table>\n",
       "</div>"
      ],
      "text/plain": [
       "    children  days_employed  dob_years            education  education_id  \\\n",
       "0          1         8438.0         42               высшее             0   \n",
       "1          1         4025.0         36              среднее             1   \n",
       "2          0         5623.0         33              Среднее             1   \n",
       "3          3         4125.0         32              среднее             1   \n",
       "4          0        14178.0         53              среднее             1   \n",
       "5          0          926.0         27               высшее             0   \n",
       "6          0         2879.0         43               высшее             0   \n",
       "7          0          153.0         50              СРЕДНЕЕ             1   \n",
       "8          2         6930.0         35               ВЫСШЕЕ             0   \n",
       "9          0         2189.0         41              среднее             1   \n",
       "10         2         4171.0         36               высшее             0   \n",
       "11         0          793.0         40              среднее             1   \n",
       "12         0            NaN         65              среднее             1   \n",
       "13         0         1847.0         54  неоконченное высшее             2   \n",
       "14         0         1845.0         56               высшее             0   \n",
       "\n",
       "       family_status  family_status_id gender income_type  debt  total_income  \\\n",
       "0    женат / замужем                 0      F   сотрудник     0      253876.0   \n",
       "1    женат / замужем                 0      F   сотрудник     0      112080.0   \n",
       "2    женат / замужем                 0      M   сотрудник     0      145886.0   \n",
       "3    женат / замужем                 0      M   сотрудник     0      267629.0   \n",
       "4   гражданский брак                 1      F   пенсионер     0      158616.0   \n",
       "5   гражданский брак                 1      M   компаньон     0      255764.0   \n",
       "6    женат / замужем                 0      F   компаньон     0      240526.0   \n",
       "7    женат / замужем                 0      M   сотрудник     0      135824.0   \n",
       "8   гражданский брак                 1      F   сотрудник     0       95857.0   \n",
       "9    женат / замужем                 0      M   сотрудник     0      144426.0   \n",
       "10   женат / замужем                 0      M   компаньон     0      113943.0   \n",
       "11   женат / замужем                 0      F   сотрудник     0       77069.0   \n",
       "12  гражданский брак                 1      M   пенсионер     0           NaN   \n",
       "13   женат / замужем                 0      F   сотрудник     0      130458.0   \n",
       "14  гражданский брак                 1      F   компаньон     1      165128.0   \n",
       "\n",
       "                              purpose  \n",
       "0                       покупка жилья  \n",
       "1             приобретение автомобиля  \n",
       "2                       покупка жилья  \n",
       "3          дополнительное образование  \n",
       "4                     сыграть свадьбу  \n",
       "5                       покупка жилья  \n",
       "6                   операции с жильем  \n",
       "7                         образование  \n",
       "8               на проведение свадьбы  \n",
       "9             покупка жилья для семьи  \n",
       "10               покупка недвижимости  \n",
       "11  покупка коммерческой недвижимости  \n",
       "12                    сыграть свадьбу  \n",
       "13            приобретение автомобиля  \n",
       "14         покупка жилой недвижимости  "
      ]
     },
     "metadata": {},
     "output_type": "display_data"
    },
    {
     "data": {
      "text/html": [
       "<div>\n",
       "<style scoped>\n",
       "    .dataframe tbody tr th:only-of-type {\n",
       "        vertical-align: middle;\n",
       "    }\n",
       "\n",
       "    .dataframe tbody tr th {\n",
       "        vertical-align: top;\n",
       "    }\n",
       "\n",
       "    .dataframe thead tr th {\n",
       "        text-align: left;\n",
       "    }\n",
       "\n",
       "    .dataframe thead tr:last-of-type th {\n",
       "        text-align: right;\n",
       "    }\n",
       "</style>\n",
       "<table border=\"1\" class=\"dataframe\">\n",
       "  <thead>\n",
       "    <tr>\n",
       "      <th></th>\n",
       "      <th colspan=\"5\" halign=\"left\">days_employed</th>\n",
       "    </tr>\n",
       "    <tr>\n",
       "      <th></th>\n",
       "      <th>mean</th>\n",
       "      <th>median</th>\n",
       "      <th>min</th>\n",
       "      <th>max</th>\n",
       "      <th>count</th>\n",
       "    </tr>\n",
       "    <tr>\n",
       "      <th>income_type</th>\n",
       "      <th></th>\n",
       "      <th></th>\n",
       "      <th></th>\n",
       "      <th></th>\n",
       "      <th></th>\n",
       "    </tr>\n",
       "  </thead>\n",
       "  <tbody>\n",
       "    <tr>\n",
       "      <td>безработный</td>\n",
       "      <td>15267.0</td>\n",
       "      <td>15267.0</td>\n",
       "      <td>14064.0</td>\n",
       "      <td>16471.0</td>\n",
       "      <td>2</td>\n",
       "    </tr>\n",
       "    <tr>\n",
       "      <td>в декрете</td>\n",
       "      <td>3297.0</td>\n",
       "      <td>3297.0</td>\n",
       "      <td>3297.0</td>\n",
       "      <td>3297.0</td>\n",
       "      <td>1</td>\n",
       "    </tr>\n",
       "    <tr>\n",
       "      <td>госслужащий</td>\n",
       "      <td>3400.0</td>\n",
       "      <td>2689.0</td>\n",
       "      <td>40.0</td>\n",
       "      <td>15193.0</td>\n",
       "      <td>1312</td>\n",
       "    </tr>\n",
       "    <tr>\n",
       "      <td>компаньон</td>\n",
       "      <td>2112.0</td>\n",
       "      <td>1547.0</td>\n",
       "      <td>30.0</td>\n",
       "      <td>17616.0</td>\n",
       "      <td>4577</td>\n",
       "    </tr>\n",
       "    <tr>\n",
       "      <td>пенсионер</td>\n",
       "      <td>15208.0</td>\n",
       "      <td>15217.0</td>\n",
       "      <td>13697.0</td>\n",
       "      <td>16740.0</td>\n",
       "      <td>3443</td>\n",
       "    </tr>\n",
       "    <tr>\n",
       "      <td>предприниматель</td>\n",
       "      <td>521.0</td>\n",
       "      <td>521.0</td>\n",
       "      <td>521.0</td>\n",
       "      <td>521.0</td>\n",
       "      <td>1</td>\n",
       "    </tr>\n",
       "    <tr>\n",
       "      <td>сотрудник</td>\n",
       "      <td>2326.0</td>\n",
       "      <td>1574.0</td>\n",
       "      <td>24.0</td>\n",
       "      <td>18389.0</td>\n",
       "      <td>10014</td>\n",
       "    </tr>\n",
       "    <tr>\n",
       "      <td>студент</td>\n",
       "      <td>579.0</td>\n",
       "      <td>579.0</td>\n",
       "      <td>579.0</td>\n",
       "      <td>579.0</td>\n",
       "      <td>1</td>\n",
       "    </tr>\n",
       "  </tbody>\n",
       "</table>\n",
       "</div>"
      ],
      "text/plain": [
       "                days_employed                                  \n",
       "                         mean   median      min      max  count\n",
       "income_type                                                    \n",
       "безработный           15267.0  15267.0  14064.0  16471.0      2\n",
       "в декрете              3297.0   3297.0   3297.0   3297.0      1\n",
       "госслужащий            3400.0   2689.0     40.0  15193.0   1312\n",
       "компаньон              2112.0   1547.0     30.0  17616.0   4577\n",
       "пенсионер             15208.0  15217.0  13697.0  16740.0   3443\n",
       "предприниматель         521.0    521.0    521.0    521.0      1\n",
       "сотрудник              2326.0   1574.0     24.0  18389.0  10014\n",
       "студент                 579.0    579.0    579.0    579.0      1"
      ]
     },
     "metadata": {},
     "output_type": "display_data"
    }
   ],
   "source": [
    "display(data.head(15).round()) #проверим первые 15 строк изменненого датасета\n",
    "parameters_table = data.groupby('income_type').agg({'days_employed': ['mean', 'median', 'min', 'max', 'count']})\n",
    "display(parameters_table.round()) #сформирую таблицу и проанализирую изменённые значения"
   ]
  },
  {
   "cell_type": "markdown",
   "metadata": {},
   "source": [
    "**Наконец, после этого заполню пропуски NaN медианным значением каждой группы в 'income_type'** методом .transform(), поскольку перебирать каждую категорию вручную с помощью цикла и заполняя пропуски - это неоптимальное решение."
   ]
  },
  {
   "cell_type": "code",
   "execution_count": 7,
   "metadata": {},
   "outputs": [],
   "source": [
    "data.groupby(['income_type'])['days_employed'].transform('median')\n",
    "data['days_employed'] = data['days_employed'].fillna(data.groupby(['income_type'])['days_employed'].transform('median'))"
   ]
  },
  {
   "cell_type": "code",
   "execution_count": 8,
   "metadata": {
    "scrolled": true
   },
   "outputs": [
    {
     "data": {
      "text/html": [
       "<div>\n",
       "<style scoped>\n",
       "    .dataframe tbody tr th:only-of-type {\n",
       "        vertical-align: middle;\n",
       "    }\n",
       "\n",
       "    .dataframe tbody tr th {\n",
       "        vertical-align: top;\n",
       "    }\n",
       "\n",
       "    .dataframe thead th {\n",
       "        text-align: right;\n",
       "    }\n",
       "</style>\n",
       "<table border=\"1\" class=\"dataframe\">\n",
       "  <thead>\n",
       "    <tr style=\"text-align: right;\">\n",
       "      <th></th>\n",
       "      <th>children</th>\n",
       "      <th>days_employed</th>\n",
       "      <th>dob_years</th>\n",
       "      <th>education</th>\n",
       "      <th>education_id</th>\n",
       "      <th>family_status</th>\n",
       "      <th>family_status_id</th>\n",
       "      <th>gender</th>\n",
       "      <th>income_type</th>\n",
       "      <th>debt</th>\n",
       "      <th>total_income</th>\n",
       "      <th>purpose</th>\n",
       "    </tr>\n",
       "  </thead>\n",
       "  <tbody>\n",
       "  </tbody>\n",
       "</table>\n",
       "</div>"
      ],
      "text/plain": [
       "Empty DataFrame\n",
       "Columns: [children, days_employed, dob_years, education, education_id, family_status, family_status_id, gender, income_type, debt, total_income, purpose]\n",
       "Index: []"
      ]
     },
     "metadata": {},
     "output_type": "display_data"
    }
   ],
   "source": [
    "display(data[data['days_employed'].isna()]) #проверим отсутствие пропусков в 'days_employed'"
   ]
  },
  {
   "cell_type": "markdown",
   "metadata": {},
   "source": [
    "**Теперь заполню пропуски NaN в 'total_income' медианным значением каждой группы аналогично:**"
   ]
  },
  {
   "cell_type": "code",
   "execution_count": 9,
   "metadata": {},
   "outputs": [],
   "source": [
    "data.groupby(['income_type'])['total_income'].transform('median')\n",
    "data['total_income'] = data['total_income'].fillna(data.groupby(['income_type'])['total_income'].transform('median'))"
   ]
  },
  {
   "cell_type": "code",
   "execution_count": 10,
   "metadata": {},
   "outputs": [
    {
     "data": {
      "text/html": [
       "<div>\n",
       "<style scoped>\n",
       "    .dataframe tbody tr th:only-of-type {\n",
       "        vertical-align: middle;\n",
       "    }\n",
       "\n",
       "    .dataframe tbody tr th {\n",
       "        vertical-align: top;\n",
       "    }\n",
       "\n",
       "    .dataframe thead th {\n",
       "        text-align: right;\n",
       "    }\n",
       "</style>\n",
       "<table border=\"1\" class=\"dataframe\">\n",
       "  <thead>\n",
       "    <tr style=\"text-align: right;\">\n",
       "      <th></th>\n",
       "      <th>children</th>\n",
       "      <th>days_employed</th>\n",
       "      <th>dob_years</th>\n",
       "      <th>education</th>\n",
       "      <th>education_id</th>\n",
       "      <th>family_status</th>\n",
       "      <th>family_status_id</th>\n",
       "      <th>gender</th>\n",
       "      <th>income_type</th>\n",
       "      <th>debt</th>\n",
       "      <th>total_income</th>\n",
       "      <th>purpose</th>\n",
       "    </tr>\n",
       "  </thead>\n",
       "  <tbody>\n",
       "  </tbody>\n",
       "</table>\n",
       "</div>"
      ],
      "text/plain": [
       "Empty DataFrame\n",
       "Columns: [children, days_employed, dob_years, education, education_id, family_status, family_status_id, gender, income_type, debt, total_income, purpose]\n",
       "Index: []"
      ]
     },
     "metadata": {},
     "output_type": "display_data"
    }
   ],
   "source": [
    "display(data[data['total_income'].isna()]) #проверим отсутствие пропусков в 'total_income'"
   ]
  },
  {
   "cell_type": "markdown",
   "metadata": {},
   "source": [
    "Заполнять пропуски медианным значением — лучшее решение для количественных переменных, поскольку среднее значение некорректно характеризует данные, когда некоторые значения сильно выделяются среди большинства."
   ]
  },
  {
   "cell_type": "markdown",
   "metadata": {},
   "source": [
    "**Аномалия №3:** столбцы 'education' и 'family_status' включают в себя разные варианты написания данных (строчные, заглавные буквы). Исправим это."
   ]
  },
  {
   "cell_type": "code",
   "execution_count": 11,
   "metadata": {
    "scrolled": true
   },
   "outputs": [
    {
     "data": {
      "text/html": [
       "<div>\n",
       "<style scoped>\n",
       "    .dataframe tbody tr th:only-of-type {\n",
       "        vertical-align: middle;\n",
       "    }\n",
       "\n",
       "    .dataframe tbody tr th {\n",
       "        vertical-align: top;\n",
       "    }\n",
       "\n",
       "    .dataframe thead th {\n",
       "        text-align: right;\n",
       "    }\n",
       "</style>\n",
       "<table border=\"1\" class=\"dataframe\">\n",
       "  <thead>\n",
       "    <tr style=\"text-align: right;\">\n",
       "      <th></th>\n",
       "      <th>children</th>\n",
       "      <th>days_employed</th>\n",
       "      <th>dob_years</th>\n",
       "      <th>education</th>\n",
       "      <th>education_id</th>\n",
       "      <th>family_status</th>\n",
       "      <th>family_status_id</th>\n",
       "      <th>gender</th>\n",
       "      <th>income_type</th>\n",
       "      <th>debt</th>\n",
       "      <th>total_income</th>\n",
       "      <th>purpose</th>\n",
       "    </tr>\n",
       "  </thead>\n",
       "  <tbody>\n",
       "    <tr>\n",
       "      <td>0</td>\n",
       "      <td>1</td>\n",
       "      <td>8437.673028</td>\n",
       "      <td>42</td>\n",
       "      <td>высшее</td>\n",
       "      <td>0</td>\n",
       "      <td>женат / замужем</td>\n",
       "      <td>0</td>\n",
       "      <td>F</td>\n",
       "      <td>сотрудник</td>\n",
       "      <td>0</td>\n",
       "      <td>253875.639453</td>\n",
       "      <td>покупка жилья</td>\n",
       "    </tr>\n",
       "    <tr>\n",
       "      <td>1</td>\n",
       "      <td>1</td>\n",
       "      <td>4024.803754</td>\n",
       "      <td>36</td>\n",
       "      <td>среднее</td>\n",
       "      <td>1</td>\n",
       "      <td>женат / замужем</td>\n",
       "      <td>0</td>\n",
       "      <td>F</td>\n",
       "      <td>сотрудник</td>\n",
       "      <td>0</td>\n",
       "      <td>112080.014102</td>\n",
       "      <td>приобретение автомобиля</td>\n",
       "    </tr>\n",
       "    <tr>\n",
       "      <td>2</td>\n",
       "      <td>0</td>\n",
       "      <td>5623.422610</td>\n",
       "      <td>33</td>\n",
       "      <td>Среднее</td>\n",
       "      <td>1</td>\n",
       "      <td>женат / замужем</td>\n",
       "      <td>0</td>\n",
       "      <td>M</td>\n",
       "      <td>сотрудник</td>\n",
       "      <td>0</td>\n",
       "      <td>145885.952297</td>\n",
       "      <td>покупка жилья</td>\n",
       "    </tr>\n",
       "    <tr>\n",
       "      <td>3</td>\n",
       "      <td>3</td>\n",
       "      <td>4124.747207</td>\n",
       "      <td>32</td>\n",
       "      <td>среднее</td>\n",
       "      <td>1</td>\n",
       "      <td>женат / замужем</td>\n",
       "      <td>0</td>\n",
       "      <td>M</td>\n",
       "      <td>сотрудник</td>\n",
       "      <td>0</td>\n",
       "      <td>267628.550329</td>\n",
       "      <td>дополнительное образование</td>\n",
       "    </tr>\n",
       "    <tr>\n",
       "      <td>4</td>\n",
       "      <td>0</td>\n",
       "      <td>14177.753002</td>\n",
       "      <td>53</td>\n",
       "      <td>среднее</td>\n",
       "      <td>1</td>\n",
       "      <td>гражданский брак</td>\n",
       "      <td>1</td>\n",
       "      <td>F</td>\n",
       "      <td>пенсионер</td>\n",
       "      <td>0</td>\n",
       "      <td>158616.077870</td>\n",
       "      <td>сыграть свадьбу</td>\n",
       "    </tr>\n",
       "    <tr>\n",
       "      <td>5</td>\n",
       "      <td>0</td>\n",
       "      <td>926.185831</td>\n",
       "      <td>27</td>\n",
       "      <td>высшее</td>\n",
       "      <td>0</td>\n",
       "      <td>гражданский брак</td>\n",
       "      <td>1</td>\n",
       "      <td>M</td>\n",
       "      <td>компаньон</td>\n",
       "      <td>0</td>\n",
       "      <td>255763.565419</td>\n",
       "      <td>покупка жилья</td>\n",
       "    </tr>\n",
       "    <tr>\n",
       "      <td>6</td>\n",
       "      <td>0</td>\n",
       "      <td>2879.202052</td>\n",
       "      <td>43</td>\n",
       "      <td>высшее</td>\n",
       "      <td>0</td>\n",
       "      <td>женат / замужем</td>\n",
       "      <td>0</td>\n",
       "      <td>F</td>\n",
       "      <td>компаньон</td>\n",
       "      <td>0</td>\n",
       "      <td>240525.971920</td>\n",
       "      <td>операции с жильем</td>\n",
       "    </tr>\n",
       "    <tr>\n",
       "      <td>7</td>\n",
       "      <td>0</td>\n",
       "      <td>152.779569</td>\n",
       "      <td>50</td>\n",
       "      <td>СРЕДНЕЕ</td>\n",
       "      <td>1</td>\n",
       "      <td>женат / замужем</td>\n",
       "      <td>0</td>\n",
       "      <td>M</td>\n",
       "      <td>сотрудник</td>\n",
       "      <td>0</td>\n",
       "      <td>135823.934197</td>\n",
       "      <td>образование</td>\n",
       "    </tr>\n",
       "    <tr>\n",
       "      <td>8</td>\n",
       "      <td>2</td>\n",
       "      <td>6929.865299</td>\n",
       "      <td>35</td>\n",
       "      <td>ВЫСШЕЕ</td>\n",
       "      <td>0</td>\n",
       "      <td>гражданский брак</td>\n",
       "      <td>1</td>\n",
       "      <td>F</td>\n",
       "      <td>сотрудник</td>\n",
       "      <td>0</td>\n",
       "      <td>95856.832424</td>\n",
       "      <td>на проведение свадьбы</td>\n",
       "    </tr>\n",
       "    <tr>\n",
       "      <td>9</td>\n",
       "      <td>0</td>\n",
       "      <td>2188.756445</td>\n",
       "      <td>41</td>\n",
       "      <td>среднее</td>\n",
       "      <td>1</td>\n",
       "      <td>женат / замужем</td>\n",
       "      <td>0</td>\n",
       "      <td>M</td>\n",
       "      <td>сотрудник</td>\n",
       "      <td>0</td>\n",
       "      <td>144425.938277</td>\n",
       "      <td>покупка жилья для семьи</td>\n",
       "    </tr>\n",
       "    <tr>\n",
       "      <td>10</td>\n",
       "      <td>2</td>\n",
       "      <td>4171.483647</td>\n",
       "      <td>36</td>\n",
       "      <td>высшее</td>\n",
       "      <td>0</td>\n",
       "      <td>женат / замужем</td>\n",
       "      <td>0</td>\n",
       "      <td>M</td>\n",
       "      <td>компаньон</td>\n",
       "      <td>0</td>\n",
       "      <td>113943.491460</td>\n",
       "      <td>покупка недвижимости</td>\n",
       "    </tr>\n",
       "    <tr>\n",
       "      <td>11</td>\n",
       "      <td>0</td>\n",
       "      <td>792.701887</td>\n",
       "      <td>40</td>\n",
       "      <td>среднее</td>\n",
       "      <td>1</td>\n",
       "      <td>женат / замужем</td>\n",
       "      <td>0</td>\n",
       "      <td>F</td>\n",
       "      <td>сотрудник</td>\n",
       "      <td>0</td>\n",
       "      <td>77069.234271</td>\n",
       "      <td>покупка коммерческой недвижимости</td>\n",
       "    </tr>\n",
       "    <tr>\n",
       "      <td>12</td>\n",
       "      <td>0</td>\n",
       "      <td>15217.221094</td>\n",
       "      <td>65</td>\n",
       "      <td>среднее</td>\n",
       "      <td>1</td>\n",
       "      <td>гражданский брак</td>\n",
       "      <td>1</td>\n",
       "      <td>M</td>\n",
       "      <td>пенсионер</td>\n",
       "      <td>0</td>\n",
       "      <td>118514.486412</td>\n",
       "      <td>сыграть свадьбу</td>\n",
       "    </tr>\n",
       "    <tr>\n",
       "      <td>13</td>\n",
       "      <td>0</td>\n",
       "      <td>1846.641941</td>\n",
       "      <td>54</td>\n",
       "      <td>неоконченное высшее</td>\n",
       "      <td>2</td>\n",
       "      <td>женат / замужем</td>\n",
       "      <td>0</td>\n",
       "      <td>F</td>\n",
       "      <td>сотрудник</td>\n",
       "      <td>0</td>\n",
       "      <td>130458.228857</td>\n",
       "      <td>приобретение автомобиля</td>\n",
       "    </tr>\n",
       "    <tr>\n",
       "      <td>14</td>\n",
       "      <td>0</td>\n",
       "      <td>1844.956182</td>\n",
       "      <td>56</td>\n",
       "      <td>высшее</td>\n",
       "      <td>0</td>\n",
       "      <td>гражданский брак</td>\n",
       "      <td>1</td>\n",
       "      <td>F</td>\n",
       "      <td>компаньон</td>\n",
       "      <td>1</td>\n",
       "      <td>165127.911772</td>\n",
       "      <td>покупка жилой недвижимости</td>\n",
       "    </tr>\n",
       "    <tr>\n",
       "      <td>15</td>\n",
       "      <td>1</td>\n",
       "      <td>972.364419</td>\n",
       "      <td>26</td>\n",
       "      <td>среднее</td>\n",
       "      <td>1</td>\n",
       "      <td>женат / замужем</td>\n",
       "      <td>0</td>\n",
       "      <td>F</td>\n",
       "      <td>сотрудник</td>\n",
       "      <td>0</td>\n",
       "      <td>116820.904450</td>\n",
       "      <td>строительство собственной недвижимости</td>\n",
       "    </tr>\n",
       "    <tr>\n",
       "      <td>16</td>\n",
       "      <td>0</td>\n",
       "      <td>1719.934226</td>\n",
       "      <td>35</td>\n",
       "      <td>среднее</td>\n",
       "      <td>1</td>\n",
       "      <td>женат / замужем</td>\n",
       "      <td>0</td>\n",
       "      <td>F</td>\n",
       "      <td>сотрудник</td>\n",
       "      <td>0</td>\n",
       "      <td>289202.704229</td>\n",
       "      <td>недвижимость</td>\n",
       "    </tr>\n",
       "    <tr>\n",
       "      <td>17</td>\n",
       "      <td>0</td>\n",
       "      <td>2369.999720</td>\n",
       "      <td>33</td>\n",
       "      <td>высшее</td>\n",
       "      <td>0</td>\n",
       "      <td>гражданский брак</td>\n",
       "      <td>1</td>\n",
       "      <td>M</td>\n",
       "      <td>сотрудник</td>\n",
       "      <td>0</td>\n",
       "      <td>90410.586745</td>\n",
       "      <td>строительство недвижимости</td>\n",
       "    </tr>\n",
       "    <tr>\n",
       "      <td>18</td>\n",
       "      <td>0</td>\n",
       "      <td>16678.380705</td>\n",
       "      <td>53</td>\n",
       "      <td>среднее</td>\n",
       "      <td>1</td>\n",
       "      <td>вдовец / вдова</td>\n",
       "      <td>2</td>\n",
       "      <td>F</td>\n",
       "      <td>пенсионер</td>\n",
       "      <td>0</td>\n",
       "      <td>56823.777243</td>\n",
       "      <td>на покупку подержанного автомобиля</td>\n",
       "    </tr>\n",
       "    <tr>\n",
       "      <td>19</td>\n",
       "      <td>0</td>\n",
       "      <td>10038.818549</td>\n",
       "      <td>48</td>\n",
       "      <td>СРЕДНЕЕ</td>\n",
       "      <td>1</td>\n",
       "      <td>в разводе</td>\n",
       "      <td>3</td>\n",
       "      <td>F</td>\n",
       "      <td>сотрудник</td>\n",
       "      <td>0</td>\n",
       "      <td>242831.107982</td>\n",
       "      <td>на покупку своего автомобиля</td>\n",
       "    </tr>\n",
       "  </tbody>\n",
       "</table>\n",
       "</div>"
      ],
      "text/plain": [
       "    children  days_employed  dob_years            education  education_id  \\\n",
       "0          1    8437.673028         42               высшее             0   \n",
       "1          1    4024.803754         36              среднее             1   \n",
       "2          0    5623.422610         33              Среднее             1   \n",
       "3          3    4124.747207         32              среднее             1   \n",
       "4          0   14177.753002         53              среднее             1   \n",
       "5          0     926.185831         27               высшее             0   \n",
       "6          0    2879.202052         43               высшее             0   \n",
       "7          0     152.779569         50              СРЕДНЕЕ             1   \n",
       "8          2    6929.865299         35               ВЫСШЕЕ             0   \n",
       "9          0    2188.756445         41              среднее             1   \n",
       "10         2    4171.483647         36               высшее             0   \n",
       "11         0     792.701887         40              среднее             1   \n",
       "12         0   15217.221094         65              среднее             1   \n",
       "13         0    1846.641941         54  неоконченное высшее             2   \n",
       "14         0    1844.956182         56               высшее             0   \n",
       "15         1     972.364419         26              среднее             1   \n",
       "16         0    1719.934226         35              среднее             1   \n",
       "17         0    2369.999720         33               высшее             0   \n",
       "18         0   16678.380705         53              среднее             1   \n",
       "19         0   10038.818549         48              СРЕДНЕЕ             1   \n",
       "\n",
       "       family_status  family_status_id gender income_type  debt  \\\n",
       "0    женат / замужем                 0      F   сотрудник     0   \n",
       "1    женат / замужем                 0      F   сотрудник     0   \n",
       "2    женат / замужем                 0      M   сотрудник     0   \n",
       "3    женат / замужем                 0      M   сотрудник     0   \n",
       "4   гражданский брак                 1      F   пенсионер     0   \n",
       "5   гражданский брак                 1      M   компаньон     0   \n",
       "6    женат / замужем                 0      F   компаньон     0   \n",
       "7    женат / замужем                 0      M   сотрудник     0   \n",
       "8   гражданский брак                 1      F   сотрудник     0   \n",
       "9    женат / замужем                 0      M   сотрудник     0   \n",
       "10   женат / замужем                 0      M   компаньон     0   \n",
       "11   женат / замужем                 0      F   сотрудник     0   \n",
       "12  гражданский брак                 1      M   пенсионер     0   \n",
       "13   женат / замужем                 0      F   сотрудник     0   \n",
       "14  гражданский брак                 1      F   компаньон     1   \n",
       "15   женат / замужем                 0      F   сотрудник     0   \n",
       "16   женат / замужем                 0      F   сотрудник     0   \n",
       "17  гражданский брак                 1      M   сотрудник     0   \n",
       "18    вдовец / вдова                 2      F   пенсионер     0   \n",
       "19         в разводе                 3      F   сотрудник     0   \n",
       "\n",
       "     total_income                                 purpose  \n",
       "0   253875.639453                           покупка жилья  \n",
       "1   112080.014102                 приобретение автомобиля  \n",
       "2   145885.952297                           покупка жилья  \n",
       "3   267628.550329              дополнительное образование  \n",
       "4   158616.077870                         сыграть свадьбу  \n",
       "5   255763.565419                           покупка жилья  \n",
       "6   240525.971920                       операции с жильем  \n",
       "7   135823.934197                             образование  \n",
       "8    95856.832424                   на проведение свадьбы  \n",
       "9   144425.938277                 покупка жилья для семьи  \n",
       "10  113943.491460                    покупка недвижимости  \n",
       "11   77069.234271       покупка коммерческой недвижимости  \n",
       "12  118514.486412                         сыграть свадьбу  \n",
       "13  130458.228857                 приобретение автомобиля  \n",
       "14  165127.911772              покупка жилой недвижимости  \n",
       "15  116820.904450  строительство собственной недвижимости  \n",
       "16  289202.704229                            недвижимость  \n",
       "17   90410.586745              строительство недвижимости  \n",
       "18   56823.777243      на покупку подержанного автомобиля  \n",
       "19  242831.107982            на покупку своего автомобиля  "
      ]
     },
     "metadata": {},
     "output_type": "display_data"
    }
   ],
   "source": [
    "display(data.head(20))\n",
    "data['education'] = data['education'].str.lower() #преобразуем в нижний регистр\n",
    "data['family_status'] = data['family_status'].str.lower() #преобразуем в нижний регистр"
   ]
  },
  {
   "cell_type": "markdown",
   "metadata": {},
   "source": [
    "**Аномалия №4:**  \n",
    "Методом unique() выведу уникальные значения столбца 'children'.   \n",
    "Обнаруживаю, что есть 2 странные группы, где количество детей указано как 20 и -1."
   ]
  },
  {
   "cell_type": "code",
   "execution_count": 12,
   "metadata": {},
   "outputs": [
    {
     "data": {
      "text/plain": [
       " 0     14149\n",
       " 1      4818\n",
       " 2      2055\n",
       " 3       330\n",
       " 20       76\n",
       "-1        47\n",
       " 4        41\n",
       " 5         9\n",
       "Name: children, dtype: int64"
      ]
     },
     "metadata": {},
     "output_type": "display_data"
    }
   ],
   "source": [
    "display(data['children'].value_counts())"
   ]
  },
  {
   "cell_type": "markdown",
   "metadata": {},
   "source": [
    "Удалить эти строки можно, поскольку их доля несуществена.   \n",
    "Но я, полагая, что это человеческая или техническая ошибка, решил методом replace заменить 20 на 2, а -1 на 1.\n",
    "Затем проверю."
   ]
  },
  {
   "cell_type": "code",
   "execution_count": 13,
   "metadata": {},
   "outputs": [],
   "source": [
    "data['children'] = data['children'].replace(20, 2)\n",
    "data['children'] = data['children'].replace(-1, 1)"
   ]
  },
  {
   "cell_type": "code",
   "execution_count": 14,
   "metadata": {},
   "outputs": [
    {
     "name": "stdout",
     "output_type": "stream",
     "text": [
      "0    14149\n",
      "1     4865\n",
      "2     2131\n",
      "3      330\n",
      "4       41\n",
      "5        9\n",
      "Name: children, dtype: int64\n"
     ]
    }
   ],
   "source": [
    "print(data['children'].value_counts())"
   ]
  },
  {
   "cell_type": "markdown",
   "metadata": {},
   "source": [
    "**Возможными причинами появления таких данных являются:** неверная запись, неверная классифицикация объектов, ошибки при импорте данных, при объединении таблиц."
   ]
  },
  {
   "cell_type": "markdown",
   "metadata": {},
   "source": [
    "### Шаг 2.3. Изменение типов данных."
   ]
  },
  {
   "cell_type": "code",
   "execution_count": 15,
   "metadata": {},
   "outputs": [
    {
     "name": "stdout",
     "output_type": "stream",
     "text": [
      "<class 'pandas.core.frame.DataFrame'>\n",
      "RangeIndex: 21525 entries, 0 to 21524\n",
      "Data columns (total 12 columns):\n",
      "children            21525 non-null int64\n",
      "days_employed       21525 non-null float64\n",
      "dob_years           21525 non-null int64\n",
      "education           21525 non-null object\n",
      "education_id        21525 non-null int64\n",
      "family_status       21525 non-null object\n",
      "family_status_id    21525 non-null int64\n",
      "gender              21525 non-null object\n",
      "income_type         21525 non-null object\n",
      "debt                21525 non-null int64\n",
      "total_income        21525 non-null int64\n",
      "purpose             21525 non-null object\n",
      "dtypes: float64(1), int64(6), object(5)\n",
      "memory usage: 2.0+ MB\n"
     ]
    }
   ],
   "source": [
    "data['total_income'] = data['total_income'].astype('int') #заменим на целочисленный тип\n",
    "data.info() #проверим замену"
   ]
  },
  {
   "cell_type": "markdown",
   "metadata": {},
   "source": [
    "### Шаг 2.4. Удаление и обработка дубликатов."
   ]
  },
  {
   "cell_type": "markdown",
   "metadata": {},
   "source": [
    "Обработку дубликатов начну с поиска и удаления явных дубликатов методом drop_duplicates() с изменением индексов."
   ]
  },
  {
   "cell_type": "code",
   "execution_count": 16,
   "metadata": {},
   "outputs": [
    {
     "name": "stdout",
     "output_type": "stream",
     "text": [
      "71\n"
     ]
    }
   ],
   "source": [
    "print(data.duplicated().sum()) #поиск явных дубликатов\n",
    "data = data.drop_duplicates().reset_index(drop=True) #удаление явных дубликатов\n",
    "#print(data.duplicated().sum()) #проверим"
   ]
  },
  {
   "cell_type": "markdown",
   "metadata": {},
   "source": [
    "**Теперь займусь обработкой неявных дубликатов.**  \n",
    "Для этого последовательно выведу на экран уникальные значения столбцов 'gender' и 'purpose'.   \n",
    "Замечаю странную строку со значением 'XNA' в столбце 'gender'. Проанализировав, что она занимает всего 1 строку из всего датасета, я принял решение её удалить. "
   ]
  },
  {
   "cell_type": "code",
   "execution_count": 17,
   "metadata": {
    "scrolled": false
   },
   "outputs": [
    {
     "name": "stdout",
     "output_type": "stream",
     "text": [
      "F    14174\n",
      "M     7279\n",
      "Name: gender, dtype: int64\n"
     ]
    }
   ],
   "source": [
    "#print(data['gender'].value_counts()) #вывожу уникальные значения\n",
    "data = data.loc[data['gender'] != 'XNA'] #удаляю строку\n",
    "print(data['gender'].value_counts()) #проверяю"
   ]
  },
  {
   "cell_type": "markdown",
   "metadata": {},
   "source": [
    "### Шаг 2.5. Формирование дополнительных датафреймов словарей, декомпозиция исходного датафрейма."
   ]
  },
  {
   "cell_type": "markdown",
   "metadata": {},
   "source": [
    "**Создам два новых датафрейма** со столбцами согласно описанию проекта.   \n",
    "Затем **избавлюсь в эти словарях от дубликатов** с помощью функции .drop_duplicates(), чтобы в них было только по одному значению связки id -> название категории.  \n",
    "**Удалю из исходного датафрейма** столбцы 'education' и 'family_status', оставив только их идентификаторы: 'education_id' и 'family_status_id'."
   ]
  },
  {
   "cell_type": "code",
   "execution_count": 18,
   "metadata": {},
   "outputs": [],
   "source": [
    "part_data_edu = data[['education_id', 'education']] #создам датафрейм\n",
    "part_data_edu = part_data_edu.drop_duplicates().reset_index(drop=True) #избавлюсь от дубликатов\n",
    "\n",
    "part_data_family = data[['family_status_id', 'family_status']] #создам еще один датафрейм\n",
    "part_data_family = part_data_family.drop_duplicates().reset_index(drop=True)\n",
    "\n",
    "data.drop('education', axis=1, inplace=True) #удалим столбец 'education'\n",
    "data.drop('family_status', axis=1, inplace=True) #удалим столбец 'family_status'\n",
    "#print(data.info()) #проверим кол-во столбцов в исходном датафрейме"
   ]
  },
  {
   "cell_type": "markdown",
   "metadata": {},
   "source": [
    "### Шаг 2.6. Категоризация дохода."
   ]
  },
  {
   "cell_type": "markdown",
   "metadata": {},
   "source": [
    "Предварительно методом shape выведу на экран кол-во строк и столбцов датафрейма:"
   ]
  },
  {
   "cell_type": "code",
   "execution_count": 19,
   "metadata": {},
   "outputs": [
    {
     "name": "stdout",
     "output_type": "stream",
     "text": [
      "(21453, 10)\n"
     ]
    }
   ],
   "source": [
    "print(data.shape)"
   ]
  },
  {
   "cell_type": "markdown",
   "metadata": {},
   "source": [
    "На основании диапазонов, указанных в описании проекта, **создам столбец 'total_income_category' с категориями.**   \n",
    "Для этого воспользуюсь функцией одной строки.   \n",
    "Затем методом value_counts() выведу на экран кол-во строк нового столбца.     \n",
    "Всё совпало. "
   ]
  },
  {
   "cell_type": "code",
   "execution_count": 20,
   "metadata": {},
   "outputs": [
    {
     "name": "stdout",
     "output_type": "stream",
     "text": [
      "C    16015\n",
      "B     5041\n",
      "D      350\n",
      "A       25\n",
      "E       22\n",
      "Name: total_income_category, dtype: int64\n",
      "(21453, 11)\n"
     ]
    }
   ],
   "source": [
    "def total_income_category_def(func):\n",
    "    income = func['total_income']\n",
    "\n",
    "    if income <= 30000:\n",
    "        return 'E'\n",
    "\n",
    "    if 30000 < income <= 50000:\n",
    "        return 'D'\n",
    "\n",
    "    if 50000 < income <= 200000:\n",
    "        return 'C'\n",
    "\n",
    "    if 200000 < income <= 1000000:\n",
    "        return 'B'\n",
    "\n",
    "    return 'A'\n",
    "data['total_income_category'] = data.apply(total_income_category_def, axis=1)\n",
    "print(data['total_income_category'].value_counts()) #проверка\n",
    "print(data.shape)"
   ]
  },
  {
   "cell_type": "markdown",
   "metadata": {},
   "source": [
    "### Шаг 2.7. Категоризация целей кредита."
   ]
  },
  {
   "cell_type": "markdown",
   "metadata": {},
   "source": [
    "Создам функцию, которая на основании данных из столбца 'purpose' сформирует новый столбец 'purpose_category', в который войдут указанные в проекте категории."
   ]
  },
  {
   "cell_type": "code",
   "execution_count": 21,
   "metadata": {
    "scrolled": false
   },
   "outputs": [
    {
     "data": {
      "text/html": [
       "<div>\n",
       "<style scoped>\n",
       "    .dataframe tbody tr th:only-of-type {\n",
       "        vertical-align: middle;\n",
       "    }\n",
       "\n",
       "    .dataframe tbody tr th {\n",
       "        vertical-align: top;\n",
       "    }\n",
       "\n",
       "    .dataframe thead th {\n",
       "        text-align: right;\n",
       "    }\n",
       "</style>\n",
       "<table border=\"1\" class=\"dataframe\">\n",
       "  <thead>\n",
       "    <tr style=\"text-align: right;\">\n",
       "      <th></th>\n",
       "      <th>children</th>\n",
       "      <th>days_employed</th>\n",
       "      <th>dob_years</th>\n",
       "      <th>education_id</th>\n",
       "      <th>family_status_id</th>\n",
       "      <th>gender</th>\n",
       "      <th>income_type</th>\n",
       "      <th>debt</th>\n",
       "      <th>total_income</th>\n",
       "      <th>purpose</th>\n",
       "      <th>total_income_category</th>\n",
       "      <th>purpose_category</th>\n",
       "    </tr>\n",
       "  </thead>\n",
       "  <tbody>\n",
       "    <tr>\n",
       "      <td>0</td>\n",
       "      <td>1</td>\n",
       "      <td>8437.673028</td>\n",
       "      <td>42</td>\n",
       "      <td>0</td>\n",
       "      <td>0</td>\n",
       "      <td>F</td>\n",
       "      <td>сотрудник</td>\n",
       "      <td>0</td>\n",
       "      <td>253875</td>\n",
       "      <td>покупка жилья</td>\n",
       "      <td>B</td>\n",
       "      <td>операции с недвижимостью</td>\n",
       "    </tr>\n",
       "    <tr>\n",
       "      <td>1</td>\n",
       "      <td>1</td>\n",
       "      <td>4024.803754</td>\n",
       "      <td>36</td>\n",
       "      <td>1</td>\n",
       "      <td>0</td>\n",
       "      <td>F</td>\n",
       "      <td>сотрудник</td>\n",
       "      <td>0</td>\n",
       "      <td>112080</td>\n",
       "      <td>приобретение автомобиля</td>\n",
       "      <td>C</td>\n",
       "      <td>операции с автомобилем</td>\n",
       "    </tr>\n",
       "    <tr>\n",
       "      <td>2</td>\n",
       "      <td>0</td>\n",
       "      <td>5623.422610</td>\n",
       "      <td>33</td>\n",
       "      <td>1</td>\n",
       "      <td>0</td>\n",
       "      <td>M</td>\n",
       "      <td>сотрудник</td>\n",
       "      <td>0</td>\n",
       "      <td>145885</td>\n",
       "      <td>покупка жилья</td>\n",
       "      <td>C</td>\n",
       "      <td>операции с недвижимостью</td>\n",
       "    </tr>\n",
       "    <tr>\n",
       "      <td>3</td>\n",
       "      <td>3</td>\n",
       "      <td>4124.747207</td>\n",
       "      <td>32</td>\n",
       "      <td>1</td>\n",
       "      <td>0</td>\n",
       "      <td>M</td>\n",
       "      <td>сотрудник</td>\n",
       "      <td>0</td>\n",
       "      <td>267628</td>\n",
       "      <td>дополнительное образование</td>\n",
       "      <td>B</td>\n",
       "      <td>получение образования</td>\n",
       "    </tr>\n",
       "    <tr>\n",
       "      <td>4</td>\n",
       "      <td>0</td>\n",
       "      <td>14177.753002</td>\n",
       "      <td>53</td>\n",
       "      <td>1</td>\n",
       "      <td>1</td>\n",
       "      <td>F</td>\n",
       "      <td>пенсионер</td>\n",
       "      <td>0</td>\n",
       "      <td>158616</td>\n",
       "      <td>сыграть свадьбу</td>\n",
       "      <td>C</td>\n",
       "      <td>проведение свадьбы</td>\n",
       "    </tr>\n",
       "  </tbody>\n",
       "</table>\n",
       "</div>"
      ],
      "text/plain": [
       "   children  days_employed  dob_years  education_id  family_status_id gender  \\\n",
       "0         1    8437.673028         42             0                 0      F   \n",
       "1         1    4024.803754         36             1                 0      F   \n",
       "2         0    5623.422610         33             1                 0      M   \n",
       "3         3    4124.747207         32             1                 0      M   \n",
       "4         0   14177.753002         53             1                 1      F   \n",
       "\n",
       "  income_type  debt  total_income                     purpose  \\\n",
       "0   сотрудник     0        253875               покупка жилья   \n",
       "1   сотрудник     0        112080     приобретение автомобиля   \n",
       "2   сотрудник     0        145885               покупка жилья   \n",
       "3   сотрудник     0        267628  дополнительное образование   \n",
       "4   пенсионер     0        158616             сыграть свадьбу   \n",
       "\n",
       "  total_income_category          purpose_category  \n",
       "0                     B  операции с недвижимостью  \n",
       "1                     C    операции с автомобилем  \n",
       "2                     C  операции с недвижимостью  \n",
       "3                     B     получение образования  \n",
       "4                     C        проведение свадьбы  "
      ]
     },
     "metadata": {},
     "output_type": "display_data"
    }
   ],
   "source": [
    "def purpose_category_func(category):\n",
    "    categories = category['purpose']\n",
    "    \n",
    "    if 'авто' in categories:\n",
    "        return 'операции с автомобилем'\n",
    "    \n",
    "    if 'жил' in categories or 'недвиж' in categories:\n",
    "        return 'операции с недвижимостью'                  \n",
    "    \n",
    "    if 'свадьб' in categories:\n",
    "        return 'проведение свадьбы'\n",
    "    \n",
    "    if 'образовани' in categories:\n",
    "        return 'получение образования'\n",
    "    \n",
    "    return 'нет категорий'\n",
    "\n",
    "data['purpose_category'] = data.apply(purpose_category_func, axis=1)\n",
    "display(data.head()) #проверим"
   ]
  },
  {
   "cell_type": "markdown",
   "metadata": {},
   "source": [
    "**Насколько я понял, словари в этом проекте нужны лишь для ознакомления.**    \n",
    "В 3-м шаге проекта мне понадобятся названия категорий семейного положения, поэтому сейчас я **обратно объединю словари.**"
   ]
  },
  {
   "cell_type": "code",
   "execution_count": 22,
   "metadata": {},
   "outputs": [],
   "source": [
    "data = data.merge(part_data_edu, on='education_id', how='left')\n",
    "data = data.merge(part_data_family, on='family_status_id', how='left')"
   ]
  },
  {
   "cell_type": "markdown",
   "metadata": {},
   "source": [
    "### Ответы на вопросы."
   ]
  },
  {
   "cell_type": "markdown",
   "metadata": {},
   "source": [
    "**Сгруппируем количество задолженностей по количеству детей, используя метод pivot_table():**"
   ]
  },
  {
   "cell_type": "code",
   "execution_count": 23,
   "metadata": {
    "scrolled": true
   },
   "outputs": [
    {
     "data": {
      "text/html": [
       "<div>\n",
       "<style scoped>\n",
       "    .dataframe tbody tr th:only-of-type {\n",
       "        vertical-align: middle;\n",
       "    }\n",
       "\n",
       "    .dataframe tbody tr th {\n",
       "        vertical-align: top;\n",
       "    }\n",
       "\n",
       "    .dataframe thead tr th {\n",
       "        text-align: left;\n",
       "    }\n",
       "\n",
       "    .dataframe thead tr:last-of-type th {\n",
       "        text-align: right;\n",
       "    }\n",
       "</style>\n",
       "<table border=\"1\" class=\"dataframe\">\n",
       "  <thead>\n",
       "    <tr>\n",
       "      <th></th>\n",
       "      <th>count</th>\n",
       "      <th>sum</th>\n",
       "      <th>mean</th>\n",
       "    </tr>\n",
       "    <tr>\n",
       "      <th></th>\n",
       "      <th>debt</th>\n",
       "      <th>debt</th>\n",
       "      <th>debt</th>\n",
       "    </tr>\n",
       "    <tr>\n",
       "      <th>children</th>\n",
       "      <th></th>\n",
       "      <th></th>\n",
       "      <th></th>\n",
       "    </tr>\n",
       "  </thead>\n",
       "  <tbody>\n",
       "    <tr>\n",
       "      <td>0</td>\n",
       "      <td>14090</td>\n",
       "      <td>1063</td>\n",
       "      <td>0.075444</td>\n",
       "    </tr>\n",
       "    <tr>\n",
       "      <td>1</td>\n",
       "      <td>4855</td>\n",
       "      <td>445</td>\n",
       "      <td>0.091658</td>\n",
       "    </tr>\n",
       "    <tr>\n",
       "      <td>2</td>\n",
       "      <td>2128</td>\n",
       "      <td>202</td>\n",
       "      <td>0.094925</td>\n",
       "    </tr>\n",
       "    <tr>\n",
       "      <td>3</td>\n",
       "      <td>330</td>\n",
       "      <td>27</td>\n",
       "      <td>0.081818</td>\n",
       "    </tr>\n",
       "    <tr>\n",
       "      <td>4</td>\n",
       "      <td>41</td>\n",
       "      <td>4</td>\n",
       "      <td>0.097561</td>\n",
       "    </tr>\n",
       "    <tr>\n",
       "      <td>5</td>\n",
       "      <td>9</td>\n",
       "      <td>0</td>\n",
       "      <td>0.000000</td>\n",
       "    </tr>\n",
       "  </tbody>\n",
       "</table>\n",
       "</div>"
      ],
      "text/plain": [
       "          count   sum      mean\n",
       "           debt  debt      debt\n",
       "children                       \n",
       "0         14090  1063  0.075444\n",
       "1          4855   445  0.091658\n",
       "2          2128   202  0.094925\n",
       "3           330    27  0.081818\n",
       "4            41     4  0.097561\n",
       "5             9     0  0.000000"
      ]
     },
     "metadata": {},
     "output_type": "display_data"
    }
   ],
   "source": [
    "debt_with_children = data.pivot_table(index=['children'], values='debt', aggfunc=['count', 'sum', 'mean'])\n",
    "display(debt_with_children) "
   ]
  },
  {
   "cell_type": "markdown",
   "metadata": {},
   "source": [
    "На основании анализа таблицы **можно сделать вывод** о том, что должников с 5-ю детьми среди кредитополучателей нет. Наибольшее число должников - с 4-мя детьми, а также с 2-мя детьми.   \n",
    "Можно сделать вывод, что количество детей клиента **влияет** на факт погашения кредита в срок, поскольку разница в процентном отношении (между 7,5% и 9,8%) существенна."
   ]
  },
  {
   "cell_type": "markdown",
   "metadata": {},
   "source": [
    "**Сгруппируем количество задолженностей по семейному положению, используя метод pivot_table()::**"
   ]
  },
  {
   "cell_type": "code",
   "execution_count": 24,
   "metadata": {
    "scrolled": false
   },
   "outputs": [
    {
     "data": {
      "text/html": [
       "<div>\n",
       "<style scoped>\n",
       "    .dataframe tbody tr th:only-of-type {\n",
       "        vertical-align: middle;\n",
       "    }\n",
       "\n",
       "    .dataframe tbody tr th {\n",
       "        vertical-align: top;\n",
       "    }\n",
       "\n",
       "    .dataframe thead tr th {\n",
       "        text-align: left;\n",
       "    }\n",
       "\n",
       "    .dataframe thead tr:last-of-type th {\n",
       "        text-align: right;\n",
       "    }\n",
       "</style>\n",
       "<table border=\"1\" class=\"dataframe\">\n",
       "  <thead>\n",
       "    <tr>\n",
       "      <th></th>\n",
       "      <th>count</th>\n",
       "      <th>sum</th>\n",
       "      <th>mean</th>\n",
       "    </tr>\n",
       "    <tr>\n",
       "      <th></th>\n",
       "      <th>debt</th>\n",
       "      <th>debt</th>\n",
       "      <th>debt</th>\n",
       "    </tr>\n",
       "    <tr>\n",
       "      <th>family_status</th>\n",
       "      <th></th>\n",
       "      <th></th>\n",
       "      <th></th>\n",
       "    </tr>\n",
       "  </thead>\n",
       "  <tbody>\n",
       "    <tr>\n",
       "      <td>в разводе</td>\n",
       "      <td>1195</td>\n",
       "      <td>85</td>\n",
       "      <td>0.071130</td>\n",
       "    </tr>\n",
       "    <tr>\n",
       "      <td>вдовец / вдова</td>\n",
       "      <td>959</td>\n",
       "      <td>63</td>\n",
       "      <td>0.065693</td>\n",
       "    </tr>\n",
       "    <tr>\n",
       "      <td>гражданский брак</td>\n",
       "      <td>4150</td>\n",
       "      <td>388</td>\n",
       "      <td>0.093494</td>\n",
       "    </tr>\n",
       "    <tr>\n",
       "      <td>женат / замужем</td>\n",
       "      <td>12339</td>\n",
       "      <td>931</td>\n",
       "      <td>0.075452</td>\n",
       "    </tr>\n",
       "    <tr>\n",
       "      <td>не женат / не замужем</td>\n",
       "      <td>2810</td>\n",
       "      <td>274</td>\n",
       "      <td>0.097509</td>\n",
       "    </tr>\n",
       "  </tbody>\n",
       "</table>\n",
       "</div>"
      ],
      "text/plain": [
       "                       count  sum      mean\n",
       "                        debt debt      debt\n",
       "family_status                              \n",
       "в разводе               1195   85  0.071130\n",
       "вдовец / вдова           959   63  0.065693\n",
       "гражданский брак        4150  388  0.093494\n",
       "женат / замужем        12339  931  0.075452\n",
       "не женат / не замужем   2810  274  0.097509"
      ]
     },
     "metadata": {},
     "output_type": "display_data"
    }
   ],
   "source": [
    "debt_family_status = data.pivot_table(index=['family_status'], values='debt', aggfunc=['count', 'sum', 'mean'])\n",
    "display(debt_family_status)"
   ]
  },
  {
   "cell_type": "markdown",
   "metadata": {},
   "source": [
    "На основании анализа таблицы **можно сделать вывод** о том, что кредитополучатели с семейным положением \"вдовец/вдова\" составляют наименьшую долю должников по кредитам, а кредитополучатели с семейным положением \"не женат / не замужем\" - составляют наибольшую.    \n",
    "\n",
    "Можно сделать вывод, что семейное положение клиента **влияет** на факт погашения кредита в срок, поскольку разница в процентном отношении (между 6,6% и 9,8%) существенна."
   ]
  },
  {
   "cell_type": "markdown",
   "metadata": {},
   "source": [
    "**Сгруппируем количество задолженностей по уровню дохода, используя метод pivot_table():**"
   ]
  },
  {
   "cell_type": "code",
   "execution_count": 25,
   "metadata": {
    "scrolled": true
   },
   "outputs": [
    {
     "data": {
      "text/html": [
       "<div>\n",
       "<style scoped>\n",
       "    .dataframe tbody tr th:only-of-type {\n",
       "        vertical-align: middle;\n",
       "    }\n",
       "\n",
       "    .dataframe tbody tr th {\n",
       "        vertical-align: top;\n",
       "    }\n",
       "\n",
       "    .dataframe thead tr th {\n",
       "        text-align: left;\n",
       "    }\n",
       "\n",
       "    .dataframe thead tr:last-of-type th {\n",
       "        text-align: right;\n",
       "    }\n",
       "</style>\n",
       "<table border=\"1\" class=\"dataframe\">\n",
       "  <thead>\n",
       "    <tr>\n",
       "      <th></th>\n",
       "      <th>count</th>\n",
       "      <th>sum</th>\n",
       "      <th>mean</th>\n",
       "    </tr>\n",
       "    <tr>\n",
       "      <th></th>\n",
       "      <th>debt</th>\n",
       "      <th>debt</th>\n",
       "      <th>debt</th>\n",
       "    </tr>\n",
       "    <tr>\n",
       "      <th>total_income_category</th>\n",
       "      <th></th>\n",
       "      <th></th>\n",
       "      <th></th>\n",
       "    </tr>\n",
       "  </thead>\n",
       "  <tbody>\n",
       "    <tr>\n",
       "      <td>A</td>\n",
       "      <td>25</td>\n",
       "      <td>2</td>\n",
       "      <td>0.080000</td>\n",
       "    </tr>\n",
       "    <tr>\n",
       "      <td>B</td>\n",
       "      <td>5041</td>\n",
       "      <td>356</td>\n",
       "      <td>0.070621</td>\n",
       "    </tr>\n",
       "    <tr>\n",
       "      <td>C</td>\n",
       "      <td>16015</td>\n",
       "      <td>1360</td>\n",
       "      <td>0.084920</td>\n",
       "    </tr>\n",
       "    <tr>\n",
       "      <td>D</td>\n",
       "      <td>350</td>\n",
       "      <td>21</td>\n",
       "      <td>0.060000</td>\n",
       "    </tr>\n",
       "    <tr>\n",
       "      <td>E</td>\n",
       "      <td>22</td>\n",
       "      <td>2</td>\n",
       "      <td>0.090909</td>\n",
       "    </tr>\n",
       "  </tbody>\n",
       "</table>\n",
       "</div>"
      ],
      "text/plain": [
       "                       count   sum      mean\n",
       "                        debt  debt      debt\n",
       "total_income_category                       \n",
       "A                         25     2  0.080000\n",
       "B                       5041   356  0.070621\n",
       "C                      16015  1360  0.084920\n",
       "D                        350    21  0.060000\n",
       "E                         22     2  0.090909"
      ]
     },
     "metadata": {},
     "output_type": "display_data"
    }
   ],
   "source": [
    "debt_total_income = data.pivot_table(index=['total_income_category'], values='debt', aggfunc=['count', 'sum', 'mean'])\n",
    "display(debt_total_income) "
   ]
  },
  {
   "cell_type": "markdown",
   "metadata": {},
   "source": [
    "На основании анализа таблицы, **можно сделать вывод** о том, что доля должников по кредитам в категории 'D' (с ежемесячным доходом от 30000 до 50000) наименьшая, а доля должников в категории 'Е' (с ежемесячным доходом 30000 и ниже) - наоборот - наибольшая.   \n",
    "\n",
    "Можно сделать вывод, что уровень дохода клиента **влияет** на факт погашения кредита в срок, поскольку разница в процентном отношении (между 6% и 9,1%) существенна."
   ]
  },
  {
   "cell_type": "markdown",
   "metadata": {},
   "source": [
    "**Сгруппируем количество задолженностей по целям кредита, используя метод pivot_table():**"
   ]
  },
  {
   "cell_type": "code",
   "execution_count": 26,
   "metadata": {
    "scrolled": true
   },
   "outputs": [
    {
     "data": {
      "text/html": [
       "<div>\n",
       "<style scoped>\n",
       "    .dataframe tbody tr th:only-of-type {\n",
       "        vertical-align: middle;\n",
       "    }\n",
       "\n",
       "    .dataframe tbody tr th {\n",
       "        vertical-align: top;\n",
       "    }\n",
       "\n",
       "    .dataframe thead tr th {\n",
       "        text-align: left;\n",
       "    }\n",
       "\n",
       "    .dataframe thead tr:last-of-type th {\n",
       "        text-align: right;\n",
       "    }\n",
       "</style>\n",
       "<table border=\"1\" class=\"dataframe\">\n",
       "  <thead>\n",
       "    <tr>\n",
       "      <th></th>\n",
       "      <th>count</th>\n",
       "      <th>sum</th>\n",
       "      <th>mean</th>\n",
       "    </tr>\n",
       "    <tr>\n",
       "      <th></th>\n",
       "      <th>debt</th>\n",
       "      <th>debt</th>\n",
       "      <th>debt</th>\n",
       "    </tr>\n",
       "    <tr>\n",
       "      <th>purpose_category</th>\n",
       "      <th></th>\n",
       "      <th></th>\n",
       "      <th></th>\n",
       "    </tr>\n",
       "  </thead>\n",
       "  <tbody>\n",
       "    <tr>\n",
       "      <td>операции с автомобилем</td>\n",
       "      <td>4306</td>\n",
       "      <td>403</td>\n",
       "      <td>0.093590</td>\n",
       "    </tr>\n",
       "    <tr>\n",
       "      <td>операции с недвижимостью</td>\n",
       "      <td>10810</td>\n",
       "      <td>782</td>\n",
       "      <td>0.072340</td>\n",
       "    </tr>\n",
       "    <tr>\n",
       "      <td>получение образования</td>\n",
       "      <td>4013</td>\n",
       "      <td>370</td>\n",
       "      <td>0.092200</td>\n",
       "    </tr>\n",
       "    <tr>\n",
       "      <td>проведение свадьбы</td>\n",
       "      <td>2324</td>\n",
       "      <td>186</td>\n",
       "      <td>0.080034</td>\n",
       "    </tr>\n",
       "  </tbody>\n",
       "</table>\n",
       "</div>"
      ],
      "text/plain": [
       "                          count  sum      mean\n",
       "                           debt debt      debt\n",
       "purpose_category                              \n",
       "операции с автомобилем     4306  403  0.093590\n",
       "операции с недвижимостью  10810  782  0.072340\n",
       "получение образования      4013  370  0.092200\n",
       "проведение свадьбы         2324  186  0.080034"
      ]
     },
     "metadata": {},
     "output_type": "display_data"
    }
   ],
   "source": [
    "debt_total_income = data.pivot_table(index=['purpose_category'], values='debt', aggfunc=['count', 'sum', 'mean'])\n",
    "display(debt_total_income)"
   ]
  },
  {
   "cell_type": "markdown",
   "metadata": {},
   "source": [
    "На основании анализа таблицы, **можно сделать вывод** о том, что доля должников с категорией \"операции с недвижимостью\" ниже, чем в остальных категориях, а наибольшее число должников - среди кредитополучателей на категорию \"операции с автомобилем\".    \n",
    "\n",
    "Можно сделать вывод, что цели кредита клиента **влияют** на факт погашения кредита в срок, поскольку разница в процентном отношении (между 7,2% и 9,4%) существенна."
   ]
  },
  {
   "cell_type": "markdown",
   "metadata": {},
   "source": [
    "## Общий вывод:"
   ]
  },
  {
   "cell_type": "markdown",
   "metadata": {},
   "source": [
    "**Подводя итоги исследования, можно сделать следующие выводы.**   \n",
    "1) Исходный датафрейм содержал пропущенные значения, различные аномалии и дубликаты. Поэтому перед ответом на поставленный вопрос, я предварительно подготовил датайфрем к анализу.    \n",
    "    \n",
    "2) Чтобы разобраться, влияет ли семейное положение, количество детей клиента, уровень его дохода и цели кредита на факт погашения кредита в срок, я сформировал по каждому указанному аспекту таблицу. В каждой таблице я посчитал количество должников, общее количество кредитополучателей и процент должников от общего числа кредитополучателей.\n",
    "Выводы описал после таблицы. \n",
    "\n",
    "**Подводя общий итог:** можно сказать, что семейное положение, количество детей клиента, уровень его дохода и цели кредита **влияют** на факт погашения кредита в срок, поскольку разница в процентном отношении существенна, исходя из анализа таблиц."
   ]
  }
 ],
 "metadata": {
  "ExecuteTimeLog": [
   {
    "duration": 647,
    "start_time": "2022-02-02T09:32:26.529Z"
   },
   {
    "duration": 67,
    "start_time": "2022-02-02T09:40:39.642Z"
   },
   {
    "duration": 306,
    "start_time": "2022-02-02T09:46:12.139Z"
   },
   {
    "duration": 52,
    "start_time": "2022-02-02T09:46:46.191Z"
   },
   {
    "duration": 65,
    "start_time": "2022-02-02T09:48:10.648Z"
   },
   {
    "duration": 61,
    "start_time": "2022-02-02T09:56:36.673Z"
   },
   {
    "duration": 59,
    "start_time": "2022-02-02T09:57:26.462Z"
   },
   {
    "duration": 58,
    "start_time": "2022-02-02T10:00:01.273Z"
   },
   {
    "duration": 52,
    "start_time": "2022-02-02T10:00:07.422Z"
   },
   {
    "duration": 63,
    "start_time": "2022-02-02T10:00:46.719Z"
   },
   {
    "duration": 15,
    "start_time": "2022-02-02T10:02:49.900Z"
   },
   {
    "duration": 14,
    "start_time": "2022-02-02T10:10:23.084Z"
   },
   {
    "duration": 3820,
    "start_time": "2022-02-02T10:48:52.013Z"
   },
   {
    "duration": 17,
    "start_time": "2022-02-02T10:51:27.925Z"
   },
   {
    "duration": 5,
    "start_time": "2022-02-02T10:51:41.187Z"
   },
   {
    "duration": 5,
    "start_time": "2022-02-02T10:51:52.284Z"
   },
   {
    "duration": 5,
    "start_time": "2022-02-02T10:52:20.816Z"
   },
   {
    "duration": 6,
    "start_time": "2022-02-02T10:52:40.334Z"
   },
   {
    "duration": 5,
    "start_time": "2022-02-02T10:53:39.903Z"
   },
   {
    "duration": 267,
    "start_time": "2022-02-02T10:54:09.203Z"
   },
   {
    "duration": 6,
    "start_time": "2022-02-02T10:54:25.427Z"
   },
   {
    "duration": 5,
    "start_time": "2022-02-02T10:54:37.658Z"
   },
   {
    "duration": 5,
    "start_time": "2022-02-02T10:55:04.924Z"
   },
   {
    "duration": 6,
    "start_time": "2022-02-02T10:55:12.400Z"
   },
   {
    "duration": 5,
    "start_time": "2022-02-02T10:55:21.250Z"
   },
   {
    "duration": 6,
    "start_time": "2022-02-02T11:01:52.592Z"
   },
   {
    "duration": 6,
    "start_time": "2022-02-02T11:03:17.623Z"
   },
   {
    "duration": 6,
    "start_time": "2022-02-02T11:03:38.654Z"
   },
   {
    "duration": 61,
    "start_time": "2022-02-02T11:04:27.718Z"
   },
   {
    "duration": 144,
    "start_time": "2022-02-02T11:04:59.044Z"
   },
   {
    "duration": 69,
    "start_time": "2022-02-02T11:05:19.454Z"
   },
   {
    "duration": 80,
    "start_time": "2022-02-02T11:05:35.452Z"
   },
   {
    "duration": 213,
    "start_time": "2022-02-02T11:05:42.666Z"
   },
   {
    "duration": 233,
    "start_time": "2022-02-02T11:06:00.238Z"
   },
   {
    "duration": 4,
    "start_time": "2022-02-02T11:10:12.188Z"
   },
   {
    "duration": 7,
    "start_time": "2022-02-02T11:11:05.790Z"
   },
   {
    "duration": 5,
    "start_time": "2022-02-02T11:11:25.050Z"
   },
   {
    "duration": 8,
    "start_time": "2022-02-02T11:11:53.494Z"
   },
   {
    "duration": 12,
    "start_time": "2022-02-02T11:13:43.854Z"
   },
   {
    "duration": 12,
    "start_time": "2022-02-02T11:14:03.801Z"
   },
   {
    "duration": 13,
    "start_time": "2022-02-02T11:14:12.179Z"
   },
   {
    "duration": 23,
    "start_time": "2022-02-02T11:19:27.457Z"
   },
   {
    "duration": 22,
    "start_time": "2022-02-02T11:20:57.346Z"
   },
   {
    "duration": 62,
    "start_time": "2022-02-02T11:21:53.966Z"
   },
   {
    "duration": 72,
    "start_time": "2022-02-02T11:21:59.704Z"
   },
   {
    "duration": 61,
    "start_time": "2022-02-02T11:22:07.311Z"
   },
   {
    "duration": 21,
    "start_time": "2022-02-02T11:22:39.482Z"
   },
   {
    "duration": 68,
    "start_time": "2022-02-02T11:22:56.315Z"
   },
   {
    "duration": 65,
    "start_time": "2022-02-02T11:26:26.804Z"
   },
   {
    "duration": 205,
    "start_time": "2022-02-02T11:26:43.286Z"
   },
   {
    "duration": 73,
    "start_time": "2022-02-02T11:28:03.827Z"
   },
   {
    "duration": 21,
    "start_time": "2022-02-02T11:28:57.531Z"
   },
   {
    "duration": 24,
    "start_time": "2022-02-02T11:29:16.595Z"
   },
   {
    "duration": 29,
    "start_time": "2022-02-02T11:29:36.473Z"
   },
   {
    "duration": 31,
    "start_time": "2022-02-02T11:29:45.550Z"
   },
   {
    "duration": 24,
    "start_time": "2022-02-02T11:32:13.355Z"
   },
   {
    "duration": 22,
    "start_time": "2022-02-02T11:32:39.128Z"
   },
   {
    "duration": 22,
    "start_time": "2022-02-02T11:40:52.079Z"
   },
   {
    "duration": 21,
    "start_time": "2022-02-02T11:41:55.158Z"
   },
   {
    "duration": 22,
    "start_time": "2022-02-02T11:42:34.889Z"
   },
   {
    "duration": 22,
    "start_time": "2022-02-02T11:42:46.944Z"
   },
   {
    "duration": 60,
    "start_time": "2022-02-02T11:44:17.643Z"
   },
   {
    "duration": 18,
    "start_time": "2022-02-02T11:44:51.062Z"
   },
   {
    "duration": 21,
    "start_time": "2022-02-02T12:18:23.374Z"
   },
   {
    "duration": 21,
    "start_time": "2022-02-02T12:20:28.021Z"
   },
   {
    "duration": 17,
    "start_time": "2022-02-02T12:20:42.010Z"
   },
   {
    "duration": 16,
    "start_time": "2022-02-02T12:20:46.303Z"
   },
   {
    "duration": 13,
    "start_time": "2022-02-02T12:21:47.753Z"
   },
   {
    "duration": 241,
    "start_time": "2022-02-02T12:21:56.012Z"
   },
   {
    "duration": 607,
    "start_time": "2022-02-02T12:22:05.626Z"
   },
   {
    "duration": 25,
    "start_time": "2022-02-02T12:22:06.235Z"
   },
   {
    "duration": 23,
    "start_time": "2022-02-02T12:22:16.862Z"
   },
   {
    "duration": 17,
    "start_time": "2022-02-02T12:22:21.311Z"
   },
   {
    "duration": 223,
    "start_time": "2022-02-03T05:49:43.780Z"
   },
   {
    "duration": 641,
    "start_time": "2022-02-03T05:49:51.294Z"
   },
   {
    "duration": 24,
    "start_time": "2022-02-03T05:49:51.936Z"
   },
   {
    "duration": 5,
    "start_time": "2022-02-03T05:49:51.961Z"
   },
   {
    "duration": 5,
    "start_time": "2022-02-03T05:50:01.299Z"
   },
   {
    "duration": 11,
    "start_time": "2022-02-03T05:52:52.004Z"
   },
   {
    "duration": 18,
    "start_time": "2022-02-03T05:53:30.837Z"
   },
   {
    "duration": 11,
    "start_time": "2022-02-03T05:53:43.745Z"
   },
   {
    "duration": 13,
    "start_time": "2022-02-03T05:58:35.825Z"
   },
   {
    "duration": 15,
    "start_time": "2022-02-03T05:59:26.453Z"
   },
   {
    "duration": 29,
    "start_time": "2022-02-03T06:30:42.354Z"
   },
   {
    "duration": 570,
    "start_time": "2022-02-03T06:30:54.465Z"
   },
   {
    "duration": 25,
    "start_time": "2022-02-03T06:30:55.037Z"
   },
   {
    "duration": 10,
    "start_time": "2022-02-03T06:30:55.064Z"
   },
   {
    "duration": 51,
    "start_time": "2022-02-03T06:30:55.076Z"
   },
   {
    "duration": 36,
    "start_time": "2022-02-03T06:40:07.353Z"
   },
   {
    "duration": 42,
    "start_time": "2022-02-03T06:40:25.734Z"
   },
   {
    "duration": 637,
    "start_time": "2022-02-03T06:40:50.286Z"
   },
   {
    "duration": 25,
    "start_time": "2022-02-03T06:40:50.924Z"
   },
   {
    "duration": 12,
    "start_time": "2022-02-03T06:40:50.952Z"
   },
   {
    "duration": 70,
    "start_time": "2022-02-03T06:40:50.965Z"
   },
   {
    "duration": 16,
    "start_time": "2022-02-03T06:57:13.841Z"
   },
   {
    "duration": 12,
    "start_time": "2022-02-03T06:57:58.699Z"
   },
   {
    "duration": 12,
    "start_time": "2022-02-03T07:00:48.580Z"
   },
   {
    "duration": 22,
    "start_time": "2022-02-03T07:01:33.664Z"
   },
   {
    "duration": 37,
    "start_time": "2022-02-03T07:01:42.610Z"
   },
   {
    "duration": 623,
    "start_time": "2022-02-03T07:01:56.134Z"
   },
   {
    "duration": 23,
    "start_time": "2022-02-03T07:01:56.758Z"
   },
   {
    "duration": 49,
    "start_time": "2022-02-03T07:01:56.783Z"
   },
   {
    "duration": 35,
    "start_time": "2022-02-03T07:01:56.834Z"
   },
   {
    "duration": 12,
    "start_time": "2022-02-03T07:01:56.871Z"
   },
   {
    "duration": 49,
    "start_time": "2022-02-03T07:03:14.638Z"
   },
   {
    "duration": 576,
    "start_time": "2022-02-03T07:03:43.748Z"
   },
   {
    "duration": 23,
    "start_time": "2022-02-03T07:03:44.326Z"
   },
   {
    "duration": 39,
    "start_time": "2022-02-03T07:03:44.351Z"
   },
   {
    "duration": 35,
    "start_time": "2022-02-03T07:03:44.413Z"
   },
   {
    "duration": 12,
    "start_time": "2022-02-03T07:03:44.450Z"
   },
   {
    "duration": 44,
    "start_time": "2022-02-03T07:04:40.011Z"
   },
   {
    "duration": 37,
    "start_time": "2022-02-03T07:04:52.778Z"
   },
   {
    "duration": 1221,
    "start_time": "2022-02-03T07:05:26.038Z"
   },
   {
    "duration": 24,
    "start_time": "2022-02-03T07:05:27.261Z"
   },
   {
    "duration": 53,
    "start_time": "2022-02-03T07:05:27.287Z"
   },
   {
    "duration": 37,
    "start_time": "2022-02-03T07:05:27.342Z"
   },
   {
    "duration": 37,
    "start_time": "2022-02-03T07:05:27.381Z"
   },
   {
    "duration": 591,
    "start_time": "2022-02-03T07:30:16.359Z"
   },
   {
    "duration": 24,
    "start_time": "2022-02-03T07:30:16.952Z"
   },
   {
    "duration": 292,
    "start_time": "2022-02-03T07:30:16.978Z"
   },
   {
    "duration": -85,
    "start_time": "2022-02-03T07:30:17.357Z"
   },
   {
    "duration": -94,
    "start_time": "2022-02-03T07:30:17.368Z"
   },
   {
    "duration": 45,
    "start_time": "2022-02-03T07:30:38.576Z"
   },
   {
    "duration": 35,
    "start_time": "2022-02-03T07:31:01.305Z"
   },
   {
    "duration": 48,
    "start_time": "2022-02-03T07:31:10.947Z"
   },
   {
    "duration": 32,
    "start_time": "2022-02-03T07:31:30.882Z"
   },
   {
    "duration": 34,
    "start_time": "2022-02-03T07:33:25.889Z"
   },
   {
    "duration": 38,
    "start_time": "2022-02-03T07:36:05.315Z"
   },
   {
    "duration": 229,
    "start_time": "2022-02-03T07:38:47.693Z"
   },
   {
    "duration": 39,
    "start_time": "2022-02-03T07:38:56.614Z"
   },
   {
    "duration": 45,
    "start_time": "2022-02-03T07:39:16.944Z"
   },
   {
    "duration": 68,
    "start_time": "2022-02-03T07:40:01.586Z"
   },
   {
    "duration": 38,
    "start_time": "2022-02-03T07:40:12.998Z"
   },
   {
    "duration": 39,
    "start_time": "2022-02-03T07:50:21.028Z"
   },
   {
    "duration": 47,
    "start_time": "2022-02-03T07:52:28.877Z"
   },
   {
    "duration": 239,
    "start_time": "2022-02-03T07:55:53.722Z"
   },
   {
    "duration": 222,
    "start_time": "2022-02-03T07:56:45.946Z"
   },
   {
    "duration": 46,
    "start_time": "2022-02-03T07:57:07.743Z"
   },
   {
    "duration": 224,
    "start_time": "2022-02-03T07:58:05.137Z"
   },
   {
    "duration": 48,
    "start_time": "2022-02-03T07:58:27.913Z"
   },
   {
    "duration": 222,
    "start_time": "2022-02-03T07:59:37.445Z"
   },
   {
    "duration": 241,
    "start_time": "2022-02-03T07:59:50.887Z"
   },
   {
    "duration": 218,
    "start_time": "2022-02-03T08:01:55.378Z"
   },
   {
    "duration": 616,
    "start_time": "2022-02-03T08:02:14.565Z"
   },
   {
    "duration": 39,
    "start_time": "2022-02-03T08:02:15.183Z"
   },
   {
    "duration": 420,
    "start_time": "2022-02-03T08:02:15.224Z"
   },
   {
    "duration": -58,
    "start_time": "2022-02-03T08:02:15.704Z"
   },
   {
    "duration": -60,
    "start_time": "2022-02-03T08:02:15.707Z"
   },
   {
    "duration": 238,
    "start_time": "2022-02-03T08:02:29.551Z"
   },
   {
    "duration": 224,
    "start_time": "2022-02-03T08:03:02.833Z"
   },
   {
    "duration": 238,
    "start_time": "2022-02-03T08:03:35.081Z"
   },
   {
    "duration": 244,
    "start_time": "2022-02-03T08:03:51.313Z"
   },
   {
    "duration": 1876,
    "start_time": "2022-02-03T08:04:32.221Z"
   },
   {
    "duration": 260,
    "start_time": "2022-02-03T08:05:14.318Z"
   },
   {
    "duration": 222,
    "start_time": "2022-02-03T08:06:26.685Z"
   },
   {
    "duration": 602,
    "start_time": "2022-02-03T08:06:31.731Z"
   },
   {
    "duration": 24,
    "start_time": "2022-02-03T08:06:32.335Z"
   },
   {
    "duration": 314,
    "start_time": "2022-02-03T08:06:32.361Z"
   },
   {
    "duration": -37,
    "start_time": "2022-02-03T08:06:32.714Z"
   },
   {
    "duration": -40,
    "start_time": "2022-02-03T08:06:32.718Z"
   },
   {
    "duration": 230,
    "start_time": "2022-02-03T08:07:26.756Z"
   },
   {
    "duration": 225,
    "start_time": "2022-02-03T08:10:24.356Z"
   },
   {
    "duration": 207,
    "start_time": "2022-02-03T08:10:52.629Z"
   },
   {
    "duration": 648,
    "start_time": "2022-02-03T08:11:07.010Z"
   },
   {
    "duration": 27,
    "start_time": "2022-02-03T08:11:07.661Z"
   },
   {
    "duration": 313,
    "start_time": "2022-02-03T08:11:07.693Z"
   },
   {
    "duration": -19,
    "start_time": "2022-02-03T08:11:08.028Z"
   },
   {
    "duration": -24,
    "start_time": "2022-02-03T08:11:08.034Z"
   },
   {
    "duration": 265,
    "start_time": "2022-02-03T08:11:31.419Z"
   },
   {
    "duration": 66,
    "start_time": "2022-02-03T08:34:26.720Z"
   },
   {
    "duration": 69,
    "start_time": "2022-02-03T08:35:07.597Z"
   },
   {
    "duration": 58,
    "start_time": "2022-02-03T09:04:41.078Z"
   },
   {
    "duration": 56,
    "start_time": "2022-02-03T11:02:15.158Z"
   },
   {
    "duration": 63,
    "start_time": "2022-02-03T11:02:20.996Z"
   },
   {
    "duration": 67,
    "start_time": "2022-02-03T11:12:07.803Z"
   },
   {
    "duration": 216,
    "start_time": "2022-02-03T11:34:45.532Z"
   },
   {
    "duration": 28,
    "start_time": "2022-02-03T13:19:05.400Z"
   },
   {
    "duration": 15,
    "start_time": "2022-02-03T13:20:46.417Z"
   },
   {
    "duration": 19,
    "start_time": "2022-02-03T13:33:19.491Z"
   },
   {
    "duration": 70,
    "start_time": "2022-02-03T13:33:41.956Z"
   },
   {
    "duration": 69,
    "start_time": "2022-02-03T13:34:02.019Z"
   },
   {
    "duration": 69,
    "start_time": "2022-02-03T13:34:17.172Z"
   },
   {
    "duration": 18,
    "start_time": "2022-02-03T13:40:08.013Z"
   },
   {
    "duration": 21,
    "start_time": "2022-02-03T13:40:29.922Z"
   },
   {
    "duration": 26,
    "start_time": "2022-02-03T13:41:14.259Z"
   },
   {
    "duration": 25,
    "start_time": "2022-02-03T13:44:00.089Z"
   },
   {
    "duration": 19,
    "start_time": "2022-02-03T13:45:26.835Z"
   },
   {
    "duration": 25,
    "start_time": "2022-02-03T13:47:40.599Z"
   },
   {
    "duration": 29,
    "start_time": "2022-02-03T13:47:51.962Z"
   },
   {
    "duration": 27,
    "start_time": "2022-02-03T13:49:41.656Z"
   },
   {
    "duration": 28,
    "start_time": "2022-02-03T13:50:05.695Z"
   },
   {
    "duration": 29,
    "start_time": "2022-02-03T13:50:35.140Z"
   },
   {
    "duration": 36,
    "start_time": "2022-02-03T13:50:51.360Z"
   },
   {
    "duration": 37,
    "start_time": "2022-02-03T13:51:19.299Z"
   },
   {
    "duration": 37,
    "start_time": "2022-02-03T13:51:32.899Z"
   },
   {
    "duration": 15,
    "start_time": "2022-02-03T13:51:54.784Z"
   },
   {
    "duration": 7,
    "start_time": "2022-02-03T13:57:00.252Z"
   },
   {
    "duration": 6,
    "start_time": "2022-02-03T14:00:19.824Z"
   },
   {
    "duration": 8,
    "start_time": "2022-02-03T14:00:34.548Z"
   },
   {
    "duration": 9,
    "start_time": "2022-02-03T14:05:51.861Z"
   },
   {
    "duration": 974,
    "start_time": "2022-02-04T10:52:36.905Z"
   },
   {
    "duration": 47,
    "start_time": "2022-02-04T10:52:37.882Z"
   },
   {
    "duration": 1412,
    "start_time": "2022-02-04T10:52:37.936Z"
   },
   {
    "duration": -56,
    "start_time": "2022-02-04T10:52:39.408Z"
   },
   {
    "duration": -61,
    "start_time": "2022-02-04T10:52:39.414Z"
   },
   {
    "duration": 106,
    "start_time": "2022-02-04T10:56:33.681Z"
   },
   {
    "duration": 108,
    "start_time": "2022-02-04T10:57:12.101Z"
   },
   {
    "duration": 33,
    "start_time": "2022-02-04T10:57:45.222Z"
   },
   {
    "duration": 45,
    "start_time": "2022-02-04T10:57:55.650Z"
   },
   {
    "duration": 48,
    "start_time": "2022-02-04T10:58:01.766Z"
   },
   {
    "duration": 36,
    "start_time": "2022-02-04T12:24:05.266Z"
   },
   {
    "duration": 856,
    "start_time": "2022-02-04T17:34:49.109Z"
   },
   {
    "duration": 28,
    "start_time": "2022-02-04T17:34:49.969Z"
   },
   {
    "duration": 426,
    "start_time": "2022-02-04T17:34:50.000Z"
   },
   {
    "duration": -88,
    "start_time": "2022-02-04T17:34:50.516Z"
   },
   {
    "duration": -88,
    "start_time": "2022-02-04T17:34:50.517Z"
   },
   {
    "duration": 357,
    "start_time": "2022-02-04T17:35:13.212Z"
   },
   {
    "duration": 111,
    "start_time": "2022-02-04T17:36:35.130Z"
   },
   {
    "duration": 42,
    "start_time": "2022-02-04T17:37:37.927Z"
   },
   {
    "duration": 272,
    "start_time": "2022-02-04T17:38:07.398Z"
   },
   {
    "duration": 71,
    "start_time": "2022-02-04T17:38:19.106Z"
   },
   {
    "duration": 774,
    "start_time": "2022-02-04T17:39:16.267Z"
   },
   {
    "duration": 28,
    "start_time": "2022-02-04T17:39:17.044Z"
   },
   {
    "duration": 60,
    "start_time": "2022-02-04T17:39:17.075Z"
   },
   {
    "duration": 59,
    "start_time": "2022-02-04T17:39:17.138Z"
   },
   {
    "duration": 352,
    "start_time": "2022-02-04T17:39:17.199Z"
   },
   {
    "duration": 850,
    "start_time": "2022-02-04T18:14:23.696Z"
   },
   {
    "duration": 32,
    "start_time": "2022-02-04T18:14:24.550Z"
   },
   {
    "duration": 9,
    "start_time": "2022-02-04T18:14:24.586Z"
   },
   {
    "duration": 59,
    "start_time": "2022-02-04T18:14:24.633Z"
   },
   {
    "duration": 344,
    "start_time": "2022-02-04T18:14:24.696Z"
   },
   {
    "duration": 12,
    "start_time": "2022-02-04T18:14:53.122Z"
   },
   {
    "duration": 11,
    "start_time": "2022-02-04T18:15:06.566Z"
   },
   {
    "duration": 12,
    "start_time": "2022-02-04T18:15:13.870Z"
   },
   {
    "duration": 11,
    "start_time": "2022-02-04T18:15:18.982Z"
   },
   {
    "duration": 11,
    "start_time": "2022-02-04T18:15:31.783Z"
   },
   {
    "duration": 11,
    "start_time": "2022-02-04T18:15:44.713Z"
   },
   {
    "duration": 12,
    "start_time": "2022-02-04T18:15:53.352Z"
   },
   {
    "duration": 11,
    "start_time": "2022-02-04T18:17:18.504Z"
   },
   {
    "duration": 29,
    "start_time": "2022-02-04T18:20:41.006Z"
   },
   {
    "duration": 122,
    "start_time": "2022-02-04T18:27:34.901Z"
   },
   {
    "duration": 87,
    "start_time": "2022-02-04T18:27:50.611Z"
   },
   {
    "duration": 27,
    "start_time": "2022-02-04T18:28:08.464Z"
   },
   {
    "duration": 258,
    "start_time": "2022-02-04T18:29:34.110Z"
   },
   {
    "duration": 264,
    "start_time": "2022-02-04T18:29:39.271Z"
   },
   {
    "duration": 266,
    "start_time": "2022-02-04T18:30:08.336Z"
   },
   {
    "duration": 27,
    "start_time": "2022-02-04T18:30:16.479Z"
   },
   {
    "duration": 105,
    "start_time": "2022-02-04T18:31:01.458Z"
   },
   {
    "duration": 110,
    "start_time": "2022-02-04T18:31:19.982Z"
   },
   {
    "duration": 28,
    "start_time": "2022-02-04T18:32:03.613Z"
   },
   {
    "duration": 31,
    "start_time": "2022-02-04T18:33:44.120Z"
   },
   {
    "duration": 813,
    "start_time": "2022-02-04T18:33:51.072Z"
   },
   {
    "duration": 48,
    "start_time": "2022-02-04T18:33:51.888Z"
   },
   {
    "duration": 29,
    "start_time": "2022-02-04T18:33:51.940Z"
   },
   {
    "duration": 87,
    "start_time": "2022-02-04T18:33:51.972Z"
   },
   {
    "duration": 351,
    "start_time": "2022-02-04T18:33:52.062Z"
   },
   {
    "duration": 29,
    "start_time": "2022-02-04T18:34:47.514Z"
   },
   {
    "duration": 29,
    "start_time": "2022-02-04T18:34:57.765Z"
   },
   {
    "duration": 28,
    "start_time": "2022-02-04T18:35:36.161Z"
   },
   {
    "duration": 27,
    "start_time": "2022-02-04T18:35:43.994Z"
   },
   {
    "duration": 273,
    "start_time": "2022-02-04T18:37:36.498Z"
   },
   {
    "duration": 28,
    "start_time": "2022-02-04T18:38:36.330Z"
   },
   {
    "duration": 118,
    "start_time": "2022-02-04T18:39:32.882Z"
   },
   {
    "duration": 730,
    "start_time": "2022-02-04T18:40:14.708Z"
   },
   {
    "duration": 115,
    "start_time": "2022-02-04T18:40:35.198Z"
   },
   {
    "duration": 114,
    "start_time": "2022-02-04T18:41:57.778Z"
   },
   {
    "duration": 91,
    "start_time": "2022-02-04T18:43:58.869Z"
   },
   {
    "duration": 27,
    "start_time": "2022-02-04T18:45:32.857Z"
   },
   {
    "duration": 28,
    "start_time": "2022-02-04T18:50:00.279Z"
   },
   {
    "duration": 41,
    "start_time": "2022-02-04T18:53:42.799Z"
   },
   {
    "duration": 288,
    "start_time": "2022-02-04T18:58:53.399Z"
   },
   {
    "duration": 38,
    "start_time": "2022-02-04T18:59:04.985Z"
   },
   {
    "duration": 61,
    "start_time": "2022-02-04T18:59:19.750Z"
   },
   {
    "duration": 51,
    "start_time": "2022-02-04T18:59:28.582Z"
   },
   {
    "duration": 52,
    "start_time": "2022-02-04T18:59:32.115Z"
   },
   {
    "duration": 46,
    "start_time": "2022-02-04T19:00:33.324Z"
   },
   {
    "duration": 42,
    "start_time": "2022-02-04T19:01:04.297Z"
   },
   {
    "duration": 56,
    "start_time": "2022-02-04T19:08:02.298Z"
   },
   {
    "duration": 894,
    "start_time": "2022-02-04T19:08:32.164Z"
   },
   {
    "duration": 29,
    "start_time": "2022-02-04T19:08:33.061Z"
   },
   {
    "duration": 80,
    "start_time": "2022-02-04T19:08:33.094Z"
   },
   {
    "duration": 76,
    "start_time": "2022-02-04T19:08:33.177Z"
   },
   {
    "duration": 364,
    "start_time": "2022-02-04T19:08:33.256Z"
   },
   {
    "duration": 73,
    "start_time": "2022-02-04T19:09:12.102Z"
   },
   {
    "duration": 61,
    "start_time": "2022-02-04T19:09:18.832Z"
   },
   {
    "duration": 861,
    "start_time": "2022-02-04T19:09:27.574Z"
   },
   {
    "duration": 29,
    "start_time": "2022-02-04T19:09:28.438Z"
   },
   {
    "duration": 86,
    "start_time": "2022-02-04T19:09:28.470Z"
   },
   {
    "duration": 55,
    "start_time": "2022-02-04T19:09:28.559Z"
   },
   {
    "duration": 366,
    "start_time": "2022-02-04T19:09:28.616Z"
   },
   {
    "duration": 59,
    "start_time": "2022-02-04T19:09:48.045Z"
   },
   {
    "duration": 54,
    "start_time": "2022-02-04T19:10:15.892Z"
   },
   {
    "duration": 811,
    "start_time": "2022-02-04T19:10:26.861Z"
   },
   {
    "duration": 33,
    "start_time": "2022-02-04T19:10:27.676Z"
   },
   {
    "duration": 74,
    "start_time": "2022-02-04T19:10:27.712Z"
   },
   {
    "duration": 73,
    "start_time": "2022-02-04T19:10:27.788Z"
   },
   {
    "duration": 345,
    "start_time": "2022-02-04T19:10:27.863Z"
   },
   {
    "duration": 58,
    "start_time": "2022-02-04T19:13:40.210Z"
   },
   {
    "duration": 792,
    "start_time": "2022-02-04T19:13:51.164Z"
   },
   {
    "duration": 28,
    "start_time": "2022-02-04T19:13:51.958Z"
   },
   {
    "duration": 83,
    "start_time": "2022-02-04T19:13:51.989Z"
   },
   {
    "duration": 71,
    "start_time": "2022-02-04T19:13:52.074Z"
   },
   {
    "duration": 363,
    "start_time": "2022-02-04T19:13:52.148Z"
   },
   {
    "duration": 62,
    "start_time": "2022-02-04T19:14:49.542Z"
   },
   {
    "duration": 807,
    "start_time": "2022-02-04T19:16:16.149Z"
   },
   {
    "duration": 27,
    "start_time": "2022-02-04T19:16:16.959Z"
   },
   {
    "duration": 416,
    "start_time": "2022-02-04T19:16:16.989Z"
   },
   {
    "duration": -13,
    "start_time": "2022-02-04T19:16:17.421Z"
   },
   {
    "duration": -14,
    "start_time": "2022-02-04T19:16:17.423Z"
   },
   {
    "duration": 864,
    "start_time": "2022-02-04T19:17:04.183Z"
   },
   {
    "duration": 26,
    "start_time": "2022-02-04T19:17:05.050Z"
   },
   {
    "duration": 424,
    "start_time": "2022-02-04T19:17:05.079Z"
   },
   {
    "duration": -42,
    "start_time": "2022-02-04T19:17:05.547Z"
   },
   {
    "duration": -42,
    "start_time": "2022-02-04T19:17:05.549Z"
   },
   {
    "duration": 830,
    "start_time": "2022-02-04T19:17:26.831Z"
   },
   {
    "duration": 26,
    "start_time": "2022-02-04T19:17:27.664Z"
   },
   {
    "duration": 103,
    "start_time": "2022-02-04T19:17:27.694Z"
   },
   {
    "duration": 70,
    "start_time": "2022-02-04T19:17:27.800Z"
   },
   {
    "duration": 360,
    "start_time": "2022-02-04T19:17:27.872Z"
   },
   {
    "duration": 882,
    "start_time": "2022-02-04T19:17:57.053Z"
   },
   {
    "duration": 29,
    "start_time": "2022-02-04T19:17:57.937Z"
   },
   {
    "duration": 141,
    "start_time": "2022-02-04T19:17:57.970Z"
   },
   {
    "duration": 69,
    "start_time": "2022-02-04T19:17:58.113Z"
   },
   {
    "duration": 410,
    "start_time": "2022-02-04T19:17:58.184Z"
   },
   {
    "duration": 808,
    "start_time": "2022-02-04T19:18:28.453Z"
   },
   {
    "duration": 27,
    "start_time": "2022-02-04T19:18:29.264Z"
   },
   {
    "duration": 94,
    "start_time": "2022-02-04T19:18:29.294Z"
   },
   {
    "duration": 72,
    "start_time": "2022-02-04T19:18:29.390Z"
   },
   {
    "duration": 374,
    "start_time": "2022-02-04T19:18:29.465Z"
   },
   {
    "duration": 75,
    "start_time": "2022-02-04T19:19:26.691Z"
   },
   {
    "duration": 91,
    "start_time": "2022-02-04T19:19:40.408Z"
   },
   {
    "duration": 42,
    "start_time": "2022-02-04T19:23:00.278Z"
   },
   {
    "duration": 42,
    "start_time": "2022-02-04T19:23:06.530Z"
   },
   {
    "duration": 815,
    "start_time": "2022-02-04T19:23:18.144Z"
   },
   {
    "duration": 27,
    "start_time": "2022-02-04T19:23:18.962Z"
   },
   {
    "duration": 68,
    "start_time": "2022-02-04T19:23:18.993Z"
   },
   {
    "duration": 40,
    "start_time": "2022-02-04T19:23:19.064Z"
   },
   {
    "duration": 80,
    "start_time": "2022-02-04T19:23:19.106Z"
   },
   {
    "duration": 341,
    "start_time": "2022-02-04T19:23:19.189Z"
   },
   {
    "duration": 43,
    "start_time": "2022-02-04T19:23:50.175Z"
   },
   {
    "duration": 39,
    "start_time": "2022-02-04T19:23:59.360Z"
   },
   {
    "duration": 864,
    "start_time": "2022-02-04T19:25:07.807Z"
   },
   {
    "duration": 31,
    "start_time": "2022-02-04T19:25:08.675Z"
   },
   {
    "duration": 40,
    "start_time": "2022-02-04T19:25:08.734Z"
   },
   {
    "duration": 64,
    "start_time": "2022-02-04T19:25:08.778Z"
   },
   {
    "duration": 43,
    "start_time": "2022-02-04T19:25:08.845Z"
   },
   {
    "duration": 80,
    "start_time": "2022-02-04T19:25:08.891Z"
   },
   {
    "duration": 348,
    "start_time": "2022-02-04T19:25:08.973Z"
   },
   {
    "duration": 805,
    "start_time": "2022-02-04T19:29:46.964Z"
   },
   {
    "duration": 29,
    "start_time": "2022-02-04T19:29:47.773Z"
   },
   {
    "duration": 51,
    "start_time": "2022-02-04T19:29:47.805Z"
   },
   {
    "duration": 32,
    "start_time": "2022-02-04T19:29:47.859Z"
   },
   {
    "duration": 14,
    "start_time": "2022-02-04T19:29:47.894Z"
   },
   {
    "duration": 56,
    "start_time": "2022-02-04T19:29:47.933Z"
   },
   {
    "duration": 77,
    "start_time": "2022-02-04T19:29:47.991Z"
   },
   {
    "duration": 406,
    "start_time": "2022-02-04T19:29:48.072Z"
   },
   {
    "duration": 104,
    "start_time": "2022-02-05T10:18:50.566Z"
   },
   {
    "duration": 103,
    "start_time": "2022-02-05T10:18:54.117Z"
   },
   {
    "duration": 136,
    "start_time": "2022-02-05T10:19:00.741Z"
   },
   {
    "duration": 102,
    "start_time": "2022-02-05T10:19:16.189Z"
   },
   {
    "duration": 949,
    "start_time": "2022-02-05T10:19:25.377Z"
   },
   {
    "duration": 949,
    "start_time": "2022-02-05T10:19:40.280Z"
   },
   {
    "duration": -56,
    "start_time": "2022-02-05T10:19:41.287Z"
   },
   {
    "duration": -56,
    "start_time": "2022-02-05T10:19:41.288Z"
   },
   {
    "duration": -75,
    "start_time": "2022-02-05T10:19:41.308Z"
   },
   {
    "duration": -75,
    "start_time": "2022-02-05T10:19:41.309Z"
   },
   {
    "duration": -74,
    "start_time": "2022-02-05T10:19:41.309Z"
   },
   {
    "duration": -75,
    "start_time": "2022-02-05T10:19:41.310Z"
   },
   {
    "duration": -75,
    "start_time": "2022-02-05T10:19:41.311Z"
   },
   {
    "duration": -75,
    "start_time": "2022-02-05T10:19:41.312Z"
   },
   {
    "duration": 549,
    "start_time": "2022-02-05T10:20:18.804Z"
   },
   {
    "duration": 64,
    "start_time": "2022-02-05T10:21:01.849Z"
   },
   {
    "duration": 17,
    "start_time": "2022-02-05T10:21:06.987Z"
   },
   {
    "duration": 132,
    "start_time": "2022-02-05T10:21:51.737Z"
   },
   {
    "duration": 129,
    "start_time": "2022-02-05T10:22:10.230Z"
   },
   {
    "duration": 625,
    "start_time": "2022-02-05T10:22:34.050Z"
   },
   {
    "duration": 115,
    "start_time": "2022-02-05T10:22:34.677Z"
   },
   {
    "duration": -28,
    "start_time": "2022-02-05T10:22:34.822Z"
   },
   {
    "duration": -28,
    "start_time": "2022-02-05T10:22:34.823Z"
   },
   {
    "duration": -27,
    "start_time": "2022-02-05T10:22:34.823Z"
   },
   {
    "duration": -27,
    "start_time": "2022-02-05T10:22:34.824Z"
   },
   {
    "duration": -26,
    "start_time": "2022-02-05T10:22:34.824Z"
   },
   {
    "duration": -26,
    "start_time": "2022-02-05T10:22:34.825Z"
   },
   {
    "duration": -28,
    "start_time": "2022-02-05T10:22:34.827Z"
   },
   {
    "duration": 115,
    "start_time": "2022-02-05T10:23:02.297Z"
   },
   {
    "duration": 113,
    "start_time": "2022-02-05T10:23:13.931Z"
   },
   {
    "duration": 16,
    "start_time": "2022-02-05T10:23:22.154Z"
   },
   {
    "duration": 141,
    "start_time": "2022-02-05T10:23:59.339Z"
   },
   {
    "duration": 104,
    "start_time": "2022-02-05T10:24:13.189Z"
   },
   {
    "duration": 113,
    "start_time": "2022-02-05T10:24:22.510Z"
   },
   {
    "duration": 125,
    "start_time": "2022-02-05T10:25:22.533Z"
   },
   {
    "duration": 395,
    "start_time": "2022-02-05T10:26:24.685Z"
   },
   {
    "duration": 108,
    "start_time": "2022-02-05T10:26:44.013Z"
   },
   {
    "duration": 117,
    "start_time": "2022-02-05T10:27:22.002Z"
   },
   {
    "duration": 652,
    "start_time": "2022-02-05T10:28:00.760Z"
   },
   {
    "duration": 126,
    "start_time": "2022-02-05T10:28:01.413Z"
   },
   {
    "duration": -23,
    "start_time": "2022-02-05T10:28:01.565Z"
   },
   {
    "duration": -22,
    "start_time": "2022-02-05T10:28:01.565Z"
   },
   {
    "duration": -35,
    "start_time": "2022-02-05T10:28:01.579Z"
   },
   {
    "duration": -34,
    "start_time": "2022-02-05T10:28:01.579Z"
   },
   {
    "duration": -33,
    "start_time": "2022-02-05T10:28:01.580Z"
   },
   {
    "duration": -33,
    "start_time": "2022-02-05T10:28:01.581Z"
   },
   {
    "duration": -32,
    "start_time": "2022-02-05T10:28:01.582Z"
   },
   {
    "duration": 116,
    "start_time": "2022-02-05T10:28:26.266Z"
   },
   {
    "duration": 476,
    "start_time": "2022-02-05T10:28:56.000Z"
   },
   {
    "duration": 102,
    "start_time": "2022-02-05T10:29:19.795Z"
   },
   {
    "duration": 113,
    "start_time": "2022-02-05T10:29:37.848Z"
   },
   {
    "duration": 16,
    "start_time": "2022-02-05T10:30:28.781Z"
   },
   {
    "duration": 16,
    "start_time": "2022-02-05T10:30:39.499Z"
   },
   {
    "duration": 17,
    "start_time": "2022-02-05T10:30:59.995Z"
   },
   {
    "duration": 18,
    "start_time": "2022-02-05T10:31:07.946Z"
   },
   {
    "duration": 8,
    "start_time": "2022-02-05T10:31:19.972Z"
   },
   {
    "duration": 30,
    "start_time": "2022-02-05T10:31:22.726Z"
   },
   {
    "duration": 8,
    "start_time": "2022-02-05T10:35:39.477Z"
   },
   {
    "duration": 323,
    "start_time": "2022-02-05T10:37:48.223Z"
   },
   {
    "duration": 664,
    "start_time": "2022-02-05T10:38:26.401Z"
   },
   {
    "duration": 15,
    "start_time": "2022-02-05T10:38:27.066Z"
   },
   {
    "duration": 14,
    "start_time": "2022-02-05T10:38:27.083Z"
   },
   {
    "duration": 29,
    "start_time": "2022-02-05T10:38:27.099Z"
   },
   {
    "duration": 8,
    "start_time": "2022-02-05T10:38:27.129Z"
   },
   {
    "duration": 31,
    "start_time": "2022-02-05T10:38:27.138Z"
   },
   {
    "duration": 363,
    "start_time": "2022-02-05T10:38:27.171Z"
   },
   {
    "duration": -80,
    "start_time": "2022-02-05T10:38:27.616Z"
   },
   {
    "duration": -91,
    "start_time": "2022-02-05T10:38:27.628Z"
   },
   {
    "duration": 317,
    "start_time": "2022-02-05T10:39:22.682Z"
   },
   {
    "duration": 17,
    "start_time": "2022-02-05T10:40:16.156Z"
   },
   {
    "duration": 16,
    "start_time": "2022-02-05T10:40:33.989Z"
   },
   {
    "duration": 13,
    "start_time": "2022-02-05T10:40:49.386Z"
   },
   {
    "duration": 14,
    "start_time": "2022-02-05T10:40:58.319Z"
   },
   {
    "duration": 631,
    "start_time": "2022-02-05T10:41:11.056Z"
   },
   {
    "duration": 15,
    "start_time": "2022-02-05T10:41:11.689Z"
   },
   {
    "duration": 21,
    "start_time": "2022-02-05T10:41:11.706Z"
   },
   {
    "duration": 17,
    "start_time": "2022-02-05T10:41:11.729Z"
   },
   {
    "duration": 8,
    "start_time": "2022-02-05T10:41:11.747Z"
   },
   {
    "duration": 31,
    "start_time": "2022-02-05T10:41:11.757Z"
   },
   {
    "duration": 42,
    "start_time": "2022-02-05T10:41:11.790Z"
   },
   {
    "duration": 21,
    "start_time": "2022-02-05T10:41:11.834Z"
   },
   {
    "duration": 385,
    "start_time": "2022-02-05T10:41:11.858Z"
   },
   {
    "duration": 24,
    "start_time": "2022-02-05T10:41:44.988Z"
   },
   {
    "duration": 18,
    "start_time": "2022-02-05T10:43:14.177Z"
   },
   {
    "duration": 15,
    "start_time": "2022-02-05T10:44:02.933Z"
   },
   {
    "duration": 10,
    "start_time": "2022-02-05T10:46:17.463Z"
   },
   {
    "duration": 823,
    "start_time": "2022-02-05T10:46:52.860Z"
   },
   {
    "duration": 23,
    "start_time": "2022-02-05T10:46:53.685Z"
   },
   {
    "duration": 34,
    "start_time": "2022-02-05T10:46:53.710Z"
   },
   {
    "duration": 25,
    "start_time": "2022-02-05T10:46:53.746Z"
   },
   {
    "duration": 11,
    "start_time": "2022-02-05T10:46:53.773Z"
   },
   {
    "duration": 66,
    "start_time": "2022-02-05T10:46:53.786Z"
   },
   {
    "duration": 13,
    "start_time": "2022-02-05T10:46:53.854Z"
   },
   {
    "duration": 20,
    "start_time": "2022-02-05T10:46:53.869Z"
   },
   {
    "duration": 396,
    "start_time": "2022-02-05T10:46:53.891Z"
   },
   {
    "duration": 18,
    "start_time": "2022-02-05T10:48:29.907Z"
   },
   {
    "duration": 24,
    "start_time": "2022-02-05T10:49:54.803Z"
   },
   {
    "duration": 9,
    "start_time": "2022-02-05T10:52:31.241Z"
   },
   {
    "duration": 8,
    "start_time": "2022-02-05T10:52:52.750Z"
   },
   {
    "duration": 17,
    "start_time": "2022-02-05T10:53:19.905Z"
   },
   {
    "duration": 13,
    "start_time": "2022-02-05T10:53:42.266Z"
   },
   {
    "duration": 11,
    "start_time": "2022-02-05T10:53:57.829Z"
   },
   {
    "duration": 11,
    "start_time": "2022-02-05T10:55:36.696Z"
   },
   {
    "duration": 4581,
    "start_time": "2022-02-05T10:55:48.691Z"
   },
   {
    "duration": 779,
    "start_time": "2022-02-05T10:55:59.482Z"
   },
   {
    "duration": 16,
    "start_time": "2022-02-05T10:56:00.262Z"
   },
   {
    "duration": 14,
    "start_time": "2022-02-05T10:56:00.280Z"
   },
   {
    "duration": 36,
    "start_time": "2022-02-05T10:56:00.296Z"
   },
   {
    "duration": 9,
    "start_time": "2022-02-05T10:56:00.334Z"
   },
   {
    "duration": 36,
    "start_time": "2022-02-05T10:56:00.344Z"
   },
   {
    "duration": 11,
    "start_time": "2022-02-05T10:56:00.382Z"
   },
   {
    "duration": 4399,
    "start_time": "2022-02-05T10:56:00.395Z"
   },
   {
    "duration": -102,
    "start_time": "2022-02-05T10:56:04.897Z"
   },
   {
    "duration": -103,
    "start_time": "2022-02-05T10:56:27.630Z"
   },
   {
    "duration": 634,
    "start_time": "2022-02-05T10:56:39.827Z"
   },
   {
    "duration": 17,
    "start_time": "2022-02-05T10:56:40.463Z"
   },
   {
    "duration": 15,
    "start_time": "2022-02-05T10:56:40.483Z"
   },
   {
    "duration": 41,
    "start_time": "2022-02-05T10:56:40.500Z"
   },
   {
    "duration": 8,
    "start_time": "2022-02-05T10:56:40.543Z"
   },
   {
    "duration": 30,
    "start_time": "2022-02-05T10:56:40.552Z"
   },
   {
    "duration": 10,
    "start_time": "2022-02-05T10:56:40.583Z"
   },
   {
    "duration": 4992,
    "start_time": "2022-02-05T10:56:40.594Z"
   },
   {
    "duration": -81,
    "start_time": "2022-02-05T10:56:45.669Z"
   },
   {
    "duration": 4227,
    "start_time": "2022-02-05T10:57:08.290Z"
   },
   {
    "duration": 5,
    "start_time": "2022-02-05T10:57:19.702Z"
   },
   {
    "duration": 784,
    "start_time": "2022-02-05T10:57:24.472Z"
   },
   {
    "duration": 22,
    "start_time": "2022-02-05T10:57:25.259Z"
   },
   {
    "duration": 15,
    "start_time": "2022-02-05T10:57:25.283Z"
   },
   {
    "duration": 38,
    "start_time": "2022-02-05T10:57:25.300Z"
   },
   {
    "duration": 9,
    "start_time": "2022-02-05T10:57:25.340Z"
   },
   {
    "duration": 28,
    "start_time": "2022-02-05T10:57:25.351Z"
   },
   {
    "duration": 11,
    "start_time": "2022-02-05T10:57:25.381Z"
   },
   {
    "duration": 50,
    "start_time": "2022-02-05T10:57:25.394Z"
   },
   {
    "duration": 382,
    "start_time": "2022-02-05T10:57:25.445Z"
   },
   {
    "duration": 2,
    "start_time": "2022-02-05T10:57:42.483Z"
   },
   {
    "duration": 12,
    "start_time": "2022-02-05T10:57:49.479Z"
   },
   {
    "duration": 4410,
    "start_time": "2022-02-05T10:59:38.571Z"
   },
   {
    "duration": 838,
    "start_time": "2022-02-05T10:59:55.441Z"
   },
   {
    "duration": 22,
    "start_time": "2022-02-05T10:59:56.281Z"
   },
   {
    "duration": 28,
    "start_time": "2022-02-05T10:59:56.304Z"
   },
   {
    "duration": 18,
    "start_time": "2022-02-05T10:59:56.334Z"
   },
   {
    "duration": 7,
    "start_time": "2022-02-05T10:59:56.354Z"
   },
   {
    "duration": 31,
    "start_time": "2022-02-05T10:59:56.363Z"
   },
   {
    "duration": 44,
    "start_time": "2022-02-05T10:59:56.396Z"
   },
   {
    "duration": 21,
    "start_time": "2022-02-05T10:59:56.441Z"
   },
   {
    "duration": 402,
    "start_time": "2022-02-05T10:59:56.463Z"
   },
   {
    "duration": 17,
    "start_time": "2022-02-05T11:01:00.069Z"
   },
   {
    "duration": 21,
    "start_time": "2022-02-05T11:02:02.091Z"
   },
   {
    "duration": 17,
    "start_time": "2022-02-05T11:03:05.241Z"
   },
   {
    "duration": 667,
    "start_time": "2022-02-05T11:03:15.815Z"
   },
   {
    "duration": 15,
    "start_time": "2022-02-05T11:03:16.483Z"
   },
   {
    "duration": 27,
    "start_time": "2022-02-05T11:03:16.500Z"
   },
   {
    "duration": 22,
    "start_time": "2022-02-05T11:03:16.529Z"
   },
   {
    "duration": 8,
    "start_time": "2022-02-05T11:03:16.552Z"
   },
   {
    "duration": 30,
    "start_time": "2022-02-05T11:03:16.561Z"
   },
   {
    "duration": 36,
    "start_time": "2022-02-05T11:03:16.592Z"
   },
   {
    "duration": 19,
    "start_time": "2022-02-05T11:03:16.630Z"
   },
   {
    "duration": 389,
    "start_time": "2022-02-05T11:03:16.651Z"
   },
   {
    "duration": 12,
    "start_time": "2022-02-05T11:03:36.511Z"
   },
   {
    "duration": 649,
    "start_time": "2022-02-05T11:03:46.026Z"
   },
   {
    "duration": 16,
    "start_time": "2022-02-05T11:03:46.676Z"
   },
   {
    "duration": 14,
    "start_time": "2022-02-05T11:03:46.694Z"
   },
   {
    "duration": 18,
    "start_time": "2022-02-05T11:03:46.727Z"
   },
   {
    "duration": 8,
    "start_time": "2022-02-05T11:03:46.746Z"
   },
   {
    "duration": 30,
    "start_time": "2022-02-05T11:03:46.755Z"
   },
   {
    "duration": 40,
    "start_time": "2022-02-05T11:03:46.787Z"
   },
   {
    "duration": 20,
    "start_time": "2022-02-05T11:03:46.829Z"
   },
   {
    "duration": 404,
    "start_time": "2022-02-05T11:03:46.851Z"
   },
   {
    "duration": 18,
    "start_time": "2022-02-05T11:04:34.819Z"
   },
   {
    "duration": 624,
    "start_time": "2022-02-05T11:04:42.644Z"
   },
   {
    "duration": 15,
    "start_time": "2022-02-05T11:04:43.270Z"
   },
   {
    "duration": 14,
    "start_time": "2022-02-05T11:04:43.286Z"
   },
   {
    "duration": 31,
    "start_time": "2022-02-05T11:04:43.301Z"
   },
   {
    "duration": 7,
    "start_time": "2022-02-05T11:04:43.334Z"
   },
   {
    "duration": 31,
    "start_time": "2022-02-05T11:04:43.343Z"
   },
   {
    "duration": 15,
    "start_time": "2022-02-05T11:04:43.375Z"
   },
   {
    "duration": 43,
    "start_time": "2022-02-05T11:04:43.392Z"
   },
   {
    "duration": 381,
    "start_time": "2022-02-05T11:04:43.437Z"
   },
   {
    "duration": 22,
    "start_time": "2022-02-05T11:07:41.878Z"
   },
   {
    "duration": 642,
    "start_time": "2022-02-05T11:12:54.791Z"
   },
   {
    "duration": 14,
    "start_time": "2022-02-05T11:12:55.435Z"
   },
   {
    "duration": 15,
    "start_time": "2022-02-05T11:12:55.451Z"
   },
   {
    "duration": 18,
    "start_time": "2022-02-05T11:12:55.467Z"
   },
   {
    "duration": 7,
    "start_time": "2022-02-05T11:12:55.487Z"
   },
   {
    "duration": 59,
    "start_time": "2022-02-05T11:12:55.495Z"
   },
   {
    "duration": 16,
    "start_time": "2022-02-05T11:12:55.556Z"
   },
   {
    "duration": 24,
    "start_time": "2022-02-05T11:12:55.574Z"
   },
   {
    "duration": 428,
    "start_time": "2022-02-05T11:12:55.600Z"
   },
   {
    "duration": 18,
    "start_time": "2022-02-05T11:13:43.651Z"
   },
   {
    "duration": 616,
    "start_time": "2022-02-05T11:13:53.057Z"
   },
   {
    "duration": 14,
    "start_time": "2022-02-05T11:13:53.675Z"
   },
   {
    "duration": 14,
    "start_time": "2022-02-05T11:13:53.691Z"
   },
   {
    "duration": 34,
    "start_time": "2022-02-05T11:13:53.706Z"
   },
   {
    "duration": 8,
    "start_time": "2022-02-05T11:13:53.741Z"
   },
   {
    "duration": 33,
    "start_time": "2022-02-05T11:13:53.751Z"
   },
   {
    "duration": 17,
    "start_time": "2022-02-05T11:13:53.785Z"
   },
   {
    "duration": 37,
    "start_time": "2022-02-05T11:13:53.804Z"
   },
   {
    "duration": 388,
    "start_time": "2022-02-05T11:13:53.843Z"
   },
   {
    "duration": 31,
    "start_time": "2022-02-05T11:15:59.575Z"
   },
   {
    "duration": 33,
    "start_time": "2022-02-05T11:16:31.703Z"
   },
   {
    "duration": 22,
    "start_time": "2022-02-05T11:16:40.813Z"
   },
   {
    "duration": 22,
    "start_time": "2022-02-05T11:17:10.349Z"
   },
   {
    "duration": 122,
    "start_time": "2022-02-05T11:17:24.342Z"
   },
   {
    "duration": 21,
    "start_time": "2022-02-05T11:17:28.659Z"
   },
   {
    "duration": 18,
    "start_time": "2022-02-05T11:17:46.600Z"
   },
   {
    "duration": 18,
    "start_time": "2022-02-05T11:18:14.185Z"
   },
   {
    "duration": 330,
    "start_time": "2022-02-05T11:19:16.017Z"
   },
   {
    "duration": 368,
    "start_time": "2022-02-05T11:19:25.178Z"
   },
   {
    "duration": 337,
    "start_time": "2022-02-05T11:19:39.244Z"
   },
   {
    "duration": 39,
    "start_time": "2022-02-05T11:20:13.443Z"
   },
   {
    "duration": 163,
    "start_time": "2022-02-05T11:20:26.576Z"
   },
   {
    "duration": 142,
    "start_time": "2022-02-05T11:20:30.103Z"
   },
   {
    "duration": 110,
    "start_time": "2022-02-05T11:20:52.870Z"
   },
   {
    "duration": 8,
    "start_time": "2022-02-05T11:21:07.467Z"
   },
   {
    "duration": 15,
    "start_time": "2022-02-05T11:21:42.996Z"
   },
   {
    "duration": 739,
    "start_time": "2022-02-05T11:21:50.455Z"
   },
   {
    "duration": 8,
    "start_time": "2022-02-05T11:21:51.195Z"
   },
   {
    "duration": 23,
    "start_time": "2022-02-05T11:21:51.205Z"
   },
   {
    "duration": 24,
    "start_time": "2022-02-05T11:21:51.230Z"
   },
   {
    "duration": 9,
    "start_time": "2022-02-05T11:21:51.256Z"
   },
   {
    "duration": 29,
    "start_time": "2022-02-05T11:21:51.266Z"
   },
   {
    "duration": 45,
    "start_time": "2022-02-05T11:21:51.297Z"
   },
   {
    "duration": 20,
    "start_time": "2022-02-05T11:21:51.345Z"
   },
   {
    "duration": 422,
    "start_time": "2022-02-05T11:21:51.367Z"
   },
   {
    "duration": 16,
    "start_time": "2022-02-05T11:22:03.712Z"
   },
   {
    "duration": 620,
    "start_time": "2022-02-05T12:18:35.985Z"
   },
   {
    "duration": 6,
    "start_time": "2022-02-05T12:18:36.607Z"
   },
   {
    "duration": 16,
    "start_time": "2022-02-05T12:18:36.615Z"
   },
   {
    "duration": 21,
    "start_time": "2022-02-05T12:18:36.633Z"
   },
   {
    "duration": 9,
    "start_time": "2022-02-05T12:18:36.656Z"
   },
   {
    "duration": 30,
    "start_time": "2022-02-05T12:18:36.666Z"
   },
   {
    "duration": 22,
    "start_time": "2022-02-05T12:18:36.727Z"
   },
   {
    "duration": 21,
    "start_time": "2022-02-05T12:18:36.751Z"
   },
   {
    "duration": 387,
    "start_time": "2022-02-05T12:18:36.773Z"
   },
   {
    "duration": 632,
    "start_time": "2022-02-05T12:23:49.675Z"
   },
   {
    "duration": 6,
    "start_time": "2022-02-05T12:23:50.309Z"
   },
   {
    "duration": 24,
    "start_time": "2022-02-05T12:23:50.317Z"
   },
   {
    "duration": 19,
    "start_time": "2022-02-05T12:23:50.343Z"
   },
   {
    "duration": 7,
    "start_time": "2022-02-05T12:23:50.363Z"
   },
   {
    "duration": 28,
    "start_time": "2022-02-05T12:23:50.372Z"
   },
   {
    "duration": 37,
    "start_time": "2022-02-05T12:23:50.401Z"
   },
   {
    "duration": 20,
    "start_time": "2022-02-05T12:23:50.440Z"
   },
   {
    "duration": 456,
    "start_time": "2022-02-05T12:23:50.461Z"
   },
   {
    "duration": 8,
    "start_time": "2022-02-05T12:34:16.010Z"
   },
   {
    "duration": 646,
    "start_time": "2022-02-05T12:34:36.764Z"
   },
   {
    "duration": 7,
    "start_time": "2022-02-05T12:34:37.412Z"
   },
   {
    "duration": 17,
    "start_time": "2022-02-05T12:34:37.420Z"
   },
   {
    "duration": 17,
    "start_time": "2022-02-05T12:34:37.439Z"
   },
   {
    "duration": 7,
    "start_time": "2022-02-05T12:34:37.458Z"
   },
   {
    "duration": 29,
    "start_time": "2022-02-05T12:34:37.467Z"
   },
   {
    "duration": 41,
    "start_time": "2022-02-05T12:34:37.497Z"
   },
   {
    "duration": 20,
    "start_time": "2022-02-05T12:34:37.540Z"
   },
   {
    "duration": 389,
    "start_time": "2022-02-05T12:34:37.561Z"
   },
   {
    "duration": 9,
    "start_time": "2022-02-05T12:34:48.469Z"
   },
   {
    "duration": -38,
    "start_time": "2022-02-05T12:35:15.793Z"
   },
   {
    "duration": 982,
    "start_time": "2022-02-05T12:35:22.371Z"
   },
   {
    "duration": 6,
    "start_time": "2022-02-05T12:35:23.355Z"
   },
   {
    "duration": 15,
    "start_time": "2022-02-05T12:35:23.363Z"
   },
   {
    "duration": 17,
    "start_time": "2022-02-05T12:35:23.379Z"
   },
   {
    "duration": 30,
    "start_time": "2022-02-05T12:35:23.398Z"
   },
   {
    "duration": 30,
    "start_time": "2022-02-05T12:35:23.429Z"
   },
   {
    "duration": 7919,
    "start_time": "2022-02-05T12:35:23.461Z"
   },
   {
    "duration": -186,
    "start_time": "2022-02-05T12:35:31.568Z"
   },
   {
    "duration": -186,
    "start_time": "2022-02-05T12:35:31.569Z"
   },
   {
    "duration": 16,
    "start_time": "2022-02-05T12:55:38.475Z"
   },
   {
    "duration": 17,
    "start_time": "2022-02-05T12:56:19.042Z"
   },
   {
    "duration": 26,
    "start_time": "2022-02-05T12:56:27.921Z"
   },
   {
    "duration": 21,
    "start_time": "2022-02-05T12:56:42.932Z"
   },
   {
    "duration": 31,
    "start_time": "2022-02-05T12:57:06.152Z"
   },
   {
    "duration": 406,
    "start_time": "2022-02-05T12:57:30.017Z"
   },
   {
    "duration": 8,
    "start_time": "2022-02-05T12:57:45.141Z"
   },
   {
    "duration": 10,
    "start_time": "2022-02-05T12:58:03.614Z"
   },
   {
    "duration": 9,
    "start_time": "2022-02-05T12:58:19.890Z"
   },
   {
    "duration": 644,
    "start_time": "2022-02-05T12:58:26.887Z"
   },
   {
    "duration": 9,
    "start_time": "2022-02-05T12:58:27.533Z"
   },
   {
    "duration": 24,
    "start_time": "2022-02-05T12:58:27.544Z"
   },
   {
    "duration": 17,
    "start_time": "2022-02-05T12:58:27.570Z"
   },
   {
    "duration": 9,
    "start_time": "2022-02-05T12:58:27.589Z"
   },
   {
    "duration": 54,
    "start_time": "2022-02-05T12:58:27.599Z"
   },
   {
    "duration": 8,
    "start_time": "2022-02-05T12:58:27.655Z"
   },
   {
    "duration": 31,
    "start_time": "2022-02-05T12:58:27.665Z"
   },
   {
    "duration": 412,
    "start_time": "2022-02-05T12:58:27.699Z"
   },
   {
    "duration": 17,
    "start_time": "2022-02-05T12:58:39.107Z"
   },
   {
    "duration": 17,
    "start_time": "2022-02-05T13:00:38.627Z"
   },
   {
    "duration": 376,
    "start_time": "2022-02-05T13:01:08.487Z"
   },
   {
    "duration": 1330,
    "start_time": "2022-02-05T13:01:32.511Z"
   },
   {
    "duration": 4,
    "start_time": "2022-02-05T13:02:02.063Z"
   },
   {
    "duration": 699,
    "start_time": "2022-02-05T13:02:19.333Z"
   },
   {
    "duration": 9,
    "start_time": "2022-02-05T13:02:20.034Z"
   },
   {
    "duration": 16,
    "start_time": "2022-02-05T13:02:20.045Z"
   },
   {
    "duration": 17,
    "start_time": "2022-02-05T13:02:20.062Z"
   },
   {
    "duration": 7,
    "start_time": "2022-02-05T13:02:20.081Z"
   },
   {
    "duration": 60,
    "start_time": "2022-02-05T13:02:20.090Z"
   },
   {
    "duration": 4,
    "start_time": "2022-02-05T13:02:20.151Z"
   },
   {
    "duration": 33,
    "start_time": "2022-02-05T13:02:20.157Z"
   },
   {
    "duration": 466,
    "start_time": "2022-02-05T13:02:20.192Z"
   },
   {
    "duration": 4,
    "start_time": "2022-02-05T13:02:33.847Z"
   },
   {
    "duration": 5,
    "start_time": "2022-02-05T13:02:45.846Z"
   },
   {
    "duration": 700,
    "start_time": "2022-02-05T13:02:57.017Z"
   },
   {
    "duration": 7,
    "start_time": "2022-02-05T13:02:57.719Z"
   },
   {
    "duration": 26,
    "start_time": "2022-02-05T13:02:57.728Z"
   },
   {
    "duration": 16,
    "start_time": "2022-02-05T13:02:57.756Z"
   },
   {
    "duration": 8,
    "start_time": "2022-02-05T13:02:57.773Z"
   },
   {
    "duration": 46,
    "start_time": "2022-02-05T13:02:57.782Z"
   },
   {
    "duration": 4,
    "start_time": "2022-02-05T13:02:57.830Z"
   },
   {
    "duration": 62,
    "start_time": "2022-02-05T13:02:57.836Z"
   },
   {
    "duration": 464,
    "start_time": "2022-02-05T13:02:57.900Z"
   },
   {
    "duration": 4,
    "start_time": "2022-02-05T13:03:20.890Z"
   },
   {
    "duration": 4,
    "start_time": "2022-02-05T13:03:29.341Z"
   },
   {
    "duration": 4,
    "start_time": "2022-02-05T13:04:02.915Z"
   },
   {
    "duration": 4,
    "start_time": "2022-02-05T13:04:22.366Z"
   },
   {
    "duration": 335,
    "start_time": "2022-02-05T13:04:53.016Z"
   },
   {
    "duration": 671,
    "start_time": "2022-02-05T13:05:14.047Z"
   },
   {
    "duration": 6,
    "start_time": "2022-02-05T13:05:14.720Z"
   },
   {
    "duration": 28,
    "start_time": "2022-02-05T13:05:14.728Z"
   },
   {
    "duration": 22,
    "start_time": "2022-02-05T13:05:14.758Z"
   },
   {
    "duration": 9,
    "start_time": "2022-02-05T13:05:14.781Z"
   },
   {
    "duration": 31,
    "start_time": "2022-02-05T13:05:14.792Z"
   },
   {
    "duration": 894,
    "start_time": "2022-02-05T13:05:14.827Z"
   },
   {
    "duration": -120,
    "start_time": "2022-02-05T13:05:15.843Z"
   },
   {
    "duration": -120,
    "start_time": "2022-02-05T13:05:15.844Z"
   },
   {
    "duration": -120,
    "start_time": "2022-02-05T13:05:15.845Z"
   },
   {
    "duration": 4,
    "start_time": "2022-02-05T13:05:30.624Z"
   },
   {
    "duration": 4,
    "start_time": "2022-02-05T13:06:08.000Z"
   },
   {
    "duration": 660,
    "start_time": "2022-02-05T13:06:28.892Z"
   },
   {
    "duration": 7,
    "start_time": "2022-02-05T13:06:29.554Z"
   },
   {
    "duration": 15,
    "start_time": "2022-02-05T13:06:29.562Z"
   },
   {
    "duration": 16,
    "start_time": "2022-02-05T13:06:29.579Z"
   },
   {
    "duration": 7,
    "start_time": "2022-02-05T13:06:29.596Z"
   },
   {
    "duration": 55,
    "start_time": "2022-02-05T13:06:29.604Z"
   },
   {
    "duration": 14,
    "start_time": "2022-02-05T13:06:29.661Z"
   },
   {
    "duration": 32,
    "start_time": "2022-02-05T13:06:29.676Z"
   },
   {
    "duration": 406,
    "start_time": "2022-02-05T13:06:29.728Z"
   },
   {
    "duration": 24,
    "start_time": "2022-02-05T13:06:57.959Z"
   },
   {
    "duration": 776,
    "start_time": "2022-02-05T13:07:04.950Z"
   },
   {
    "duration": 8,
    "start_time": "2022-02-05T13:07:05.729Z"
   },
   {
    "duration": 28,
    "start_time": "2022-02-05T13:07:05.740Z"
   },
   {
    "duration": 17,
    "start_time": "2022-02-05T13:07:05.770Z"
   },
   {
    "duration": 7,
    "start_time": "2022-02-05T13:07:05.789Z"
   },
   {
    "duration": 47,
    "start_time": "2022-02-05T13:07:05.798Z"
   },
   {
    "duration": 14,
    "start_time": "2022-02-05T13:07:05.847Z"
   },
   {
    "duration": 40,
    "start_time": "2022-02-05T13:07:05.863Z"
   },
   {
    "duration": 406,
    "start_time": "2022-02-05T13:07:05.905Z"
   },
   {
    "duration": 477,
    "start_time": "2022-02-05T13:10:07.642Z"
   },
   {
    "duration": 356,
    "start_time": "2022-02-05T13:10:39.587Z"
   },
   {
    "duration": 18,
    "start_time": "2022-02-05T13:10:48.042Z"
   },
   {
    "duration": 8,
    "start_time": "2022-02-05T13:13:31.311Z"
   },
   {
    "duration": 9,
    "start_time": "2022-02-05T13:13:49.303Z"
   },
   {
    "duration": 705,
    "start_time": "2022-02-05T13:13:59.527Z"
   },
   {
    "duration": 7,
    "start_time": "2022-02-05T13:14:00.233Z"
   },
   {
    "duration": 18,
    "start_time": "2022-02-05T13:14:00.242Z"
   },
   {
    "duration": 17,
    "start_time": "2022-02-05T13:14:00.261Z"
   },
   {
    "duration": 8,
    "start_time": "2022-02-05T13:14:00.279Z"
   },
   {
    "duration": 63,
    "start_time": "2022-02-05T13:14:00.289Z"
   },
   {
    "duration": 10,
    "start_time": "2022-02-05T13:14:00.354Z"
   },
   {
    "duration": 33,
    "start_time": "2022-02-05T13:14:00.365Z"
   },
   {
    "duration": 415,
    "start_time": "2022-02-05T13:14:00.401Z"
   },
   {
    "duration": 108,
    "start_time": "2022-02-05T13:14:57.874Z"
   },
   {
    "duration": 16,
    "start_time": "2022-02-05T13:15:01.810Z"
   },
   {
    "duration": 25,
    "start_time": "2022-02-05T13:15:55.218Z"
   },
   {
    "duration": 654,
    "start_time": "2022-02-05T13:16:08.790Z"
   },
   {
    "duration": 8,
    "start_time": "2022-02-05T13:16:09.447Z"
   },
   {
    "duration": 14,
    "start_time": "2022-02-05T13:16:09.458Z"
   },
   {
    "duration": 20,
    "start_time": "2022-02-05T13:16:09.474Z"
   },
   {
    "duration": 9,
    "start_time": "2022-02-05T13:16:09.495Z"
   },
   {
    "duration": 53,
    "start_time": "2022-02-05T13:16:09.505Z"
   },
   {
    "duration": 12,
    "start_time": "2022-02-05T13:16:09.560Z"
   },
   {
    "duration": 58,
    "start_time": "2022-02-05T13:16:09.574Z"
   },
   {
    "duration": 503,
    "start_time": "2022-02-05T13:16:09.635Z"
   },
   {
    "duration": 16,
    "start_time": "2022-02-05T13:18:02.031Z"
   },
   {
    "duration": 148,
    "start_time": "2022-02-05T13:18:26.224Z"
   },
   {
    "duration": 27,
    "start_time": "2022-02-05T13:18:32.458Z"
   },
   {
    "duration": 616,
    "start_time": "2022-02-05T13:18:40.547Z"
   },
   {
    "duration": 7,
    "start_time": "2022-02-05T13:18:41.166Z"
   },
   {
    "duration": 15,
    "start_time": "2022-02-05T13:18:41.175Z"
   },
   {
    "duration": 21,
    "start_time": "2022-02-05T13:18:41.191Z"
   },
   {
    "duration": 8,
    "start_time": "2022-02-05T13:18:41.227Z"
   },
   {
    "duration": 45,
    "start_time": "2022-02-05T13:18:41.236Z"
   },
   {
    "duration": 50,
    "start_time": "2022-02-05T13:18:41.283Z"
   },
   {
    "duration": 37,
    "start_time": "2022-02-05T13:18:41.335Z"
   },
   {
    "duration": 9,
    "start_time": "2022-02-05T13:18:41.374Z"
   },
   {
    "duration": 673,
    "start_time": "2022-02-05T13:19:57.923Z"
   },
   {
    "duration": 7,
    "start_time": "2022-02-05T13:19:58.598Z"
   },
   {
    "duration": 19,
    "start_time": "2022-02-05T13:19:58.607Z"
   },
   {
    "duration": 17,
    "start_time": "2022-02-05T13:19:58.628Z"
   },
   {
    "duration": 8,
    "start_time": "2022-02-05T13:19:58.646Z"
   },
   {
    "duration": 29,
    "start_time": "2022-02-05T13:19:58.655Z"
   },
   {
    "duration": 141,
    "start_time": "2022-02-05T13:19:58.685Z"
   },
   {
    "duration": -13,
    "start_time": "2022-02-05T13:19:58.841Z"
   },
   {
    "duration": -14,
    "start_time": "2022-02-05T13:19:58.843Z"
   },
   {
    "duration": 33,
    "start_time": "2022-02-05T13:20:19.399Z"
   },
   {
    "duration": 21,
    "start_time": "2022-02-05T13:20:42.482Z"
   },
   {
    "duration": 612,
    "start_time": "2022-02-05T13:21:14.867Z"
   },
   {
    "duration": 6,
    "start_time": "2022-02-05T13:21:15.481Z"
   },
   {
    "duration": 22,
    "start_time": "2022-02-05T13:21:15.490Z"
   },
   {
    "duration": 20,
    "start_time": "2022-02-05T13:21:15.514Z"
   },
   {
    "duration": 7,
    "start_time": "2022-02-05T13:21:15.536Z"
   },
   {
    "duration": 30,
    "start_time": "2022-02-05T13:21:15.544Z"
   },
   {
    "duration": 15,
    "start_time": "2022-02-05T13:21:15.575Z"
   },
   {
    "duration": 65,
    "start_time": "2022-02-05T13:21:15.592Z"
   },
   {
    "duration": 364,
    "start_time": "2022-02-05T13:21:15.659Z"
   },
   {
    "duration": 22,
    "start_time": "2022-02-05T13:29:06.486Z"
   },
   {
    "duration": 667,
    "start_time": "2022-02-05T13:29:15.524Z"
   },
   {
    "duration": 6,
    "start_time": "2022-02-05T13:29:16.193Z"
   },
   {
    "duration": 15,
    "start_time": "2022-02-05T13:29:16.203Z"
   },
   {
    "duration": 23,
    "start_time": "2022-02-05T13:29:16.219Z"
   },
   {
    "duration": 12,
    "start_time": "2022-02-05T13:29:16.244Z"
   },
   {
    "duration": 50,
    "start_time": "2022-02-05T13:29:16.257Z"
   },
   {
    "duration": 46,
    "start_time": "2022-02-05T13:29:16.309Z"
   },
   {
    "duration": 48,
    "start_time": "2022-02-05T13:29:16.358Z"
   },
   {
    "duration": 421,
    "start_time": "2022-02-05T13:29:16.408Z"
   },
   {
    "duration": 682,
    "start_time": "2022-02-05T13:34:08.404Z"
   },
   {
    "duration": 6,
    "start_time": "2022-02-05T13:34:09.088Z"
   },
   {
    "duration": 18,
    "start_time": "2022-02-05T13:34:09.096Z"
   },
   {
    "duration": 29,
    "start_time": "2022-02-05T13:34:09.132Z"
   },
   {
    "duration": 7,
    "start_time": "2022-02-05T13:34:09.163Z"
   },
   {
    "duration": 40,
    "start_time": "2022-02-05T13:34:09.172Z"
   },
   {
    "duration": 128,
    "start_time": "2022-02-05T13:34:09.214Z"
   },
   {
    "duration": -6,
    "start_time": "2022-02-05T13:34:09.350Z"
   },
   {
    "duration": -6,
    "start_time": "2022-02-05T13:34:09.350Z"
   },
   {
    "duration": 110,
    "start_time": "2022-02-05T13:34:35.282Z"
   },
   {
    "duration": 560,
    "start_time": "2022-02-05T13:34:59.592Z"
   },
   {
    "duration": 5616,
    "start_time": "2022-02-05T13:35:27.259Z"
   },
   {
    "duration": 22,
    "start_time": "2022-02-05T13:35:52.215Z"
   },
   {
    "duration": 672,
    "start_time": "2022-02-05T13:37:07.724Z"
   },
   {
    "duration": 7,
    "start_time": "2022-02-05T13:37:08.397Z"
   },
   {
    "duration": 15,
    "start_time": "2022-02-05T13:37:08.405Z"
   },
   {
    "duration": 20,
    "start_time": "2022-02-05T13:37:08.422Z"
   },
   {
    "duration": 9,
    "start_time": "2022-02-05T13:37:08.445Z"
   },
   {
    "duration": 30,
    "start_time": "2022-02-05T13:37:08.456Z"
   },
   {
    "duration": 18,
    "start_time": "2022-02-05T13:37:08.487Z"
   },
   {
    "duration": 53,
    "start_time": "2022-02-05T13:37:08.507Z"
   },
   {
    "duration": 459,
    "start_time": "2022-02-05T13:37:08.562Z"
   },
   {
    "duration": 712,
    "start_time": "2022-02-06T09:54:32.231Z"
   },
   {
    "duration": 9,
    "start_time": "2022-02-06T09:54:32.946Z"
   },
   {
    "duration": 26,
    "start_time": "2022-02-06T09:54:32.958Z"
   },
   {
    "duration": 36,
    "start_time": "2022-02-06T09:54:32.986Z"
   },
   {
    "duration": 10,
    "start_time": "2022-02-06T09:54:33.024Z"
   },
   {
    "duration": 45,
    "start_time": "2022-02-06T09:54:33.036Z"
   },
   {
    "duration": 383,
    "start_time": "2022-02-06T09:54:33.083Z"
   },
   {
    "duration": -11,
    "start_time": "2022-02-06T09:54:33.479Z"
   },
   {
    "duration": -11,
    "start_time": "2022-02-06T09:54:33.481Z"
   },
   {
    "duration": 26,
    "start_time": "2022-02-06T09:55:01.419Z"
   },
   {
    "duration": 37,
    "start_time": "2022-02-06T09:56:09.896Z"
   },
   {
    "duration": 47,
    "start_time": "2022-02-06T09:59:02.226Z"
   },
   {
    "duration": 62,
    "start_time": "2022-02-06T09:59:44.354Z"
   },
   {
    "duration": 1298,
    "start_time": "2022-02-06T10:00:31.221Z"
   },
   {
    "duration": 10,
    "start_time": "2022-02-06T10:00:32.521Z"
   },
   {
    "duration": 20,
    "start_time": "2022-02-06T10:00:32.534Z"
   },
   {
    "duration": 53,
    "start_time": "2022-02-06T10:00:32.556Z"
   },
   {
    "duration": 14,
    "start_time": "2022-02-06T10:00:32.612Z"
   },
   {
    "duration": 57,
    "start_time": "2022-02-06T10:00:32.628Z"
   },
   {
    "duration": 38,
    "start_time": "2022-02-06T10:00:32.686Z"
   },
   {
    "duration": 53,
    "start_time": "2022-02-06T10:00:32.726Z"
   },
   {
    "duration": 78,
    "start_time": "2022-02-06T10:00:32.782Z"
   },
   {
    "duration": 399,
    "start_time": "2022-02-06T10:00:32.862Z"
   },
   {
    "duration": 45,
    "start_time": "2022-02-06T10:01:42.423Z"
   },
   {
    "duration": 728,
    "start_time": "2022-02-06T10:02:16.718Z"
   },
   {
    "duration": 11,
    "start_time": "2022-02-06T10:02:17.448Z"
   },
   {
    "duration": 20,
    "start_time": "2022-02-06T10:02:17.462Z"
   },
   {
    "duration": 21,
    "start_time": "2022-02-06T10:02:17.507Z"
   },
   {
    "duration": 10,
    "start_time": "2022-02-06T10:02:17.530Z"
   },
   {
    "duration": 44,
    "start_time": "2022-02-06T10:02:17.542Z"
   },
   {
    "duration": 23,
    "start_time": "2022-02-06T10:02:17.608Z"
   },
   {
    "duration": 14,
    "start_time": "2022-02-06T10:02:17.634Z"
   },
   {
    "duration": 14,
    "start_time": "2022-02-06T10:02:17.650Z"
   },
   {
    "duration": 71,
    "start_time": "2022-02-06T10:02:17.666Z"
   },
   {
    "duration": 338,
    "start_time": "2022-02-06T10:02:17.738Z"
   },
   {
    "duration": 23,
    "start_time": "2022-02-06T10:02:48.640Z"
   },
   {
    "duration": 672,
    "start_time": "2022-02-06T10:04:59.963Z"
   },
   {
    "duration": 10,
    "start_time": "2022-02-06T10:05:00.638Z"
   },
   {
    "duration": 47,
    "start_time": "2022-02-06T10:05:00.651Z"
   },
   {
    "duration": 28,
    "start_time": "2022-02-06T10:05:00.701Z"
   },
   {
    "duration": 11,
    "start_time": "2022-02-06T10:05:00.732Z"
   },
   {
    "duration": 41,
    "start_time": "2022-02-06T10:05:00.745Z"
   },
   {
    "duration": 40,
    "start_time": "2022-02-06T10:05:00.789Z"
   },
   {
    "duration": 25,
    "start_time": "2022-02-06T10:05:00.832Z"
   },
   {
    "duration": 29,
    "start_time": "2022-02-06T10:05:00.859Z"
   },
   {
    "duration": 47,
    "start_time": "2022-02-06T10:05:00.908Z"
   },
   {
    "duration": 368,
    "start_time": "2022-02-06T10:05:00.957Z"
   },
   {
    "duration": 694,
    "start_time": "2022-02-06T10:05:09.423Z"
   },
   {
    "duration": 10,
    "start_time": "2022-02-06T10:05:10.119Z"
   },
   {
    "duration": 28,
    "start_time": "2022-02-06T10:05:10.132Z"
   },
   {
    "duration": 21,
    "start_time": "2022-02-06T10:05:10.162Z"
   },
   {
    "duration": 26,
    "start_time": "2022-02-06T10:05:10.185Z"
   },
   {
    "duration": 47,
    "start_time": "2022-02-06T10:05:10.213Z"
   },
   {
    "duration": 23,
    "start_time": "2022-02-06T10:05:10.262Z"
   },
   {
    "duration": 40,
    "start_time": "2022-02-06T10:05:10.288Z"
   },
   {
    "duration": 22,
    "start_time": "2022-02-06T10:05:10.330Z"
   },
   {
    "duration": 63,
    "start_time": "2022-02-06T10:05:10.354Z"
   },
   {
    "duration": 419,
    "start_time": "2022-02-06T10:05:10.419Z"
   },
   {
    "duration": 719,
    "start_time": "2022-02-06T10:06:20.191Z"
   },
   {
    "duration": 9,
    "start_time": "2022-02-06T10:06:20.912Z"
   },
   {
    "duration": 30,
    "start_time": "2022-02-06T10:06:20.923Z"
   },
   {
    "duration": 24,
    "start_time": "2022-02-06T10:06:20.956Z"
   },
   {
    "duration": 27,
    "start_time": "2022-02-06T10:06:20.982Z"
   },
   {
    "duration": 37,
    "start_time": "2022-02-06T10:06:21.011Z"
   },
   {
    "duration": 23,
    "start_time": "2022-02-06T10:06:21.050Z"
   },
   {
    "duration": 63,
    "start_time": "2022-02-06T10:06:21.076Z"
   },
   {
    "duration": 24,
    "start_time": "2022-02-06T10:06:21.143Z"
   },
   {
    "duration": 66,
    "start_time": "2022-02-06T10:06:21.170Z"
   },
   {
    "duration": 321,
    "start_time": "2022-02-06T10:06:21.238Z"
   },
   {
    "duration": 683,
    "start_time": "2022-02-06T10:07:36.830Z"
   },
   {
    "duration": 9,
    "start_time": "2022-02-06T10:07:37.515Z"
   },
   {
    "duration": 20,
    "start_time": "2022-02-06T10:07:37.529Z"
   },
   {
    "duration": 22,
    "start_time": "2022-02-06T10:07:37.550Z"
   },
   {
    "duration": 41,
    "start_time": "2022-02-06T10:07:37.574Z"
   },
   {
    "duration": 56,
    "start_time": "2022-02-06T10:07:37.617Z"
   },
   {
    "duration": 23,
    "start_time": "2022-02-06T10:07:37.675Z"
   },
   {
    "duration": 343,
    "start_time": "2022-02-06T10:07:37.709Z"
   },
   {
    "duration": -19,
    "start_time": "2022-02-06T10:07:38.073Z"
   },
   {
    "duration": -20,
    "start_time": "2022-02-06T10:07:38.075Z"
   },
   {
    "duration": -21,
    "start_time": "2022-02-06T10:07:38.077Z"
   },
   {
    "duration": 755,
    "start_time": "2022-02-06T10:08:17.716Z"
   },
   {
    "duration": 9,
    "start_time": "2022-02-06T10:08:18.473Z"
   },
   {
    "duration": 35,
    "start_time": "2022-02-06T10:08:18.484Z"
   },
   {
    "duration": 23,
    "start_time": "2022-02-06T10:08:18.522Z"
   },
   {
    "duration": 10,
    "start_time": "2022-02-06T10:08:18.547Z"
   },
   {
    "duration": 68,
    "start_time": "2022-02-06T10:08:18.559Z"
   },
   {
    "duration": 22,
    "start_time": "2022-02-06T10:08:18.628Z"
   },
   {
    "duration": 486,
    "start_time": "2022-02-06T10:08:18.653Z"
   },
   {
    "duration": 33,
    "start_time": "2022-02-06T10:08:19.108Z"
   },
   {
    "duration": 33,
    "start_time": "2022-02-06T10:08:19.109Z"
   },
   {
    "duration": 28,
    "start_time": "2022-02-06T10:08:19.115Z"
   },
   {
    "duration": 822,
    "start_time": "2022-02-06T10:08:57.220Z"
   },
   {
    "duration": 10,
    "start_time": "2022-02-06T10:08:58.045Z"
   },
   {
    "duration": 21,
    "start_time": "2022-02-06T10:08:58.058Z"
   },
   {
    "duration": 25,
    "start_time": "2022-02-06T10:08:58.109Z"
   },
   {
    "duration": 11,
    "start_time": "2022-02-06T10:08:58.136Z"
   },
   {
    "duration": 69,
    "start_time": "2022-02-06T10:08:58.150Z"
   },
   {
    "duration": 23,
    "start_time": "2022-02-06T10:08:58.221Z"
   },
   {
    "duration": 60,
    "start_time": "2022-02-06T10:08:58.247Z"
   },
   {
    "duration": 15,
    "start_time": "2022-02-06T10:08:58.309Z"
   },
   {
    "duration": 79,
    "start_time": "2022-02-06T10:08:58.326Z"
   },
   {
    "duration": 413,
    "start_time": "2022-02-06T10:08:58.407Z"
   },
   {
    "duration": 702,
    "start_time": "2022-02-06T10:10:05.109Z"
   },
   {
    "duration": 8,
    "start_time": "2022-02-06T10:10:05.814Z"
   },
   {
    "duration": 27,
    "start_time": "2022-02-06T10:10:05.824Z"
   },
   {
    "duration": 25,
    "start_time": "2022-02-06T10:10:05.854Z"
   },
   {
    "duration": 26,
    "start_time": "2022-02-06T10:10:05.881Z"
   },
   {
    "duration": 66,
    "start_time": "2022-02-06T10:10:05.910Z"
   },
   {
    "duration": 27,
    "start_time": "2022-02-06T10:10:05.978Z"
   },
   {
    "duration": 49,
    "start_time": "2022-02-06T10:10:06.008Z"
   },
   {
    "duration": 9,
    "start_time": "2022-02-06T10:10:06.060Z"
   },
   {
    "duration": 58,
    "start_time": "2022-02-06T10:10:06.071Z"
   },
   {
    "duration": 343,
    "start_time": "2022-02-06T10:10:06.131Z"
   },
   {
    "duration": 25,
    "start_time": "2022-02-06T10:12:52.724Z"
   },
   {
    "duration": 690,
    "start_time": "2022-02-06T10:13:52.038Z"
   },
   {
    "duration": 9,
    "start_time": "2022-02-06T10:13:52.730Z"
   },
   {
    "duration": 33,
    "start_time": "2022-02-06T10:13:52.742Z"
   },
   {
    "duration": 29,
    "start_time": "2022-02-06T10:13:52.778Z"
   },
   {
    "duration": 10,
    "start_time": "2022-02-06T10:13:52.809Z"
   },
   {
    "duration": 54,
    "start_time": "2022-02-06T10:13:52.821Z"
   },
   {
    "duration": 96,
    "start_time": "2022-02-06T10:13:52.877Z"
   },
   {
    "duration": 59,
    "start_time": "2022-02-06T10:13:52.916Z"
   },
   {
    "duration": 58,
    "start_time": "2022-02-06T10:13:52.918Z"
   },
   {
    "duration": 58,
    "start_time": "2022-02-06T10:13:52.919Z"
   },
   {
    "duration": 58,
    "start_time": "2022-02-06T10:13:52.921Z"
   },
   {
    "duration": 153,
    "start_time": "2022-02-06T10:14:16.500Z"
   },
   {
    "duration": 107,
    "start_time": "2022-02-06T10:14:22.727Z"
   },
   {
    "duration": 89,
    "start_time": "2022-02-06T10:15:24.793Z"
   },
   {
    "duration": 94,
    "start_time": "2022-02-06T10:15:35.506Z"
   },
   {
    "duration": 46,
    "start_time": "2022-02-06T10:16:49.845Z"
   },
   {
    "duration": 47,
    "start_time": "2022-02-06T10:17:18.807Z"
   },
   {
    "duration": 690,
    "start_time": "2022-02-06T10:17:25.532Z"
   },
   {
    "duration": 10,
    "start_time": "2022-02-06T10:17:26.225Z"
   },
   {
    "duration": 127,
    "start_time": "2022-02-06T10:17:26.238Z"
   },
   {
    "duration": 23,
    "start_time": "2022-02-06T10:17:26.368Z"
   },
   {
    "duration": 11,
    "start_time": "2022-02-06T10:17:26.393Z"
   },
   {
    "duration": 47,
    "start_time": "2022-02-06T10:17:26.406Z"
   },
   {
    "duration": 55,
    "start_time": "2022-02-06T10:17:26.456Z"
   },
   {
    "duration": 11,
    "start_time": "2022-02-06T10:17:26.513Z"
   },
   {
    "duration": 25,
    "start_time": "2022-02-06T10:17:26.527Z"
   },
   {
    "duration": 66,
    "start_time": "2022-02-06T10:17:26.554Z"
   },
   {
    "duration": 328,
    "start_time": "2022-02-06T10:17:26.623Z"
   },
   {
    "duration": 23,
    "start_time": "2022-02-06T10:18:15.653Z"
   },
   {
    "duration": 81,
    "start_time": "2022-02-06T10:18:49.065Z"
   },
   {
    "duration": 9,
    "start_time": "2022-02-06T10:19:08.444Z"
   },
   {
    "duration": 9,
    "start_time": "2022-02-06T10:19:16.820Z"
   },
   {
    "duration": 10,
    "start_time": "2022-02-06T10:19:22.792Z"
   },
   {
    "duration": 10,
    "start_time": "2022-02-06T10:19:28.980Z"
   },
   {
    "duration": 10,
    "start_time": "2022-02-06T10:19:36.651Z"
   },
   {
    "duration": 10,
    "start_time": "2022-02-06T10:19:42.010Z"
   },
   {
    "duration": 11,
    "start_time": "2022-02-06T10:19:47.664Z"
   },
   {
    "duration": 11,
    "start_time": "2022-02-06T10:19:55.189Z"
   },
   {
    "duration": 10,
    "start_time": "2022-02-06T10:20:00.008Z"
   },
   {
    "duration": 25,
    "start_time": "2022-02-06T10:20:09.461Z"
   },
   {
    "duration": 9,
    "start_time": "2022-02-06T10:20:20.623Z"
   },
   {
    "duration": 23,
    "start_time": "2022-02-06T10:21:32.361Z"
   },
   {
    "duration": 308,
    "start_time": "2022-02-06T13:01:54.213Z"
   },
   {
    "duration": 717,
    "start_time": "2022-02-06T13:02:07.212Z"
   },
   {
    "duration": 9,
    "start_time": "2022-02-06T13:02:07.933Z"
   },
   {
    "duration": 18,
    "start_time": "2022-02-06T13:02:07.944Z"
   },
   {
    "duration": 46,
    "start_time": "2022-02-06T13:02:07.964Z"
   },
   {
    "duration": 10,
    "start_time": "2022-02-06T13:02:08.012Z"
   },
   {
    "duration": 39,
    "start_time": "2022-02-06T13:02:08.024Z"
   },
   {
    "duration": 67,
    "start_time": "2022-02-06T13:02:08.066Z"
   },
   {
    "duration": 9,
    "start_time": "2022-02-06T13:02:08.135Z"
   },
   {
    "duration": 24,
    "start_time": "2022-02-06T13:02:08.146Z"
   },
   {
    "duration": 55,
    "start_time": "2022-02-06T13:02:08.171Z"
   },
   {
    "duration": 5,
    "start_time": "2022-02-06T13:02:08.228Z"
   },
   {
    "duration": 454,
    "start_time": "2022-02-06T13:02:08.234Z"
   },
   {
    "duration": 661,
    "start_time": "2022-02-06T13:06:51.444Z"
   },
   {
    "duration": 8,
    "start_time": "2022-02-06T13:06:52.107Z"
   },
   {
    "duration": 19,
    "start_time": "2022-02-06T13:06:52.117Z"
   },
   {
    "duration": 27,
    "start_time": "2022-02-06T13:06:52.138Z"
   },
   {
    "duration": 10,
    "start_time": "2022-02-06T13:06:52.167Z"
   },
   {
    "duration": 59,
    "start_time": "2022-02-06T13:06:52.179Z"
   },
   {
    "duration": 69,
    "start_time": "2022-02-06T13:06:52.240Z"
   },
   {
    "duration": 9,
    "start_time": "2022-02-06T13:06:52.311Z"
   },
   {
    "duration": 7,
    "start_time": "2022-02-06T13:06:52.322Z"
   },
   {
    "duration": 42,
    "start_time": "2022-02-06T13:06:52.331Z"
   },
   {
    "duration": 27,
    "start_time": "2022-02-06T13:06:52.375Z"
   },
   {
    "duration": 341,
    "start_time": "2022-02-06T13:06:52.404Z"
   },
   {
    "duration": 284,
    "start_time": "2022-02-06T13:07:25.871Z"
   },
   {
    "duration": 287,
    "start_time": "2022-02-06T13:07:45.552Z"
   },
   {
    "duration": 269,
    "start_time": "2022-02-06T13:08:17.767Z"
   },
   {
    "duration": 24,
    "start_time": "2022-02-06T13:08:41.518Z"
   },
   {
    "duration": 261,
    "start_time": "2022-02-06T13:08:53.594Z"
   },
   {
    "duration": 278,
    "start_time": "2022-02-06T13:09:01.171Z"
   },
   {
    "duration": 10,
    "start_time": "2022-02-06T13:09:23.499Z"
   },
   {
    "duration": -93,
    "start_time": "2022-02-06T13:10:03.183Z"
   },
   {
    "duration": 711,
    "start_time": "2022-02-06T13:10:19.669Z"
   },
   {
    "duration": 9,
    "start_time": "2022-02-06T13:10:20.382Z"
   },
   {
    "duration": 22,
    "start_time": "2022-02-06T13:10:20.393Z"
   },
   {
    "duration": 24,
    "start_time": "2022-02-06T13:10:20.417Z"
   },
   {
    "duration": 9,
    "start_time": "2022-02-06T13:10:20.442Z"
   },
   {
    "duration": 58,
    "start_time": "2022-02-06T13:10:20.453Z"
   },
   {
    "duration": 44,
    "start_time": "2022-02-06T13:10:20.513Z"
   },
   {
    "duration": 8,
    "start_time": "2022-02-06T13:10:20.559Z"
   },
   {
    "duration": 7159,
    "start_time": "2022-02-06T13:10:20.569Z"
   },
   {
    "duration": -100,
    "start_time": "2022-02-06T13:10:27.830Z"
   },
   {
    "duration": -110,
    "start_time": "2022-02-06T13:10:27.842Z"
   },
   {
    "duration": -110,
    "start_time": "2022-02-06T13:10:27.843Z"
   },
   {
    "duration": 96,
    "start_time": "2022-02-06T13:11:29.706Z"
   },
   {
    "duration": 273,
    "start_time": "2022-02-06T13:12:03.811Z"
   },
   {
    "duration": 296,
    "start_time": "2022-02-06T13:13:02.928Z"
   },
   {
    "duration": 338,
    "start_time": "2022-02-06T13:13:26.499Z"
   },
   {
    "duration": 9,
    "start_time": "2022-02-06T13:13:52.950Z"
   },
   {
    "duration": 7,
    "start_time": "2022-02-06T13:14:10.752Z"
   },
   {
    "duration": 6,
    "start_time": "2022-02-06T13:14:22.449Z"
   },
   {
    "duration": 7,
    "start_time": "2022-02-06T13:15:10.002Z"
   },
   {
    "duration": 8,
    "start_time": "2022-02-06T13:15:28.283Z"
   },
   {
    "duration": 278,
    "start_time": "2022-02-06T13:15:43.988Z"
   },
   {
    "duration": 9,
    "start_time": "2022-02-06T13:16:50.874Z"
   },
   {
    "duration": 9,
    "start_time": "2022-02-06T13:22:32.260Z"
   },
   {
    "duration": -140,
    "start_time": "2022-02-06T13:23:10.177Z"
   },
   {
    "duration": -616,
    "start_time": "2022-02-06T13:23:22.313Z"
   },
   {
    "duration": 7243,
    "start_time": "2022-02-06T13:23:27.955Z"
   },
   {
    "duration": -116,
    "start_time": "2022-02-06T13:23:56.867Z"
   },
   {
    "duration": 6484,
    "start_time": "2022-02-06T13:24:16.395Z"
   },
   {
    "duration": 271,
    "start_time": "2022-02-06T13:24:35.388Z"
   },
   {
    "duration": 5,
    "start_time": "2022-02-06T13:24:55.421Z"
   },
   {
    "duration": 270,
    "start_time": "2022-02-06T13:25:25.012Z"
   },
   {
    "duration": 265,
    "start_time": "2022-02-06T13:25:41.678Z"
   },
   {
    "duration": 85,
    "start_time": "2022-02-06T13:25:59.131Z"
   },
   {
    "duration": 385,
    "start_time": "2022-02-06T17:12:33.991Z"
   },
   {
    "duration": 631,
    "start_time": "2022-02-06T17:12:39.143Z"
   },
   {
    "duration": 6,
    "start_time": "2022-02-06T17:12:39.776Z"
   },
   {
    "duration": 14,
    "start_time": "2022-02-06T17:12:39.784Z"
   },
   {
    "duration": 32,
    "start_time": "2022-02-06T17:12:39.800Z"
   },
   {
    "duration": 9,
    "start_time": "2022-02-06T17:12:39.834Z"
   },
   {
    "duration": 29,
    "start_time": "2022-02-06T17:12:39.844Z"
   },
   {
    "duration": 61,
    "start_time": "2022-02-06T17:12:39.875Z"
   },
   {
    "duration": 19,
    "start_time": "2022-02-06T17:12:39.938Z"
   },
   {
    "duration": 108,
    "start_time": "2022-02-06T17:12:39.960Z"
   },
   {
    "duration": -77,
    "start_time": "2022-02-06T17:12:40.147Z"
   },
   {
    "duration": -79,
    "start_time": "2022-02-06T17:12:40.151Z"
   },
   {
    "duration": -167,
    "start_time": "2022-02-06T17:12:40.240Z"
   },
   {
    "duration": 8,
    "start_time": "2022-02-06T17:13:02.500Z"
   },
   {
    "duration": 36,
    "start_time": "2022-02-06T17:13:35.584Z"
   },
   {
    "duration": 115,
    "start_time": "2022-02-06T17:23:40.739Z"
   },
   {
    "duration": 52,
    "start_time": "2022-02-06T17:24:01.634Z"
   },
   {
    "duration": 790,
    "start_time": "2022-02-06T17:25:07.345Z"
   },
   {
    "duration": 9,
    "start_time": "2022-02-06T17:25:08.137Z"
   },
   {
    "duration": 22,
    "start_time": "2022-02-06T17:25:08.155Z"
   },
   {
    "duration": 19,
    "start_time": "2022-02-06T17:25:08.179Z"
   },
   {
    "duration": 12,
    "start_time": "2022-02-06T17:25:08.200Z"
   },
   {
    "duration": 33,
    "start_time": "2022-02-06T17:25:08.227Z"
   },
   {
    "duration": 37,
    "start_time": "2022-02-06T17:25:08.262Z"
   },
   {
    "duration": 7,
    "start_time": "2022-02-06T17:25:08.301Z"
   },
   {
    "duration": 51,
    "start_time": "2022-02-06T17:25:08.310Z"
   },
   {
    "duration": 7,
    "start_time": "2022-02-06T17:25:08.362Z"
   },
   {
    "duration": 46,
    "start_time": "2022-02-06T17:25:08.371Z"
   },
   {
    "duration": 7,
    "start_time": "2022-02-06T17:25:08.427Z"
   },
   {
    "duration": 12,
    "start_time": "2022-02-06T17:25:08.435Z"
   },
   {
    "duration": 877,
    "start_time": "2022-02-06T17:28:22.497Z"
   },
   {
    "duration": 6,
    "start_time": "2022-02-06T17:28:23.376Z"
   },
   {
    "duration": 14,
    "start_time": "2022-02-06T17:28:23.384Z"
   },
   {
    "duration": 37,
    "start_time": "2022-02-06T17:28:23.400Z"
   },
   {
    "duration": 8,
    "start_time": "2022-02-06T17:28:23.438Z"
   },
   {
    "duration": 29,
    "start_time": "2022-02-06T17:28:23.447Z"
   },
   {
    "duration": 54,
    "start_time": "2022-02-06T17:28:23.478Z"
   },
   {
    "duration": 8,
    "start_time": "2022-02-06T17:28:23.535Z"
   },
   {
    "duration": 37,
    "start_time": "2022-02-06T17:28:23.545Z"
   },
   {
    "duration": 8,
    "start_time": "2022-02-06T17:28:23.583Z"
   },
   {
    "duration": 61,
    "start_time": "2022-02-06T17:28:23.593Z"
   },
   {
    "duration": 7,
    "start_time": "2022-02-06T17:28:23.656Z"
   },
   {
    "duration": 19,
    "start_time": "2022-02-06T17:28:23.664Z"
   },
   {
    "duration": 28,
    "start_time": "2022-02-06T17:28:51.647Z"
   },
   {
    "duration": 396,
    "start_time": "2022-02-06T17:29:10.492Z"
   },
   {
    "duration": 318,
    "start_time": "2022-02-06T17:29:35.569Z"
   },
   {
    "duration": 5,
    "start_time": "2022-02-06T17:29:48.214Z"
   },
   {
    "duration": 8,
    "start_time": "2022-02-06T17:38:58.572Z"
   },
   {
    "duration": 5,
    "start_time": "2022-02-06T17:40:13.625Z"
   },
   {
    "duration": 928,
    "start_time": "2022-02-06T17:40:26.379Z"
   },
   {
    "duration": 7,
    "start_time": "2022-02-06T17:40:27.309Z"
   },
   {
    "duration": 15,
    "start_time": "2022-02-06T17:40:27.318Z"
   },
   {
    "duration": 19,
    "start_time": "2022-02-06T17:40:27.335Z"
   },
   {
    "duration": 7,
    "start_time": "2022-02-06T17:40:27.355Z"
   },
   {
    "duration": 31,
    "start_time": "2022-02-06T17:40:27.364Z"
   },
   {
    "duration": 64,
    "start_time": "2022-02-06T17:40:27.396Z"
   },
   {
    "duration": 7,
    "start_time": "2022-02-06T17:40:27.462Z"
   },
   {
    "duration": 36,
    "start_time": "2022-02-06T17:40:27.471Z"
   },
   {
    "duration": 23,
    "start_time": "2022-02-06T17:40:27.509Z"
   },
   {
    "duration": 30,
    "start_time": "2022-02-06T17:40:27.533Z"
   },
   {
    "duration": 4,
    "start_time": "2022-02-06T17:40:27.564Z"
   },
   {
    "duration": 7,
    "start_time": "2022-02-06T17:40:27.570Z"
   },
   {
    "duration": 9,
    "start_time": "2022-02-06T17:40:27.578Z"
   },
   {
    "duration": 11,
    "start_time": "2022-02-06T17:40:27.588Z"
   },
   {
    "duration": 7,
    "start_time": "2022-02-06T17:40:52.924Z"
   },
   {
    "duration": 6,
    "start_time": "2022-02-06T17:40:54.018Z"
   },
   {
    "duration": 7,
    "start_time": "2022-02-06T17:41:11.558Z"
   },
   {
    "duration": 5,
    "start_time": "2022-02-06T17:41:12.580Z"
   },
   {
    "duration": 6,
    "start_time": "2022-02-06T17:42:08.788Z"
   },
   {
    "duration": 4,
    "start_time": "2022-02-06T17:42:24.401Z"
   },
   {
    "duration": 8,
    "start_time": "2022-02-06T17:42:25.585Z"
   },
   {
    "duration": 4,
    "start_time": "2022-02-06T17:43:38.425Z"
   },
   {
    "duration": 7,
    "start_time": "2022-02-06T17:43:39.747Z"
   },
   {
    "duration": 5,
    "start_time": "2022-02-06T17:52:34.070Z"
   },
   {
    "duration": 7,
    "start_time": "2022-02-06T17:52:35.032Z"
   },
   {
    "duration": 581,
    "start_time": "2022-02-06T17:52:41.683Z"
   },
   {
    "duration": 7,
    "start_time": "2022-02-06T17:52:42.265Z"
   },
   {
    "duration": 15,
    "start_time": "2022-02-06T17:52:42.274Z"
   },
   {
    "duration": 16,
    "start_time": "2022-02-06T17:52:42.290Z"
   },
   {
    "duration": 20,
    "start_time": "2022-02-06T17:52:42.308Z"
   },
   {
    "duration": 28,
    "start_time": "2022-02-06T17:52:42.329Z"
   },
   {
    "duration": 36,
    "start_time": "2022-02-06T17:52:42.359Z"
   },
   {
    "duration": 6,
    "start_time": "2022-02-06T17:52:42.397Z"
   },
   {
    "duration": 56,
    "start_time": "2022-02-06T17:52:42.404Z"
   },
   {
    "duration": 6,
    "start_time": "2022-02-06T17:52:42.462Z"
   },
   {
    "duration": 25,
    "start_time": "2022-02-06T17:52:42.469Z"
   },
   {
    "duration": 5,
    "start_time": "2022-02-06T17:52:42.495Z"
   },
   {
    "duration": 5,
    "start_time": "2022-02-06T17:52:42.501Z"
   },
   {
    "duration": 26,
    "start_time": "2022-02-06T17:52:42.507Z"
   },
   {
    "duration": 11,
    "start_time": "2022-02-06T17:52:42.534Z"
   },
   {
    "duration": 5,
    "start_time": "2022-02-06T17:56:35.594Z"
   },
   {
    "duration": 631,
    "start_time": "2022-02-06T17:59:35.360Z"
   },
   {
    "duration": 7,
    "start_time": "2022-02-06T17:59:35.993Z"
   },
   {
    "duration": 15,
    "start_time": "2022-02-06T17:59:36.001Z"
   },
   {
    "duration": 23,
    "start_time": "2022-02-06T17:59:36.018Z"
   },
   {
    "duration": 8,
    "start_time": "2022-02-06T17:59:36.042Z"
   },
   {
    "duration": 30,
    "start_time": "2022-02-06T17:59:36.051Z"
   },
   {
    "duration": 57,
    "start_time": "2022-02-06T17:59:36.082Z"
   },
   {
    "duration": 8,
    "start_time": "2022-02-06T17:59:36.141Z"
   },
   {
    "duration": 38,
    "start_time": "2022-02-06T17:59:36.150Z"
   },
   {
    "duration": 8,
    "start_time": "2022-02-06T17:59:36.189Z"
   },
   {
    "duration": 43,
    "start_time": "2022-02-06T17:59:36.198Z"
   },
   {
    "duration": 4,
    "start_time": "2022-02-06T17:59:36.242Z"
   },
   {
    "duration": 5,
    "start_time": "2022-02-06T17:59:36.247Z"
   },
   {
    "duration": 7,
    "start_time": "2022-02-06T17:59:36.253Z"
   },
   {
    "duration": 10,
    "start_time": "2022-02-06T17:59:36.261Z"
   },
   {
    "duration": 11,
    "start_time": "2022-02-06T18:08:25.907Z"
   },
   {
    "duration": 11,
    "start_time": "2022-02-06T18:08:37.437Z"
   },
   {
    "duration": 670,
    "start_time": "2022-02-06T18:08:43.008Z"
   },
   {
    "duration": 7,
    "start_time": "2022-02-06T18:08:43.681Z"
   },
   {
    "duration": 16,
    "start_time": "2022-02-06T18:08:43.690Z"
   },
   {
    "duration": 27,
    "start_time": "2022-02-06T18:08:43.707Z"
   },
   {
    "duration": 8,
    "start_time": "2022-02-06T18:08:43.736Z"
   },
   {
    "duration": 32,
    "start_time": "2022-02-06T18:08:43.745Z"
   },
   {
    "duration": 52,
    "start_time": "2022-02-06T18:08:43.779Z"
   },
   {
    "duration": 7,
    "start_time": "2022-02-06T18:08:43.832Z"
   },
   {
    "duration": 38,
    "start_time": "2022-02-06T18:08:43.840Z"
   },
   {
    "duration": 7,
    "start_time": "2022-02-06T18:08:43.880Z"
   },
   {
    "duration": 42,
    "start_time": "2022-02-06T18:08:43.888Z"
   },
   {
    "duration": 4,
    "start_time": "2022-02-06T18:08:43.932Z"
   },
   {
    "duration": 8,
    "start_time": "2022-02-06T18:08:43.938Z"
   },
   {
    "duration": 10,
    "start_time": "2022-02-06T18:08:43.948Z"
   },
   {
    "duration": 13,
    "start_time": "2022-02-06T18:08:43.960Z"
   },
   {
    "duration": 10,
    "start_time": "2022-02-06T18:09:12.396Z"
   },
   {
    "duration": 15,
    "start_time": "2022-02-06T18:12:36.244Z"
   },
   {
    "duration": 36,
    "start_time": "2022-02-06T18:14:32.002Z"
   },
   {
    "duration": 27,
    "start_time": "2022-02-06T18:17:44.161Z"
   },
   {
    "duration": 27,
    "start_time": "2022-02-06T18:18:07.542Z"
   },
   {
    "duration": 37,
    "start_time": "2022-02-06T18:21:33.064Z"
   },
   {
    "duration": 37,
    "start_time": "2022-02-06T18:23:17.232Z"
   },
   {
    "duration": 458,
    "start_time": "2022-02-06T18:23:24.483Z"
   },
   {
    "duration": 344,
    "start_time": "2022-02-06T18:23:36.317Z"
   },
   {
    "duration": 38,
    "start_time": "2022-02-06T18:24:04.677Z"
   },
   {
    "duration": 43,
    "start_time": "2022-02-06T18:25:55.460Z"
   },
   {
    "duration": 39,
    "start_time": "2022-02-06T18:26:10.067Z"
   },
   {
    "duration": 39,
    "start_time": "2022-02-06T18:26:26.261Z"
   },
   {
    "duration": 29,
    "start_time": "2022-02-06T18:28:52.792Z"
   },
   {
    "duration": 47,
    "start_time": "2022-02-06T18:29:00.966Z"
   },
   {
    "duration": 590,
    "start_time": "2022-02-06T18:29:08.273Z"
   },
   {
    "duration": 6,
    "start_time": "2022-02-06T18:29:08.865Z"
   },
   {
    "duration": 18,
    "start_time": "2022-02-06T18:29:08.873Z"
   },
   {
    "duration": 18,
    "start_time": "2022-02-06T18:29:08.892Z"
   },
   {
    "duration": 7,
    "start_time": "2022-02-06T18:29:08.927Z"
   },
   {
    "duration": 30,
    "start_time": "2022-02-06T18:29:08.935Z"
   },
   {
    "duration": 36,
    "start_time": "2022-02-06T18:29:08.966Z"
   },
   {
    "duration": 22,
    "start_time": "2022-02-06T18:29:09.005Z"
   },
   {
    "duration": 35,
    "start_time": "2022-02-06T18:29:09.029Z"
   },
   {
    "duration": 6,
    "start_time": "2022-02-06T18:29:09.066Z"
   },
   {
    "duration": 31,
    "start_time": "2022-02-06T18:29:09.074Z"
   },
   {
    "duration": 24,
    "start_time": "2022-02-06T18:29:09.106Z"
   },
   {
    "duration": 5,
    "start_time": "2022-02-06T18:29:09.132Z"
   },
   {
    "duration": 7,
    "start_time": "2022-02-06T18:29:09.138Z"
   },
   {
    "duration": 12,
    "start_time": "2022-02-06T18:29:09.146Z"
   },
   {
    "duration": 75,
    "start_time": "2022-02-06T18:29:09.159Z"
   },
   {
    "duration": 47,
    "start_time": "2022-02-06T18:31:39.173Z"
   },
   {
    "duration": 47,
    "start_time": "2022-02-06T18:33:50.112Z"
   },
   {
    "duration": 53,
    "start_time": "2022-02-06T18:35:02.075Z"
   },
   {
    "duration": 48,
    "start_time": "2022-02-06T18:35:17.585Z"
   },
   {
    "duration": 26,
    "start_time": "2022-02-06T18:54:35.360Z"
   },
   {
    "duration": 15,
    "start_time": "2022-02-06T18:54:46.078Z"
   },
   {
    "duration": 648,
    "start_time": "2022-02-06T18:54:50.771Z"
   },
   {
    "duration": 7,
    "start_time": "2022-02-06T18:54:51.421Z"
   },
   {
    "duration": 14,
    "start_time": "2022-02-06T18:54:51.430Z"
   },
   {
    "duration": 29,
    "start_time": "2022-02-06T18:54:51.446Z"
   },
   {
    "duration": 8,
    "start_time": "2022-02-06T18:54:51.476Z"
   },
   {
    "duration": 53,
    "start_time": "2022-02-06T18:54:51.486Z"
   },
   {
    "duration": 37,
    "start_time": "2022-02-06T18:54:51.541Z"
   },
   {
    "duration": 6,
    "start_time": "2022-02-06T18:54:51.580Z"
   },
   {
    "duration": 62,
    "start_time": "2022-02-06T18:54:51.588Z"
   },
   {
    "duration": 7,
    "start_time": "2022-02-06T18:54:51.652Z"
   },
   {
    "duration": 37,
    "start_time": "2022-02-06T18:54:51.660Z"
   },
   {
    "duration": 16,
    "start_time": "2022-02-06T18:54:51.698Z"
   },
   {
    "duration": 8,
    "start_time": "2022-02-06T18:54:51.716Z"
   },
   {
    "duration": 28,
    "start_time": "2022-02-06T18:54:51.725Z"
   },
   {
    "duration": 23,
    "start_time": "2022-02-06T18:54:51.754Z"
   },
   {
    "duration": 36,
    "start_time": "2022-02-06T18:54:51.779Z"
   },
   {
    "duration": 25,
    "start_time": "2022-02-06T18:54:51.817Z"
   },
   {
    "duration": 30,
    "start_time": "2022-02-06T18:54:59.754Z"
   },
   {
    "duration": 28,
    "start_time": "2022-02-06T18:55:02.262Z"
   },
   {
    "duration": 605,
    "start_time": "2022-02-06T20:04:17.667Z"
   },
   {
    "duration": 7,
    "start_time": "2022-02-06T20:04:18.274Z"
   },
   {
    "duration": 14,
    "start_time": "2022-02-06T20:04:18.283Z"
   },
   {
    "duration": 29,
    "start_time": "2022-02-06T20:04:18.299Z"
   },
   {
    "duration": 8,
    "start_time": "2022-02-06T20:04:18.329Z"
   },
   {
    "duration": 30,
    "start_time": "2022-02-06T20:04:18.338Z"
   },
   {
    "duration": 36,
    "start_time": "2022-02-06T20:04:18.370Z"
   },
   {
    "duration": 24,
    "start_time": "2022-02-06T20:04:18.408Z"
   },
   {
    "duration": 36,
    "start_time": "2022-02-06T20:04:18.433Z"
   },
   {
    "duration": 6,
    "start_time": "2022-02-06T20:04:18.471Z"
   },
   {
    "duration": 51,
    "start_time": "2022-02-06T20:04:18.478Z"
   },
   {
    "duration": 5,
    "start_time": "2022-02-06T20:04:18.531Z"
   },
   {
    "duration": 6,
    "start_time": "2022-02-06T20:04:18.537Z"
   },
   {
    "duration": 8,
    "start_time": "2022-02-06T20:04:18.545Z"
   },
   {
    "duration": 12,
    "start_time": "2022-02-06T20:04:18.554Z"
   },
   {
    "duration": 407,
    "start_time": "2022-02-06T20:04:18.567Z"
   },
   {
    "duration": -306,
    "start_time": "2022-02-06T20:04:19.281Z"
   },
   {
    "duration": -313,
    "start_time": "2022-02-06T20:04:19.289Z"
   },
   {
    "duration": 658,
    "start_time": "2022-02-06T20:04:42.630Z"
   },
   {
    "duration": 7,
    "start_time": "2022-02-06T20:04:43.290Z"
   },
   {
    "duration": 15,
    "start_time": "2022-02-06T20:04:43.298Z"
   },
   {
    "duration": 27,
    "start_time": "2022-02-06T20:04:43.314Z"
   },
   {
    "duration": 8,
    "start_time": "2022-02-06T20:04:43.342Z"
   },
   {
    "duration": 31,
    "start_time": "2022-02-06T20:04:43.351Z"
   },
   {
    "duration": 53,
    "start_time": "2022-02-06T20:04:43.383Z"
   },
   {
    "duration": 7,
    "start_time": "2022-02-06T20:04:43.438Z"
   },
   {
    "duration": 37,
    "start_time": "2022-02-06T20:04:43.447Z"
   },
   {
    "duration": 7,
    "start_time": "2022-02-06T20:04:43.486Z"
   },
   {
    "duration": 51,
    "start_time": "2022-02-06T20:04:43.494Z"
   },
   {
    "duration": 5,
    "start_time": "2022-02-06T20:04:43.547Z"
   },
   {
    "duration": 7,
    "start_time": "2022-02-06T20:04:43.553Z"
   },
   {
    "duration": 6,
    "start_time": "2022-02-06T20:04:43.561Z"
   },
   {
    "duration": 11,
    "start_time": "2022-02-06T20:04:43.569Z"
   },
   {
    "duration": 55,
    "start_time": "2022-02-06T20:04:43.582Z"
   },
   {
    "duration": 370,
    "start_time": "2022-02-06T20:04:43.638Z"
   },
   {
    "duration": -116,
    "start_time": "2022-02-06T20:04:44.125Z"
   },
   {
    "duration": 12,
    "start_time": "2022-02-06T20:05:00.169Z"
   },
   {
    "duration": 9,
    "start_time": "2022-02-06T20:05:08.771Z"
   },
   {
    "duration": 8,
    "start_time": "2022-02-06T20:05:39.114Z"
   },
   {
    "duration": 586,
    "start_time": "2022-02-06T20:05:50.479Z"
   },
   {
    "duration": 8,
    "start_time": "2022-02-06T20:05:51.067Z"
   },
   {
    "duration": 15,
    "start_time": "2022-02-06T20:05:51.077Z"
   },
   {
    "duration": 34,
    "start_time": "2022-02-06T20:05:51.094Z"
   },
   {
    "duration": 9,
    "start_time": "2022-02-06T20:05:51.130Z"
   },
   {
    "duration": 29,
    "start_time": "2022-02-06T20:05:51.140Z"
   },
   {
    "duration": 35,
    "start_time": "2022-02-06T20:05:51.171Z"
   },
   {
    "duration": 24,
    "start_time": "2022-02-06T20:05:51.208Z"
   },
   {
    "duration": 36,
    "start_time": "2022-02-06T20:05:51.233Z"
   },
   {
    "duration": 6,
    "start_time": "2022-02-06T20:05:51.270Z"
   },
   {
    "duration": 51,
    "start_time": "2022-02-06T20:05:51.277Z"
   },
   {
    "duration": 5,
    "start_time": "2022-02-06T20:05:51.329Z"
   },
   {
    "duration": 5,
    "start_time": "2022-02-06T20:05:51.335Z"
   },
   {
    "duration": 6,
    "start_time": "2022-02-06T20:05:51.341Z"
   },
   {
    "duration": 10,
    "start_time": "2022-02-06T20:05:51.349Z"
   },
   {
    "duration": 31,
    "start_time": "2022-02-06T20:05:51.360Z"
   },
   {
    "duration": 40,
    "start_time": "2022-02-06T20:05:51.392Z"
   },
   {
    "duration": 10,
    "start_time": "2022-02-06T20:05:51.433Z"
   },
   {
    "duration": 11,
    "start_time": "2022-02-06T20:08:08.759Z"
   },
   {
    "duration": 573,
    "start_time": "2022-02-06T20:30:45.106Z"
   },
   {
    "duration": 31,
    "start_time": "2022-02-06T20:31:34.820Z"
   },
   {
    "duration": 17,
    "start_time": "2022-02-06T20:32:26.556Z"
   },
   {
    "duration": 611,
    "start_time": "2022-02-06T20:32:41.257Z"
   },
   {
    "duration": 7,
    "start_time": "2022-02-06T20:32:41.870Z"
   },
   {
    "duration": 18,
    "start_time": "2022-02-06T20:32:41.878Z"
   },
   {
    "duration": 35,
    "start_time": "2022-02-06T20:32:41.898Z"
   },
   {
    "duration": 7,
    "start_time": "2022-02-06T20:32:41.935Z"
   },
   {
    "duration": 29,
    "start_time": "2022-02-06T20:32:41.943Z"
   },
   {
    "duration": 35,
    "start_time": "2022-02-06T20:32:41.973Z"
   },
   {
    "duration": 22,
    "start_time": "2022-02-06T20:32:42.010Z"
   },
   {
    "duration": 36,
    "start_time": "2022-02-06T20:32:42.033Z"
   },
   {
    "duration": 6,
    "start_time": "2022-02-06T20:32:42.071Z"
   },
   {
    "duration": 51,
    "start_time": "2022-02-06T20:32:42.078Z"
   },
   {
    "duration": 4,
    "start_time": "2022-02-06T20:32:42.131Z"
   },
   {
    "duration": 5,
    "start_time": "2022-02-06T20:32:42.137Z"
   },
   {
    "duration": 8,
    "start_time": "2022-02-06T20:32:42.143Z"
   },
   {
    "duration": 12,
    "start_time": "2022-02-06T20:32:42.152Z"
   },
   {
    "duration": 32,
    "start_time": "2022-02-06T20:32:42.165Z"
   },
   {
    "duration": 29,
    "start_time": "2022-02-06T20:32:42.199Z"
   },
   {
    "duration": 5,
    "start_time": "2022-02-06T20:32:42.230Z"
   },
   {
    "duration": 14,
    "start_time": "2022-02-06T20:32:42.237Z"
   },
   {
    "duration": 8,
    "start_time": "2022-02-06T20:32:42.252Z"
   },
   {
    "duration": 23,
    "start_time": "2022-02-06T20:35:26.592Z"
   },
   {
    "duration": 23,
    "start_time": "2022-02-06T20:38:43.914Z"
   },
   {
    "duration": 24,
    "start_time": "2022-02-06T20:39:12.001Z"
   },
   {
    "duration": 28,
    "start_time": "2022-02-06T20:43:20.065Z"
   },
   {
    "duration": 38,
    "start_time": "2022-02-06T20:48:43.761Z"
   },
   {
    "duration": 306,
    "start_time": "2022-02-07T05:19:11.188Z"
   },
   {
    "duration": 781,
    "start_time": "2022-02-07T05:19:15.661Z"
   },
   {
    "duration": 10,
    "start_time": "2022-02-07T05:19:16.445Z"
   },
   {
    "duration": 26,
    "start_time": "2022-02-07T05:19:16.458Z"
   },
   {
    "duration": 68,
    "start_time": "2022-02-07T05:19:16.487Z"
   },
   {
    "duration": 13,
    "start_time": "2022-02-07T05:19:16.557Z"
   },
   {
    "duration": 71,
    "start_time": "2022-02-07T05:19:16.572Z"
   },
   {
    "duration": 61,
    "start_time": "2022-02-07T05:19:16.646Z"
   },
   {
    "duration": 30,
    "start_time": "2022-02-07T05:19:16.711Z"
   },
   {
    "duration": 58,
    "start_time": "2022-02-07T05:19:16.743Z"
   },
   {
    "duration": 32,
    "start_time": "2022-02-07T05:19:16.803Z"
   },
   {
    "duration": 51,
    "start_time": "2022-02-07T05:19:16.839Z"
   },
   {
    "duration": 41,
    "start_time": "2022-02-07T05:19:16.893Z"
   },
   {
    "duration": 7,
    "start_time": "2022-02-07T05:19:16.936Z"
   },
   {
    "duration": 10,
    "start_time": "2022-02-07T05:19:16.946Z"
   },
   {
    "duration": 20,
    "start_time": "2022-02-07T05:19:16.959Z"
   },
   {
    "duration": 90,
    "start_time": "2022-02-07T05:19:16.982Z"
   },
   {
    "duration": 13,
    "start_time": "2022-02-07T05:19:17.075Z"
   },
   {
    "duration": 10,
    "start_time": "2022-02-07T05:19:17.090Z"
   },
   {
    "duration": 96,
    "start_time": "2022-02-07T05:19:17.102Z"
   },
   {
    "duration": 12,
    "start_time": "2022-02-07T05:19:17.200Z"
   },
   {
    "duration": 14,
    "start_time": "2022-02-07T05:19:17.233Z"
   },
   {
    "duration": 27,
    "start_time": "2022-02-07T05:19:54.853Z"
   },
   {
    "duration": 41,
    "start_time": "2022-02-07T06:15:20.773Z"
   },
   {
    "duration": 357,
    "start_time": "2022-02-07T06:17:17.518Z"
   },
   {
    "duration": 926,
    "start_time": "2022-02-07T06:17:35.518Z"
   },
   {
    "duration": 12,
    "start_time": "2022-02-07T06:17:36.446Z"
   },
   {
    "duration": 28,
    "start_time": "2022-02-07T06:17:36.461Z"
   },
   {
    "duration": 44,
    "start_time": "2022-02-07T06:17:36.492Z"
   },
   {
    "duration": 13,
    "start_time": "2022-02-07T06:17:36.539Z"
   },
   {
    "duration": 52,
    "start_time": "2022-02-07T06:17:36.555Z"
   },
   {
    "duration": 69,
    "start_time": "2022-02-07T06:17:36.609Z"
   },
   {
    "duration": 12,
    "start_time": "2022-02-07T06:17:36.680Z"
   },
   {
    "duration": 63,
    "start_time": "2022-02-07T06:17:36.696Z"
   },
   {
    "duration": 11,
    "start_time": "2022-02-07T06:17:36.762Z"
   },
   {
    "duration": 57,
    "start_time": "2022-02-07T06:17:36.776Z"
   },
   {
    "duration": 7,
    "start_time": "2022-02-07T06:17:36.836Z"
   },
   {
    "duration": 6,
    "start_time": "2022-02-07T06:17:36.845Z"
   },
   {
    "duration": 11,
    "start_time": "2022-02-07T06:17:36.853Z"
   },
   {
    "duration": 71,
    "start_time": "2022-02-07T06:17:36.866Z"
   },
   {
    "duration": 50,
    "start_time": "2022-02-07T06:17:36.939Z"
   },
   {
    "duration": 43,
    "start_time": "2022-02-07T06:17:36.991Z"
   },
   {
    "duration": 8,
    "start_time": "2022-02-07T06:17:37.036Z"
   },
   {
    "duration": 94,
    "start_time": "2022-02-07T06:17:37.047Z"
   },
   {
    "duration": 12,
    "start_time": "2022-02-07T06:17:37.144Z"
   },
   {
    "duration": 102,
    "start_time": "2022-02-07T06:17:37.158Z"
   },
   {
    "duration": 350,
    "start_time": "2022-02-07T06:27:20.610Z"
   },
   {
    "duration": 359,
    "start_time": "2022-02-07T06:37:54.235Z"
   },
   {
    "duration": 872,
    "start_time": "2022-02-07T06:37:59.416Z"
   },
   {
    "duration": 12,
    "start_time": "2022-02-07T06:38:00.291Z"
   },
   {
    "duration": 43,
    "start_time": "2022-02-07T06:38:00.306Z"
   },
   {
    "duration": 31,
    "start_time": "2022-02-07T06:38:00.352Z"
   },
   {
    "duration": 14,
    "start_time": "2022-02-07T06:38:00.385Z"
   },
   {
    "duration": 83,
    "start_time": "2022-02-07T06:38:00.401Z"
   },
   {
    "duration": 60,
    "start_time": "2022-02-07T06:38:03.977Z"
   },
   {
    "duration": 12,
    "start_time": "2022-02-07T06:38:04.040Z"
   },
   {
    "duration": 62,
    "start_time": "2022-02-07T06:38:04.055Z"
   },
   {
    "duration": 15,
    "start_time": "2022-02-07T06:38:04.131Z"
   },
   {
    "duration": 67,
    "start_time": "2022-02-07T06:38:04.148Z"
   },
   {
    "duration": 7,
    "start_time": "2022-02-07T06:38:04.232Z"
   },
   {
    "duration": 11,
    "start_time": "2022-02-07T06:38:04.242Z"
   },
   {
    "duration": 10,
    "start_time": "2022-02-07T06:38:04.256Z"
   },
   {
    "duration": 18,
    "start_time": "2022-02-07T06:38:04.269Z"
   },
   {
    "duration": 93,
    "start_time": "2022-02-07T06:38:04.289Z"
   },
   {
    "duration": 16,
    "start_time": "2022-02-07T06:38:04.385Z"
   },
   {
    "duration": 36,
    "start_time": "2022-02-07T06:38:04.404Z"
   },
   {
    "duration": 90,
    "start_time": "2022-02-07T06:38:04.443Z"
   },
   {
    "duration": 24,
    "start_time": "2022-02-07T06:38:04.536Z"
   },
   {
    "duration": 21,
    "start_time": "2022-02-07T06:38:04.562Z"
   },
   {
    "duration": 342,
    "start_time": "2022-02-07T06:38:04.585Z"
   },
   {
    "duration": 73,
    "start_time": "2022-02-07T08:04:34.622Z"
   },
   {
    "duration": 447,
    "start_time": "2022-02-07T08:04:44.748Z"
   },
   {
    "duration": 811,
    "start_time": "2022-02-07T08:05:28.448Z"
   },
   {
    "duration": 11,
    "start_time": "2022-02-07T08:05:29.261Z"
   },
   {
    "duration": 25,
    "start_time": "2022-02-07T08:05:29.276Z"
   },
   {
    "duration": 31,
    "start_time": "2022-02-07T08:05:29.332Z"
   },
   {
    "duration": 13,
    "start_time": "2022-02-07T08:05:29.366Z"
   },
   {
    "duration": 76,
    "start_time": "2022-02-07T08:05:29.381Z"
   },
   {
    "duration": 79,
    "start_time": "2022-02-07T08:05:29.460Z"
   },
   {
    "duration": 12,
    "start_time": "2022-02-07T08:05:29.542Z"
   },
   {
    "duration": 85,
    "start_time": "2022-02-07T08:05:29.558Z"
   },
   {
    "duration": 12,
    "start_time": "2022-02-07T08:05:29.646Z"
   },
   {
    "duration": 50,
    "start_time": "2022-02-07T08:05:29.660Z"
   },
   {
    "duration": 25,
    "start_time": "2022-02-07T08:05:29.712Z"
   },
   {
    "duration": 6,
    "start_time": "2022-02-07T08:05:29.739Z"
   },
   {
    "duration": 8,
    "start_time": "2022-02-07T08:05:29.747Z"
   },
   {
    "duration": 18,
    "start_time": "2022-02-07T08:05:29.757Z"
   },
   {
    "duration": 100,
    "start_time": "2022-02-07T08:05:29.777Z"
   },
   {
    "duration": 14,
    "start_time": "2022-02-07T08:05:29.879Z"
   },
   {
    "duration": 8,
    "start_time": "2022-02-07T08:05:29.895Z"
   },
   {
    "duration": 87,
    "start_time": "2022-02-07T08:05:29.905Z"
   },
   {
    "duration": 37,
    "start_time": "2022-02-07T08:05:29.995Z"
   },
   {
    "duration": 15,
    "start_time": "2022-02-07T08:05:30.035Z"
   },
   {
    "duration": 530,
    "start_time": "2022-02-07T08:05:30.053Z"
   },
   {
    "duration": 407,
    "start_time": "2022-02-07T08:07:11.131Z"
   },
   {
    "duration": 469,
    "start_time": "2022-02-07T08:11:37.444Z"
   },
   {
    "duration": 910,
    "start_time": "2022-02-07T08:38:17.182Z"
   },
   {
    "duration": 1273,
    "start_time": "2022-02-07T08:38:32.593Z"
   },
   {
    "duration": 457,
    "start_time": "2022-02-07T08:39:51.140Z"
   },
   {
    "duration": 810,
    "start_time": "2022-02-07T08:39:57.124Z"
   },
   {
    "duration": 11,
    "start_time": "2022-02-07T08:39:57.937Z"
   },
   {
    "duration": 28,
    "start_time": "2022-02-07T08:39:57.957Z"
   },
   {
    "duration": 64,
    "start_time": "2022-02-07T08:39:57.988Z"
   },
   {
    "duration": 14,
    "start_time": "2022-02-07T08:39:58.055Z"
   },
   {
    "duration": 80,
    "start_time": "2022-02-07T08:39:58.072Z"
   },
   {
    "duration": 58,
    "start_time": "2022-02-07T08:39:58.156Z"
   },
   {
    "duration": 24,
    "start_time": "2022-02-07T08:39:58.217Z"
   },
   {
    "duration": 59,
    "start_time": "2022-02-07T08:39:58.244Z"
   },
   {
    "duration": 32,
    "start_time": "2022-02-07T08:39:58.305Z"
   },
   {
    "duration": 49,
    "start_time": "2022-02-07T08:39:58.340Z"
   },
   {
    "duration": 8,
    "start_time": "2022-02-07T08:39:58.391Z"
   },
   {
    "duration": 31,
    "start_time": "2022-02-07T08:39:58.401Z"
   },
   {
    "duration": 17,
    "start_time": "2022-02-07T08:39:58.435Z"
   },
   {
    "duration": 23,
    "start_time": "2022-02-07T08:39:58.455Z"
   },
   {
    "duration": 71,
    "start_time": "2022-02-07T08:39:58.480Z"
   },
   {
    "duration": 14,
    "start_time": "2022-02-07T08:39:58.554Z"
   },
   {
    "duration": 10,
    "start_time": "2022-02-07T08:39:58.571Z"
   },
   {
    "duration": 103,
    "start_time": "2022-02-07T08:39:58.584Z"
   },
   {
    "duration": 12,
    "start_time": "2022-02-07T08:39:58.689Z"
   },
   {
    "duration": 38,
    "start_time": "2022-02-07T08:39:58.704Z"
   },
   {
    "duration": 515,
    "start_time": "2022-02-07T08:39:58.746Z"
   },
   {
    "duration": 454,
    "start_time": "2022-02-07T08:40:20.605Z"
   },
   {
    "duration": 422,
    "start_time": "2022-02-07T08:41:13.171Z"
   },
   {
    "duration": 406,
    "start_time": "2022-02-07T08:42:37.005Z"
   },
   {
    "duration": 388,
    "start_time": "2022-02-07T08:43:42.119Z"
   },
   {
    "duration": 5,
    "start_time": "2022-02-07T08:44:15.412Z"
   },
   {
    "duration": 400,
    "start_time": "2022-02-07T08:44:27.423Z"
   },
   {
    "duration": 384,
    "start_time": "2022-02-07T08:45:23.641Z"
   },
   {
    "duration": 380,
    "start_time": "2022-02-07T08:46:15.027Z"
   },
   {
    "duration": 391,
    "start_time": "2022-02-07T08:46:32.785Z"
   },
   {
    "duration": 245,
    "start_time": "2022-02-07T09:54:14.538Z"
   },
   {
    "duration": 792,
    "start_time": "2022-02-07T09:54:28.963Z"
   },
   {
    "duration": 11,
    "start_time": "2022-02-07T09:54:29.757Z"
   },
   {
    "duration": 26,
    "start_time": "2022-02-07T09:54:29.771Z"
   },
   {
    "duration": 59,
    "start_time": "2022-02-07T09:54:29.799Z"
   },
   {
    "duration": 13,
    "start_time": "2022-02-07T09:54:29.860Z"
   },
   {
    "duration": 78,
    "start_time": "2022-02-07T09:54:29.876Z"
   },
   {
    "duration": 60,
    "start_time": "2022-02-07T09:54:29.956Z"
   },
   {
    "duration": 12,
    "start_time": "2022-02-07T09:54:30.032Z"
   },
   {
    "duration": 62,
    "start_time": "2022-02-07T09:54:30.047Z"
   },
   {
    "duration": 28,
    "start_time": "2022-02-07T09:54:30.111Z"
   },
   {
    "duration": 50,
    "start_time": "2022-02-07T09:54:30.141Z"
   },
   {
    "duration": 10,
    "start_time": "2022-02-07T09:54:30.194Z"
   },
   {
    "duration": 8,
    "start_time": "2022-02-07T09:54:30.233Z"
   },
   {
    "duration": 15,
    "start_time": "2022-02-07T09:54:30.243Z"
   },
   {
    "duration": 29,
    "start_time": "2022-02-07T09:54:30.260Z"
   },
   {
    "duration": 75,
    "start_time": "2022-02-07T09:54:30.291Z"
   },
   {
    "duration": 13,
    "start_time": "2022-02-07T09:54:30.368Z"
   },
   {
    "duration": 50,
    "start_time": "2022-02-07T09:54:30.384Z"
   },
   {
    "duration": 409,
    "start_time": "2022-02-07T09:54:30.437Z"
   },
   {
    "duration": 413,
    "start_time": "2022-02-07T09:54:30.848Z"
   },
   {
    "duration": 411,
    "start_time": "2022-02-07T09:55:07.034Z"
   },
   {
    "duration": 645,
    "start_time": "2022-02-07T12:02:38.976Z"
   },
   {
    "duration": 391,
    "start_time": "2022-02-07T12:02:49.709Z"
   },
   {
    "duration": 652,
    "start_time": "2022-02-07T12:03:09.247Z"
   },
   {
    "duration": 385,
    "start_time": "2022-02-07T12:03:17.193Z"
   },
   {
    "duration": 407,
    "start_time": "2022-02-07T12:13:27.628Z"
   },
   {
    "duration": 251,
    "start_time": "2022-02-07T12:49:22.399Z"
   },
   {
    "duration": 40,
    "start_time": "2022-02-07T12:49:32.999Z"
   },
   {
    "duration": 54,
    "start_time": "2022-02-07T12:49:43.269Z"
   },
   {
    "duration": 63,
    "start_time": "2022-02-07T12:50:37.257Z"
   },
   {
    "duration": 64,
    "start_time": "2022-02-07T12:52:02.318Z"
   },
   {
    "duration": 63,
    "start_time": "2022-02-07T12:52:11.229Z"
   },
   {
    "duration": 425,
    "start_time": "2022-02-07T12:52:17.964Z"
   },
   {
    "duration": 64,
    "start_time": "2022-02-07T12:52:22.782Z"
   },
   {
    "duration": 887,
    "start_time": "2022-02-07T12:59:19.354Z"
   },
   {
    "duration": 408,
    "start_time": "2022-02-07T12:59:43.653Z"
   },
   {
    "duration": 936,
    "start_time": "2022-02-07T13:00:17.268Z"
   },
   {
    "duration": 1133,
    "start_time": "2022-02-07T13:00:37.671Z"
   },
   {
    "duration": 956,
    "start_time": "2022-02-07T13:01:39.777Z"
   },
   {
    "duration": 933,
    "start_time": "2022-02-07T13:07:18.270Z"
   },
   {
    "duration": 401,
    "start_time": "2022-02-07T13:07:49.845Z"
   },
   {
    "duration": 740,
    "start_time": "2022-02-07T13:08:02.068Z"
   },
   {
    "duration": 406,
    "start_time": "2022-02-07T13:08:45.019Z"
   },
   {
    "duration": 279,
    "start_time": "2022-02-07T13:09:37.818Z"
   },
   {
    "duration": 788,
    "start_time": "2022-02-07T13:09:45.878Z"
   },
   {
    "duration": 14,
    "start_time": "2022-02-07T13:09:46.669Z"
   },
   {
    "duration": 57,
    "start_time": "2022-02-07T13:09:46.686Z"
   },
   {
    "duration": 32,
    "start_time": "2022-02-07T13:09:46.746Z"
   },
   {
    "duration": 13,
    "start_time": "2022-02-07T13:09:46.781Z"
   },
   {
    "duration": 87,
    "start_time": "2022-02-07T13:09:46.797Z"
   },
   {
    "duration": 118,
    "start_time": "2022-02-07T13:09:46.887Z"
   },
   {
    "duration": 25,
    "start_time": "2022-02-07T13:09:47.009Z"
   },
   {
    "duration": 107,
    "start_time": "2022-02-07T13:09:47.039Z"
   },
   {
    "duration": 15,
    "start_time": "2022-02-07T13:09:47.149Z"
   },
   {
    "duration": 76,
    "start_time": "2022-02-07T13:09:47.166Z"
   },
   {
    "duration": 7,
    "start_time": "2022-02-07T13:09:47.245Z"
   },
   {
    "duration": 9,
    "start_time": "2022-02-07T13:09:47.255Z"
   },
   {
    "duration": 14,
    "start_time": "2022-02-07T13:09:47.266Z"
   },
   {
    "duration": 19,
    "start_time": "2022-02-07T13:09:47.282Z"
   },
   {
    "duration": 101,
    "start_time": "2022-02-07T13:09:47.303Z"
   },
   {
    "duration": 41,
    "start_time": "2022-02-07T13:09:47.407Z"
   },
   {
    "duration": 16,
    "start_time": "2022-02-07T13:09:47.452Z"
   },
   {
    "duration": 426,
    "start_time": "2022-02-07T13:09:47.471Z"
   },
   {
    "duration": 459,
    "start_time": "2022-02-07T13:09:47.899Z"
   },
   {
    "duration": 632,
    "start_time": "2022-02-08T12:55:44.069Z"
   },
   {
    "duration": 7,
    "start_time": "2022-02-08T12:55:44.703Z"
   },
   {
    "duration": 16,
    "start_time": "2022-02-08T12:55:44.712Z"
   },
   {
    "duration": 17,
    "start_time": "2022-02-08T12:55:44.730Z"
   },
   {
    "duration": 8,
    "start_time": "2022-02-08T12:55:44.749Z"
   },
   {
    "duration": 29,
    "start_time": "2022-02-08T12:55:44.758Z"
   },
   {
    "duration": 64,
    "start_time": "2022-02-08T12:55:44.789Z"
   },
   {
    "duration": 7,
    "start_time": "2022-02-08T12:55:44.855Z"
   },
   {
    "duration": 38,
    "start_time": "2022-02-08T12:55:44.864Z"
   },
   {
    "duration": 25,
    "start_time": "2022-02-08T12:55:44.903Z"
   },
   {
    "duration": 30,
    "start_time": "2022-02-08T12:55:44.929Z"
   },
   {
    "duration": 5,
    "start_time": "2022-02-08T12:55:44.961Z"
   },
   {
    "duration": 8,
    "start_time": "2022-02-08T12:55:44.967Z"
   },
   {
    "duration": 6,
    "start_time": "2022-02-08T12:55:44.977Z"
   },
   {
    "duration": 12,
    "start_time": "2022-02-08T12:55:44.985Z"
   },
   {
    "duration": 59,
    "start_time": "2022-02-08T12:55:44.999Z"
   },
   {
    "duration": 10,
    "start_time": "2022-02-08T12:55:45.060Z"
   },
   {
    "duration": 17,
    "start_time": "2022-02-08T12:55:45.071Z"
   },
   {
    "duration": 231,
    "start_time": "2022-02-08T12:55:45.090Z"
   },
   {
    "duration": 222,
    "start_time": "2022-02-08T12:55:45.323Z"
   },
   {
    "duration": 418,
    "start_time": "2022-02-08T12:55:45.547Z"
   },
   {
    "duration": 338,
    "start_time": "2022-02-08T12:56:19.190Z"
   },
   {
    "duration": 359,
    "start_time": "2022-02-08T12:56:37.002Z"
   },
   {
    "duration": 637,
    "start_time": "2022-02-08T12:56:43.252Z"
   },
   {
    "duration": 7,
    "start_time": "2022-02-08T12:56:43.891Z"
   },
   {
    "duration": 15,
    "start_time": "2022-02-08T12:56:43.900Z"
   },
   {
    "duration": 19,
    "start_time": "2022-02-08T12:56:43.928Z"
   },
   {
    "duration": 8,
    "start_time": "2022-02-08T12:56:43.949Z"
   },
   {
    "duration": 35,
    "start_time": "2022-02-08T12:56:43.958Z"
   },
   {
    "duration": 53,
    "start_time": "2022-02-08T12:56:43.995Z"
   },
   {
    "duration": 7,
    "start_time": "2022-02-08T12:56:44.050Z"
   },
   {
    "duration": 39,
    "start_time": "2022-02-08T12:56:44.059Z"
   },
   {
    "duration": 7,
    "start_time": "2022-02-08T12:56:44.099Z"
   },
   {
    "duration": 43,
    "start_time": "2022-02-08T12:56:44.128Z"
   },
   {
    "duration": 6,
    "start_time": "2022-02-08T12:56:44.173Z"
   },
   {
    "duration": 6,
    "start_time": "2022-02-08T12:56:44.181Z"
   },
   {
    "duration": 7,
    "start_time": "2022-02-08T12:56:44.188Z"
   },
   {
    "duration": 36,
    "start_time": "2022-02-08T12:56:44.197Z"
   },
   {
    "duration": 34,
    "start_time": "2022-02-08T12:56:44.234Z"
   },
   {
    "duration": 9,
    "start_time": "2022-02-08T12:56:44.270Z"
   },
   {
    "duration": 20,
    "start_time": "2022-02-08T12:56:44.280Z"
   },
   {
    "duration": 240,
    "start_time": "2022-02-08T12:56:44.302Z"
   },
   {
    "duration": 223,
    "start_time": "2022-02-08T12:56:44.544Z"
   },
   {
    "duration": 382,
    "start_time": "2022-02-08T12:56:44.768Z"
   },
   {
    "duration": 375,
    "start_time": "2022-02-08T12:57:18.747Z"
   },
   {
    "duration": 653,
    "start_time": "2022-02-08T12:57:26.020Z"
   },
   {
    "duration": 7,
    "start_time": "2022-02-08T12:57:26.675Z"
   },
   {
    "duration": 16,
    "start_time": "2022-02-08T12:57:26.684Z"
   },
   {
    "duration": 27,
    "start_time": "2022-02-08T12:57:26.702Z"
   },
   {
    "duration": 9,
    "start_time": "2022-02-08T12:57:26.730Z"
   },
   {
    "duration": 33,
    "start_time": "2022-02-08T12:57:26.740Z"
   },
   {
    "duration": 54,
    "start_time": "2022-02-08T12:57:26.774Z"
   },
   {
    "duration": 7,
    "start_time": "2022-02-08T12:57:26.830Z"
   },
   {
    "duration": 36,
    "start_time": "2022-02-08T12:57:26.839Z"
   },
   {
    "duration": 6,
    "start_time": "2022-02-08T12:57:26.877Z"
   },
   {
    "duration": 47,
    "start_time": "2022-02-08T12:57:26.884Z"
   },
   {
    "duration": 5,
    "start_time": "2022-02-08T12:57:26.932Z"
   },
   {
    "duration": 4,
    "start_time": "2022-02-08T12:57:26.939Z"
   },
   {
    "duration": 7,
    "start_time": "2022-02-08T12:57:26.945Z"
   },
   {
    "duration": 11,
    "start_time": "2022-02-08T12:57:26.954Z"
   },
   {
    "duration": 33,
    "start_time": "2022-02-08T12:57:26.967Z"
   },
   {
    "duration": 35,
    "start_time": "2022-02-08T12:57:27.002Z"
   },
   {
    "duration": 19,
    "start_time": "2022-02-08T12:57:27.039Z"
   },
   {
    "duration": 235,
    "start_time": "2022-02-08T12:57:27.060Z"
   },
   {
    "duration": 221,
    "start_time": "2022-02-08T12:57:27.296Z"
   },
   {
    "duration": 373,
    "start_time": "2022-02-08T12:57:27.519Z"
   },
   {
    "duration": 479,
    "start_time": "2022-02-08T12:57:43.078Z"
   },
   {
    "duration": 362,
    "start_time": "2022-02-08T12:57:54.633Z"
   },
   {
    "duration": 641,
    "start_time": "2022-02-08T12:58:00.157Z"
   },
   {
    "duration": 7,
    "start_time": "2022-02-08T12:58:00.800Z"
   },
   {
    "duration": 21,
    "start_time": "2022-02-08T12:58:00.809Z"
   },
   {
    "duration": 19,
    "start_time": "2022-02-08T12:58:00.831Z"
   },
   {
    "duration": 8,
    "start_time": "2022-02-08T12:58:00.852Z"
   },
   {
    "duration": 52,
    "start_time": "2022-02-08T12:58:00.861Z"
   },
   {
    "duration": 44,
    "start_time": "2022-02-08T12:58:00.915Z"
   },
   {
    "duration": 8,
    "start_time": "2022-02-08T12:58:00.961Z"
   },
   {
    "duration": 58,
    "start_time": "2022-02-08T12:58:00.971Z"
   },
   {
    "duration": 8,
    "start_time": "2022-02-08T12:58:01.031Z"
   },
   {
    "duration": 38,
    "start_time": "2022-02-08T12:58:01.040Z"
   },
   {
    "duration": 5,
    "start_time": "2022-02-08T12:58:01.080Z"
   },
   {
    "duration": 14,
    "start_time": "2022-02-08T12:58:01.086Z"
   },
   {
    "duration": 16,
    "start_time": "2022-02-08T12:58:01.102Z"
   },
   {
    "duration": 17,
    "start_time": "2022-02-08T12:58:01.119Z"
   },
   {
    "duration": 33,
    "start_time": "2022-02-08T12:58:01.138Z"
   },
   {
    "duration": 9,
    "start_time": "2022-02-08T12:58:01.173Z"
   },
   {
    "duration": 20,
    "start_time": "2022-02-08T12:58:01.183Z"
   },
   {
    "duration": 234,
    "start_time": "2022-02-08T12:58:01.205Z"
   },
   {
    "duration": 222,
    "start_time": "2022-02-08T12:58:01.440Z"
   },
   {
    "duration": 378,
    "start_time": "2022-02-08T12:58:01.663Z"
   },
   {
    "duration": 344,
    "start_time": "2022-02-08T12:58:14.940Z"
   },
   {
    "duration": 346,
    "start_time": "2022-02-08T12:58:21.311Z"
   },
   {
    "duration": 668,
    "start_time": "2022-02-08T12:58:36.831Z"
   },
   {
    "duration": 8,
    "start_time": "2022-02-08T12:58:37.501Z"
   },
   {
    "duration": 20,
    "start_time": "2022-02-08T12:58:37.511Z"
   },
   {
    "duration": 20,
    "start_time": "2022-02-08T12:58:37.533Z"
   },
   {
    "duration": 8,
    "start_time": "2022-02-08T12:58:37.555Z"
   },
   {
    "duration": 32,
    "start_time": "2022-02-08T12:58:37.565Z"
   },
   {
    "duration": 62,
    "start_time": "2022-02-08T12:58:37.598Z"
   },
   {
    "duration": 7,
    "start_time": "2022-02-08T12:58:37.662Z"
   },
   {
    "duration": 57,
    "start_time": "2022-02-08T12:58:37.671Z"
   },
   {
    "duration": 8,
    "start_time": "2022-02-08T12:58:37.729Z"
   },
   {
    "duration": 34,
    "start_time": "2022-02-08T12:58:37.738Z"
   },
   {
    "duration": 5,
    "start_time": "2022-02-08T12:58:37.773Z"
   },
   {
    "duration": 7,
    "start_time": "2022-02-08T12:58:37.779Z"
   },
   {
    "duration": 9,
    "start_time": "2022-02-08T12:58:37.787Z"
   },
   {
    "duration": 33,
    "start_time": "2022-02-08T12:58:37.797Z"
   },
   {
    "duration": 31,
    "start_time": "2022-02-08T12:58:37.832Z"
   },
   {
    "duration": 9,
    "start_time": "2022-02-08T12:58:37.865Z"
   },
   {
    "duration": 380,
    "start_time": "2022-02-08T12:58:37.875Z"
   },
   {
    "duration": -112,
    "start_time": "2022-02-08T12:58:38.369Z"
   },
   {
    "duration": -113,
    "start_time": "2022-02-08T12:58:38.371Z"
   },
   {
    "duration": -116,
    "start_time": "2022-02-08T12:58:38.375Z"
   },
   {
    "duration": 359,
    "start_time": "2022-02-08T12:59:00.140Z"
   },
   {
    "duration": 646,
    "start_time": "2022-02-08T12:59:16.937Z"
   },
   {
    "duration": 7,
    "start_time": "2022-02-08T12:59:17.584Z"
   },
   {
    "duration": 25,
    "start_time": "2022-02-08T12:59:17.593Z"
   },
   {
    "duration": 21,
    "start_time": "2022-02-08T12:59:17.620Z"
   },
   {
    "duration": 9,
    "start_time": "2022-02-08T12:59:17.643Z"
   },
   {
    "duration": 50,
    "start_time": "2022-02-08T12:59:17.654Z"
   },
   {
    "duration": 44,
    "start_time": "2022-02-08T12:59:17.706Z"
   },
   {
    "duration": 7,
    "start_time": "2022-02-08T12:59:17.752Z"
   },
   {
    "duration": 37,
    "start_time": "2022-02-08T12:59:17.761Z"
   },
   {
    "duration": 28,
    "start_time": "2022-02-08T12:59:17.800Z"
   },
   {
    "duration": 32,
    "start_time": "2022-02-08T12:59:17.830Z"
   },
   {
    "duration": 6,
    "start_time": "2022-02-08T12:59:17.864Z"
   },
   {
    "duration": 6,
    "start_time": "2022-02-08T12:59:17.871Z"
   },
   {
    "duration": 7,
    "start_time": "2022-02-08T12:59:17.878Z"
   },
   {
    "duration": 11,
    "start_time": "2022-02-08T12:59:17.887Z"
   },
   {
    "duration": 33,
    "start_time": "2022-02-08T12:59:17.927Z"
   },
   {
    "duration": 10,
    "start_time": "2022-02-08T12:59:17.962Z"
   },
   {
    "duration": 18,
    "start_time": "2022-02-08T12:59:17.973Z"
   },
   {
    "duration": 231,
    "start_time": "2022-02-08T12:59:17.992Z"
   },
   {
    "duration": 222,
    "start_time": "2022-02-08T12:59:18.224Z"
   },
   {
    "duration": 356,
    "start_time": "2022-02-08T12:59:18.447Z"
   },
   {
    "duration": 321,
    "start_time": "2022-02-08T12:59:55.261Z"
   },
   {
    "duration": 395,
    "start_time": "2022-02-08T12:59:59.759Z"
   },
   {
    "duration": 666,
    "start_time": "2022-02-08T13:00:10.007Z"
   },
   {
    "duration": 6,
    "start_time": "2022-02-08T13:00:10.675Z"
   },
   {
    "duration": 15,
    "start_time": "2022-02-08T13:00:10.683Z"
   },
   {
    "duration": 31,
    "start_time": "2022-02-08T13:00:10.699Z"
   },
   {
    "duration": 7,
    "start_time": "2022-02-08T13:00:10.732Z"
   },
   {
    "duration": 33,
    "start_time": "2022-02-08T13:00:10.740Z"
   },
   {
    "duration": 36,
    "start_time": "2022-02-08T13:00:10.774Z"
   },
   {
    "duration": 7,
    "start_time": "2022-02-08T13:00:10.828Z"
   },
   {
    "duration": 36,
    "start_time": "2022-02-08T13:00:10.838Z"
   },
   {
    "duration": 6,
    "start_time": "2022-02-08T13:00:10.876Z"
   },
   {
    "duration": 56,
    "start_time": "2022-02-08T13:00:10.884Z"
   },
   {
    "duration": 5,
    "start_time": "2022-02-08T13:00:10.941Z"
   },
   {
    "duration": 4,
    "start_time": "2022-02-08T13:00:10.947Z"
   },
   {
    "duration": 8,
    "start_time": "2022-02-08T13:00:10.952Z"
   },
   {
    "duration": 11,
    "start_time": "2022-02-08T13:00:10.961Z"
   },
   {
    "duration": 54,
    "start_time": "2022-02-08T13:00:10.973Z"
   },
   {
    "duration": 11,
    "start_time": "2022-02-08T13:00:11.029Z"
   },
   {
    "duration": 17,
    "start_time": "2022-02-08T13:00:11.041Z"
   },
   {
    "duration": 225,
    "start_time": "2022-02-08T13:00:11.059Z"
   },
   {
    "duration": 213,
    "start_time": "2022-02-08T13:00:11.286Z"
   },
   {
    "duration": 416,
    "start_time": "2022-02-08T13:00:11.501Z"
   },
   {
    "duration": 327,
    "start_time": "2022-02-08T13:00:55.669Z"
   },
   {
    "duration": 341,
    "start_time": "2022-02-08T13:01:02.585Z"
   },
   {
    "duration": 656,
    "start_time": "2022-02-08T13:01:07.029Z"
   },
   {
    "duration": 7,
    "start_time": "2022-02-08T13:01:07.687Z"
   },
   {
    "duration": 18,
    "start_time": "2022-02-08T13:01:07.696Z"
   },
   {
    "duration": 28,
    "start_time": "2022-02-08T13:01:07.716Z"
   },
   {
    "duration": 8,
    "start_time": "2022-02-08T13:01:07.746Z"
   },
   {
    "duration": 33,
    "start_time": "2022-02-08T13:01:07.756Z"
   },
   {
    "duration": 62,
    "start_time": "2022-02-08T13:01:07.791Z"
   },
   {
    "duration": 9,
    "start_time": "2022-02-08T13:01:07.855Z"
   },
   {
    "duration": 63,
    "start_time": "2022-02-08T13:01:07.866Z"
   },
   {
    "duration": 9,
    "start_time": "2022-02-08T13:01:07.931Z"
   },
   {
    "duration": 40,
    "start_time": "2022-02-08T13:01:07.942Z"
   },
   {
    "duration": 6,
    "start_time": "2022-02-08T13:01:07.984Z"
   },
   {
    "duration": 6,
    "start_time": "2022-02-08T13:01:07.991Z"
   },
   {
    "duration": 29,
    "start_time": "2022-02-08T13:01:07.999Z"
   },
   {
    "duration": 16,
    "start_time": "2022-02-08T13:01:08.030Z"
   },
   {
    "duration": 34,
    "start_time": "2022-02-08T13:01:08.048Z"
   },
   {
    "duration": 9,
    "start_time": "2022-02-08T13:01:08.083Z"
   },
   {
    "duration": 468,
    "start_time": "2022-02-08T13:01:08.094Z"
   },
   {
    "duration": -128,
    "start_time": "2022-02-08T13:01:08.692Z"
   },
   {
    "duration": -133,
    "start_time": "2022-02-08T13:01:08.698Z"
   },
   {
    "duration": -142,
    "start_time": "2022-02-08T13:01:08.708Z"
   },
   {
    "duration": 332,
    "start_time": "2022-02-08T13:01:22.338Z"
   },
   {
    "duration": 392,
    "start_time": "2022-02-08T13:01:32.279Z"
   },
   {
    "duration": 661,
    "start_time": "2022-02-08T13:01:37.431Z"
   },
   {
    "duration": 7,
    "start_time": "2022-02-08T13:01:38.093Z"
   },
   {
    "duration": 26,
    "start_time": "2022-02-08T13:01:38.104Z"
   },
   {
    "duration": 20,
    "start_time": "2022-02-08T13:01:38.131Z"
   },
   {
    "duration": 8,
    "start_time": "2022-02-08T13:01:38.152Z"
   },
   {
    "duration": 31,
    "start_time": "2022-02-08T13:01:38.161Z"
   },
   {
    "duration": 64,
    "start_time": "2022-02-08T13:01:38.195Z"
   },
   {
    "duration": 7,
    "start_time": "2022-02-08T13:01:38.261Z"
   },
   {
    "duration": 39,
    "start_time": "2022-02-08T13:01:38.269Z"
   },
   {
    "duration": 25,
    "start_time": "2022-02-08T13:01:38.310Z"
   },
   {
    "duration": 35,
    "start_time": "2022-02-08T13:01:38.337Z"
   },
   {
    "duration": 5,
    "start_time": "2022-02-08T13:01:38.373Z"
   },
   {
    "duration": 4,
    "start_time": "2022-02-08T13:01:38.379Z"
   },
   {
    "duration": 7,
    "start_time": "2022-02-08T13:01:38.385Z"
   },
   {
    "duration": 11,
    "start_time": "2022-02-08T13:01:38.393Z"
   },
   {
    "duration": 58,
    "start_time": "2022-02-08T13:01:38.405Z"
   },
   {
    "duration": 9,
    "start_time": "2022-02-08T13:01:38.465Z"
   },
   {
    "duration": 383,
    "start_time": "2022-02-08T13:01:38.475Z"
   },
   {
    "duration": -105,
    "start_time": "2022-02-08T13:01:38.964Z"
   },
   {
    "duration": -113,
    "start_time": "2022-02-08T13:01:38.973Z"
   },
   {
    "duration": -117,
    "start_time": "2022-02-08T13:01:38.978Z"
   },
   {
    "duration": 333,
    "start_time": "2022-02-08T13:02:04.770Z"
   },
   {
    "duration": 615,
    "start_time": "2022-02-08T13:02:13.398Z"
   },
   {
    "duration": 7,
    "start_time": "2022-02-08T13:02:14.014Z"
   },
   {
    "duration": 24,
    "start_time": "2022-02-08T13:02:14.023Z"
   },
   {
    "duration": 26,
    "start_time": "2022-02-08T13:02:14.049Z"
   },
   {
    "duration": 10,
    "start_time": "2022-02-08T13:02:14.077Z"
   },
   {
    "duration": 44,
    "start_time": "2022-02-08T13:02:14.088Z"
   },
   {
    "duration": 41,
    "start_time": "2022-02-08T13:02:14.134Z"
   },
   {
    "duration": 7,
    "start_time": "2022-02-08T13:02:14.177Z"
   },
   {
    "duration": 61,
    "start_time": "2022-02-08T13:02:14.186Z"
   },
   {
    "duration": 7,
    "start_time": "2022-02-08T13:02:14.248Z"
   },
   {
    "duration": 31,
    "start_time": "2022-02-08T13:02:14.256Z"
   },
   {
    "duration": 5,
    "start_time": "2022-02-08T13:02:14.288Z"
   },
   {
    "duration": 33,
    "start_time": "2022-02-08T13:02:14.295Z"
   },
   {
    "duration": 4,
    "start_time": "2022-02-08T13:02:14.330Z"
   },
   {
    "duration": 19,
    "start_time": "2022-02-08T13:02:14.336Z"
   },
   {
    "duration": 32,
    "start_time": "2022-02-08T13:02:14.356Z"
   },
   {
    "duration": 9,
    "start_time": "2022-02-08T13:02:14.390Z"
   },
   {
    "duration": 36,
    "start_time": "2022-02-08T13:02:14.401Z"
   },
   {
    "duration": 224,
    "start_time": "2022-02-08T13:02:14.439Z"
   },
   {
    "duration": 223,
    "start_time": "2022-02-08T13:02:14.664Z"
   },
   {
    "duration": 446,
    "start_time": "2022-02-08T13:02:14.889Z"
   },
   {
    "duration": 627,
    "start_time": "2022-02-08T13:20:22.117Z"
   },
   {
    "duration": 701,
    "start_time": "2022-02-08T13:20:27.992Z"
   },
   {
    "duration": 6,
    "start_time": "2022-02-08T13:20:28.695Z"
   },
   {
    "duration": 17,
    "start_time": "2022-02-08T13:20:28.703Z"
   },
   {
    "duration": 20,
    "start_time": "2022-02-08T13:20:28.721Z"
   },
   {
    "duration": 7,
    "start_time": "2022-02-08T13:20:28.743Z"
   },
   {
    "duration": 28,
    "start_time": "2022-02-08T13:20:28.752Z"
   },
   {
    "duration": 61,
    "start_time": "2022-02-08T13:20:28.782Z"
   },
   {
    "duration": 7,
    "start_time": "2022-02-08T13:20:28.844Z"
   },
   {
    "duration": 35,
    "start_time": "2022-02-08T13:20:28.853Z"
   },
   {
    "duration": 6,
    "start_time": "2022-02-08T13:20:28.890Z"
   },
   {
    "duration": 55,
    "start_time": "2022-02-08T13:20:28.898Z"
   },
   {
    "duration": 4,
    "start_time": "2022-02-08T13:20:28.955Z"
   },
   {
    "duration": 5,
    "start_time": "2022-02-08T13:20:28.960Z"
   },
   {
    "duration": 8,
    "start_time": "2022-02-08T13:20:28.966Z"
   },
   {
    "duration": 10,
    "start_time": "2022-02-08T13:20:28.976Z"
   },
   {
    "duration": 55,
    "start_time": "2022-02-08T13:20:28.988Z"
   },
   {
    "duration": 9,
    "start_time": "2022-02-08T13:20:29.045Z"
   },
   {
    "duration": 19,
    "start_time": "2022-02-08T13:20:29.055Z"
   },
   {
    "duration": 248,
    "start_time": "2022-02-08T13:20:29.076Z"
   },
   {
    "duration": 233,
    "start_time": "2022-02-08T13:20:29.327Z"
   },
   {
    "duration": 398,
    "start_time": "2022-02-08T13:20:29.562Z"
   },
   {
    "duration": 324,
    "start_time": "2022-02-08T13:21:20.838Z"
   },
   {
    "duration": 654,
    "start_time": "2022-02-08T13:21:25.852Z"
   },
   {
    "duration": 6,
    "start_time": "2022-02-08T13:21:26.508Z"
   },
   {
    "duration": 17,
    "start_time": "2022-02-08T13:21:26.515Z"
   },
   {
    "duration": 19,
    "start_time": "2022-02-08T13:21:26.533Z"
   },
   {
    "duration": 7,
    "start_time": "2022-02-08T13:21:26.553Z"
   },
   {
    "duration": 28,
    "start_time": "2022-02-08T13:21:26.562Z"
   },
   {
    "duration": 62,
    "start_time": "2022-02-08T13:21:26.591Z"
   },
   {
    "duration": 7,
    "start_time": "2022-02-08T13:21:26.656Z"
   },
   {
    "duration": 36,
    "start_time": "2022-02-08T13:21:26.664Z"
   },
   {
    "duration": 6,
    "start_time": "2022-02-08T13:21:26.702Z"
   },
   {
    "duration": 52,
    "start_time": "2022-02-08T13:21:26.709Z"
   },
   {
    "duration": 4,
    "start_time": "2022-02-08T13:21:26.762Z"
   },
   {
    "duration": 3,
    "start_time": "2022-02-08T13:21:26.768Z"
   },
   {
    "duration": 7,
    "start_time": "2022-02-08T13:21:26.773Z"
   },
   {
    "duration": 11,
    "start_time": "2022-02-08T13:21:26.782Z"
   },
   {
    "duration": 65,
    "start_time": "2022-02-08T13:21:26.794Z"
   },
   {
    "duration": 9,
    "start_time": "2022-02-08T13:21:26.860Z"
   },
   {
    "duration": 20,
    "start_time": "2022-02-08T13:21:26.871Z"
   },
   {
    "duration": 228,
    "start_time": "2022-02-08T13:21:26.892Z"
   },
   {
    "duration": 237,
    "start_time": "2022-02-08T13:21:27.121Z"
   },
   {
    "duration": 440,
    "start_time": "2022-02-08T13:21:27.359Z"
   },
   {
    "duration": 362,
    "start_time": "2022-02-08T13:21:40.085Z"
   },
   {
    "duration": 660,
    "start_time": "2022-02-08T13:21:44.341Z"
   },
   {
    "duration": 7,
    "start_time": "2022-02-08T13:21:45.002Z"
   },
   {
    "duration": 26,
    "start_time": "2022-02-08T13:21:45.011Z"
   },
   {
    "duration": 22,
    "start_time": "2022-02-08T13:21:45.040Z"
   },
   {
    "duration": 8,
    "start_time": "2022-02-08T13:21:45.063Z"
   },
   {
    "duration": 34,
    "start_time": "2022-02-08T13:21:45.072Z"
   },
   {
    "duration": 60,
    "start_time": "2022-02-08T13:21:45.107Z"
   },
   {
    "duration": 7,
    "start_time": "2022-02-08T13:21:45.168Z"
   },
   {
    "duration": 35,
    "start_time": "2022-02-08T13:21:45.177Z"
   },
   {
    "duration": 21,
    "start_time": "2022-02-08T13:21:45.213Z"
   },
   {
    "duration": 41,
    "start_time": "2022-02-08T13:21:45.236Z"
   },
   {
    "duration": 5,
    "start_time": "2022-02-08T13:21:45.278Z"
   },
   {
    "duration": 5,
    "start_time": "2022-02-08T13:21:45.284Z"
   },
   {
    "duration": 6,
    "start_time": "2022-02-08T13:21:45.291Z"
   },
   {
    "duration": 15,
    "start_time": "2022-02-08T13:21:45.299Z"
   },
   {
    "duration": 45,
    "start_time": "2022-02-08T13:21:45.315Z"
   },
   {
    "duration": 9,
    "start_time": "2022-02-08T13:21:45.361Z"
   },
   {
    "duration": 22,
    "start_time": "2022-02-08T13:21:45.371Z"
   },
   {
    "duration": 247,
    "start_time": "2022-02-08T13:21:45.394Z"
   },
   {
    "duration": 230,
    "start_time": "2022-02-08T13:21:45.643Z"
   },
   {
    "duration": 576,
    "start_time": "2022-02-08T13:21:45.874Z"
   },
   {
    "duration": 335,
    "start_time": "2022-02-08T13:21:56.719Z"
   },
   {
    "duration": 671,
    "start_time": "2022-02-08T13:22:00.933Z"
   },
   {
    "duration": 8,
    "start_time": "2022-02-08T13:22:01.605Z"
   },
   {
    "duration": 30,
    "start_time": "2022-02-08T13:22:01.614Z"
   },
   {
    "duration": 18,
    "start_time": "2022-02-08T13:22:01.645Z"
   },
   {
    "duration": 7,
    "start_time": "2022-02-08T13:22:01.665Z"
   },
   {
    "duration": 40,
    "start_time": "2022-02-08T13:22:01.674Z"
   },
   {
    "duration": 47,
    "start_time": "2022-02-08T13:22:01.715Z"
   },
   {
    "duration": 7,
    "start_time": "2022-02-08T13:22:01.765Z"
   },
   {
    "duration": 54,
    "start_time": "2022-02-08T13:22:01.773Z"
   },
   {
    "duration": 7,
    "start_time": "2022-02-08T13:22:01.828Z"
   },
   {
    "duration": 32,
    "start_time": "2022-02-08T13:22:01.836Z"
   },
   {
    "duration": 5,
    "start_time": "2022-02-08T13:22:01.869Z"
   },
   {
    "duration": 7,
    "start_time": "2022-02-08T13:22:01.875Z"
   },
   {
    "duration": 18,
    "start_time": "2022-02-08T13:22:01.883Z"
   },
   {
    "duration": 14,
    "start_time": "2022-02-08T13:22:01.902Z"
   },
   {
    "duration": 40,
    "start_time": "2022-02-08T13:22:01.918Z"
   },
   {
    "duration": 9,
    "start_time": "2022-02-08T13:22:01.959Z"
   },
   {
    "duration": 20,
    "start_time": "2022-02-08T13:22:01.970Z"
   },
   {
    "duration": 338,
    "start_time": "2022-02-08T13:22:01.992Z"
   },
   {
    "duration": 215,
    "start_time": "2022-02-08T13:22:02.331Z"
   },
   {
    "duration": 360,
    "start_time": "2022-02-08T13:22:02.547Z"
   },
   {
    "duration": 662,
    "start_time": "2022-02-08T13:23:08.727Z"
   },
   {
    "duration": 7,
    "start_time": "2022-02-08T13:23:09.391Z"
   },
   {
    "duration": 14,
    "start_time": "2022-02-08T13:23:09.401Z"
   },
   {
    "duration": 26,
    "start_time": "2022-02-08T13:23:09.417Z"
   },
   {
    "duration": 7,
    "start_time": "2022-02-08T13:23:09.445Z"
   },
   {
    "duration": 31,
    "start_time": "2022-02-08T13:23:09.454Z"
   },
   {
    "duration": 57,
    "start_time": "2022-02-08T13:23:09.486Z"
   },
   {
    "duration": 7,
    "start_time": "2022-02-08T13:23:09.544Z"
   },
   {
    "duration": 36,
    "start_time": "2022-02-08T13:23:09.553Z"
   },
   {
    "duration": 6,
    "start_time": "2022-02-08T13:23:09.591Z"
   },
   {
    "duration": 48,
    "start_time": "2022-02-08T13:23:09.598Z"
   },
   {
    "duration": 5,
    "start_time": "2022-02-08T13:23:09.648Z"
   },
   {
    "duration": 5,
    "start_time": "2022-02-08T13:23:09.654Z"
   },
   {
    "duration": 8,
    "start_time": "2022-02-08T13:23:09.660Z"
   },
   {
    "duration": 11,
    "start_time": "2022-02-08T13:23:09.670Z"
   },
   {
    "duration": 51,
    "start_time": "2022-02-08T13:23:09.683Z"
   },
   {
    "duration": 9,
    "start_time": "2022-02-08T13:23:09.736Z"
   },
   {
    "duration": 18,
    "start_time": "2022-02-08T13:23:09.747Z"
   },
   {
    "duration": 235,
    "start_time": "2022-02-08T13:23:09.766Z"
   },
   {
    "duration": 228,
    "start_time": "2022-02-08T13:23:10.003Z"
   },
   {
    "duration": 383,
    "start_time": "2022-02-08T13:23:10.232Z"
   },
   {
    "duration": 322,
    "start_time": "2022-02-08T13:24:44.607Z"
   },
   {
    "duration": 329,
    "start_time": "2022-02-08T13:32:25.361Z"
   },
   {
    "duration": 658,
    "start_time": "2022-02-08T13:32:29.717Z"
   },
   {
    "duration": 7,
    "start_time": "2022-02-08T13:32:30.377Z"
   },
   {
    "duration": 16,
    "start_time": "2022-02-08T13:32:30.387Z"
   },
   {
    "duration": 37,
    "start_time": "2022-02-08T13:32:30.405Z"
   },
   {
    "duration": 8,
    "start_time": "2022-02-08T13:32:30.444Z"
   },
   {
    "duration": 34,
    "start_time": "2022-02-08T13:32:30.453Z"
   },
   {
    "duration": 54,
    "start_time": "2022-02-08T13:32:30.489Z"
   },
   {
    "duration": 7,
    "start_time": "2022-02-08T13:32:30.545Z"
   },
   {
    "duration": 43,
    "start_time": "2022-02-08T13:32:30.553Z"
   },
   {
    "duration": 6,
    "start_time": "2022-02-08T13:32:30.598Z"
   },
   {
    "duration": 51,
    "start_time": "2022-02-08T13:32:30.605Z"
   },
   {
    "duration": 5,
    "start_time": "2022-02-08T13:32:30.658Z"
   },
   {
    "duration": 19,
    "start_time": "2022-02-08T13:32:30.664Z"
   },
   {
    "duration": 9,
    "start_time": "2022-02-08T13:32:30.685Z"
   },
   {
    "duration": 16,
    "start_time": "2022-02-08T13:32:30.696Z"
   },
   {
    "duration": 42,
    "start_time": "2022-02-08T13:32:30.713Z"
   },
   {
    "duration": 10,
    "start_time": "2022-02-08T13:32:30.756Z"
   },
   {
    "duration": 20,
    "start_time": "2022-02-08T13:32:30.767Z"
   },
   {
    "duration": 240,
    "start_time": "2022-02-08T13:32:30.789Z"
   },
   {
    "duration": 227,
    "start_time": "2022-02-08T13:32:31.031Z"
   },
   {
    "duration": 448,
    "start_time": "2022-02-08T13:32:31.259Z"
   },
   {
    "duration": 329,
    "start_time": "2022-02-08T13:41:59.258Z"
   },
   {
    "duration": 603,
    "start_time": "2022-02-08T14:01:32.776Z"
   },
   {
    "duration": 7,
    "start_time": "2022-02-08T14:01:33.381Z"
   },
   {
    "duration": 26,
    "start_time": "2022-02-08T14:01:33.390Z"
   },
   {
    "duration": 26,
    "start_time": "2022-02-08T14:01:33.417Z"
   },
   {
    "duration": 9,
    "start_time": "2022-02-08T14:01:33.445Z"
   },
   {
    "duration": 35,
    "start_time": "2022-02-08T14:01:33.455Z"
   },
   {
    "duration": 63,
    "start_time": "2022-02-08T14:01:33.492Z"
   },
   {
    "duration": 8,
    "start_time": "2022-02-08T14:01:33.558Z"
   },
   {
    "duration": 37,
    "start_time": "2022-02-08T14:01:33.568Z"
   },
   {
    "duration": 22,
    "start_time": "2022-02-08T14:01:33.607Z"
   },
   {
    "duration": 36,
    "start_time": "2022-02-08T14:01:33.631Z"
   },
   {
    "duration": 4,
    "start_time": "2022-02-08T14:01:33.669Z"
   },
   {
    "duration": 5,
    "start_time": "2022-02-08T14:01:33.675Z"
   },
   {
    "duration": 7,
    "start_time": "2022-02-08T14:01:33.681Z"
   },
   {
    "duration": 39,
    "start_time": "2022-02-08T14:01:33.689Z"
   },
   {
    "duration": 36,
    "start_time": "2022-02-08T14:01:33.730Z"
   },
   {
    "duration": 9,
    "start_time": "2022-02-08T14:01:33.768Z"
   },
   {
    "duration": 17,
    "start_time": "2022-02-08T14:01:33.779Z"
   },
   {
    "duration": 253,
    "start_time": "2022-02-08T14:01:33.798Z"
   },
   {
    "duration": 285,
    "start_time": "2022-02-08T14:01:34.053Z"
   },
   {
    "duration": 623,
    "start_time": "2022-02-08T14:01:34.340Z"
   },
   {
    "duration": -657,
    "start_time": "2022-02-08T14:01:35.622Z"
   },
   {
    "duration": 385,
    "start_time": "2022-02-08T14:01:43.172Z"
   },
   {
    "duration": 20,
    "start_time": "2022-02-08T14:07:22.292Z"
   },
   {
    "duration": 19,
    "start_time": "2022-02-08T14:08:42.581Z"
   },
   {
    "duration": 20,
    "start_time": "2022-02-08T14:09:45.469Z"
   },
   {
    "duration": 378,
    "start_time": "2022-02-08T14:16:23.799Z"
   },
   {
    "duration": 668,
    "start_time": "2022-02-08T14:16:33.320Z"
   },
   {
    "duration": 6,
    "start_time": "2022-02-08T14:16:33.990Z"
   },
   {
    "duration": 15,
    "start_time": "2022-02-08T14:16:33.998Z"
   },
   {
    "duration": 15,
    "start_time": "2022-02-08T14:16:34.015Z"
   },
   {
    "duration": 8,
    "start_time": "2022-02-08T14:16:34.031Z"
   },
   {
    "duration": 29,
    "start_time": "2022-02-08T14:16:34.040Z"
   },
   {
    "duration": 36,
    "start_time": "2022-02-08T14:16:34.071Z"
   },
   {
    "duration": 7,
    "start_time": "2022-02-08T14:16:34.109Z"
   },
   {
    "duration": 40,
    "start_time": "2022-02-08T14:16:34.118Z"
   },
   {
    "duration": 6,
    "start_time": "2022-02-08T14:16:34.160Z"
   },
   {
    "duration": 31,
    "start_time": "2022-02-08T14:16:34.167Z"
   },
   {
    "duration": 4,
    "start_time": "2022-02-08T14:16:34.200Z"
   },
   {
    "duration": 5,
    "start_time": "2022-02-08T14:16:34.206Z"
   },
   {
    "duration": 8,
    "start_time": "2022-02-08T14:16:34.212Z"
   },
   {
    "duration": 13,
    "start_time": "2022-02-08T14:16:34.222Z"
   },
   {
    "duration": 46,
    "start_time": "2022-02-08T14:16:34.237Z"
   },
   {
    "duration": 12,
    "start_time": "2022-02-08T14:16:34.285Z"
   },
   {
    "duration": 20,
    "start_time": "2022-02-08T14:16:34.298Z"
   },
   {
    "duration": 222,
    "start_time": "2022-02-08T14:16:34.319Z"
   },
   {
    "duration": 232,
    "start_time": "2022-02-08T14:16:34.542Z"
   },
   {
    "duration": 428,
    "start_time": "2022-02-08T14:16:34.776Z"
   },
   {
    "duration": -309,
    "start_time": "2022-02-08T14:16:35.515Z"
   },
   {
    "duration": -312,
    "start_time": "2022-02-08T14:16:35.518Z"
   },
   {
    "duration": 669,
    "start_time": "2022-02-08T14:53:38.611Z"
   },
   {
    "duration": 7,
    "start_time": "2022-02-08T14:53:39.282Z"
   },
   {
    "duration": 23,
    "start_time": "2022-02-08T14:53:39.292Z"
   },
   {
    "duration": 27,
    "start_time": "2022-02-08T14:53:39.316Z"
   },
   {
    "duration": 8,
    "start_time": "2022-02-08T14:53:39.345Z"
   },
   {
    "duration": 31,
    "start_time": "2022-02-08T14:53:39.354Z"
   },
   {
    "duration": 57,
    "start_time": "2022-02-08T14:53:39.387Z"
   },
   {
    "duration": 7,
    "start_time": "2022-02-08T14:53:39.446Z"
   },
   {
    "duration": 35,
    "start_time": "2022-02-08T14:53:39.455Z"
   },
   {
    "duration": 7,
    "start_time": "2022-02-08T14:53:39.491Z"
   },
   {
    "duration": 47,
    "start_time": "2022-02-08T14:53:39.500Z"
   },
   {
    "duration": 4,
    "start_time": "2022-02-08T14:53:39.549Z"
   },
   {
    "duration": 5,
    "start_time": "2022-02-08T14:53:39.554Z"
   },
   {
    "duration": 7,
    "start_time": "2022-02-08T14:53:39.560Z"
   },
   {
    "duration": 10,
    "start_time": "2022-02-08T14:53:39.569Z"
   },
   {
    "duration": 57,
    "start_time": "2022-02-08T14:53:39.581Z"
   },
   {
    "duration": 9,
    "start_time": "2022-02-08T14:53:39.640Z"
   },
   {
    "duration": 20,
    "start_time": "2022-02-08T14:53:39.651Z"
   },
   {
    "duration": 230,
    "start_time": "2022-02-08T14:53:39.672Z"
   },
   {
    "duration": 217,
    "start_time": "2022-02-08T14:53:39.904Z"
   },
   {
    "duration": 369,
    "start_time": "2022-02-08T14:53:40.122Z"
   },
   {
    "duration": 13,
    "start_time": "2022-02-08T14:53:40.479Z"
   },
   {
    "duration": 12,
    "start_time": "2022-02-08T14:53:40.481Z"
   },
   {
    "duration": 106,
    "start_time": "2022-02-08T14:53:42.410Z"
   },
   {
    "duration": 649,
    "start_time": "2022-02-08T14:53:50.335Z"
   },
   {
    "duration": 6,
    "start_time": "2022-02-08T14:53:50.985Z"
   },
   {
    "duration": 16,
    "start_time": "2022-02-08T14:53:50.993Z"
   },
   {
    "duration": 31,
    "start_time": "2022-02-08T14:53:51.012Z"
   },
   {
    "duration": 8,
    "start_time": "2022-02-08T14:53:51.045Z"
   },
   {
    "duration": 31,
    "start_time": "2022-02-08T14:53:51.055Z"
   },
   {
    "duration": 58,
    "start_time": "2022-02-08T14:53:51.088Z"
   },
   {
    "duration": 7,
    "start_time": "2022-02-08T14:53:51.148Z"
   },
   {
    "duration": 37,
    "start_time": "2022-02-08T14:53:51.157Z"
   },
   {
    "duration": 7,
    "start_time": "2022-02-08T14:53:51.195Z"
   },
   {
    "duration": 51,
    "start_time": "2022-02-08T14:53:51.203Z"
   },
   {
    "duration": 5,
    "start_time": "2022-02-08T14:53:51.255Z"
   },
   {
    "duration": 7,
    "start_time": "2022-02-08T14:53:51.261Z"
   },
   {
    "duration": 8,
    "start_time": "2022-02-08T14:53:51.269Z"
   },
   {
    "duration": 10,
    "start_time": "2022-02-08T14:53:51.279Z"
   },
   {
    "duration": 52,
    "start_time": "2022-02-08T14:53:51.290Z"
   },
   {
    "duration": 10,
    "start_time": "2022-02-08T14:53:51.343Z"
   },
   {
    "duration": 19,
    "start_time": "2022-02-08T14:53:51.354Z"
   },
   {
    "duration": 234,
    "start_time": "2022-02-08T14:53:51.374Z"
   },
   {
    "duration": 224,
    "start_time": "2022-02-08T14:53:51.610Z"
   },
   {
    "duration": 386,
    "start_time": "2022-02-08T14:53:51.836Z"
   },
   {
    "duration": -3,
    "start_time": "2022-02-08T14:53:52.227Z"
   },
   {
    "duration": -9,
    "start_time": "2022-02-08T14:53:52.234Z"
   },
   {
    "duration": 28,
    "start_time": "2022-02-08T14:54:21.136Z"
   },
   {
    "duration": 667,
    "start_time": "2022-02-09T05:18:42.508Z"
   },
   {
    "duration": 7,
    "start_time": "2022-02-09T05:18:43.177Z"
   },
   {
    "duration": 14,
    "start_time": "2022-02-09T05:18:43.188Z"
   },
   {
    "duration": 37,
    "start_time": "2022-02-09T05:18:43.204Z"
   },
   {
    "duration": 8,
    "start_time": "2022-02-09T05:18:43.242Z"
   },
   {
    "duration": 32,
    "start_time": "2022-02-09T05:18:43.252Z"
   },
   {
    "duration": 48,
    "start_time": "2022-02-09T05:18:43.287Z"
   },
   {
    "duration": 6,
    "start_time": "2022-02-09T05:18:43.337Z"
   },
   {
    "duration": 36,
    "start_time": "2022-02-09T05:18:43.345Z"
   },
   {
    "duration": 6,
    "start_time": "2022-02-09T05:18:43.383Z"
   },
   {
    "duration": 53,
    "start_time": "2022-02-09T05:18:43.390Z"
   },
   {
    "duration": 5,
    "start_time": "2022-02-09T05:18:43.444Z"
   },
   {
    "duration": 6,
    "start_time": "2022-02-09T05:18:43.450Z"
   },
   {
    "duration": 7,
    "start_time": "2022-02-09T05:18:43.458Z"
   },
   {
    "duration": 11,
    "start_time": "2022-02-09T05:18:43.467Z"
   },
   {
    "duration": 49,
    "start_time": "2022-02-09T05:18:43.479Z"
   },
   {
    "duration": 9,
    "start_time": "2022-02-09T05:18:43.530Z"
   },
   {
    "duration": 19,
    "start_time": "2022-02-09T05:18:43.541Z"
   },
   {
    "duration": 229,
    "start_time": "2022-02-09T05:18:43.561Z"
   },
   {
    "duration": 219,
    "start_time": "2022-02-09T05:18:43.792Z"
   },
   {
    "duration": 391,
    "start_time": "2022-02-09T05:18:44.013Z"
   },
   {
    "duration": -56,
    "start_time": "2022-02-09T05:18:44.462Z"
   },
   {
    "duration": -60,
    "start_time": "2022-02-09T05:18:44.466Z"
   },
   {
    "duration": 134,
    "start_time": "2022-02-09T06:24:15.066Z"
   },
   {
    "duration": 586,
    "start_time": "2022-02-09T06:24:24.381Z"
   },
   {
    "duration": 7,
    "start_time": "2022-02-09T06:24:24.968Z"
   },
   {
    "duration": 15,
    "start_time": "2022-02-09T06:24:24.978Z"
   },
   {
    "duration": 38,
    "start_time": "2022-02-09T06:24:24.994Z"
   },
   {
    "duration": 8,
    "start_time": "2022-02-09T06:24:25.034Z"
   },
   {
    "duration": 33,
    "start_time": "2022-02-09T06:24:25.044Z"
   },
   {
    "duration": 48,
    "start_time": "2022-02-09T06:24:25.079Z"
   },
   {
    "duration": 6,
    "start_time": "2022-02-09T06:24:25.129Z"
   },
   {
    "duration": 36,
    "start_time": "2022-02-09T06:24:25.137Z"
   },
   {
    "duration": 6,
    "start_time": "2022-02-09T06:24:25.174Z"
   },
   {
    "duration": 53,
    "start_time": "2022-02-09T06:24:25.181Z"
   },
   {
    "duration": 4,
    "start_time": "2022-02-09T06:24:25.235Z"
   },
   {
    "duration": 5,
    "start_time": "2022-02-09T06:24:25.241Z"
   },
   {
    "duration": 9,
    "start_time": "2022-02-09T06:24:25.247Z"
   },
   {
    "duration": 13,
    "start_time": "2022-02-09T06:24:25.258Z"
   },
   {
    "duration": 33,
    "start_time": "2022-02-09T06:24:25.273Z"
   },
   {
    "duration": 28,
    "start_time": "2022-02-09T06:24:25.308Z"
   },
   {
    "duration": 18,
    "start_time": "2022-02-09T06:24:25.338Z"
   },
   {
    "duration": 225,
    "start_time": "2022-02-09T06:24:25.358Z"
   },
   {
    "duration": 216,
    "start_time": "2022-02-09T06:24:25.585Z"
   },
   {
    "duration": 116,
    "start_time": "2022-02-09T06:24:25.803Z"
   },
   {
    "duration": -43,
    "start_time": "2022-02-09T06:24:25.964Z"
   },
   {
    "duration": -47,
    "start_time": "2022-02-09T06:24:25.969Z"
   },
   {
    "duration": 150,
    "start_time": "2022-02-09T06:26:41.720Z"
   },
   {
    "duration": 124,
    "start_time": "2022-02-09T06:26:53.754Z"
   },
   {
    "duration": 15,
    "start_time": "2022-02-09T06:27:20.779Z"
   },
   {
    "duration": 23,
    "start_time": "2022-02-09T06:27:28.117Z"
   },
   {
    "duration": 33,
    "start_time": "2022-02-09T06:28:02.548Z"
   },
   {
    "duration": 41,
    "start_time": "2022-02-09T06:32:40.290Z"
   },
   {
    "duration": 393,
    "start_time": "2022-02-09T06:34:07.311Z"
   },
   {
    "duration": 381,
    "start_time": "2022-02-09T06:34:10.843Z"
   },
   {
    "duration": 357,
    "start_time": "2022-02-09T06:34:33.751Z"
   },
   {
    "duration": 648,
    "start_time": "2022-02-09T06:34:37.953Z"
   },
   {
    "duration": 7,
    "start_time": "2022-02-09T06:34:38.603Z"
   },
   {
    "duration": 17,
    "start_time": "2022-02-09T06:34:38.611Z"
   },
   {
    "duration": 18,
    "start_time": "2022-02-09T06:34:38.630Z"
   },
   {
    "duration": 8,
    "start_time": "2022-02-09T06:34:38.650Z"
   },
   {
    "duration": 34,
    "start_time": "2022-02-09T06:34:38.660Z"
   },
   {
    "duration": 57,
    "start_time": "2022-02-09T06:34:38.695Z"
   },
   {
    "duration": 7,
    "start_time": "2022-02-09T06:34:38.754Z"
   },
   {
    "duration": 38,
    "start_time": "2022-02-09T06:34:38.763Z"
   },
   {
    "duration": 6,
    "start_time": "2022-02-09T06:34:38.803Z"
   },
   {
    "duration": 43,
    "start_time": "2022-02-09T06:34:38.811Z"
   },
   {
    "duration": 4,
    "start_time": "2022-02-09T06:34:38.856Z"
   },
   {
    "duration": 6,
    "start_time": "2022-02-09T06:34:38.862Z"
   },
   {
    "duration": 8,
    "start_time": "2022-02-09T06:34:38.869Z"
   },
   {
    "duration": 11,
    "start_time": "2022-02-09T06:34:38.878Z"
   },
   {
    "duration": 57,
    "start_time": "2022-02-09T06:34:38.890Z"
   },
   {
    "duration": 9,
    "start_time": "2022-02-09T06:34:38.949Z"
   },
   {
    "duration": 19,
    "start_time": "2022-02-09T06:34:38.959Z"
   },
   {
    "duration": 231,
    "start_time": "2022-02-09T06:34:38.979Z"
   },
   {
    "duration": 220,
    "start_time": "2022-02-09T06:34:39.211Z"
   },
   {
    "duration": 29,
    "start_time": "2022-02-09T06:34:39.432Z"
   },
   {
    "duration": 25,
    "start_time": "2022-02-09T06:34:39.463Z"
   },
   {
    "duration": 425,
    "start_time": "2022-02-09T06:34:39.490Z"
   },
   {
    "duration": 39,
    "start_time": "2022-02-09T06:38:43.377Z"
   },
   {
    "duration": 620,
    "start_time": "2022-02-09T06:38:52.067Z"
   },
   {
    "duration": 8,
    "start_time": "2022-02-09T06:38:52.691Z"
   },
   {
    "duration": 28,
    "start_time": "2022-02-09T06:38:52.700Z"
   },
   {
    "duration": 17,
    "start_time": "2022-02-09T06:38:52.729Z"
   },
   {
    "duration": 7,
    "start_time": "2022-02-09T06:38:52.748Z"
   },
   {
    "duration": 29,
    "start_time": "2022-02-09T06:38:52.756Z"
   },
   {
    "duration": 41,
    "start_time": "2022-02-09T06:39:01.443Z"
   },
   {
    "duration": 8,
    "start_time": "2022-02-09T06:39:01.486Z"
   },
   {
    "duration": 46,
    "start_time": "2022-02-09T06:39:01.496Z"
   },
   {
    "duration": 8,
    "start_time": "2022-02-09T06:39:01.544Z"
   },
   {
    "duration": 30,
    "start_time": "2022-02-09T06:39:01.553Z"
   },
   {
    "duration": 5,
    "start_time": "2022-02-09T06:39:01.584Z"
   },
   {
    "duration": 11,
    "start_time": "2022-02-09T06:39:01.590Z"
   },
   {
    "duration": 8,
    "start_time": "2022-02-09T06:39:01.603Z"
   },
   {
    "duration": 12,
    "start_time": "2022-02-09T06:39:01.628Z"
   },
   {
    "duration": 34,
    "start_time": "2022-02-09T06:39:01.641Z"
   },
   {
    "duration": 11,
    "start_time": "2022-02-09T06:39:01.677Z"
   },
   {
    "duration": 49,
    "start_time": "2022-02-09T06:39:01.690Z"
   },
   {
    "duration": 231,
    "start_time": "2022-02-09T06:39:01.741Z"
   },
   {
    "duration": 241,
    "start_time": "2022-02-09T06:39:01.974Z"
   },
   {
    "duration": 44,
    "start_time": "2022-02-09T06:39:02.217Z"
   },
   {
    "duration": 27,
    "start_time": "2022-02-09T06:39:02.263Z"
   },
   {
    "duration": 39,
    "start_time": "2022-02-09T06:39:02.292Z"
   },
   {
    "duration": 27,
    "start_time": "2022-02-09T06:47:25.657Z"
   },
   {
    "duration": 28,
    "start_time": "2022-02-09T06:49:10.333Z"
   },
   {
    "duration": 23,
    "start_time": "2022-02-09T07:05:23.655Z"
   },
   {
    "duration": 23,
    "start_time": "2022-02-09T07:06:25.616Z"
   },
   {
    "duration": 27,
    "start_time": "2022-02-09T08:40:20.746Z"
   },
   {
    "duration": 156,
    "start_time": "2022-02-09T08:41:20.128Z"
   },
   {
    "duration": 26,
    "start_time": "2022-02-09T08:41:26.402Z"
   },
   {
    "duration": 35,
    "start_time": "2022-02-09T08:42:21.872Z"
   },
   {
    "duration": 371,
    "start_time": "2022-02-09T08:42:31.838Z"
   },
   {
    "duration": 24,
    "start_time": "2022-02-09T08:42:47.177Z"
   },
   {
    "duration": 28,
    "start_time": "2022-02-09T08:44:21.959Z"
   },
   {
    "duration": 19,
    "start_time": "2022-02-09T08:47:51.834Z"
   },
   {
    "duration": 38,
    "start_time": "2022-02-09T09:49:58.986Z"
   },
   {
    "duration": 25,
    "start_time": "2022-02-09T09:50:08.035Z"
   },
   {
    "duration": 23,
    "start_time": "2022-02-09T09:50:15.782Z"
   },
   {
    "duration": 34,
    "start_time": "2022-02-09T10:01:59.149Z"
   },
   {
    "duration": 730,
    "start_time": "2022-02-15T21:42:57.815Z"
   },
   {
    "duration": 8,
    "start_time": "2022-02-15T21:42:58.548Z"
   },
   {
    "duration": 15,
    "start_time": "2022-02-15T21:42:58.558Z"
   },
   {
    "duration": 19,
    "start_time": "2022-02-15T21:42:58.575Z"
   },
   {
    "duration": 7,
    "start_time": "2022-02-15T21:42:58.596Z"
   },
   {
    "duration": 61,
    "start_time": "2022-02-15T21:42:58.605Z"
   },
   {
    "duration": 38,
    "start_time": "2022-02-15T21:42:58.668Z"
   },
   {
    "duration": 7,
    "start_time": "2022-02-15T21:42:58.708Z"
   },
   {
    "duration": 62,
    "start_time": "2022-02-15T21:42:58.717Z"
   },
   {
    "duration": 7,
    "start_time": "2022-02-15T21:42:58.781Z"
   },
   {
    "duration": 31,
    "start_time": "2022-02-15T21:42:58.789Z"
   },
   {
    "duration": 25,
    "start_time": "2022-02-15T21:42:58.821Z"
   },
   {
    "duration": 4,
    "start_time": "2022-02-15T21:42:58.848Z"
   },
   {
    "duration": 9,
    "start_time": "2022-02-15T21:42:58.853Z"
   },
   {
    "duration": 14,
    "start_time": "2022-02-15T21:42:58.863Z"
   },
   {
    "duration": 37,
    "start_time": "2022-02-15T21:42:58.878Z"
   },
   {
    "duration": 35,
    "start_time": "2022-02-15T21:42:58.916Z"
   },
   {
    "duration": 16,
    "start_time": "2022-02-15T21:42:58.952Z"
   },
   {
    "duration": 249,
    "start_time": "2022-02-15T21:42:58.970Z"
   },
   {
    "duration": 210,
    "start_time": "2022-02-15T21:42:59.221Z"
   },
   {
    "duration": 21,
    "start_time": "2022-02-15T21:42:59.432Z"
   },
   {
    "duration": 25,
    "start_time": "2022-02-15T21:42:59.454Z"
   },
   {
    "duration": 25,
    "start_time": "2022-02-15T21:42:59.481Z"
   },
   {
    "duration": 40,
    "start_time": "2022-02-15T21:42:59.507Z"
   },
   {
    "duration": 24,
    "start_time": "2022-02-15T21:42:59.548Z"
   },
   {
    "duration": 210,
    "start_time": "2022-02-16T04:18:46.882Z"
   },
   {
    "duration": 612,
    "start_time": "2022-02-16T04:19:22.629Z"
   },
   {
    "duration": 8,
    "start_time": "2022-02-16T04:19:23.243Z"
   },
   {
    "duration": 18,
    "start_time": "2022-02-16T04:19:23.259Z"
   },
   {
    "duration": 20,
    "start_time": "2022-02-16T04:19:23.279Z"
   },
   {
    "duration": 9,
    "start_time": "2022-02-16T04:19:23.301Z"
   },
   {
    "duration": 62,
    "start_time": "2022-02-16T04:19:23.312Z"
   },
   {
    "duration": 39,
    "start_time": "2022-02-16T04:19:23.377Z"
   },
   {
    "duration": 8,
    "start_time": "2022-02-16T04:19:23.419Z"
   },
   {
    "duration": 64,
    "start_time": "2022-02-16T04:19:23.430Z"
   },
   {
    "duration": 8,
    "start_time": "2022-02-16T04:19:23.496Z"
   },
   {
    "duration": 34,
    "start_time": "2022-02-16T04:19:23.505Z"
   },
   {
    "duration": 21,
    "start_time": "2022-02-16T04:19:23.541Z"
   },
   {
    "duration": 6,
    "start_time": "2022-02-16T04:19:23.563Z"
   },
   {
    "duration": 8,
    "start_time": "2022-02-16T04:19:23.570Z"
   },
   {
    "duration": 6,
    "start_time": "2022-02-16T04:19:23.579Z"
   },
   {
    "duration": 38,
    "start_time": "2022-02-16T04:19:23.587Z"
   },
   {
    "duration": 11,
    "start_time": "2022-02-16T04:19:23.626Z"
   },
   {
    "duration": 18,
    "start_time": "2022-02-16T04:19:23.659Z"
   },
   {
    "duration": 217,
    "start_time": "2022-02-16T04:19:23.678Z"
   },
   {
    "duration": 221,
    "start_time": "2022-02-16T04:19:23.897Z"
   },
   {
    "duration": 18,
    "start_time": "2022-02-16T04:19:24.119Z"
   },
   {
    "duration": 35,
    "start_time": "2022-02-16T04:19:24.138Z"
   },
   {
    "duration": 25,
    "start_time": "2022-02-16T04:19:24.176Z"
   },
   {
    "duration": 23,
    "start_time": "2022-02-16T04:19:24.203Z"
   },
   {
    "duration": 50,
    "start_time": "2022-02-16T04:19:24.228Z"
   },
   {
    "duration": 8,
    "start_time": "2022-02-16T05:46:24.300Z"
   },
   {
    "duration": 566,
    "start_time": "2022-02-16T05:46:28.114Z"
   },
   {
    "duration": 7,
    "start_time": "2022-02-16T05:46:28.682Z"
   },
   {
    "duration": 19,
    "start_time": "2022-02-16T05:46:28.690Z"
   },
   {
    "duration": 20,
    "start_time": "2022-02-16T05:46:28.710Z"
   },
   {
    "duration": 34,
    "start_time": "2022-02-16T05:46:28.732Z"
   },
   {
    "duration": 33,
    "start_time": "2022-02-16T05:46:28.767Z"
   },
   {
    "duration": 60,
    "start_time": "2022-02-16T05:46:28.802Z"
   },
   {
    "duration": 9,
    "start_time": "2022-02-16T05:46:28.865Z"
   },
   {
    "duration": 41,
    "start_time": "2022-02-16T05:46:28.876Z"
   },
   {
    "duration": 8,
    "start_time": "2022-02-16T05:46:28.919Z"
   },
   {
    "duration": 62,
    "start_time": "2022-02-16T05:46:28.929Z"
   },
   {
    "duration": 7,
    "start_time": "2022-02-16T05:46:28.992Z"
   },
   {
    "duration": 6,
    "start_time": "2022-02-16T05:46:29.001Z"
   },
   {
    "duration": 8,
    "start_time": "2022-02-16T05:46:29.009Z"
   },
   {
    "duration": 5,
    "start_time": "2022-02-16T05:46:29.018Z"
   },
   {
    "duration": 66,
    "start_time": "2022-02-16T05:46:29.025Z"
   },
   {
    "duration": 10,
    "start_time": "2022-02-16T05:46:29.093Z"
   },
   {
    "duration": 17,
    "start_time": "2022-02-16T05:46:29.105Z"
   },
   {
    "duration": 228,
    "start_time": "2022-02-16T05:46:29.123Z"
   },
   {
    "duration": 215,
    "start_time": "2022-02-16T05:46:29.352Z"
   },
   {
    "duration": 18,
    "start_time": "2022-02-16T05:46:29.569Z"
   },
   {
    "duration": 28,
    "start_time": "2022-02-16T05:46:29.588Z"
   },
   {
    "duration": 47,
    "start_time": "2022-02-16T05:46:29.618Z"
   },
   {
    "duration": 26,
    "start_time": "2022-02-16T05:46:29.666Z"
   },
   {
    "duration": 27,
    "start_time": "2022-02-16T05:46:29.694Z"
   },
   {
    "duration": 4,
    "start_time": "2022-02-16T05:47:13.663Z"
   },
   {
    "duration": 32,
    "start_time": "2022-02-16T06:18:55.892Z"
   },
   {
    "duration": 4,
    "start_time": "2022-02-16T06:19:13.680Z"
   },
   {
    "duration": 660,
    "start_time": "2022-02-16T06:48:30.641Z"
   },
   {
    "duration": 8,
    "start_time": "2022-02-16T06:48:31.302Z"
   },
   {
    "duration": 23,
    "start_time": "2022-02-16T06:48:31.312Z"
   },
   {
    "duration": 28,
    "start_time": "2022-02-16T06:48:31.337Z"
   },
   {
    "duration": 8,
    "start_time": "2022-02-16T06:48:31.367Z"
   },
   {
    "duration": 42,
    "start_time": "2022-02-16T06:48:31.377Z"
   },
   {
    "duration": 9,
    "start_time": "2022-02-16T06:48:31.421Z"
   },
   {
    "duration": 38,
    "start_time": "2022-02-16T06:48:31.432Z"
   },
   {
    "duration": 39,
    "start_time": "2022-02-16T06:48:31.472Z"
   },
   {
    "duration": 7,
    "start_time": "2022-02-16T06:48:31.513Z"
   },
   {
    "duration": 52,
    "start_time": "2022-02-16T06:48:31.521Z"
   },
   {
    "duration": 5,
    "start_time": "2022-02-16T06:48:31.575Z"
   },
   {
    "duration": 8,
    "start_time": "2022-02-16T06:48:31.581Z"
   },
   {
    "duration": 9,
    "start_time": "2022-02-16T06:48:31.591Z"
   },
   {
    "duration": 7,
    "start_time": "2022-02-16T06:48:31.602Z"
   },
   {
    "duration": 51,
    "start_time": "2022-02-16T06:48:31.610Z"
   },
   {
    "duration": 11,
    "start_time": "2022-02-16T06:48:31.663Z"
   },
   {
    "duration": 19,
    "start_time": "2022-02-16T06:48:31.676Z"
   },
   {
    "duration": 234,
    "start_time": "2022-02-16T06:48:31.697Z"
   },
   {
    "duration": 229,
    "start_time": "2022-02-16T06:48:31.933Z"
   },
   {
    "duration": 18,
    "start_time": "2022-02-16T06:48:32.164Z"
   },
   {
    "duration": 28,
    "start_time": "2022-02-16T06:48:32.183Z"
   },
   {
    "duration": 48,
    "start_time": "2022-02-16T06:48:32.214Z"
   },
   {
    "duration": 25,
    "start_time": "2022-02-16T06:48:32.264Z"
   },
   {
    "duration": 27,
    "start_time": "2022-02-16T06:48:32.291Z"
   },
   {
    "duration": 10,
    "start_time": "2022-02-16T06:49:39.392Z"
   },
   {
    "duration": 12,
    "start_time": "2022-02-16T06:54:59.782Z"
   },
   {
    "duration": 21,
    "start_time": "2022-02-16T06:55:02.668Z"
   },
   {
    "duration": 11,
    "start_time": "2022-02-16T06:55:05.700Z"
   },
   {
    "duration": 9,
    "start_time": "2022-02-16T06:55:08.727Z"
   },
   {
    "duration": 8,
    "start_time": "2022-02-16T06:55:10.604Z"
   },
   {
    "duration": 679,
    "start_time": "2022-02-16T06:55:14.962Z"
   },
   {
    "duration": 8,
    "start_time": "2022-02-16T06:55:15.643Z"
   },
   {
    "duration": 7,
    "start_time": "2022-02-16T06:55:15.654Z"
   },
   {
    "duration": 24,
    "start_time": "2022-02-16T06:55:15.663Z"
   },
   {
    "duration": 9,
    "start_time": "2022-02-16T06:55:15.688Z"
   },
   {
    "duration": 32,
    "start_time": "2022-02-16T06:55:15.699Z"
   },
   {
    "duration": 33,
    "start_time": "2022-02-16T06:55:15.733Z"
   },
   {
    "duration": 30,
    "start_time": "2022-02-16T06:55:15.769Z"
   },
   {
    "duration": 10,
    "start_time": "2022-02-16T06:55:15.801Z"
   },
   {
    "duration": 15,
    "start_time": "2022-02-16T06:55:15.813Z"
   },
   {
    "duration": 55,
    "start_time": "2022-02-16T06:55:15.829Z"
   },
   {
    "duration": 5,
    "start_time": "2022-02-16T06:55:15.886Z"
   },
   {
    "duration": 9,
    "start_time": "2022-02-16T06:55:15.893Z"
   },
   {
    "duration": 24,
    "start_time": "2022-02-16T06:55:15.903Z"
   },
   {
    "duration": 17,
    "start_time": "2022-02-16T06:55:15.928Z"
   },
   {
    "duration": 51,
    "start_time": "2022-02-16T06:55:15.947Z"
   },
   {
    "duration": 11,
    "start_time": "2022-02-16T06:55:16.000Z"
   },
   {
    "duration": 34,
    "start_time": "2022-02-16T06:55:16.012Z"
   },
   {
    "duration": 221,
    "start_time": "2022-02-16T06:55:16.048Z"
   },
   {
    "duration": 222,
    "start_time": "2022-02-16T06:55:16.270Z"
   },
   {
    "duration": 18,
    "start_time": "2022-02-16T06:55:16.493Z"
   },
   {
    "duration": 47,
    "start_time": "2022-02-16T06:55:16.513Z"
   },
   {
    "duration": 28,
    "start_time": "2022-02-16T06:55:16.562Z"
   },
   {
    "duration": 25,
    "start_time": "2022-02-16T06:55:16.592Z"
   },
   {
    "duration": 52,
    "start_time": "2022-02-16T06:55:16.618Z"
   },
   {
    "duration": 654,
    "start_time": "2022-02-16T07:09:07.055Z"
   },
   {
    "duration": 8,
    "start_time": "2022-02-16T07:09:07.710Z"
   },
   {
    "duration": 3,
    "start_time": "2022-02-16T07:09:07.720Z"
   },
   {
    "duration": 39,
    "start_time": "2022-02-16T07:09:07.725Z"
   },
   {
    "duration": 9,
    "start_time": "2022-02-16T07:09:07.766Z"
   },
   {
    "duration": 34,
    "start_time": "2022-02-16T07:09:07.776Z"
   },
   {
    "duration": 4830,
    "start_time": "2022-02-16T07:09:07.812Z"
   },
   {
    "duration": -76,
    "start_time": "2022-02-16T07:09:12.720Z"
   },
   {
    "duration": -84,
    "start_time": "2022-02-16T07:09:12.729Z"
   },
   {
    "duration": -96,
    "start_time": "2022-02-16T07:09:12.742Z"
   },
   {
    "duration": -98,
    "start_time": "2022-02-16T07:09:12.745Z"
   },
   {
    "duration": -101,
    "start_time": "2022-02-16T07:09:12.749Z"
   },
   {
    "duration": -107,
    "start_time": "2022-02-16T07:09:12.756Z"
   },
   {
    "duration": -109,
    "start_time": "2022-02-16T07:09:12.759Z"
   },
   {
    "duration": -111,
    "start_time": "2022-02-16T07:09:12.762Z"
   },
   {
    "duration": -113,
    "start_time": "2022-02-16T07:09:12.765Z"
   },
   {
    "duration": -118,
    "start_time": "2022-02-16T07:09:12.771Z"
   },
   {
    "duration": -120,
    "start_time": "2022-02-16T07:09:12.774Z"
   },
   {
    "duration": -122,
    "start_time": "2022-02-16T07:09:12.777Z"
   },
   {
    "duration": -125,
    "start_time": "2022-02-16T07:09:12.781Z"
   },
   {
    "duration": -129,
    "start_time": "2022-02-16T07:09:12.786Z"
   },
   {
    "duration": -132,
    "start_time": "2022-02-16T07:09:12.789Z"
   },
   {
    "duration": -134,
    "start_time": "2022-02-16T07:09:12.792Z"
   },
   {
    "duration": -138,
    "start_time": "2022-02-16T07:09:12.797Z"
   },
   {
    "duration": -142,
    "start_time": "2022-02-16T07:09:12.802Z"
   },
   {
    "duration": 10,
    "start_time": "2022-02-16T07:10:02.793Z"
   },
   {
    "duration": 8,
    "start_time": "2022-02-16T07:10:06.323Z"
   },
   {
    "duration": 21,
    "start_time": "2022-02-16T07:10:09.627Z"
   },
   {
    "duration": 692,
    "start_time": "2022-02-16T07:10:20.041Z"
   },
   {
    "duration": 7,
    "start_time": "2022-02-16T07:10:20.737Z"
   },
   {
    "duration": 12,
    "start_time": "2022-02-16T07:10:20.746Z"
   },
   {
    "duration": 18,
    "start_time": "2022-02-16T07:10:20.760Z"
   },
   {
    "duration": 8,
    "start_time": "2022-02-16T07:10:20.780Z"
   },
   {
    "duration": 36,
    "start_time": "2022-02-16T07:10:20.790Z"
   },
   {
    "duration": 10,
    "start_time": "2022-02-16T07:10:20.827Z"
   },
   {
    "duration": 25,
    "start_time": "2022-02-16T07:10:20.840Z"
   },
   {
    "duration": 15,
    "start_time": "2022-02-16T07:10:20.867Z"
   },
   {
    "duration": 7,
    "start_time": "2022-02-16T07:10:20.884Z"
   },
   {
    "duration": 36,
    "start_time": "2022-02-16T07:10:20.893Z"
   },
   {
    "duration": 6,
    "start_time": "2022-02-16T07:10:20.930Z"
   },
   {
    "duration": 4,
    "start_time": "2022-02-16T07:10:20.959Z"
   },
   {
    "duration": 12,
    "start_time": "2022-02-16T07:10:20.965Z"
   },
   {
    "duration": 8,
    "start_time": "2022-02-16T07:10:20.978Z"
   },
   {
    "duration": 43,
    "start_time": "2022-02-16T07:10:20.988Z"
   },
   {
    "duration": 11,
    "start_time": "2022-02-16T07:10:21.032Z"
   },
   {
    "duration": 28,
    "start_time": "2022-02-16T07:10:21.045Z"
   },
   {
    "duration": 222,
    "start_time": "2022-02-16T07:10:21.075Z"
   },
   {
    "duration": 228,
    "start_time": "2022-02-16T07:10:21.299Z"
   },
   {
    "duration": 17,
    "start_time": "2022-02-16T07:10:21.529Z"
   },
   {
    "duration": 27,
    "start_time": "2022-02-16T07:10:21.558Z"
   },
   {
    "duration": 25,
    "start_time": "2022-02-16T07:10:21.587Z"
   },
   {
    "duration": 24,
    "start_time": "2022-02-16T07:10:21.614Z"
   },
   {
    "duration": 27,
    "start_time": "2022-02-16T07:10:21.660Z"
   },
   {
    "duration": 234,
    "start_time": "2022-02-16T07:20:06.830Z"
   },
   {
    "duration": 611,
    "start_time": "2022-02-16T07:20:17.592Z"
   },
   {
    "duration": 8,
    "start_time": "2022-02-16T07:20:18.204Z"
   },
   {
    "duration": 7,
    "start_time": "2022-02-16T07:20:18.213Z"
   },
   {
    "duration": 28,
    "start_time": "2022-02-16T07:20:18.222Z"
   },
   {
    "duration": 8,
    "start_time": "2022-02-16T07:20:18.260Z"
   },
   {
    "duration": 38,
    "start_time": "2022-02-16T07:20:18.270Z"
   },
   {
    "duration": 10,
    "start_time": "2022-02-16T07:20:18.309Z"
   },
   {
    "duration": 7,
    "start_time": "2022-02-16T07:20:18.321Z"
   },
   {
    "duration": 10,
    "start_time": "2022-02-16T07:20:18.358Z"
   },
   {
    "duration": 7,
    "start_time": "2022-02-16T07:20:18.370Z"
   },
   {
    "duration": 34,
    "start_time": "2022-02-16T07:20:18.379Z"
   },
   {
    "duration": 5,
    "start_time": "2022-02-16T07:20:18.415Z"
   },
   {
    "duration": 6,
    "start_time": "2022-02-16T07:20:18.422Z"
   },
   {
    "duration": 31,
    "start_time": "2022-02-16T07:20:18.429Z"
   },
   {
    "duration": 4,
    "start_time": "2022-02-16T07:20:18.461Z"
   },
   {
    "duration": 39,
    "start_time": "2022-02-16T07:20:18.466Z"
   },
   {
    "duration": 10,
    "start_time": "2022-02-16T07:20:18.506Z"
   },
   {
    "duration": 42,
    "start_time": "2022-02-16T07:20:18.517Z"
   },
   {
    "duration": 227,
    "start_time": "2022-02-16T07:20:18.561Z"
   },
   {
    "duration": 225,
    "start_time": "2022-02-16T07:20:18.790Z"
   },
   {
    "duration": 17,
    "start_time": "2022-02-16T07:20:19.016Z"
   },
   {
    "duration": 37,
    "start_time": "2022-02-16T07:20:19.035Z"
   },
   {
    "duration": 26,
    "start_time": "2022-02-16T07:20:19.075Z"
   },
   {
    "duration": 27,
    "start_time": "2022-02-16T07:20:19.103Z"
   },
   {
    "duration": 47,
    "start_time": "2022-02-16T07:20:19.131Z"
   },
   {
    "duration": 13,
    "start_time": "2022-02-16T11:39:14.355Z"
   },
   {
    "duration": 236,
    "start_time": "2022-02-16T11:49:13.928Z"
   },
   {
    "duration": 243,
    "start_time": "2022-02-16T11:51:14.680Z"
   },
   {
    "duration": 475,
    "start_time": "2022-02-16T12:04:06.160Z"
   },
   {
    "duration": 406,
    "start_time": "2022-02-16T12:04:17.946Z"
   },
   {
    "duration": 228,
    "start_time": "2022-02-16T12:07:20.099Z"
   },
   {
    "duration": 652,
    "start_time": "2022-02-16T12:08:08.763Z"
   },
   {
    "duration": 8,
    "start_time": "2022-02-16T12:08:09.417Z"
   },
   {
    "duration": 5,
    "start_time": "2022-02-16T12:08:09.427Z"
   },
   {
    "duration": 39,
    "start_time": "2022-02-16T12:08:09.433Z"
   },
   {
    "duration": 9,
    "start_time": "2022-02-16T12:08:09.473Z"
   },
   {
    "duration": 36,
    "start_time": "2022-02-16T12:08:09.484Z"
   },
   {
    "duration": 17,
    "start_time": "2022-02-16T12:08:09.522Z"
   },
   {
    "duration": 25,
    "start_time": "2022-02-16T12:08:09.542Z"
   },
   {
    "duration": 15,
    "start_time": "2022-02-16T12:08:09.569Z"
   },
   {
    "duration": 9,
    "start_time": "2022-02-16T12:08:09.586Z"
   },
   {
    "duration": 67,
    "start_time": "2022-02-16T12:08:09.597Z"
   },
   {
    "duration": 8,
    "start_time": "2022-02-16T12:08:09.666Z"
   },
   {
    "duration": 6,
    "start_time": "2022-02-16T12:08:09.676Z"
   },
   {
    "duration": 7,
    "start_time": "2022-02-16T12:08:09.684Z"
   },
   {
    "duration": 13,
    "start_time": "2022-02-16T12:08:09.693Z"
   },
   {
    "duration": 68,
    "start_time": "2022-02-16T12:08:09.708Z"
   },
   {
    "duration": 11,
    "start_time": "2022-02-16T12:08:09.779Z"
   },
   {
    "duration": 21,
    "start_time": "2022-02-16T12:08:09.792Z"
   },
   {
    "duration": 252,
    "start_time": "2022-02-16T12:08:09.815Z"
   },
   {
    "duration": 249,
    "start_time": "2022-02-16T12:08:10.069Z"
   },
   {
    "duration": 23,
    "start_time": "2022-02-16T12:08:10.320Z"
   },
   {
    "duration": 51,
    "start_time": "2022-02-16T12:08:10.345Z"
   },
   {
    "duration": 32,
    "start_time": "2022-02-16T12:08:10.401Z"
   },
   {
    "duration": 49,
    "start_time": "2022-02-16T12:08:10.435Z"
   },
   {
    "duration": 30,
    "start_time": "2022-02-16T12:08:10.486Z"
   },
   {
    "duration": 3,
    "start_time": "2022-02-16T12:09:55.424Z"
   },
   {
    "duration": 648,
    "start_time": "2022-02-16T12:12:40.005Z"
   },
   {
    "duration": 8,
    "start_time": "2022-02-16T12:12:40.655Z"
   },
   {
    "duration": 6,
    "start_time": "2022-02-16T12:12:40.665Z"
   },
   {
    "duration": 24,
    "start_time": "2022-02-16T12:12:40.673Z"
   },
   {
    "duration": 11,
    "start_time": "2022-02-16T12:12:40.698Z"
   },
   {
    "duration": 44,
    "start_time": "2022-02-16T12:12:40.710Z"
   },
   {
    "duration": 9,
    "start_time": "2022-02-16T12:12:40.756Z"
   },
   {
    "duration": 16,
    "start_time": "2022-02-16T12:12:40.767Z"
   },
   {
    "duration": 32,
    "start_time": "2022-02-16T12:12:40.785Z"
   },
   {
    "duration": 23,
    "start_time": "2022-02-16T12:12:40.819Z"
   },
   {
    "duration": 53,
    "start_time": "2022-02-16T12:12:40.844Z"
   },
   {
    "duration": 16,
    "start_time": "2022-02-16T12:12:40.899Z"
   },
   {
    "duration": 29,
    "start_time": "2022-02-16T12:12:40.916Z"
   },
   {
    "duration": 14,
    "start_time": "2022-02-16T12:12:40.947Z"
   },
   {
    "duration": 31,
    "start_time": "2022-02-16T12:12:40.962Z"
   },
   {
    "duration": 68,
    "start_time": "2022-02-16T12:12:40.995Z"
   },
   {
    "duration": 12,
    "start_time": "2022-02-16T12:12:41.064Z"
   },
   {
    "duration": 36,
    "start_time": "2022-02-16T12:12:41.078Z"
   },
   {
    "duration": 43,
    "start_time": "2022-02-16T12:12:41.116Z"
   },
   {
    "duration": 303,
    "start_time": "2022-02-16T12:12:41.161Z"
   },
   {
    "duration": 234,
    "start_time": "2022-02-16T12:12:41.466Z"
   },
   {
    "duration": 19,
    "start_time": "2022-02-16T12:12:41.702Z"
   },
   {
    "duration": 45,
    "start_time": "2022-02-16T12:12:41.724Z"
   },
   {
    "duration": 88,
    "start_time": "2022-02-16T12:12:41.771Z"
   },
   {
    "duration": 33,
    "start_time": "2022-02-16T12:12:41.861Z"
   },
   {
    "duration": 31,
    "start_time": "2022-02-16T12:12:41.896Z"
   }
  ],
  "kernelspec": {
   "display_name": "Python 3",
   "language": "python",
   "name": "python3"
  },
  "language_info": {
   "codemirror_mode": {
    "name": "ipython",
    "version": 3
   },
   "file_extension": ".py",
   "mimetype": "text/x-python",
   "name": "python",
   "nbconvert_exporter": "python",
   "pygments_lexer": "ipython3",
   "version": "3.7.8"
  },
  "toc": {
   "base_numbering": 1,
   "nav_menu": {},
   "number_sections": true,
   "sideBar": true,
   "skip_h1_title": true,
   "title_cell": "Table of Contents",
   "title_sidebar": "Contents",
   "toc_cell": false,
   "toc_position": {},
   "toc_section_display": true,
   "toc_window_display": false
  }
 },
 "nbformat": 4,
 "nbformat_minor": 5
}
