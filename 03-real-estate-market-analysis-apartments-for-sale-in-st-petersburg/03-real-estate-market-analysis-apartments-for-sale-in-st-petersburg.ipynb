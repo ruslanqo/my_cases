{
 "cells": [
  {
   "cell_type": "markdown",
   "metadata": {},
   "source": [
    "# Проект 3. Исследование объявлений о продаже квартир\n",
    "\n",
    "В вашем распоряжении данные сервиса Яндекс Недвижимость — архив объявлений о продаже квартир в Санкт-Петербурге и соседних населённых пунктах за несколько лет. Нужно научиться определять рыночную стоимость объектов недвижимости.    \n",
    "\n",
    "Ваша задача — установить параметры. Это позволит построить автоматизированную систему: она отследит аномалии и мошенническую деятельность.     \n",
    "\n",
    "По каждой квартире на продажу доступны два вида данных. Первые вписаны пользователем, вторые — получены автоматически на основе картографических данных. Например, расстояние до центра, аэропорта, ближайшего парка и водоёма."
   ]
  },
  {
   "cell_type": "markdown",
   "metadata": {},
   "source": [
    "### Шаг 1. Изучение общей информации:"
   ]
  },
  {
   "cell_type": "code",
   "execution_count": 1,
   "metadata": {},
   "outputs": [
    {
     "name": "stdout",
     "output_type": "stream",
     "text": [
      "<class 'pandas.core.frame.DataFrame'>\n",
      "RangeIndex: 23699 entries, 0 to 23698\n",
      "Data columns (total 22 columns):\n",
      "total_images            23699 non-null int64\n",
      "last_price              23699 non-null float64\n",
      "total_area              23699 non-null float64\n",
      "first_day_exposition    23699 non-null object\n",
      "rooms                   23699 non-null int64\n",
      "ceiling_height          14504 non-null float64\n",
      "floors_total            23613 non-null float64\n",
      "living_area             21796 non-null float64\n",
      "floor                   23699 non-null int64\n",
      "is_apartment            2775 non-null object\n",
      "studio                  23699 non-null bool\n",
      "open_plan               23699 non-null bool\n",
      "kitchen_area            21421 non-null float64\n",
      "balcony                 12180 non-null float64\n",
      "locality_name           23650 non-null object\n",
      "airports_nearest        18157 non-null float64\n",
      "cityCenters_nearest     18180 non-null float64\n",
      "parks_around3000        18181 non-null float64\n",
      "parks_nearest           8079 non-null float64\n",
      "ponds_around3000        18181 non-null float64\n",
      "ponds_nearest           9110 non-null float64\n",
      "days_exposition         20518 non-null float64\n",
      "dtypes: bool(2), float64(14), int64(3), object(3)\n",
      "memory usage: 3.7+ MB\n"
     ]
    },
    {
     "data": {
      "text/html": [
       "<div>\n",
       "<style scoped>\n",
       "    .dataframe tbody tr th:only-of-type {\n",
       "        vertical-align: middle;\n",
       "    }\n",
       "\n",
       "    .dataframe tbody tr th {\n",
       "        vertical-align: top;\n",
       "    }\n",
       "\n",
       "    .dataframe thead th {\n",
       "        text-align: right;\n",
       "    }\n",
       "</style>\n",
       "<table border=\"1\" class=\"dataframe\">\n",
       "  <thead>\n",
       "    <tr style=\"text-align: right;\">\n",
       "      <th></th>\n",
       "      <th>total_images</th>\n",
       "      <th>last_price</th>\n",
       "      <th>total_area</th>\n",
       "      <th>first_day_exposition</th>\n",
       "      <th>rooms</th>\n",
       "      <th>ceiling_height</th>\n",
       "      <th>floors_total</th>\n",
       "      <th>living_area</th>\n",
       "      <th>floor</th>\n",
       "      <th>is_apartment</th>\n",
       "      <th>studio</th>\n",
       "      <th>open_plan</th>\n",
       "      <th>kitchen_area</th>\n",
       "      <th>balcony</th>\n",
       "      <th>locality_name</th>\n",
       "      <th>airports_nearest</th>\n",
       "      <th>cityCenters_nearest</th>\n",
       "      <th>parks_around3000</th>\n",
       "      <th>parks_nearest</th>\n",
       "      <th>ponds_around3000</th>\n",
       "      <th>ponds_nearest</th>\n",
       "      <th>days_exposition</th>\n",
       "    </tr>\n",
       "  </thead>\n",
       "  <tbody>\n",
       "    <tr>\n",
       "      <td>0</td>\n",
       "      <td>20</td>\n",
       "      <td>13000000.0</td>\n",
       "      <td>108.0</td>\n",
       "      <td>2019-03-07T00:00:00</td>\n",
       "      <td>3</td>\n",
       "      <td>2.70</td>\n",
       "      <td>16.0</td>\n",
       "      <td>51.0</td>\n",
       "      <td>8</td>\n",
       "      <td>NaN</td>\n",
       "      <td>False</td>\n",
       "      <td>False</td>\n",
       "      <td>25.0</td>\n",
       "      <td>NaN</td>\n",
       "      <td>Санкт-Петербург</td>\n",
       "      <td>18863.0</td>\n",
       "      <td>16028.0</td>\n",
       "      <td>1.0</td>\n",
       "      <td>482.0</td>\n",
       "      <td>2.0</td>\n",
       "      <td>755.0</td>\n",
       "      <td>NaN</td>\n",
       "    </tr>\n",
       "    <tr>\n",
       "      <td>1</td>\n",
       "      <td>7</td>\n",
       "      <td>3350000.0</td>\n",
       "      <td>40.4</td>\n",
       "      <td>2018-12-04T00:00:00</td>\n",
       "      <td>1</td>\n",
       "      <td>NaN</td>\n",
       "      <td>11.0</td>\n",
       "      <td>18.6</td>\n",
       "      <td>1</td>\n",
       "      <td>NaN</td>\n",
       "      <td>False</td>\n",
       "      <td>False</td>\n",
       "      <td>11.0</td>\n",
       "      <td>2.0</td>\n",
       "      <td>посёлок Шушары</td>\n",
       "      <td>12817.0</td>\n",
       "      <td>18603.0</td>\n",
       "      <td>0.0</td>\n",
       "      <td>NaN</td>\n",
       "      <td>0.0</td>\n",
       "      <td>NaN</td>\n",
       "      <td>81.0</td>\n",
       "    </tr>\n",
       "    <tr>\n",
       "      <td>2</td>\n",
       "      <td>10</td>\n",
       "      <td>5196000.0</td>\n",
       "      <td>56.0</td>\n",
       "      <td>2015-08-20T00:00:00</td>\n",
       "      <td>2</td>\n",
       "      <td>NaN</td>\n",
       "      <td>5.0</td>\n",
       "      <td>34.3</td>\n",
       "      <td>4</td>\n",
       "      <td>NaN</td>\n",
       "      <td>False</td>\n",
       "      <td>False</td>\n",
       "      <td>8.3</td>\n",
       "      <td>0.0</td>\n",
       "      <td>Санкт-Петербург</td>\n",
       "      <td>21741.0</td>\n",
       "      <td>13933.0</td>\n",
       "      <td>1.0</td>\n",
       "      <td>90.0</td>\n",
       "      <td>2.0</td>\n",
       "      <td>574.0</td>\n",
       "      <td>558.0</td>\n",
       "    </tr>\n",
       "    <tr>\n",
       "      <td>3</td>\n",
       "      <td>0</td>\n",
       "      <td>64900000.0</td>\n",
       "      <td>159.0</td>\n",
       "      <td>2015-07-24T00:00:00</td>\n",
       "      <td>3</td>\n",
       "      <td>NaN</td>\n",
       "      <td>14.0</td>\n",
       "      <td>NaN</td>\n",
       "      <td>9</td>\n",
       "      <td>NaN</td>\n",
       "      <td>False</td>\n",
       "      <td>False</td>\n",
       "      <td>NaN</td>\n",
       "      <td>0.0</td>\n",
       "      <td>Санкт-Петербург</td>\n",
       "      <td>28098.0</td>\n",
       "      <td>6800.0</td>\n",
       "      <td>2.0</td>\n",
       "      <td>84.0</td>\n",
       "      <td>3.0</td>\n",
       "      <td>234.0</td>\n",
       "      <td>424.0</td>\n",
       "    </tr>\n",
       "    <tr>\n",
       "      <td>4</td>\n",
       "      <td>2</td>\n",
       "      <td>10000000.0</td>\n",
       "      <td>100.0</td>\n",
       "      <td>2018-06-19T00:00:00</td>\n",
       "      <td>2</td>\n",
       "      <td>3.03</td>\n",
       "      <td>14.0</td>\n",
       "      <td>32.0</td>\n",
       "      <td>13</td>\n",
       "      <td>NaN</td>\n",
       "      <td>False</td>\n",
       "      <td>False</td>\n",
       "      <td>41.0</td>\n",
       "      <td>NaN</td>\n",
       "      <td>Санкт-Петербург</td>\n",
       "      <td>31856.0</td>\n",
       "      <td>8098.0</td>\n",
       "      <td>2.0</td>\n",
       "      <td>112.0</td>\n",
       "      <td>1.0</td>\n",
       "      <td>48.0</td>\n",
       "      <td>121.0</td>\n",
       "    </tr>\n",
       "  </tbody>\n",
       "</table>\n",
       "</div>"
      ],
      "text/plain": [
       "   total_images  last_price  total_area first_day_exposition  rooms  \\\n",
       "0            20  13000000.0       108.0  2019-03-07T00:00:00      3   \n",
       "1             7   3350000.0        40.4  2018-12-04T00:00:00      1   \n",
       "2            10   5196000.0        56.0  2015-08-20T00:00:00      2   \n",
       "3             0  64900000.0       159.0  2015-07-24T00:00:00      3   \n",
       "4             2  10000000.0       100.0  2018-06-19T00:00:00      2   \n",
       "\n",
       "   ceiling_height  floors_total  living_area  floor is_apartment  studio  \\\n",
       "0            2.70          16.0         51.0      8          NaN   False   \n",
       "1             NaN          11.0         18.6      1          NaN   False   \n",
       "2             NaN           5.0         34.3      4          NaN   False   \n",
       "3             NaN          14.0          NaN      9          NaN   False   \n",
       "4            3.03          14.0         32.0     13          NaN   False   \n",
       "\n",
       "   open_plan  kitchen_area  balcony    locality_name  airports_nearest  \\\n",
       "0      False          25.0      NaN  Санкт-Петербург           18863.0   \n",
       "1      False          11.0      2.0   посёлок Шушары           12817.0   \n",
       "2      False           8.3      0.0  Санкт-Петербург           21741.0   \n",
       "3      False           NaN      0.0  Санкт-Петербург           28098.0   \n",
       "4      False          41.0      NaN  Санкт-Петербург           31856.0   \n",
       "\n",
       "   cityCenters_nearest  parks_around3000  parks_nearest  ponds_around3000  \\\n",
       "0              16028.0               1.0          482.0               2.0   \n",
       "1              18603.0               0.0            NaN               0.0   \n",
       "2              13933.0               1.0           90.0               2.0   \n",
       "3               6800.0               2.0           84.0               3.0   \n",
       "4               8098.0               2.0          112.0               1.0   \n",
       "\n",
       "   ponds_nearest  days_exposition  \n",
       "0          755.0              NaN  \n",
       "1            NaN             81.0  \n",
       "2          574.0            558.0  \n",
       "3          234.0            424.0  \n",
       "4           48.0            121.0  "
      ]
     },
     "execution_count": 1,
     "metadata": {},
     "output_type": "execute_result"
    }
   ],
   "source": [
    "import pandas as pd\n",
    "import numpy as np\n",
    "import matplotlib.pyplot as plt\n",
    "df = pd.read_csv('/datasets/real_estate_data.csv', sep = '\\t', decimal = '.')\n",
    "df.info()\n",
    "pd.set_option('display.max_columns', None)\n",
    "df.head()"
   ]
  },
  {
   "cell_type": "markdown",
   "metadata": {},
   "source": [
    "### Предварительные выводы:"
   ]
  },
  {
   "cell_type": "markdown",
   "metadata": {},
   "source": [
    "Всего таблице содержится  23699 строки.   \n",
    "\n",
    "Замечаю, что столбец 'is_apartment' содержит большое количество пропусков. По всей видимости, это не являлось обязательным полем для заполнения, и пользователи пропускали его, либо не понимали что значит \"Апартаменты\".\n",
    "Логично было бы все пропуски заполнить 'False'.   \n",
    "\n",
    "Также отмечу, что данные, полученные автоматически (на основе картографических данных), имеют достаточно много пропусков.   \n",
    "Скорее всего, это связано с тем, что программа не обладает высокой точностью в определении расстояния и обладает еще меньшей точностью в распознавании прудов и парков.    \n",
    "Либо это возможно, если не определено расстояние до центра, а значит и остальные данные будут пустыми."
   ]
  },
  {
   "cell_type": "markdown",
   "metadata": {},
   "source": [
    "### Шаг 2. Предобработка данных"
   ]
  },
  {
   "cell_type": "markdown",
   "metadata": {},
   "source": [
    "### Удаление пропусков "
   ]
  },
  {
   "cell_type": "markdown",
   "metadata": {},
   "source": [
    "Начну предобработку с потолков (столбец 'ceiling_height')."
   ]
  },
  {
   "cell_type": "code",
   "execution_count": 2,
   "metadata": {},
   "outputs": [
    {
     "data": {
      "text/plain": [
       "count    14504.000000\n",
       "mean         2.771499\n",
       "std          1.261056\n",
       "min          1.000000\n",
       "25%          2.520000\n",
       "50%          2.650000\n",
       "75%          2.800000\n",
       "max        100.000000\n",
       "Name: ceiling_height, dtype: float64"
      ]
     },
     "execution_count": 2,
     "metadata": {},
     "output_type": "execute_result"
    }
   ],
   "source": [
    "df['ceiling_height'].describe()"
   ]
  },
  {
   "cell_type": "markdown",
   "metadata": {},
   "source": [
    "Этот столбец содержит достаточно большое кол-во пропусков (примерно 31%).      \n",
    "\n",
    "Заполню пропущенные значения медианой, т.к. она наименее чувствительна к выбросам.   \n",
    "Думаю, причиной пропусков является тот факт, что, возможно, продавцы недвижимости не знают точную высоту потолков и пропускают эту строку. \n",
    "\n",
    "Также замечаю, что min = 1, max = 100. Похоже, что это выбросы.    \n",
    "Возможно, выбросы могут быть связаны с человеческой или технической ошибкой, например, неправильный ввод данных, некорректные единицы измерения и т.п.  "
   ]
  },
  {
   "cell_type": "code",
   "execution_count": 3,
   "metadata": {
    "scrolled": true
   },
   "outputs": [
    {
     "name": "stdout",
     "output_type": "stream",
     "text": [
      "Пропуски в living_area до обработки: 1903\n",
      "Пропуски в ceiling_height до обработки: 9195\n",
      "Пропуски в living_area после обработки: 1903\n",
      "Пропуски в ceiling_height после обработки: 0\n"
     ]
    }
   ],
   "source": [
    "print('Пропуски в living_area до обработки:', df['living_area'].isna().sum())\n",
    "print('Пропуски в ceiling_height до обработки:', df['ceiling_height'].isna().sum())\n",
    "df.loc[df['ceiling_height'].isnull(),'ceiling_height'] = df['ceiling_height'].median()\n",
    "print('Пропуски в living_area после обработки:', df['living_area'].isna().sum())\n",
    "print('Пропуски в ceiling_height после обработки:', df['ceiling_height'].isna().sum())"
   ]
  },
  {
   "cell_type": "markdown",
   "metadata": {},
   "source": [
    "Жилая прощадь является важным компонентом, который образует цену, поэтому пустые значения я удалю."
   ]
  },
  {
   "cell_type": "code",
   "execution_count": 4,
   "metadata": {
    "scrolled": true
   },
   "outputs": [
    {
     "name": "stdout",
     "output_type": "stream",
     "text": [
      "Пропуски в living_area до обработки: 1903\n",
      "Пропуски в living_area после обработки .dropna(): 0\n"
     ]
    }
   ],
   "source": [
    "print('Пропуски в living_area до обработки:', df['living_area'].isna().sum())\n",
    "df.dropna(subset = ['living_area'], inplace=True)\n",
    "print('Пропуски в living_area после обработки .dropna():', df['living_area'].isna().sum())"
   ]
  },
  {
   "cell_type": "markdown",
   "metadata": {},
   "source": [
    "С кухнями поступлю аналогично:"
   ]
  },
  {
   "cell_type": "code",
   "execution_count": 5,
   "metadata": {
    "scrolled": true
   },
   "outputs": [
    {
     "name": "stdout",
     "output_type": "stream",
     "text": [
      "Пропуски в kitchen_area до обработки: 814\n",
      "Пропуски в kitchen_area после обработки .dropna(): 0\n"
     ]
    }
   ],
   "source": [
    "print('Пропуски в kitchen_area до обработки:', df['kitchen_area'].isna().sum())\n",
    "df.dropna(subset = ['kitchen_area'], inplace = True)\n",
    "print('Пропуски в kitchen_area после обработки .dropna():', df['kitchen_area'].isna().sum())"
   ]
  },
  {
   "cell_type": "markdown",
   "metadata": {},
   "source": [
    "Заменю пропуски в 'is_apartment' на 'False', поскольку это не является важным фактором.    \n",
    "Судя по всему, владелец не вводил эти данные, следовательно, скорее всего, это не апартаменты."
   ]
  },
  {
   "cell_type": "code",
   "execution_count": 6,
   "metadata": {},
   "outputs": [
    {
     "name": "stdout",
     "output_type": "stream",
     "text": [
      "Пропуски в is_apartment после обработки: 0\n"
     ]
    }
   ],
   "source": [
    "df.loc[df['is_apartment'].isna(),'is_apartment'] = False\n",
    "print('Пропуски в is_apartment после обработки:', df['is_apartment'].isna().sum())"
   ]
  },
  {
   "cell_type": "markdown",
   "metadata": {},
   "source": [
    "Теперь столбец 'balcony'. Если указано пустое значение, то, скорее всего, балкона нет, поэтому проставлю просто 0."
   ]
  },
  {
   "cell_type": "code",
   "execution_count": 7,
   "metadata": {
    "scrolled": true
   },
   "outputs": [
    {
     "name": "stdout",
     "output_type": "stream",
     "text": [
      "Пропуски в balcony после обработки: 0\n"
     ]
    }
   ],
   "source": [
    "df.loc[df['balcony'].isnull(),'balcony'] = 0\n",
    "print('Пропуски в balcony после обработки:', df['balcony'].isna().sum())"
   ]
  },
  {
   "cell_type": "markdown",
   "metadata": {},
   "source": [
    "Перейду теперь к данным, заполненным автоматически.    \n",
    "Просмотрю строки с пустым значением столбца 'cityCenters_nearest' - 'Расстояние до центра':"
   ]
  },
  {
   "cell_type": "code",
   "execution_count": 8,
   "metadata": {},
   "outputs": [
    {
     "data": {
      "text/html": [
       "<div>\n",
       "<style scoped>\n",
       "    .dataframe tbody tr th:only-of-type {\n",
       "        vertical-align: middle;\n",
       "    }\n",
       "\n",
       "    .dataframe tbody tr th {\n",
       "        vertical-align: top;\n",
       "    }\n",
       "\n",
       "    .dataframe thead th {\n",
       "        text-align: right;\n",
       "    }\n",
       "</style>\n",
       "<table border=\"1\" class=\"dataframe\">\n",
       "  <thead>\n",
       "    <tr style=\"text-align: right;\">\n",
       "      <th></th>\n",
       "      <th>total_images</th>\n",
       "      <th>last_price</th>\n",
       "      <th>total_area</th>\n",
       "      <th>first_day_exposition</th>\n",
       "      <th>rooms</th>\n",
       "      <th>ceiling_height</th>\n",
       "      <th>floors_total</th>\n",
       "      <th>living_area</th>\n",
       "      <th>floor</th>\n",
       "      <th>is_apartment</th>\n",
       "      <th>studio</th>\n",
       "      <th>open_plan</th>\n",
       "      <th>kitchen_area</th>\n",
       "      <th>balcony</th>\n",
       "      <th>locality_name</th>\n",
       "      <th>airports_nearest</th>\n",
       "      <th>cityCenters_nearest</th>\n",
       "      <th>parks_around3000</th>\n",
       "      <th>parks_nearest</th>\n",
       "      <th>ponds_around3000</th>\n",
       "      <th>ponds_nearest</th>\n",
       "      <th>days_exposition</th>\n",
       "    </tr>\n",
       "  </thead>\n",
       "  <tbody>\n",
       "    <tr>\n",
       "      <td>5</td>\n",
       "      <td>10</td>\n",
       "      <td>2890000.0</td>\n",
       "      <td>30.40</td>\n",
       "      <td>2018-09-10T00:00:00</td>\n",
       "      <td>1</td>\n",
       "      <td>2.65</td>\n",
       "      <td>12.0</td>\n",
       "      <td>14.40</td>\n",
       "      <td>5</td>\n",
       "      <td>False</td>\n",
       "      <td>False</td>\n",
       "      <td>False</td>\n",
       "      <td>9.10</td>\n",
       "      <td>0.0</td>\n",
       "      <td>городской посёлок Янино-1</td>\n",
       "      <td>NaN</td>\n",
       "      <td>NaN</td>\n",
       "      <td>NaN</td>\n",
       "      <td>NaN</td>\n",
       "      <td>NaN</td>\n",
       "      <td>NaN</td>\n",
       "      <td>55.0</td>\n",
       "    </tr>\n",
       "    <tr>\n",
       "      <td>8</td>\n",
       "      <td>20</td>\n",
       "      <td>2900000.0</td>\n",
       "      <td>33.16</td>\n",
       "      <td>2018-05-23T00:00:00</td>\n",
       "      <td>1</td>\n",
       "      <td>2.65</td>\n",
       "      <td>27.0</td>\n",
       "      <td>15.43</td>\n",
       "      <td>26</td>\n",
       "      <td>False</td>\n",
       "      <td>False</td>\n",
       "      <td>False</td>\n",
       "      <td>8.81</td>\n",
       "      <td>0.0</td>\n",
       "      <td>посёлок Мурино</td>\n",
       "      <td>NaN</td>\n",
       "      <td>NaN</td>\n",
       "      <td>NaN</td>\n",
       "      <td>NaN</td>\n",
       "      <td>NaN</td>\n",
       "      <td>NaN</td>\n",
       "      <td>189.0</td>\n",
       "    </tr>\n",
       "    <tr>\n",
       "      <td>12</td>\n",
       "      <td>10</td>\n",
       "      <td>3890000.0</td>\n",
       "      <td>54.00</td>\n",
       "      <td>2016-06-30T00:00:00</td>\n",
       "      <td>2</td>\n",
       "      <td>2.65</td>\n",
       "      <td>5.0</td>\n",
       "      <td>30.00</td>\n",
       "      <td>5</td>\n",
       "      <td>False</td>\n",
       "      <td>False</td>\n",
       "      <td>False</td>\n",
       "      <td>9.00</td>\n",
       "      <td>0.0</td>\n",
       "      <td>Сертолово</td>\n",
       "      <td>NaN</td>\n",
       "      <td>NaN</td>\n",
       "      <td>NaN</td>\n",
       "      <td>NaN</td>\n",
       "      <td>NaN</td>\n",
       "      <td>NaN</td>\n",
       "      <td>90.0</td>\n",
       "    </tr>\n",
       "    <tr>\n",
       "      <td>22</td>\n",
       "      <td>20</td>\n",
       "      <td>5000000.0</td>\n",
       "      <td>58.00</td>\n",
       "      <td>2017-04-24T00:00:00</td>\n",
       "      <td>2</td>\n",
       "      <td>2.75</td>\n",
       "      <td>25.0</td>\n",
       "      <td>30.00</td>\n",
       "      <td>15</td>\n",
       "      <td>False</td>\n",
       "      <td>False</td>\n",
       "      <td>False</td>\n",
       "      <td>11.00</td>\n",
       "      <td>2.0</td>\n",
       "      <td>деревня Кудрово</td>\n",
       "      <td>NaN</td>\n",
       "      <td>NaN</td>\n",
       "      <td>NaN</td>\n",
       "      <td>NaN</td>\n",
       "      <td>NaN</td>\n",
       "      <td>NaN</td>\n",
       "      <td>60.0</td>\n",
       "    </tr>\n",
       "    <tr>\n",
       "      <td>38</td>\n",
       "      <td>10</td>\n",
       "      <td>3150000.0</td>\n",
       "      <td>40.00</td>\n",
       "      <td>2018-03-29T00:00:00</td>\n",
       "      <td>1</td>\n",
       "      <td>2.75</td>\n",
       "      <td>18.0</td>\n",
       "      <td>16.30</td>\n",
       "      <td>9</td>\n",
       "      <td>False</td>\n",
       "      <td>False</td>\n",
       "      <td>False</td>\n",
       "      <td>11.60</td>\n",
       "      <td>0.0</td>\n",
       "      <td>посёлок Мурино</td>\n",
       "      <td>NaN</td>\n",
       "      <td>NaN</td>\n",
       "      <td>NaN</td>\n",
       "      <td>NaN</td>\n",
       "      <td>NaN</td>\n",
       "      <td>NaN</td>\n",
       "      <td>103.0</td>\n",
       "    </tr>\n",
       "  </tbody>\n",
       "</table>\n",
       "</div>"
      ],
      "text/plain": [
       "    total_images  last_price  total_area first_day_exposition  rooms  \\\n",
       "5             10   2890000.0       30.40  2018-09-10T00:00:00      1   \n",
       "8             20   2900000.0       33.16  2018-05-23T00:00:00      1   \n",
       "12            10   3890000.0       54.00  2016-06-30T00:00:00      2   \n",
       "22            20   5000000.0       58.00  2017-04-24T00:00:00      2   \n",
       "38            10   3150000.0       40.00  2018-03-29T00:00:00      1   \n",
       "\n",
       "    ceiling_height  floors_total  living_area  floor  is_apartment  studio  \\\n",
       "5             2.65          12.0        14.40      5         False   False   \n",
       "8             2.65          27.0        15.43     26         False   False   \n",
       "12            2.65           5.0        30.00      5         False   False   \n",
       "22            2.75          25.0        30.00     15         False   False   \n",
       "38            2.75          18.0        16.30      9         False   False   \n",
       "\n",
       "    open_plan  kitchen_area  balcony              locality_name  \\\n",
       "5       False          9.10      0.0  городской посёлок Янино-1   \n",
       "8       False          8.81      0.0             посёлок Мурино   \n",
       "12      False          9.00      0.0                  Сертолово   \n",
       "22      False         11.00      2.0            деревня Кудрово   \n",
       "38      False         11.60      0.0             посёлок Мурино   \n",
       "\n",
       "    airports_nearest  cityCenters_nearest  parks_around3000  parks_nearest  \\\n",
       "5                NaN                  NaN               NaN            NaN   \n",
       "8                NaN                  NaN               NaN            NaN   \n",
       "12               NaN                  NaN               NaN            NaN   \n",
       "22               NaN                  NaN               NaN            NaN   \n",
       "38               NaN                  NaN               NaN            NaN   \n",
       "\n",
       "    ponds_around3000  ponds_nearest  days_exposition  \n",
       "5                NaN            NaN             55.0  \n",
       "8                NaN            NaN            189.0  \n",
       "12               NaN            NaN             90.0  \n",
       "22               NaN            NaN             60.0  \n",
       "38               NaN            NaN            103.0  "
      ]
     },
     "execution_count": 8,
     "metadata": {},
     "output_type": "execute_result"
    }
   ],
   "source": [
    "df[df['cityCenters_nearest'].isna()].head()"
   ]
  },
  {
   "cell_type": "markdown",
   "metadata": {},
   "source": [
    "Посмотрю, может быть, их можно заполнить медианой по городу:"
   ]
  },
  {
   "cell_type": "code",
   "execution_count": 9,
   "metadata": {
    "scrolled": true
   },
   "outputs": [
    {
     "name": "stdout",
     "output_type": "stream",
     "text": [
      "Значения, которые присутствуют в cityCenters_nearest: [nan] \n",
      "\n",
      "\n"
     ]
    }
   ],
   "source": [
    "print('Значения, которые присутствуют в cityCenters_nearest:', df[df['locality_name'] == 'посёлок Мурино']\n",
    "      ['cityCenters_nearest'].unique(),'\\n\\n')\n",
    "sd=df[df['locality_name'] == 'деревня Кудрово'].head()"
   ]
  },
  {
   "cell_type": "markdown",
   "metadata": {},
   "source": [
    "Вижу результат выполнения программы - [nan].   \n",
    "Думаю, что это какой-то сбой программы, поскольку некоторые населенные пункты просто не получается просчитать.    \n",
    "В данной работы мы не учитываем этот фактор при анализе, поэтому удалять такие данные не буду."
   ]
  },
  {
   "cell_type": "code",
   "execution_count": 10,
   "metadata": {},
   "outputs": [
    {
     "name": "stdout",
     "output_type": "stream",
     "text": [
      "<class 'pandas.core.frame.DataFrame'>\n",
      "Int64Index: 20982 entries, 0 to 23698\n",
      "Data columns (total 22 columns):\n",
      "total_images            20982 non-null int64\n",
      "last_price              20982 non-null float64\n",
      "total_area              20982 non-null float64\n",
      "first_day_exposition    20982 non-null object\n",
      "rooms                   20982 non-null int64\n",
      "ceiling_height          20982 non-null float64\n",
      "floors_total            20943 non-null float64\n",
      "living_area             20982 non-null float64\n",
      "floor                   20982 non-null int64\n",
      "is_apartment            20982 non-null bool\n",
      "studio                  20982 non-null bool\n",
      "open_plan               20982 non-null bool\n",
      "kitchen_area            20982 non-null float64\n",
      "balcony                 20982 non-null float64\n",
      "locality_name           20943 non-null object\n",
      "airports_nearest        16308 non-null float64\n",
      "cityCenters_nearest     16329 non-null float64\n",
      "parks_around3000        16330 non-null float64\n",
      "parks_nearest           7266 non-null float64\n",
      "ponds_around3000        16330 non-null float64\n",
      "ponds_nearest           8100 non-null float64\n",
      "days_exposition         18091 non-null float64\n",
      "dtypes: bool(3), float64(14), int64(3), object(2)\n",
      "memory usage: 3.3+ MB\n"
     ]
    }
   ],
   "source": [
    "df.info() #перепроверю"
   ]
  },
  {
   "cell_type": "markdown",
   "metadata": {},
   "source": [
    "Удалим строки без названия населенного пункта (хорошо, что их всего около 30):"
   ]
  },
  {
   "cell_type": "code",
   "execution_count": 11,
   "metadata": {},
   "outputs": [],
   "source": [
    "df.dropna(subset = ['locality_name'], inplace = True)"
   ]
  },
  {
   "cell_type": "markdown",
   "metadata": {},
   "source": [
    "Убедимся, что нет дупликатов:"
   ]
  },
  {
   "cell_type": "code",
   "execution_count": 12,
   "metadata": {},
   "outputs": [
    {
     "name": "stdout",
     "output_type": "stream",
     "text": [
      "0\n"
     ]
    }
   ],
   "source": [
    "print(df.duplicated().sum())"
   ]
  },
  {
   "cell_type": "markdown",
   "metadata": {},
   "source": [
    "### Изменение типов данных"
   ]
  },
  {
   "cell_type": "markdown",
   "metadata": {},
   "source": [
    "Думаю, остальные данные можно не трогать, поэтому займусь изменением типов данных.    \n",
    "Для начала переведу большинство float64 в int64 для зрительного удобства.    \n",
    "Оставлю только 'total_area', 'ceiling_height', 'floors_total', 'living_area', 'kitchen_area'. "
   ]
  },
  {
   "cell_type": "code",
   "execution_count": 13,
   "metadata": {},
   "outputs": [
    {
     "data": {
      "text/html": [
       "<div>\n",
       "<style scoped>\n",
       "    .dataframe tbody tr th:only-of-type {\n",
       "        vertical-align: middle;\n",
       "    }\n",
       "\n",
       "    .dataframe tbody tr th {\n",
       "        vertical-align: top;\n",
       "    }\n",
       "\n",
       "    .dataframe thead th {\n",
       "        text-align: right;\n",
       "    }\n",
       "</style>\n",
       "<table border=\"1\" class=\"dataframe\">\n",
       "  <thead>\n",
       "    <tr style=\"text-align: right;\">\n",
       "      <th></th>\n",
       "      <th>total_images</th>\n",
       "      <th>last_price</th>\n",
       "      <th>total_area</th>\n",
       "      <th>first_day_exposition</th>\n",
       "      <th>rooms</th>\n",
       "      <th>ceiling_height</th>\n",
       "      <th>floors_total</th>\n",
       "      <th>living_area</th>\n",
       "      <th>floor</th>\n",
       "      <th>is_apartment</th>\n",
       "      <th>studio</th>\n",
       "      <th>open_plan</th>\n",
       "      <th>kitchen_area</th>\n",
       "      <th>balcony</th>\n",
       "      <th>locality_name</th>\n",
       "      <th>airports_nearest</th>\n",
       "      <th>cityCenters_nearest</th>\n",
       "      <th>parks_around3000</th>\n",
       "      <th>parks_nearest</th>\n",
       "      <th>ponds_around3000</th>\n",
       "      <th>ponds_nearest</th>\n",
       "      <th>days_exposition</th>\n",
       "    </tr>\n",
       "  </thead>\n",
       "  <tbody>\n",
       "    <tr>\n",
       "      <td>0</td>\n",
       "      <td>20</td>\n",
       "      <td>13000000</td>\n",
       "      <td>108.0</td>\n",
       "      <td>2019-03-07T00:00:00</td>\n",
       "      <td>3</td>\n",
       "      <td>2.70</td>\n",
       "      <td>16</td>\n",
       "      <td>51.0</td>\n",
       "      <td>8</td>\n",
       "      <td>False</td>\n",
       "      <td>False</td>\n",
       "      <td>False</td>\n",
       "      <td>25.0</td>\n",
       "      <td>0</td>\n",
       "      <td>Санкт-Петербург</td>\n",
       "      <td>18863</td>\n",
       "      <td>16028</td>\n",
       "      <td>1.0</td>\n",
       "      <td>482</td>\n",
       "      <td>2</td>\n",
       "      <td>755</td>\n",
       "      <td>NaN</td>\n",
       "    </tr>\n",
       "    <tr>\n",
       "      <td>1</td>\n",
       "      <td>7</td>\n",
       "      <td>3350000</td>\n",
       "      <td>40.4</td>\n",
       "      <td>2018-12-04T00:00:00</td>\n",
       "      <td>1</td>\n",
       "      <td>2.65</td>\n",
       "      <td>11</td>\n",
       "      <td>18.6</td>\n",
       "      <td>1</td>\n",
       "      <td>False</td>\n",
       "      <td>False</td>\n",
       "      <td>False</td>\n",
       "      <td>11.0</td>\n",
       "      <td>2</td>\n",
       "      <td>посёлок Шушары</td>\n",
       "      <td>12817</td>\n",
       "      <td>18603</td>\n",
       "      <td>0.0</td>\n",
       "      <td>NaN</td>\n",
       "      <td>0</td>\n",
       "      <td>NaN</td>\n",
       "      <td>81.0</td>\n",
       "    </tr>\n",
       "    <tr>\n",
       "      <td>2</td>\n",
       "      <td>10</td>\n",
       "      <td>5196000</td>\n",
       "      <td>56.0</td>\n",
       "      <td>2015-08-20T00:00:00</td>\n",
       "      <td>2</td>\n",
       "      <td>2.65</td>\n",
       "      <td>5</td>\n",
       "      <td>34.3</td>\n",
       "      <td>4</td>\n",
       "      <td>False</td>\n",
       "      <td>False</td>\n",
       "      <td>False</td>\n",
       "      <td>8.3</td>\n",
       "      <td>0</td>\n",
       "      <td>Санкт-Петербург</td>\n",
       "      <td>21741</td>\n",
       "      <td>13933</td>\n",
       "      <td>1.0</td>\n",
       "      <td>90</td>\n",
       "      <td>2</td>\n",
       "      <td>574</td>\n",
       "      <td>558.0</td>\n",
       "    </tr>\n",
       "    <tr>\n",
       "      <td>4</td>\n",
       "      <td>2</td>\n",
       "      <td>10000000</td>\n",
       "      <td>100.0</td>\n",
       "      <td>2018-06-19T00:00:00</td>\n",
       "      <td>2</td>\n",
       "      <td>3.03</td>\n",
       "      <td>14</td>\n",
       "      <td>32.0</td>\n",
       "      <td>13</td>\n",
       "      <td>False</td>\n",
       "      <td>False</td>\n",
       "      <td>False</td>\n",
       "      <td>41.0</td>\n",
       "      <td>0</td>\n",
       "      <td>Санкт-Петербург</td>\n",
       "      <td>31856</td>\n",
       "      <td>8098</td>\n",
       "      <td>2.0</td>\n",
       "      <td>112</td>\n",
       "      <td>1</td>\n",
       "      <td>48</td>\n",
       "      <td>121.0</td>\n",
       "    </tr>\n",
       "    <tr>\n",
       "      <td>5</td>\n",
       "      <td>10</td>\n",
       "      <td>2890000</td>\n",
       "      <td>30.4</td>\n",
       "      <td>2018-09-10T00:00:00</td>\n",
       "      <td>1</td>\n",
       "      <td>2.65</td>\n",
       "      <td>12</td>\n",
       "      <td>14.4</td>\n",
       "      <td>5</td>\n",
       "      <td>False</td>\n",
       "      <td>False</td>\n",
       "      <td>False</td>\n",
       "      <td>9.1</td>\n",
       "      <td>0</td>\n",
       "      <td>городской посёлок Янино-1</td>\n",
       "      <td>NaN</td>\n",
       "      <td>NaN</td>\n",
       "      <td>NaN</td>\n",
       "      <td>NaN</td>\n",
       "      <td>NaN</td>\n",
       "      <td>NaN</td>\n",
       "      <td>55.0</td>\n",
       "    </tr>\n",
       "  </tbody>\n",
       "</table>\n",
       "</div>"
      ],
      "text/plain": [
       "   total_images  last_price  total_area first_day_exposition  rooms  \\\n",
       "0            20    13000000       108.0  2019-03-07T00:00:00      3   \n",
       "1             7     3350000        40.4  2018-12-04T00:00:00      1   \n",
       "2            10     5196000        56.0  2015-08-20T00:00:00      2   \n",
       "4             2    10000000       100.0  2018-06-19T00:00:00      2   \n",
       "5            10     2890000        30.4  2018-09-10T00:00:00      1   \n",
       "\n",
       "   ceiling_height  floors_total  living_area  floor  is_apartment  studio  \\\n",
       "0            2.70            16         51.0      8         False   False   \n",
       "1            2.65            11         18.6      1         False   False   \n",
       "2            2.65             5         34.3      4         False   False   \n",
       "4            3.03            14         32.0     13         False   False   \n",
       "5            2.65            12         14.4      5         False   False   \n",
       "\n",
       "   open_plan  kitchen_area  balcony              locality_name  \\\n",
       "0      False          25.0        0            Санкт-Петербург   \n",
       "1      False          11.0        2             посёлок Шушары   \n",
       "2      False           8.3        0            Санкт-Петербург   \n",
       "4      False          41.0        0            Санкт-Петербург   \n",
       "5      False           9.1        0  городской посёлок Янино-1   \n",
       "\n",
       "   airports_nearest  cityCenters_nearest  parks_around3000  parks_nearest  \\\n",
       "0             18863                16028               1.0            482   \n",
       "1             12817                18603               0.0            NaN   \n",
       "2             21741                13933               1.0             90   \n",
       "4             31856                 8098               2.0            112   \n",
       "5               NaN                  NaN               NaN            NaN   \n",
       "\n",
       "   ponds_around3000  ponds_nearest  days_exposition  \n",
       "0                 2            755              NaN  \n",
       "1                 0            NaN             81.0  \n",
       "2                 2            574            558.0  \n",
       "4                 1             48            121.0  \n",
       "5               NaN            NaN             55.0  "
      ]
     },
     "execution_count": 13,
     "metadata": {},
     "output_type": "execute_result"
    }
   ],
   "source": [
    "columns_name = ['balcony','last_price','floors_total','days_exposition','ponds_nearest','ponds_around3000',\n",
    "             'parks_nearest','cityCenters_nearest','airports_nearest']\n",
    "def func_to_int(data, name):\n",
    "    data[name] = data.loc[data[name].notna(),name].astype('Int32', errors='ignore')\n",
    "    return data\n",
    "for row in columns_name:\n",
    "    df = func_to_int(df,row)\n",
    "df.head()"
   ]
  },
  {
   "cell_type": "markdown",
   "metadata": {},
   "source": [
    "Поменяю тип столбца 'first_day_exposition' в 'datetime64' и посмотрю общую информацию о данных после обработки."
   ]
  },
  {
   "cell_type": "code",
   "execution_count": 14,
   "metadata": {},
   "outputs": [],
   "source": [
    "df['first_day_exposition'] = df['first_day_exposition'].astype('datetime64')"
   ]
  },
  {
   "cell_type": "code",
   "execution_count": 15,
   "metadata": {
    "scrolled": true
   },
   "outputs": [
    {
     "name": "stdout",
     "output_type": "stream",
     "text": [
      "<class 'pandas.core.frame.DataFrame'>\n",
      "Int64Index: 20943 entries, 0 to 23698\n",
      "Data columns (total 22 columns):\n",
      "total_images            20943 non-null int64\n",
      "last_price              20943 non-null Int32\n",
      "total_area              20943 non-null float64\n",
      "first_day_exposition    20943 non-null datetime64[ns]\n",
      "rooms                   20943 non-null int64\n",
      "ceiling_height          20943 non-null float64\n",
      "floors_total            20905 non-null Int32\n",
      "living_area             20943 non-null float64\n",
      "floor                   20943 non-null int64\n",
      "is_apartment            20943 non-null bool\n",
      "studio                  20943 non-null bool\n",
      "open_plan               20943 non-null bool\n",
      "kitchen_area            20943 non-null float64\n",
      "balcony                 20943 non-null Int32\n",
      "locality_name           20943 non-null object\n",
      "airports_nearest        16275 non-null Int32\n",
      "cityCenters_nearest     16296 non-null Int32\n",
      "parks_around3000        16297 non-null float64\n",
      "parks_nearest           7252 non-null Int32\n",
      "ponds_around3000        16297 non-null Int32\n",
      "ponds_nearest           8079 non-null Int32\n",
      "days_exposition         18053 non-null float64\n",
      "dtypes: Int32(8), bool(3), datetime64[ns](1), float64(6), int64(3), object(1)\n",
      "memory usage: 2.8+ MB\n",
      "None\n"
     ]
    }
   ],
   "source": [
    "print(df.info())\n",
    "df_to_end = df"
   ]
  },
  {
   "cell_type": "markdown",
   "metadata": {},
   "source": [
    "Теперь данные готовы для дальнейшего анализа."
   ]
  },
  {
   "cell_type": "markdown",
   "metadata": {},
   "source": [
    "### Шаг 3. Расчёты и добавление столбцов в таблицу"
   ]
  },
  {
   "cell_type": "markdown",
   "metadata": {},
   "source": [
    "Добавлю в таблицу для дальнейшего анализа:   \n",
    "а) цену квадратного метра;   \n",
    "б) день недели, месяц и год публикации объявления;     \n",
    "в) этаж квартиры (первый, последний, другой);      \n",
    "г) соотношение жилой и общей площади, а также отношение площади кухни к общей.   "
   ]
  },
  {
   "cell_type": "code",
   "execution_count": 16,
   "metadata": {},
   "outputs": [
    {
     "data": {
      "text/html": [
       "<div>\n",
       "<style scoped>\n",
       "    .dataframe tbody tr th:only-of-type {\n",
       "        vertical-align: middle;\n",
       "    }\n",
       "\n",
       "    .dataframe tbody tr th {\n",
       "        vertical-align: top;\n",
       "    }\n",
       "\n",
       "    .dataframe thead th {\n",
       "        text-align: right;\n",
       "    }\n",
       "</style>\n",
       "<table border=\"1\" class=\"dataframe\">\n",
       "  <thead>\n",
       "    <tr style=\"text-align: right;\">\n",
       "      <th></th>\n",
       "      <th>total_images</th>\n",
       "      <th>last_price</th>\n",
       "      <th>total_area</th>\n",
       "      <th>first_day_exposition</th>\n",
       "      <th>rooms</th>\n",
       "      <th>ceiling_height</th>\n",
       "      <th>floors_total</th>\n",
       "      <th>living_area</th>\n",
       "      <th>floor</th>\n",
       "      <th>is_apartment</th>\n",
       "      <th>studio</th>\n",
       "      <th>open_plan</th>\n",
       "      <th>kitchen_area</th>\n",
       "      <th>balcony</th>\n",
       "      <th>locality_name</th>\n",
       "      <th>airports_nearest</th>\n",
       "      <th>cityCenters_nearest</th>\n",
       "      <th>parks_around3000</th>\n",
       "      <th>parks_nearest</th>\n",
       "      <th>ponds_around3000</th>\n",
       "      <th>ponds_nearest</th>\n",
       "      <th>days_exposition</th>\n",
       "      <th>price_per_meter</th>\n",
       "      <th>day_of_week</th>\n",
       "      <th>day_of_week_name</th>\n",
       "      <th>month</th>\n",
       "      <th>year</th>\n",
       "    </tr>\n",
       "  </thead>\n",
       "  <tbody>\n",
       "    <tr>\n",
       "      <td>0</td>\n",
       "      <td>20</td>\n",
       "      <td>13000000</td>\n",
       "      <td>108.0</td>\n",
       "      <td>2019-03-07</td>\n",
       "      <td>3</td>\n",
       "      <td>2.70</td>\n",
       "      <td>16</td>\n",
       "      <td>51.0</td>\n",
       "      <td>8</td>\n",
       "      <td>False</td>\n",
       "      <td>False</td>\n",
       "      <td>False</td>\n",
       "      <td>25.0</td>\n",
       "      <td>0</td>\n",
       "      <td>Санкт-Петербург</td>\n",
       "      <td>18863</td>\n",
       "      <td>16028</td>\n",
       "      <td>1.0</td>\n",
       "      <td>482</td>\n",
       "      <td>2</td>\n",
       "      <td>755</td>\n",
       "      <td>NaN</td>\n",
       "      <td>120370.370370</td>\n",
       "      <td>7</td>\n",
       "      <td>Thursday</td>\n",
       "      <td>3</td>\n",
       "      <td>2019</td>\n",
       "    </tr>\n",
       "    <tr>\n",
       "      <td>1</td>\n",
       "      <td>7</td>\n",
       "      <td>3350000</td>\n",
       "      <td>40.4</td>\n",
       "      <td>2018-12-04</td>\n",
       "      <td>1</td>\n",
       "      <td>2.65</td>\n",
       "      <td>11</td>\n",
       "      <td>18.6</td>\n",
       "      <td>1</td>\n",
       "      <td>False</td>\n",
       "      <td>False</td>\n",
       "      <td>False</td>\n",
       "      <td>11.0</td>\n",
       "      <td>2</td>\n",
       "      <td>посёлок Шушары</td>\n",
       "      <td>12817</td>\n",
       "      <td>18603</td>\n",
       "      <td>0.0</td>\n",
       "      <td>NaN</td>\n",
       "      <td>0</td>\n",
       "      <td>NaN</td>\n",
       "      <td>81.0</td>\n",
       "      <td>82920.792079</td>\n",
       "      <td>4</td>\n",
       "      <td>Tuesday</td>\n",
       "      <td>12</td>\n",
       "      <td>2018</td>\n",
       "    </tr>\n",
       "    <tr>\n",
       "      <td>2</td>\n",
       "      <td>10</td>\n",
       "      <td>5196000</td>\n",
       "      <td>56.0</td>\n",
       "      <td>2015-08-20</td>\n",
       "      <td>2</td>\n",
       "      <td>2.65</td>\n",
       "      <td>5</td>\n",
       "      <td>34.3</td>\n",
       "      <td>4</td>\n",
       "      <td>False</td>\n",
       "      <td>False</td>\n",
       "      <td>False</td>\n",
       "      <td>8.3</td>\n",
       "      <td>0</td>\n",
       "      <td>Санкт-Петербург</td>\n",
       "      <td>21741</td>\n",
       "      <td>13933</td>\n",
       "      <td>1.0</td>\n",
       "      <td>90</td>\n",
       "      <td>2</td>\n",
       "      <td>574</td>\n",
       "      <td>558.0</td>\n",
       "      <td>92785.714286</td>\n",
       "      <td>20</td>\n",
       "      <td>Thursday</td>\n",
       "      <td>8</td>\n",
       "      <td>2015</td>\n",
       "    </tr>\n",
       "    <tr>\n",
       "      <td>4</td>\n",
       "      <td>2</td>\n",
       "      <td>10000000</td>\n",
       "      <td>100.0</td>\n",
       "      <td>2018-06-19</td>\n",
       "      <td>2</td>\n",
       "      <td>3.03</td>\n",
       "      <td>14</td>\n",
       "      <td>32.0</td>\n",
       "      <td>13</td>\n",
       "      <td>False</td>\n",
       "      <td>False</td>\n",
       "      <td>False</td>\n",
       "      <td>41.0</td>\n",
       "      <td>0</td>\n",
       "      <td>Санкт-Петербург</td>\n",
       "      <td>31856</td>\n",
       "      <td>8098</td>\n",
       "      <td>2.0</td>\n",
       "      <td>112</td>\n",
       "      <td>1</td>\n",
       "      <td>48</td>\n",
       "      <td>121.0</td>\n",
       "      <td>100000.000000</td>\n",
       "      <td>19</td>\n",
       "      <td>Tuesday</td>\n",
       "      <td>6</td>\n",
       "      <td>2018</td>\n",
       "    </tr>\n",
       "    <tr>\n",
       "      <td>5</td>\n",
       "      <td>10</td>\n",
       "      <td>2890000</td>\n",
       "      <td>30.4</td>\n",
       "      <td>2018-09-10</td>\n",
       "      <td>1</td>\n",
       "      <td>2.65</td>\n",
       "      <td>12</td>\n",
       "      <td>14.4</td>\n",
       "      <td>5</td>\n",
       "      <td>False</td>\n",
       "      <td>False</td>\n",
       "      <td>False</td>\n",
       "      <td>9.1</td>\n",
       "      <td>0</td>\n",
       "      <td>городской посёлок Янино-1</td>\n",
       "      <td>NaN</td>\n",
       "      <td>NaN</td>\n",
       "      <td>NaN</td>\n",
       "      <td>NaN</td>\n",
       "      <td>NaN</td>\n",
       "      <td>NaN</td>\n",
       "      <td>55.0</td>\n",
       "      <td>95065.789474</td>\n",
       "      <td>10</td>\n",
       "      <td>Monday</td>\n",
       "      <td>9</td>\n",
       "      <td>2018</td>\n",
       "    </tr>\n",
       "  </tbody>\n",
       "</table>\n",
       "</div>"
      ],
      "text/plain": [
       "   total_images  last_price  total_area first_day_exposition  rooms  \\\n",
       "0            20    13000000       108.0           2019-03-07      3   \n",
       "1             7     3350000        40.4           2018-12-04      1   \n",
       "2            10     5196000        56.0           2015-08-20      2   \n",
       "4             2    10000000       100.0           2018-06-19      2   \n",
       "5            10     2890000        30.4           2018-09-10      1   \n",
       "\n",
       "   ceiling_height  floors_total  living_area  floor  is_apartment  studio  \\\n",
       "0            2.70            16         51.0      8         False   False   \n",
       "1            2.65            11         18.6      1         False   False   \n",
       "2            2.65             5         34.3      4         False   False   \n",
       "4            3.03            14         32.0     13         False   False   \n",
       "5            2.65            12         14.4      5         False   False   \n",
       "\n",
       "   open_plan  kitchen_area  balcony              locality_name  \\\n",
       "0      False          25.0        0            Санкт-Петербург   \n",
       "1      False          11.0        2             посёлок Шушары   \n",
       "2      False           8.3        0            Санкт-Петербург   \n",
       "4      False          41.0        0            Санкт-Петербург   \n",
       "5      False           9.1        0  городской посёлок Янино-1   \n",
       "\n",
       "   airports_nearest  cityCenters_nearest  parks_around3000  parks_nearest  \\\n",
       "0             18863                16028               1.0            482   \n",
       "1             12817                18603               0.0            NaN   \n",
       "2             21741                13933               1.0             90   \n",
       "4             31856                 8098               2.0            112   \n",
       "5               NaN                  NaN               NaN            NaN   \n",
       "\n",
       "   ponds_around3000  ponds_nearest  days_exposition  price_per_meter  \\\n",
       "0                 2            755              NaN    120370.370370   \n",
       "1                 0            NaN             81.0     82920.792079   \n",
       "2                 2            574            558.0     92785.714286   \n",
       "4                 1             48            121.0    100000.000000   \n",
       "5               NaN            NaN             55.0     95065.789474   \n",
       "\n",
       "   day_of_week day_of_week_name  month  year  \n",
       "0            7         Thursday      3  2019  \n",
       "1            4          Tuesday     12  2018  \n",
       "2           20         Thursday      8  2015  \n",
       "4           19          Tuesday      6  2018  \n",
       "5           10           Monday      9  2018  "
      ]
     },
     "execution_count": 16,
     "metadata": {},
     "output_type": "execute_result"
    }
   ],
   "source": [
    "df['price_per_meter'] = df['last_price'] / df['total_area']\n",
    "df['day_of_week'] = pd.DatetimeIndex(df['first_day_exposition']).day\n",
    "df['day_of_week_name'] = df['first_day_exposition'].dt.weekday_name\n",
    "df['month'] = pd.DatetimeIndex(df['first_day_exposition']).month\n",
    "df['year'] = pd.DatetimeIndex(df['first_day_exposition']).year\n",
    "df.head() #проверю"
   ]
  },
  {
   "cell_type": "markdown",
   "metadata": {},
   "source": [
    "Напишу функцию для определения этажа квартиры:"
   ]
  },
  {
   "cell_type": "code",
   "execution_count": 17,
   "metadata": {},
   "outputs": [
    {
     "data": {
      "text/plain": [
       "array(['Другой', 'Первый', 'Последний'], dtype=object)"
      ]
     },
     "execution_count": 17,
     "metadata": {},
     "output_type": "execute_result"
    }
   ],
   "source": [
    "def find_floor(line):\n",
    "    total_floors = line['floors_total']\n",
    "    floor = line['floor']\n",
    "    if floor == total_floors:\n",
    "        return 'Последний'\n",
    "    elif floor == 1:\n",
    "        return 'Первый'\n",
    "    else:\n",
    "        return 'Другой'\n",
    "df['floor_type'] = df.apply(find_floor, axis=1)\n",
    "df['floor_type'].unique()"
   ]
  },
  {
   "cell_type": "markdown",
   "metadata": {},
   "source": [
    "Добавлю последние два столбца:\n",
    "1) соотношение жилой площади к общей;    \n",
    "2) отношение площади кухни к общей."
   ]
  },
  {
   "cell_type": "code",
   "execution_count": 18,
   "metadata": {},
   "outputs": [
    {
     "data": {
      "text/html": [
       "<div>\n",
       "<style scoped>\n",
       "    .dataframe tbody tr th:only-of-type {\n",
       "        vertical-align: middle;\n",
       "    }\n",
       "\n",
       "    .dataframe tbody tr th {\n",
       "        vertical-align: top;\n",
       "    }\n",
       "\n",
       "    .dataframe thead th {\n",
       "        text-align: right;\n",
       "    }\n",
       "</style>\n",
       "<table border=\"1\" class=\"dataframe\">\n",
       "  <thead>\n",
       "    <tr style=\"text-align: right;\">\n",
       "      <th></th>\n",
       "      <th>total_images</th>\n",
       "      <th>last_price</th>\n",
       "      <th>total_area</th>\n",
       "      <th>first_day_exposition</th>\n",
       "      <th>rooms</th>\n",
       "      <th>ceiling_height</th>\n",
       "      <th>floors_total</th>\n",
       "      <th>living_area</th>\n",
       "      <th>floor</th>\n",
       "      <th>is_apartment</th>\n",
       "      <th>studio</th>\n",
       "      <th>open_plan</th>\n",
       "      <th>kitchen_area</th>\n",
       "      <th>balcony</th>\n",
       "      <th>locality_name</th>\n",
       "      <th>airports_nearest</th>\n",
       "      <th>cityCenters_nearest</th>\n",
       "      <th>parks_around3000</th>\n",
       "      <th>parks_nearest</th>\n",
       "      <th>ponds_around3000</th>\n",
       "      <th>ponds_nearest</th>\n",
       "      <th>days_exposition</th>\n",
       "      <th>price_per_meter</th>\n",
       "      <th>day_of_week</th>\n",
       "      <th>day_of_week_name</th>\n",
       "      <th>month</th>\n",
       "      <th>year</th>\n",
       "      <th>floor_type</th>\n",
       "      <th>living_to_total</th>\n",
       "      <th>kitchen_to_total</th>\n",
       "    </tr>\n",
       "  </thead>\n",
       "  <tbody>\n",
       "    <tr>\n",
       "      <td>0</td>\n",
       "      <td>20</td>\n",
       "      <td>13000000</td>\n",
       "      <td>108.0</td>\n",
       "      <td>2019-03-07</td>\n",
       "      <td>3</td>\n",
       "      <td>2.70</td>\n",
       "      <td>16</td>\n",
       "      <td>51.0</td>\n",
       "      <td>8</td>\n",
       "      <td>False</td>\n",
       "      <td>False</td>\n",
       "      <td>False</td>\n",
       "      <td>25.0</td>\n",
       "      <td>0</td>\n",
       "      <td>Санкт-Петербург</td>\n",
       "      <td>18863</td>\n",
       "      <td>16028</td>\n",
       "      <td>1.0</td>\n",
       "      <td>482</td>\n",
       "      <td>2</td>\n",
       "      <td>755</td>\n",
       "      <td>NaN</td>\n",
       "      <td>120370.370370</td>\n",
       "      <td>7</td>\n",
       "      <td>Thursday</td>\n",
       "      <td>3</td>\n",
       "      <td>2019</td>\n",
       "      <td>Другой</td>\n",
       "      <td>0.472222</td>\n",
       "      <td>0.231481</td>\n",
       "    </tr>\n",
       "    <tr>\n",
       "      <td>1</td>\n",
       "      <td>7</td>\n",
       "      <td>3350000</td>\n",
       "      <td>40.4</td>\n",
       "      <td>2018-12-04</td>\n",
       "      <td>1</td>\n",
       "      <td>2.65</td>\n",
       "      <td>11</td>\n",
       "      <td>18.6</td>\n",
       "      <td>1</td>\n",
       "      <td>False</td>\n",
       "      <td>False</td>\n",
       "      <td>False</td>\n",
       "      <td>11.0</td>\n",
       "      <td>2</td>\n",
       "      <td>посёлок Шушары</td>\n",
       "      <td>12817</td>\n",
       "      <td>18603</td>\n",
       "      <td>0.0</td>\n",
       "      <td>NaN</td>\n",
       "      <td>0</td>\n",
       "      <td>NaN</td>\n",
       "      <td>81.0</td>\n",
       "      <td>82920.792079</td>\n",
       "      <td>4</td>\n",
       "      <td>Tuesday</td>\n",
       "      <td>12</td>\n",
       "      <td>2018</td>\n",
       "      <td>Первый</td>\n",
       "      <td>0.460396</td>\n",
       "      <td>0.272277</td>\n",
       "    </tr>\n",
       "    <tr>\n",
       "      <td>2</td>\n",
       "      <td>10</td>\n",
       "      <td>5196000</td>\n",
       "      <td>56.0</td>\n",
       "      <td>2015-08-20</td>\n",
       "      <td>2</td>\n",
       "      <td>2.65</td>\n",
       "      <td>5</td>\n",
       "      <td>34.3</td>\n",
       "      <td>4</td>\n",
       "      <td>False</td>\n",
       "      <td>False</td>\n",
       "      <td>False</td>\n",
       "      <td>8.3</td>\n",
       "      <td>0</td>\n",
       "      <td>Санкт-Петербург</td>\n",
       "      <td>21741</td>\n",
       "      <td>13933</td>\n",
       "      <td>1.0</td>\n",
       "      <td>90</td>\n",
       "      <td>2</td>\n",
       "      <td>574</td>\n",
       "      <td>558.0</td>\n",
       "      <td>92785.714286</td>\n",
       "      <td>20</td>\n",
       "      <td>Thursday</td>\n",
       "      <td>8</td>\n",
       "      <td>2015</td>\n",
       "      <td>Другой</td>\n",
       "      <td>0.612500</td>\n",
       "      <td>0.148214</td>\n",
       "    </tr>\n",
       "    <tr>\n",
       "      <td>4</td>\n",
       "      <td>2</td>\n",
       "      <td>10000000</td>\n",
       "      <td>100.0</td>\n",
       "      <td>2018-06-19</td>\n",
       "      <td>2</td>\n",
       "      <td>3.03</td>\n",
       "      <td>14</td>\n",
       "      <td>32.0</td>\n",
       "      <td>13</td>\n",
       "      <td>False</td>\n",
       "      <td>False</td>\n",
       "      <td>False</td>\n",
       "      <td>41.0</td>\n",
       "      <td>0</td>\n",
       "      <td>Санкт-Петербург</td>\n",
       "      <td>31856</td>\n",
       "      <td>8098</td>\n",
       "      <td>2.0</td>\n",
       "      <td>112</td>\n",
       "      <td>1</td>\n",
       "      <td>48</td>\n",
       "      <td>121.0</td>\n",
       "      <td>100000.000000</td>\n",
       "      <td>19</td>\n",
       "      <td>Tuesday</td>\n",
       "      <td>6</td>\n",
       "      <td>2018</td>\n",
       "      <td>Другой</td>\n",
       "      <td>0.320000</td>\n",
       "      <td>0.410000</td>\n",
       "    </tr>\n",
       "    <tr>\n",
       "      <td>5</td>\n",
       "      <td>10</td>\n",
       "      <td>2890000</td>\n",
       "      <td>30.4</td>\n",
       "      <td>2018-09-10</td>\n",
       "      <td>1</td>\n",
       "      <td>2.65</td>\n",
       "      <td>12</td>\n",
       "      <td>14.4</td>\n",
       "      <td>5</td>\n",
       "      <td>False</td>\n",
       "      <td>False</td>\n",
       "      <td>False</td>\n",
       "      <td>9.1</td>\n",
       "      <td>0</td>\n",
       "      <td>городской посёлок Янино-1</td>\n",
       "      <td>NaN</td>\n",
       "      <td>NaN</td>\n",
       "      <td>NaN</td>\n",
       "      <td>NaN</td>\n",
       "      <td>NaN</td>\n",
       "      <td>NaN</td>\n",
       "      <td>55.0</td>\n",
       "      <td>95065.789474</td>\n",
       "      <td>10</td>\n",
       "      <td>Monday</td>\n",
       "      <td>9</td>\n",
       "      <td>2018</td>\n",
       "      <td>Другой</td>\n",
       "      <td>0.473684</td>\n",
       "      <td>0.299342</td>\n",
       "    </tr>\n",
       "  </tbody>\n",
       "</table>\n",
       "</div>"
      ],
      "text/plain": [
       "   total_images  last_price  total_area first_day_exposition  rooms  \\\n",
       "0            20    13000000       108.0           2019-03-07      3   \n",
       "1             7     3350000        40.4           2018-12-04      1   \n",
       "2            10     5196000        56.0           2015-08-20      2   \n",
       "4             2    10000000       100.0           2018-06-19      2   \n",
       "5            10     2890000        30.4           2018-09-10      1   \n",
       "\n",
       "   ceiling_height  floors_total  living_area  floor  is_apartment  studio  \\\n",
       "0            2.70            16         51.0      8         False   False   \n",
       "1            2.65            11         18.6      1         False   False   \n",
       "2            2.65             5         34.3      4         False   False   \n",
       "4            3.03            14         32.0     13         False   False   \n",
       "5            2.65            12         14.4      5         False   False   \n",
       "\n",
       "   open_plan  kitchen_area  balcony              locality_name  \\\n",
       "0      False          25.0        0            Санкт-Петербург   \n",
       "1      False          11.0        2             посёлок Шушары   \n",
       "2      False           8.3        0            Санкт-Петербург   \n",
       "4      False          41.0        0            Санкт-Петербург   \n",
       "5      False           9.1        0  городской посёлок Янино-1   \n",
       "\n",
       "   airports_nearest  cityCenters_nearest  parks_around3000  parks_nearest  \\\n",
       "0             18863                16028               1.0            482   \n",
       "1             12817                18603               0.0            NaN   \n",
       "2             21741                13933               1.0             90   \n",
       "4             31856                 8098               2.0            112   \n",
       "5               NaN                  NaN               NaN            NaN   \n",
       "\n",
       "   ponds_around3000  ponds_nearest  days_exposition  price_per_meter  \\\n",
       "0                 2            755              NaN    120370.370370   \n",
       "1                 0            NaN             81.0     82920.792079   \n",
       "2                 2            574            558.0     92785.714286   \n",
       "4                 1             48            121.0    100000.000000   \n",
       "5               NaN            NaN             55.0     95065.789474   \n",
       "\n",
       "   day_of_week day_of_week_name  month  year floor_type  living_to_total  \\\n",
       "0            7         Thursday      3  2019     Другой         0.472222   \n",
       "1            4          Tuesday     12  2018     Первый         0.460396   \n",
       "2           20         Thursday      8  2015     Другой         0.612500   \n",
       "4           19          Tuesday      6  2018     Другой         0.320000   \n",
       "5           10           Monday      9  2018     Другой         0.473684   \n",
       "\n",
       "   kitchen_to_total  \n",
       "0          0.231481  \n",
       "1          0.272277  \n",
       "2          0.148214  \n",
       "4          0.410000  \n",
       "5          0.299342  "
      ]
     },
     "execution_count": 18,
     "metadata": {},
     "output_type": "execute_result"
    }
   ],
   "source": [
    "df['living_to_total'] = df['living_area'] / df['total_area']\n",
    "df['kitchen_to_total'] = df['kitchen_area'] / df['total_area']\n",
    "df.head() #проверю"
   ]
  },
  {
   "cell_type": "markdown",
   "metadata": {},
   "source": [
    "Датафрейм готов к проведению исследования."
   ]
  },
  {
   "cell_type": "markdown",
   "metadata": {},
   "source": [
    "### Шаг 4. Проведите исследовательский анализ данных и выполните инструкции."
   ]
  },
  {
   "cell_type": "markdown",
   "metadata": {},
   "source": [
    "Изучю некоторые параметры датафрейма и построю для них гистограммы.    \n",
    "Начну с площади:"
   ]
  },
  {
   "cell_type": "code",
   "execution_count": 19,
   "metadata": {
    "scrolled": false
   },
   "outputs": [
    {
     "name": "stdout",
     "output_type": "stream",
     "text": [
      "1 ) Площадь\n",
      "count    20943.000000\n",
      "mean        60.532519\n",
      "std         34.509672\n",
      "min         14.000000\n",
      "25%         40.500000\n",
      "50%         52.200000\n",
      "75%         70.000000\n",
      "max        900.000000\n",
      "Name: total_area, dtype: float64\n"
     ]
    },
    {
     "data": {
      "image/png": "[encoded data removed]",
      "text/plain": [
       "<Figure size 432x288 with 1 Axes>"
      ]
     },
     "metadata": {
      "needs_background": "light"
     },
     "output_type": "display_data"
    },
    {
     "name": "stdout",
     "output_type": "stream",
     "text": [
      "2 ) Цена\n",
      "count    2.094300e+04\n",
      "mean     6.506516e+06\n",
      "std      9.599618e+06\n",
      "min      1.219000e+04\n",
      "25%      3.500000e+06\n",
      "50%      4.700000e+06\n",
      "75%      6.800000e+06\n",
      "max      4.200000e+08\n",
      "Name: last_price, dtype: float64\n"
     ]
    },
    {
     "data": {
      "image/png": "[encoded data removed]",
      "text/plain": [
       "<Figure size 432x288 with 1 Axes>"
      ]
     },
     "metadata": {
      "needs_background": "light"
     },
     "output_type": "display_data"
    },
    {
     "name": "stdout",
     "output_type": "stream",
     "text": [
      "3 ) Количество комнат\n",
      "count    20943.000000\n",
      "mean         2.095402\n",
      "std          1.064696\n",
      "min          1.000000\n",
      "25%          1.000000\n",
      "50%          2.000000\n",
      "75%          3.000000\n",
      "max         19.000000\n",
      "Name: rooms, dtype: float64\n"
     ]
    },
    {
     "data": {
      "image/png": "[encoded data removed]",
      "text/plain": [
       "<Figure size 432x288 with 1 Axes>"
      ]
     },
     "metadata": {
      "needs_background": "light"
     },
     "output_type": "display_data"
    },
    {
     "name": "stdout",
     "output_type": "stream",
     "text": [
      "4 ) Высота потолков\n",
      "count    20943.000000\n",
      "mean         2.723064\n",
      "std          0.995772\n",
      "min          1.000000\n",
      "25%          2.600000\n",
      "50%          2.650000\n",
      "75%          2.700000\n",
      "max        100.000000\n",
      "Name: ceiling_height, dtype: float64\n"
     ]
    },
    {
     "data": {
      "image/png": "[encoded data removed]",
      "text/plain": [
       "<Figure size 432x288 with 1 Axes>"
      ]
     },
     "metadata": {
      "needs_background": "light"
     },
     "output_type": "display_data"
    }
   ],
   "source": [
    "df_names = ['total_area','last_price','rooms','ceiling_height']\n",
    "df_bins = [100, 100, 8, 15]\n",
    "df_ranges = [(23,300), (0,30*10**6), (0,8), (2.5,4)]\n",
    "df_xlabel = ['Площадь', 'Цена', 'Количество комнат', 'Высота потолков']\n",
    "i = 0\n",
    "for row in df_names:\n",
    "    print(i+1,')', df_xlabel[i])\n",
    "    total_area_df = df[row].hist(bins=df_bins[i], range=df_ranges[i]);\n",
    "    print(df[row].describe())\n",
    "    plt.xlabel(df_xlabel[i], fontsize='x-large')\n",
    "    plt.ylabel(\"Частота\", fontsize='x-large')\n",
    "    plt.title(\"Исследование основных параметров\", fontsize='xx-large')\n",
    "    plt.show()\n",
    "    i+=1"
   ]
  },
  {
   "cell_type": "markdown",
   "metadata": {},
   "source": [
    "### Комментарии:\n",
    "**1) Площадь**    \n",
    "14 кв.м - слишком маленькое значение для площади квартиры. Вероятно, что это техническая или человеческая ошибка.   \n",
    "Несмотря на чересчур большое значение площади в 900 кв.м, удалять эти значения я не буду, поскольку, как оказалось, такие квартиры есть. Эти выбросы я обработаю позже.    \n",
    "Видно, что основная масса объявлений находится в районе 50 кв. м.    \n",
    "\n",
    "**2) Цена**    \n",
    "Из гистограммы видно, что основная масса цен находится в пределах до 5 млн рублей, но также здесь есть выбросы, например, минимальная цена - 12000 рублей. Эти выбросы я обработаю позже.      \n",
    "\n",
    "**3) Количество комнат**    \n",
    "Максимальное значение в 19 комнат выглядит крайне странно. Из гистограммы видно, что основная масса комнат - до 4, поэтому остановлюсь на 8 комнатах.\n",
    "\n",
    "**4) Высота потолков**    \n",
    "Потолки в 1 метр и 100 являюся явными выбросами, поэтому не стоит их учитывать их в гистограмме.    \n",
    "Основная высота потолков около 2.6 метров, но есть и значения больше, которые нужно учесть.  \n",
    "\n",
    "\n",
    "**Видно, что гистограммы напоминают распределение Пуассона - это хороший знак :)**"
   ]
  },
  {
   "cell_type": "markdown",
   "metadata": {},
   "source": [
    "### Изучение времени продажи квартир"
   ]
  },
  {
   "cell_type": "markdown",
   "metadata": {},
   "source": [
    "Для начала рассчитаю среднее и медиану:"
   ]
  },
  {
   "cell_type": "code",
   "execution_count": 20,
   "metadata": {},
   "outputs": [
    {
     "name": "stdout",
     "output_type": "stream",
     "text": [
      "Среднее время продажи: 185.52595136542402\n",
      "Медиана времени продажи: 102.0\n"
     ]
    }
   ],
   "source": [
    "print('Среднее время продажи:', df['days_exposition'].mean())\n",
    "print('Медиана времени продажи:', df['days_exposition'].median())"
   ]
  },
  {
   "cell_type": "markdown",
   "metadata": {},
   "source": [
    "Видно, что среднее практически вдвое больше медианы. Предположу, что на это оказало влияние особенно \"долгих\", непривлекательных объявлений.   \n",
    "Просмотрю общую информацию:"
   ]
  },
  {
   "cell_type": "code",
   "execution_count": 21,
   "metadata": {},
   "outputs": [
    {
     "data": {
      "text/plain": [
       "count    18053.000000\n",
       "mean       185.525951\n",
       "std        222.002600\n",
       "min          1.000000\n",
       "25%         45.000000\n",
       "50%        102.000000\n",
       "75%        239.000000\n",
       "max       1580.000000\n",
       "Name: days_exposition, dtype: float64"
      ]
     },
     "execution_count": 21,
     "metadata": {},
     "output_type": "execute_result"
    }
   ],
   "source": [
    "df['days_exposition'].describe()"
   ]
  },
  {
   "cell_type": "markdown",
   "metadata": {},
   "source": [
    "Первый квартиль Q1 равен 42 дням - на редкость быстрая (хотя и вполне реальная!) продажа для недвижимости.   \n",
    "Третий квартиль Q3 равен примерно 238 дням - 8 месяцев.   \n",
    "Построю гистограмму и диаграмму размаха:"
   ]
  },
  {
   "cell_type": "code",
   "execution_count": 22,
   "metadata": {},
   "outputs": [
    {
     "data": {
      "image/png": "[encoded data removed]",
      "text/plain": [
       "<Figure size 432x288 with 1 Axes>"
      ]
     },
     "metadata": {
      "needs_background": "light"
     },
     "output_type": "display_data"
    },
    {
     "data": {
      "text/plain": [
       "(0, 600)"
      ]
     },
     "execution_count": 22,
     "metadata": {},
     "output_type": "execute_result"
    },
    {
     "data": {
      "image/png": "[encoded data removed]",
      "text/plain": [
       "<Figure size 432x288 with 1 Axes>"
      ]
     },
     "metadata": {
      "needs_background": "light"
     },
     "output_type": "display_data"
    }
   ],
   "source": [
    "df['days_exposition'].hist(bins=100)\n",
    "plt.show()\n",
    "df.boxplot(column='days_exposition')\n",
    "plt.ylim(0,600)"
   ]
  },
  {
   "cell_type": "markdown",
   "metadata": {},
   "source": [
    "Положим, что продажа прошла **_очень быстро_**, если она заняла меньше 40 дней.    \n",
    "Если же она длилась больше 550 дней, то это **_необычно долго_**.        \n",
    "\n",
    "Причинами таких аномалий, полагаю, являются установка чересчур завышенной, необоснованной цены, либо указание в объявлении некорректных данных.   \n",
    "Создам новую таблицу, без выбросов, учитывая аномальные значения, полученные ранее:"
   ]
  },
  {
   "cell_type": "code",
   "execution_count": 23,
   "metadata": {
    "scrolled": true
   },
   "outputs": [
    {
     "data": {
      "text/html": [
       "<div>\n",
       "<style scoped>\n",
       "    .dataframe tbody tr th:only-of-type {\n",
       "        vertical-align: middle;\n",
       "    }\n",
       "\n",
       "    .dataframe tbody tr th {\n",
       "        vertical-align: top;\n",
       "    }\n",
       "\n",
       "    .dataframe thead th {\n",
       "        text-align: right;\n",
       "    }\n",
       "</style>\n",
       "<table border=\"1\" class=\"dataframe\">\n",
       "  <thead>\n",
       "    <tr style=\"text-align: right;\">\n",
       "      <th></th>\n",
       "      <th>total_images</th>\n",
       "      <th>last_price</th>\n",
       "      <th>total_area</th>\n",
       "      <th>first_day_exposition</th>\n",
       "      <th>rooms</th>\n",
       "      <th>ceiling_height</th>\n",
       "      <th>floors_total</th>\n",
       "      <th>living_area</th>\n",
       "      <th>floor</th>\n",
       "      <th>is_apartment</th>\n",
       "      <th>studio</th>\n",
       "      <th>open_plan</th>\n",
       "      <th>kitchen_area</th>\n",
       "      <th>balcony</th>\n",
       "      <th>locality_name</th>\n",
       "      <th>airports_nearest</th>\n",
       "      <th>cityCenters_nearest</th>\n",
       "      <th>parks_around3000</th>\n",
       "      <th>parks_nearest</th>\n",
       "      <th>ponds_around3000</th>\n",
       "      <th>ponds_nearest</th>\n",
       "      <th>days_exposition</th>\n",
       "      <th>price_per_meter</th>\n",
       "      <th>day_of_week</th>\n",
       "      <th>day_of_week_name</th>\n",
       "      <th>month</th>\n",
       "      <th>year</th>\n",
       "      <th>floor_type</th>\n",
       "      <th>living_to_total</th>\n",
       "      <th>kitchen_to_total</th>\n",
       "    </tr>\n",
       "  </thead>\n",
       "  <tbody>\n",
       "    <tr>\n",
       "      <td>1</td>\n",
       "      <td>7</td>\n",
       "      <td>3350000</td>\n",
       "      <td>40.40</td>\n",
       "      <td>2018-12-04</td>\n",
       "      <td>1</td>\n",
       "      <td>2.65</td>\n",
       "      <td>11</td>\n",
       "      <td>18.60</td>\n",
       "      <td>1</td>\n",
       "      <td>False</td>\n",
       "      <td>False</td>\n",
       "      <td>False</td>\n",
       "      <td>11.00</td>\n",
       "      <td>2</td>\n",
       "      <td>посёлок Шушары</td>\n",
       "      <td>12817</td>\n",
       "      <td>18603</td>\n",
       "      <td>0.0</td>\n",
       "      <td>NaN</td>\n",
       "      <td>0</td>\n",
       "      <td>NaN</td>\n",
       "      <td>81.0</td>\n",
       "      <td>82920.792079</td>\n",
       "      <td>4</td>\n",
       "      <td>Tuesday</td>\n",
       "      <td>12</td>\n",
       "      <td>2018</td>\n",
       "      <td>Первый</td>\n",
       "      <td>0.460396</td>\n",
       "      <td>0.272277</td>\n",
       "    </tr>\n",
       "    <tr>\n",
       "      <td>4</td>\n",
       "      <td>2</td>\n",
       "      <td>10000000</td>\n",
       "      <td>100.00</td>\n",
       "      <td>2018-06-19</td>\n",
       "      <td>2</td>\n",
       "      <td>3.03</td>\n",
       "      <td>14</td>\n",
       "      <td>32.00</td>\n",
       "      <td>13</td>\n",
       "      <td>False</td>\n",
       "      <td>False</td>\n",
       "      <td>False</td>\n",
       "      <td>41.00</td>\n",
       "      <td>0</td>\n",
       "      <td>Санкт-Петербург</td>\n",
       "      <td>31856</td>\n",
       "      <td>8098</td>\n",
       "      <td>2.0</td>\n",
       "      <td>112</td>\n",
       "      <td>1</td>\n",
       "      <td>48</td>\n",
       "      <td>121.0</td>\n",
       "      <td>100000.000000</td>\n",
       "      <td>19</td>\n",
       "      <td>Tuesday</td>\n",
       "      <td>6</td>\n",
       "      <td>2018</td>\n",
       "      <td>Другой</td>\n",
       "      <td>0.320000</td>\n",
       "      <td>0.410000</td>\n",
       "    </tr>\n",
       "    <tr>\n",
       "      <td>5</td>\n",
       "      <td>10</td>\n",
       "      <td>2890000</td>\n",
       "      <td>30.40</td>\n",
       "      <td>2018-09-10</td>\n",
       "      <td>1</td>\n",
       "      <td>2.65</td>\n",
       "      <td>12</td>\n",
       "      <td>14.40</td>\n",
       "      <td>5</td>\n",
       "      <td>False</td>\n",
       "      <td>False</td>\n",
       "      <td>False</td>\n",
       "      <td>9.10</td>\n",
       "      <td>0</td>\n",
       "      <td>городской посёлок Янино-1</td>\n",
       "      <td>NaN</td>\n",
       "      <td>NaN</td>\n",
       "      <td>NaN</td>\n",
       "      <td>NaN</td>\n",
       "      <td>NaN</td>\n",
       "      <td>NaN</td>\n",
       "      <td>55.0</td>\n",
       "      <td>95065.789474</td>\n",
       "      <td>10</td>\n",
       "      <td>Monday</td>\n",
       "      <td>9</td>\n",
       "      <td>2018</td>\n",
       "      <td>Другой</td>\n",
       "      <td>0.473684</td>\n",
       "      <td>0.299342</td>\n",
       "    </tr>\n",
       "    <tr>\n",
       "      <td>6</td>\n",
       "      <td>6</td>\n",
       "      <td>3700000</td>\n",
       "      <td>37.30</td>\n",
       "      <td>2017-11-02</td>\n",
       "      <td>1</td>\n",
       "      <td>2.65</td>\n",
       "      <td>26</td>\n",
       "      <td>10.60</td>\n",
       "      <td>6</td>\n",
       "      <td>False</td>\n",
       "      <td>False</td>\n",
       "      <td>False</td>\n",
       "      <td>14.40</td>\n",
       "      <td>1</td>\n",
       "      <td>посёлок Парголово</td>\n",
       "      <td>52996</td>\n",
       "      <td>19143</td>\n",
       "      <td>0.0</td>\n",
       "      <td>NaN</td>\n",
       "      <td>0</td>\n",
       "      <td>NaN</td>\n",
       "      <td>155.0</td>\n",
       "      <td>99195.710456</td>\n",
       "      <td>2</td>\n",
       "      <td>Thursday</td>\n",
       "      <td>11</td>\n",
       "      <td>2017</td>\n",
       "      <td>Другой</td>\n",
       "      <td>0.284182</td>\n",
       "      <td>0.386059</td>\n",
       "    </tr>\n",
       "    <tr>\n",
       "      <td>8</td>\n",
       "      <td>20</td>\n",
       "      <td>2900000</td>\n",
       "      <td>33.16</td>\n",
       "      <td>2018-05-23</td>\n",
       "      <td>1</td>\n",
       "      <td>2.65</td>\n",
       "      <td>27</td>\n",
       "      <td>15.43</td>\n",
       "      <td>26</td>\n",
       "      <td>False</td>\n",
       "      <td>False</td>\n",
       "      <td>False</td>\n",
       "      <td>8.81</td>\n",
       "      <td>0</td>\n",
       "      <td>посёлок Мурино</td>\n",
       "      <td>NaN</td>\n",
       "      <td>NaN</td>\n",
       "      <td>NaN</td>\n",
       "      <td>NaN</td>\n",
       "      <td>NaN</td>\n",
       "      <td>NaN</td>\n",
       "      <td>189.0</td>\n",
       "      <td>87454.764777</td>\n",
       "      <td>23</td>\n",
       "      <td>Wednesday</td>\n",
       "      <td>5</td>\n",
       "      <td>2018</td>\n",
       "      <td>Другой</td>\n",
       "      <td>0.465320</td>\n",
       "      <td>0.265682</td>\n",
       "    </tr>\n",
       "  </tbody>\n",
       "</table>\n",
       "</div>"
      ],
      "text/plain": [
       "   total_images  last_price  total_area first_day_exposition  rooms  \\\n",
       "1             7     3350000       40.40           2018-12-04      1   \n",
       "4             2    10000000      100.00           2018-06-19      2   \n",
       "5            10     2890000       30.40           2018-09-10      1   \n",
       "6             6     3700000       37.30           2017-11-02      1   \n",
       "8            20     2900000       33.16           2018-05-23      1   \n",
       "\n",
       "   ceiling_height  floors_total  living_area  floor  is_apartment  studio  \\\n",
       "1            2.65            11        18.60      1         False   False   \n",
       "4            3.03            14        32.00     13         False   False   \n",
       "5            2.65            12        14.40      5         False   False   \n",
       "6            2.65            26        10.60      6         False   False   \n",
       "8            2.65            27        15.43     26         False   False   \n",
       "\n",
       "   open_plan  kitchen_area  balcony              locality_name  \\\n",
       "1      False         11.00        2             посёлок Шушары   \n",
       "4      False         41.00        0            Санкт-Петербург   \n",
       "5      False          9.10        0  городской посёлок Янино-1   \n",
       "6      False         14.40        1          посёлок Парголово   \n",
       "8      False          8.81        0             посёлок Мурино   \n",
       "\n",
       "   airports_nearest  cityCenters_nearest  parks_around3000  parks_nearest  \\\n",
       "1             12817                18603               0.0            NaN   \n",
       "4             31856                 8098               2.0            112   \n",
       "5               NaN                  NaN               NaN            NaN   \n",
       "6             52996                19143               0.0            NaN   \n",
       "8               NaN                  NaN               NaN            NaN   \n",
       "\n",
       "   ponds_around3000  ponds_nearest  days_exposition  price_per_meter  \\\n",
       "1                 0            NaN             81.0     82920.792079   \n",
       "4                 1             48            121.0    100000.000000   \n",
       "5               NaN            NaN             55.0     95065.789474   \n",
       "6                 0            NaN            155.0     99195.710456   \n",
       "8               NaN            NaN            189.0     87454.764777   \n",
       "\n",
       "   day_of_week day_of_week_name  month  year floor_type  living_to_total  \\\n",
       "1            4          Tuesday     12  2018     Первый         0.460396   \n",
       "4           19          Tuesday      6  2018     Другой         0.320000   \n",
       "5           10           Monday      9  2018     Другой         0.473684   \n",
       "6            2         Thursday     11  2017     Другой         0.284182   \n",
       "8           23        Wednesday      5  2018     Другой         0.465320   \n",
       "\n",
       "   kitchen_to_total  \n",
       "1          0.272277  \n",
       "4          0.410000  \n",
       "5          0.299342  \n",
       "6          0.386059  \n",
       "8          0.265682  "
      ]
     },
     "execution_count": 23,
     "metadata": {},
     "output_type": "execute_result"
    }
   ],
   "source": [
    "df_new = df.query('days_exposition < 550 and ceiling_height > 2.5 and ceiling_height < 4 and rooms < 10\\\n",
    "and last_price > 500000 and total_area > 17')\n",
    "df_new.head()\n",
    "#df_new.info()"
   ]
  },
  {
   "cell_type": "markdown",
   "metadata": {},
   "source": [
    "Построю графики зависимости цены от площади квартиры, количества комнат, удаленности от центра, а также рассчитаю коэффициент Пирсона.<a name=\"1\"></a>"
   ]
  },
  {
   "cell_type": "code",
   "execution_count": 24,
   "metadata": {},
   "outputs": [
    {
     "data": {
      "image/png": "[encoded data removed]",
      "text/plain": [
       "<Figure size 432x288 with 1 Axes>"
      ]
     },
     "metadata": {
      "needs_background": "light"
     },
     "output_type": "display_data"
    },
    {
     "data": {
      "image/png": "[encoded data removed]",
      "text/plain": [
       "<Figure size 432x288 with 1 Axes>"
      ]
     },
     "metadata": {
      "needs_background": "light"
     },
     "output_type": "display_data"
    },
    {
     "data": {
      "image/png": "[encoded data removed]",
      "text/plain": [
       "<Figure size 432x288 with 1 Axes>"
      ]
     },
     "metadata": {
      "needs_background": "light"
     },
     "output_type": "display_data"
    }
   ],
   "source": [
    "df_new_names = ['total_area', 'rooms', 'cityCenters_nearest']\n",
    "df_new_titles = ['Цена от площади', 'Цена от комнат', 'Цена от расстояния до центра']\n",
    "df_new_xlabel = [\"Площадь\", \"Комнаты\", \"Расстояние до центра\"]\n",
    "df_new_end = []\n",
    "i=0\n",
    "for row in df_new_names:   \n",
    "    k=df_new.plot(x = row, y = 'last_price', style='o', grid=True)\n",
    "    if row == 'rooms':\n",
    "        plt.xlim(0,10)\n",
    "    plt.xlabel(df_new_xlabel[i], fontsize = 'x-large')\n",
    "    plt.ylabel('Цена', fontsize = 'x-large')\n",
    "    plt.title(df_new_titles[i], fontsize = 'xx-large')\n",
    "    df_new_end.append(k)\n",
    "    plt.show()\n",
    "    i+=1"
   ]
  },
  {
   "cell_type": "code",
   "execution_count": 25,
   "metadata": {},
   "outputs": [
    {
     "data": {
      "text/html": [
       "<div>\n",
       "<style scoped>\n",
       "    .dataframe tbody tr th:only-of-type {\n",
       "        vertical-align: middle;\n",
       "    }\n",
       "\n",
       "    .dataframe tbody tr th {\n",
       "        vertical-align: top;\n",
       "    }\n",
       "\n",
       "    .dataframe thead th {\n",
       "        text-align: right;\n",
       "    }\n",
       "</style>\n",
       "<table border=\"1\" class=\"dataframe\">\n",
       "  <thead>\n",
       "    <tr style=\"text-align: right;\">\n",
       "      <th></th>\n",
       "      <th>last_price</th>\n",
       "      <th>total_area</th>\n",
       "      <th>rooms</th>\n",
       "      <th>cityCenters_nearest</th>\n",
       "    </tr>\n",
       "  </thead>\n",
       "  <tbody>\n",
       "    <tr>\n",
       "      <td>last_price</td>\n",
       "      <td>1.000000</td>\n",
       "      <td>0.660929</td>\n",
       "      <td>0.381952</td>\n",
       "      <td>-0.220050</td>\n",
       "    </tr>\n",
       "    <tr>\n",
       "      <td>total_area</td>\n",
       "      <td>0.660929</td>\n",
       "      <td>1.000000</td>\n",
       "      <td>0.778199</td>\n",
       "      <td>-0.224388</td>\n",
       "    </tr>\n",
       "    <tr>\n",
       "      <td>rooms</td>\n",
       "      <td>0.381952</td>\n",
       "      <td>0.778199</td>\n",
       "      <td>1.000000</td>\n",
       "      <td>-0.196932</td>\n",
       "    </tr>\n",
       "    <tr>\n",
       "      <td>cityCenters_nearest</td>\n",
       "      <td>-0.220050</td>\n",
       "      <td>-0.224388</td>\n",
       "      <td>-0.196932</td>\n",
       "      <td>1.000000</td>\n",
       "    </tr>\n",
       "  </tbody>\n",
       "</table>\n",
       "</div>"
      ],
      "text/plain": [
       "                     last_price  total_area     rooms  cityCenters_nearest\n",
       "last_price             1.000000    0.660929  0.381952            -0.220050\n",
       "total_area             0.660929    1.000000  0.778199            -0.224388\n",
       "rooms                  0.381952    0.778199  1.000000            -0.196932\n",
       "cityCenters_nearest   -0.220050   -0.224388 -0.196932             1.000000"
      ]
     },
     "execution_count": 25,
     "metadata": {},
     "output_type": "execute_result"
    }
   ],
   "source": [
    "df_for_corr = df_new.loc[:,['last_price', 'total_area', 'rooms', 'cityCenters_nearest']]\n",
    "df_for_corr.corr()"
   ]
  },
  {
   "cell_type": "markdown",
   "metadata": {},
   "source": [
    "Исходя из данных видно, что цена сильно зависит от площади квартиры (положительный коэффициент Пирсона). Цена меньше зависит от числа комнат. От удаленности от центра зависит не так сильно, но при увеличении расстояния цена уменьшается.  \n",
    "\n",
    "Рассмотрю теперь зависимость от этажа: рассчитаю медиану для каждого и построю график."
   ]
  },
  {
   "cell_type": "code",
   "execution_count": 26,
   "metadata": {},
   "outputs": [
    {
     "data": {
      "image/png": "[encoded data removed]",
      "text/plain": [
       "<Figure size 648x648 with 1 Axes>"
      ]
     },
     "metadata": {
      "needs_background": "light"
     },
     "output_type": "display_data"
    }
   ],
   "source": [
    "df_floor = df_new.pivot_table(index = 'floor_type', values = 'last_price', aggfunc = 'median')\n",
    "df_floor.plot(grid = True, figsize = (9,9));\n",
    "plt.title('Цена от этажа',fontsize = 'xx-large')\n",
    "plt.xlabel('Этаж',fontsize = 'x-large')\n",
    "plt.ylabel('Цена',fontsize = 'x-large')\n",
    "plt.show()"
   ]
  },
  {
   "cell_type": "markdown",
   "metadata": {},
   "source": [
    "Видно, что на первом этаже квартиры стоят дешевле, чем на \"Других\" этажах."
   ]
  },
  {
   "cell_type": "code",
   "execution_count": 27,
   "metadata": {},
   "outputs": [
    {
     "data": {
      "image/png": "[encoded data removed]",
      "text/plain": [
       "<Figure size 648x648 with 1 Axes>"
      ]
     },
     "metadata": {
      "needs_background": "light"
     },
     "output_type": "display_data"
    },
    {
     "data": {
      "image/png": "[encoded data removed]",
      "text/plain": [
       "<Figure size 648x648 with 1 Axes>"
      ]
     },
     "metadata": {
      "needs_background": "light"
     },
     "output_type": "display_data"
    },
    {
     "data": {
      "image/png": "[encoded data removed]",
      "text/plain": [
       "<Figure size 648x648 with 1 Axes>"
      ]
     },
     "metadata": {
      "needs_background": "light"
     },
     "output_type": "display_data"
    }
   ],
   "source": [
    "df_new_columns = ['day_of_week_name','month','year']\n",
    "df_new_date_analysis = []\n",
    "xlabels = ['День недели','Месяц','Год']\n",
    "i = 0\n",
    "for row in df_new_columns:\n",
    "    df_new_cycle = df_new.pivot_table(index = row, values = 'last_price', aggfunc = 'median')\n",
    "    k = df_new_cycle.plot(kind = 'bar', grid = True, figsize = (9,9));\n",
    "    plt.xlabel(xlabels[i],fontsize = 'x-large')\n",
    "    plt.ylabel('Медиана цены', fontsize = 'x-large')\n",
    "    plt.title('Зависимость цены от времени', fontsize = 'xx-large')\n",
    "    df_new_date_analysis.append(k)\n",
    "    i += 1"
   ]
  },
  {
   "cell_type": "markdown",
   "metadata": {},
   "source": [
    "Из графиков можно сделать следующие выводы:  \n",
    "1) цена не зависит от дня публикации объявления;  \n",
    "2) можно заметить разницу между мартом и маем, но несильную => месяц тоже не влияет;  \n",
    "3) в последние два года наблюдается рост => цена зависит от года (= экономической ситуации в стране)."
   ]
  },
  {
   "cell_type": "markdown",
   "metadata": {},
   "source": [
    "### Наиболее популярные населенные пункты"
   ]
  },
  {
   "cell_type": "code",
   "execution_count": 28,
   "metadata": {
    "scrolled": true
   },
   "outputs": [
    {
     "name": "stdout",
     "output_type": "stream",
     "text": [
      "Наибольшее количество объявлений Index(['Санкт-Петербург', 'посёлок Мурино', 'посёлок Шушары', 'Всеволожск',\n",
      "       'посёлок Парголово', 'деревня Кудрово', 'Колпино', 'Пушкин', 'Гатчина',\n",
      "       'Петергоф'],\n",
      "      dtype='object', name='locality_name')\n"
     ]
    }
   ],
   "source": [
    "top_ten = df_new.groupby('locality_name').count().sort_values('last_price', ascending = False).head(10).index\n",
    "top_ten_data = (df_new.loc[df_new['locality_name'].isin(top_ten)])\n",
    "print('Наибольшее количество объявлений', top_ten)"
   ]
  },
  {
   "cell_type": "code",
   "execution_count": 29,
   "metadata": {},
   "outputs": [
    {
     "data": {
      "text/html": [
       "<div>\n",
       "<style scoped>\n",
       "    .dataframe tbody tr th:only-of-type {\n",
       "        vertical-align: middle;\n",
       "    }\n",
       "\n",
       "    .dataframe tbody tr th {\n",
       "        vertical-align: top;\n",
       "    }\n",
       "\n",
       "    .dataframe thead th {\n",
       "        text-align: right;\n",
       "    }\n",
       "</style>\n",
       "<table border=\"1\" class=\"dataframe\">\n",
       "  <thead>\n",
       "    <tr style=\"text-align: right;\">\n",
       "      <th></th>\n",
       "      <th>total_images</th>\n",
       "      <th>last_price</th>\n",
       "      <th>total_area</th>\n",
       "      <th>first_day_exposition</th>\n",
       "      <th>rooms</th>\n",
       "      <th>ceiling_height</th>\n",
       "      <th>floors_total</th>\n",
       "      <th>living_area</th>\n",
       "      <th>floor</th>\n",
       "      <th>is_apartment</th>\n",
       "      <th>studio</th>\n",
       "      <th>open_plan</th>\n",
       "      <th>kitchen_area</th>\n",
       "      <th>balcony</th>\n",
       "      <th>locality_name</th>\n",
       "      <th>airports_nearest</th>\n",
       "      <th>cityCenters_nearest</th>\n",
       "      <th>parks_around3000</th>\n",
       "      <th>parks_nearest</th>\n",
       "      <th>ponds_around3000</th>\n",
       "      <th>ponds_nearest</th>\n",
       "      <th>days_exposition</th>\n",
       "      <th>price_per_meter</th>\n",
       "      <th>day_of_week</th>\n",
       "      <th>day_of_week_name</th>\n",
       "      <th>month</th>\n",
       "      <th>year</th>\n",
       "      <th>floor_type</th>\n",
       "      <th>living_to_total</th>\n",
       "      <th>kitchen_to_total</th>\n",
       "    </tr>\n",
       "  </thead>\n",
       "  <tbody>\n",
       "    <tr>\n",
       "      <td>1</td>\n",
       "      <td>7</td>\n",
       "      <td>3350000</td>\n",
       "      <td>40.40</td>\n",
       "      <td>2018-12-04</td>\n",
       "      <td>1</td>\n",
       "      <td>2.65</td>\n",
       "      <td>11</td>\n",
       "      <td>18.60</td>\n",
       "      <td>1</td>\n",
       "      <td>False</td>\n",
       "      <td>False</td>\n",
       "      <td>False</td>\n",
       "      <td>11.00</td>\n",
       "      <td>2</td>\n",
       "      <td>посёлок Шушары</td>\n",
       "      <td>12817</td>\n",
       "      <td>18603</td>\n",
       "      <td>0.0</td>\n",
       "      <td>NaN</td>\n",
       "      <td>0</td>\n",
       "      <td>NaN</td>\n",
       "      <td>81.0</td>\n",
       "      <td>82920.792079</td>\n",
       "      <td>4</td>\n",
       "      <td>Tuesday</td>\n",
       "      <td>12</td>\n",
       "      <td>2018</td>\n",
       "      <td>Первый</td>\n",
       "      <td>0.460396</td>\n",
       "      <td>0.272277</td>\n",
       "    </tr>\n",
       "    <tr>\n",
       "      <td>4</td>\n",
       "      <td>2</td>\n",
       "      <td>10000000</td>\n",
       "      <td>100.00</td>\n",
       "      <td>2018-06-19</td>\n",
       "      <td>2</td>\n",
       "      <td>3.03</td>\n",
       "      <td>14</td>\n",
       "      <td>32.00</td>\n",
       "      <td>13</td>\n",
       "      <td>False</td>\n",
       "      <td>False</td>\n",
       "      <td>False</td>\n",
       "      <td>41.00</td>\n",
       "      <td>0</td>\n",
       "      <td>Санкт-Петербург</td>\n",
       "      <td>31856</td>\n",
       "      <td>8098</td>\n",
       "      <td>2.0</td>\n",
       "      <td>112</td>\n",
       "      <td>1</td>\n",
       "      <td>48</td>\n",
       "      <td>121.0</td>\n",
       "      <td>100000.000000</td>\n",
       "      <td>19</td>\n",
       "      <td>Tuesday</td>\n",
       "      <td>6</td>\n",
       "      <td>2018</td>\n",
       "      <td>Другой</td>\n",
       "      <td>0.320000</td>\n",
       "      <td>0.410000</td>\n",
       "    </tr>\n",
       "    <tr>\n",
       "      <td>6</td>\n",
       "      <td>6</td>\n",
       "      <td>3700000</td>\n",
       "      <td>37.30</td>\n",
       "      <td>2017-11-02</td>\n",
       "      <td>1</td>\n",
       "      <td>2.65</td>\n",
       "      <td>26</td>\n",
       "      <td>10.60</td>\n",
       "      <td>6</td>\n",
       "      <td>False</td>\n",
       "      <td>False</td>\n",
       "      <td>False</td>\n",
       "      <td>14.40</td>\n",
       "      <td>1</td>\n",
       "      <td>посёлок Парголово</td>\n",
       "      <td>52996</td>\n",
       "      <td>19143</td>\n",
       "      <td>0.0</td>\n",
       "      <td>NaN</td>\n",
       "      <td>0</td>\n",
       "      <td>NaN</td>\n",
       "      <td>155.0</td>\n",
       "      <td>99195.710456</td>\n",
       "      <td>2</td>\n",
       "      <td>Thursday</td>\n",
       "      <td>11</td>\n",
       "      <td>2017</td>\n",
       "      <td>Другой</td>\n",
       "      <td>0.284182</td>\n",
       "      <td>0.386059</td>\n",
       "    </tr>\n",
       "    <tr>\n",
       "      <td>8</td>\n",
       "      <td>20</td>\n",
       "      <td>2900000</td>\n",
       "      <td>33.16</td>\n",
       "      <td>2018-05-23</td>\n",
       "      <td>1</td>\n",
       "      <td>2.65</td>\n",
       "      <td>27</td>\n",
       "      <td>15.43</td>\n",
       "      <td>26</td>\n",
       "      <td>False</td>\n",
       "      <td>False</td>\n",
       "      <td>False</td>\n",
       "      <td>8.81</td>\n",
       "      <td>0</td>\n",
       "      <td>посёлок Мурино</td>\n",
       "      <td>NaN</td>\n",
       "      <td>NaN</td>\n",
       "      <td>NaN</td>\n",
       "      <td>NaN</td>\n",
       "      <td>NaN</td>\n",
       "      <td>NaN</td>\n",
       "      <td>189.0</td>\n",
       "      <td>87454.764777</td>\n",
       "      <td>23</td>\n",
       "      <td>Wednesday</td>\n",
       "      <td>5</td>\n",
       "      <td>2018</td>\n",
       "      <td>Другой</td>\n",
       "      <td>0.465320</td>\n",
       "      <td>0.265682</td>\n",
       "    </tr>\n",
       "    <tr>\n",
       "      <td>10</td>\n",
       "      <td>5</td>\n",
       "      <td>5050000</td>\n",
       "      <td>39.60</td>\n",
       "      <td>2017-11-16</td>\n",
       "      <td>1</td>\n",
       "      <td>2.67</td>\n",
       "      <td>12</td>\n",
       "      <td>20.30</td>\n",
       "      <td>3</td>\n",
       "      <td>False</td>\n",
       "      <td>False</td>\n",
       "      <td>False</td>\n",
       "      <td>8.50</td>\n",
       "      <td>0</td>\n",
       "      <td>Санкт-Петербург</td>\n",
       "      <td>38357</td>\n",
       "      <td>13878</td>\n",
       "      <td>1.0</td>\n",
       "      <td>310</td>\n",
       "      <td>2</td>\n",
       "      <td>553</td>\n",
       "      <td>137.0</td>\n",
       "      <td>127525.252525</td>\n",
       "      <td>16</td>\n",
       "      <td>Thursday</td>\n",
       "      <td>11</td>\n",
       "      <td>2017</td>\n",
       "      <td>Другой</td>\n",
       "      <td>0.512626</td>\n",
       "      <td>0.214646</td>\n",
       "    </tr>\n",
       "    <tr>\n",
       "      <td>...</td>\n",
       "      <td>...</td>\n",
       "      <td>...</td>\n",
       "      <td>...</td>\n",
       "      <td>...</td>\n",
       "      <td>...</td>\n",
       "      <td>...</td>\n",
       "      <td>...</td>\n",
       "      <td>...</td>\n",
       "      <td>...</td>\n",
       "      <td>...</td>\n",
       "      <td>...</td>\n",
       "      <td>...</td>\n",
       "      <td>...</td>\n",
       "      <td>...</td>\n",
       "      <td>...</td>\n",
       "      <td>...</td>\n",
       "      <td>...</td>\n",
       "      <td>...</td>\n",
       "      <td>...</td>\n",
       "      <td>...</td>\n",
       "      <td>...</td>\n",
       "      <td>...</td>\n",
       "      <td>...</td>\n",
       "      <td>...</td>\n",
       "      <td>...</td>\n",
       "      <td>...</td>\n",
       "      <td>...</td>\n",
       "      <td>...</td>\n",
       "      <td>...</td>\n",
       "      <td>...</td>\n",
       "    </tr>\n",
       "    <tr>\n",
       "      <td>23688</td>\n",
       "      <td>19</td>\n",
       "      <td>9200000</td>\n",
       "      <td>101.00</td>\n",
       "      <td>2019-04-01</td>\n",
       "      <td>3</td>\n",
       "      <td>3.05</td>\n",
       "      <td>15</td>\n",
       "      <td>63.00</td>\n",
       "      <td>12</td>\n",
       "      <td>False</td>\n",
       "      <td>False</td>\n",
       "      <td>False</td>\n",
       "      <td>15.00</td>\n",
       "      <td>0</td>\n",
       "      <td>Санкт-Петербург</td>\n",
       "      <td>15632</td>\n",
       "      <td>14428</td>\n",
       "      <td>0.0</td>\n",
       "      <td>NaN</td>\n",
       "      <td>0</td>\n",
       "      <td>NaN</td>\n",
       "      <td>23.0</td>\n",
       "      <td>91089.108911</td>\n",
       "      <td>1</td>\n",
       "      <td>Monday</td>\n",
       "      <td>4</td>\n",
       "      <td>2019</td>\n",
       "      <td>Другой</td>\n",
       "      <td>0.623762</td>\n",
       "      <td>0.148515</td>\n",
       "    </tr>\n",
       "    <tr>\n",
       "      <td>23689</td>\n",
       "      <td>13</td>\n",
       "      <td>3550000</td>\n",
       "      <td>35.30</td>\n",
       "      <td>2018-02-28</td>\n",
       "      <td>1</td>\n",
       "      <td>2.86</td>\n",
       "      <td>15</td>\n",
       "      <td>16.30</td>\n",
       "      <td>4</td>\n",
       "      <td>False</td>\n",
       "      <td>False</td>\n",
       "      <td>False</td>\n",
       "      <td>9.10</td>\n",
       "      <td>2</td>\n",
       "      <td>Санкт-Петербург</td>\n",
       "      <td>17284</td>\n",
       "      <td>16081</td>\n",
       "      <td>1.0</td>\n",
       "      <td>353</td>\n",
       "      <td>2</td>\n",
       "      <td>652</td>\n",
       "      <td>29.0</td>\n",
       "      <td>100566.572238</td>\n",
       "      <td>28</td>\n",
       "      <td>Wednesday</td>\n",
       "      <td>2</td>\n",
       "      <td>2018</td>\n",
       "      <td>Другой</td>\n",
       "      <td>0.461756</td>\n",
       "      <td>0.257790</td>\n",
       "    </tr>\n",
       "    <tr>\n",
       "      <td>23690</td>\n",
       "      <td>3</td>\n",
       "      <td>5500000</td>\n",
       "      <td>52.00</td>\n",
       "      <td>2018-07-19</td>\n",
       "      <td>2</td>\n",
       "      <td>2.65</td>\n",
       "      <td>5</td>\n",
       "      <td>31.00</td>\n",
       "      <td>2</td>\n",
       "      <td>False</td>\n",
       "      <td>False</td>\n",
       "      <td>False</td>\n",
       "      <td>6.00</td>\n",
       "      <td>0</td>\n",
       "      <td>Санкт-Петербург</td>\n",
       "      <td>20151</td>\n",
       "      <td>6263</td>\n",
       "      <td>1.0</td>\n",
       "      <td>300</td>\n",
       "      <td>0</td>\n",
       "      <td>NaN</td>\n",
       "      <td>15.0</td>\n",
       "      <td>105769.230769</td>\n",
       "      <td>19</td>\n",
       "      <td>Thursday</td>\n",
       "      <td>7</td>\n",
       "      <td>2018</td>\n",
       "      <td>Другой</td>\n",
       "      <td>0.596154</td>\n",
       "      <td>0.115385</td>\n",
       "    </tr>\n",
       "    <tr>\n",
       "      <td>23691</td>\n",
       "      <td>11</td>\n",
       "      <td>9470000</td>\n",
       "      <td>72.90</td>\n",
       "      <td>2016-10-13</td>\n",
       "      <td>2</td>\n",
       "      <td>2.75</td>\n",
       "      <td>25</td>\n",
       "      <td>40.30</td>\n",
       "      <td>7</td>\n",
       "      <td>False</td>\n",
       "      <td>False</td>\n",
       "      <td>False</td>\n",
       "      <td>10.60</td>\n",
       "      <td>1</td>\n",
       "      <td>Санкт-Петербург</td>\n",
       "      <td>19424</td>\n",
       "      <td>4489</td>\n",
       "      <td>0.0</td>\n",
       "      <td>NaN</td>\n",
       "      <td>1</td>\n",
       "      <td>806</td>\n",
       "      <td>519.0</td>\n",
       "      <td>129903.978052</td>\n",
       "      <td>13</td>\n",
       "      <td>Thursday</td>\n",
       "      <td>10</td>\n",
       "      <td>2016</td>\n",
       "      <td>Другой</td>\n",
       "      <td>0.552812</td>\n",
       "      <td>0.145405</td>\n",
       "    </tr>\n",
       "    <tr>\n",
       "      <td>23693</td>\n",
       "      <td>9</td>\n",
       "      <td>4600000</td>\n",
       "      <td>62.40</td>\n",
       "      <td>2016-08-05</td>\n",
       "      <td>3</td>\n",
       "      <td>2.60</td>\n",
       "      <td>9</td>\n",
       "      <td>40.00</td>\n",
       "      <td>8</td>\n",
       "      <td>False</td>\n",
       "      <td>False</td>\n",
       "      <td>False</td>\n",
       "      <td>8.00</td>\n",
       "      <td>0</td>\n",
       "      <td>Петергоф</td>\n",
       "      <td>45602</td>\n",
       "      <td>34104</td>\n",
       "      <td>1.0</td>\n",
       "      <td>352</td>\n",
       "      <td>1</td>\n",
       "      <td>675</td>\n",
       "      <td>239.0</td>\n",
       "      <td>73717.948718</td>\n",
       "      <td>5</td>\n",
       "      <td>Friday</td>\n",
       "      <td>8</td>\n",
       "      <td>2016</td>\n",
       "      <td>Другой</td>\n",
       "      <td>0.641026</td>\n",
       "      <td>0.128205</td>\n",
       "    </tr>\n",
       "  </tbody>\n",
       "</table>\n",
       "<p>11670 rows × 30 columns</p>\n",
       "</div>"
      ],
      "text/plain": [
       "       total_images  last_price  total_area first_day_exposition  rooms  \\\n",
       "1                 7     3350000       40.40           2018-12-04      1   \n",
       "4                 2    10000000      100.00           2018-06-19      2   \n",
       "6                 6     3700000       37.30           2017-11-02      1   \n",
       "8                20     2900000       33.16           2018-05-23      1   \n",
       "10                5     5050000       39.60           2017-11-16      1   \n",
       "...             ...         ...         ...                  ...    ...   \n",
       "23688            19     9200000      101.00           2019-04-01      3   \n",
       "23689            13     3550000       35.30           2018-02-28      1   \n",
       "23690             3     5500000       52.00           2018-07-19      2   \n",
       "23691            11     9470000       72.90           2016-10-13      2   \n",
       "23693             9     4600000       62.40           2016-08-05      3   \n",
       "\n",
       "       ceiling_height  floors_total  living_area  floor  is_apartment  studio  \\\n",
       "1                2.65            11        18.60      1         False   False   \n",
       "4                3.03            14        32.00     13         False   False   \n",
       "6                2.65            26        10.60      6         False   False   \n",
       "8                2.65            27        15.43     26         False   False   \n",
       "10               2.67            12        20.30      3         False   False   \n",
       "...               ...           ...          ...    ...           ...     ...   \n",
       "23688            3.05            15        63.00     12         False   False   \n",
       "23689            2.86            15        16.30      4         False   False   \n",
       "23690            2.65             5        31.00      2         False   False   \n",
       "23691            2.75            25        40.30      7         False   False   \n",
       "23693            2.60             9        40.00      8         False   False   \n",
       "\n",
       "       open_plan  kitchen_area  balcony      locality_name  airports_nearest  \\\n",
       "1          False         11.00        2     посёлок Шушары             12817   \n",
       "4          False         41.00        0    Санкт-Петербург             31856   \n",
       "6          False         14.40        1  посёлок Парголово             52996   \n",
       "8          False          8.81        0     посёлок Мурино               NaN   \n",
       "10         False          8.50        0    Санкт-Петербург             38357   \n",
       "...          ...           ...      ...                ...               ...   \n",
       "23688      False         15.00        0    Санкт-Петербург             15632   \n",
       "23689      False          9.10        2    Санкт-Петербург             17284   \n",
       "23690      False          6.00        0    Санкт-Петербург             20151   \n",
       "23691      False         10.60        1    Санкт-Петербург             19424   \n",
       "23693      False          8.00        0           Петергоф             45602   \n",
       "\n",
       "       cityCenters_nearest  parks_around3000  parks_nearest  ponds_around3000  \\\n",
       "1                    18603               0.0            NaN                 0   \n",
       "4                     8098               2.0            112                 1   \n",
       "6                    19143               0.0            NaN                 0   \n",
       "8                      NaN               NaN            NaN               NaN   \n",
       "10                   13878               1.0            310                 2   \n",
       "...                    ...               ...            ...               ...   \n",
       "23688                14428               0.0            NaN                 0   \n",
       "23689                16081               1.0            353                 2   \n",
       "23690                 6263               1.0            300                 0   \n",
       "23691                 4489               0.0            NaN                 1   \n",
       "23693                34104               1.0            352                 1   \n",
       "\n",
       "       ponds_nearest  days_exposition  price_per_meter  day_of_week  \\\n",
       "1                NaN             81.0     82920.792079            4   \n",
       "4                 48            121.0    100000.000000           19   \n",
       "6                NaN            155.0     99195.710456            2   \n",
       "8                NaN            189.0     87454.764777           23   \n",
       "10               553            137.0    127525.252525           16   \n",
       "...              ...              ...              ...          ...   \n",
       "23688            NaN             23.0     91089.108911            1   \n",
       "23689            652             29.0    100566.572238           28   \n",
       "23690            NaN             15.0    105769.230769           19   \n",
       "23691            806            519.0    129903.978052           13   \n",
       "23693            675            239.0     73717.948718            5   \n",
       "\n",
       "      day_of_week_name  month  year floor_type  living_to_total  \\\n",
       "1              Tuesday     12  2018     Первый         0.460396   \n",
       "4              Tuesday      6  2018     Другой         0.320000   \n",
       "6             Thursday     11  2017     Другой         0.284182   \n",
       "8            Wednesday      5  2018     Другой         0.465320   \n",
       "10            Thursday     11  2017     Другой         0.512626   \n",
       "...                ...    ...   ...        ...              ...   \n",
       "23688           Monday      4  2019     Другой         0.623762   \n",
       "23689        Wednesday      2  2018     Другой         0.461756   \n",
       "23690         Thursday      7  2018     Другой         0.596154   \n",
       "23691         Thursday     10  2016     Другой         0.552812   \n",
       "23693           Friday      8  2016     Другой         0.641026   \n",
       "\n",
       "       kitchen_to_total  \n",
       "1              0.272277  \n",
       "4              0.410000  \n",
       "6              0.386059  \n",
       "8              0.265682  \n",
       "10             0.214646  \n",
       "...                 ...  \n",
       "23688          0.148515  \n",
       "23689          0.257790  \n",
       "23690          0.115385  \n",
       "23691          0.145405  \n",
       "23693          0.128205  \n",
       "\n",
       "[11670 rows x 30 columns]"
      ]
     },
     "execution_count": 29,
     "metadata": {},
     "output_type": "execute_result"
    }
   ],
   "source": [
    "top_ten_data"
   ]
  },
  {
   "cell_type": "markdown",
   "metadata": {},
   "source": [
    "Подсчитаю среднюю цену квадратного метра в этих населённых пунктах"
   ]
  },
  {
   "cell_type": "code",
   "execution_count": 30,
   "metadata": {},
   "outputs": [
    {
     "data": {
      "text/html": [
       "<div>\n",
       "<style scoped>\n",
       "    .dataframe tbody tr th:only-of-type {\n",
       "        vertical-align: middle;\n",
       "    }\n",
       "\n",
       "    .dataframe tbody tr th {\n",
       "        vertical-align: top;\n",
       "    }\n",
       "\n",
       "    .dataframe thead th {\n",
       "        text-align: right;\n",
       "    }\n",
       "</style>\n",
       "<table border=\"1\" class=\"dataframe\">\n",
       "  <thead>\n",
       "    <tr style=\"text-align: right;\">\n",
       "      <th></th>\n",
       "      <th>price_per_meter</th>\n",
       "    </tr>\n",
       "    <tr>\n",
       "      <th>locality_name</th>\n",
       "      <th></th>\n",
       "    </tr>\n",
       "  </thead>\n",
       "  <tbody>\n",
       "    <tr>\n",
       "      <td>Санкт-Петербург</td>\n",
       "      <td>112575.541527</td>\n",
       "    </tr>\n",
       "    <tr>\n",
       "      <td>Пушкин</td>\n",
       "      <td>103474.946140</td>\n",
       "    </tr>\n",
       "    <tr>\n",
       "      <td>деревня Кудрово</td>\n",
       "      <td>92275.248321</td>\n",
       "    </tr>\n",
       "    <tr>\n",
       "      <td>посёлок Парголово</td>\n",
       "      <td>89911.995183</td>\n",
       "    </tr>\n",
       "    <tr>\n",
       "      <td>посёлок Мурино</td>\n",
       "      <td>85560.730112</td>\n",
       "    </tr>\n",
       "    <tr>\n",
       "      <td>Петергоф</td>\n",
       "      <td>83388.274773</td>\n",
       "    </tr>\n",
       "    <tr>\n",
       "      <td>посёлок Шушары</td>\n",
       "      <td>77771.925501</td>\n",
       "    </tr>\n",
       "    <tr>\n",
       "      <td>Колпино</td>\n",
       "      <td>74740.505600</td>\n",
       "    </tr>\n",
       "    <tr>\n",
       "      <td>Всеволожск</td>\n",
       "      <td>69444.491372</td>\n",
       "    </tr>\n",
       "    <tr>\n",
       "      <td>Гатчина</td>\n",
       "      <td>67638.638223</td>\n",
       "    </tr>\n",
       "  </tbody>\n",
       "</table>\n",
       "</div>"
      ],
      "text/plain": [
       "                   price_per_meter\n",
       "locality_name                     \n",
       "Санкт-Петербург      112575.541527\n",
       "Пушкин               103474.946140\n",
       "деревня Кудрово       92275.248321\n",
       "посёлок Парголово     89911.995183\n",
       "посёлок Мурино        85560.730112\n",
       "Петергоф              83388.274773\n",
       "посёлок Шушары        77771.925501\n",
       "Колпино               74740.505600\n",
       "Всеволожск            69444.491372\n",
       "Гатчина               67638.638223"
      ]
     },
     "execution_count": 30,
     "metadata": {},
     "output_type": "execute_result"
    }
   ],
   "source": [
    "top_ten_end = top_ten_data.pivot_table(index = 'locality_name', values = 'price_per_meter',\n",
    "                                       aggfunc = 'mean').sort_values('price_per_meter', ascending = False)\n",
    "top_ten_end"
   ]
  },
  {
   "cell_type": "markdown",
   "metadata": {},
   "source": [
    "Наиболее дорогой оказалась недвижимость в Санкт-Петербург, дальше - в Пушкине."
   ]
  },
  {
   "cell_type": "markdown",
   "metadata": {},
   "source": [
    "### Определение границы центральной области"
   ]
  },
  {
   "cell_type": "markdown",
   "metadata": {},
   "source": [
    "Создам столбец с расстоянием до центра в километрах"
   ]
  },
  {
   "cell_type": "code",
   "execution_count": 31,
   "metadata": {},
   "outputs": [],
   "source": [
    "pd.options.mode.chained_assignment = None\n",
    "df_new['cityCenters_nearest_round'] = (df_new['cityCenters_nearest'] / 1000).round(0)"
   ]
  },
  {
   "cell_type": "code",
   "execution_count": 32,
   "metadata": {},
   "outputs": [
    {
     "data": {
      "text/plain": [
       "Text(0, 0.5, 'Средняя цена')"
      ]
     },
     "execution_count": 32,
     "metadata": {},
     "output_type": "execute_result"
    },
    {
     "data": {
      "image/png": "[encoded data removed]",
      "text/plain": [
       "<Figure size 1008x648 with 1 Axes>"
      ]
     },
     "metadata": {
      "needs_background": "light"
     },
     "output_type": "display_data"
    }
   ],
   "source": [
    "price_per_km = df_new.query('locality_name==\"Санкт-Петербург\"').pivot_table(index = 'cityCenters_nearest_round',\n",
    "                                                                            values = 'price_per_meter',\n",
    "                                                                            aggfunc = 'mean')\n",
    "price_per_km_graphic = price_per_km.plot(kind = 'bar', figsize = (14,9), grid = True, legend = True);\n",
    "plt.title('Средняя цена за километр', fontsize = 'xx-large')\n",
    "plt.xlabel('Расстояние до центра в км', fontsize = 'x-large')\n",
    "plt.ylabel('Средняя цена', fontsize = 'x-large')"
   ]
  },
  {
   "cell_type": "markdown",
   "metadata": {},
   "source": [
    "Наблюдается резкое падение цен у трех км, дальше снова идет повышение (что-то странное находится на 3 км, но для центра как-то мало).   \n",
    "Будем считать радиус центральной зоны 9 км.   \n",
    "Выделю таблицу с объявлениями в центре."
   ]
  },
  {
   "cell_type": "code",
   "execution_count": 33,
   "metadata": {},
   "outputs": [],
   "source": [
    "city_center_data = df_new.query('cityCenters_nearest_round < 9')"
   ]
  },
  {
   "cell_type": "markdown",
   "metadata": {},
   "source": [
    "### Анализ квартир в центре"
   ]
  },
  {
   "cell_type": "markdown",
   "metadata": {},
   "source": [
    "<a name=\"3\"></a>"
   ]
  },
  {
   "cell_type": "code",
   "execution_count": 34,
   "metadata": {},
   "outputs": [
    {
     "data": {
      "image/png": "[encoded data removed]",
      "text/plain": [
       "<Figure size 432x288 with 1 Axes>"
      ]
     },
     "metadata": {
      "needs_background": "light"
     },
     "output_type": "display_data"
    },
    {
     "data": {
      "image/png": "[encoded data removed]",
      "text/plain": [
       "<Figure size 432x288 with 1 Axes>"
      ]
     },
     "metadata": {
      "needs_background": "light"
     },
     "output_type": "display_data"
    },
    {
     "data": {
      "image/png": "[encoded data removed]",
      "text/plain": [
       "<Figure size 432x288 with 1 Axes>"
      ]
     },
     "metadata": {
      "needs_background": "light"
     },
     "output_type": "display_data"
    },
    {
     "data": {
      "image/png": "[encoded data removed]",
      "text/plain": [
       "<Figure size 432x288 with 1 Axes>"
      ]
     },
     "metadata": {
      "needs_background": "light"
     },
     "output_type": "display_data"
    }
   ],
   "source": [
    "city_center_data_bins = [100, 8, 100, 15]\n",
    "city_center_data_bins_titles = ['Площадь', 'Кол-во комнат', 'Цена', 'Высота потолков']\n",
    "city_center_data_bins_ranges = [(0,300), (0,8), (0,5*10**7), (2.5,4)]\n",
    "city_center_columns = ['total_area', 'rooms', 'last_price', 'ceiling_height']\n",
    "city_center_data_main = []\n",
    "i = 0\n",
    "for row in city_center_columns:\n",
    "    l = city_center_data[row].plot(kind = 'hist',\n",
    "                               bins = city_center_data_bins[i],\n",
    "                               grid = True, range = city_center_data_bins_ranges[i])\n",
    "    city_center_data_main.append(l)\n",
    "    plt.title(city_center_data_bins_titles[i], fontsize = 'xx-large')\n",
    "    plt.xlabel(city_center_data_bins_titles[i], fontsize = 'x-large')\n",
    "    plt.ylabel('Частота', fontsize = 'x-large')\n",
    "    plt.show()\n",
    "    i += 1"
   ]
  },
  {
   "cell_type": "markdown",
   "metadata": {},
   "source": [
    "Анализируя графики, можно сделать следующие выводы:  \n",
    "1) квартир прощадью до 50 кв. м намного меньше в центре: преобладает диапазон от 50 до 100 кв. м;  \n",
    "2) квартиры в центре стоят дороже: в среднем около 6 млн руб.;  \n",
    "3) в центре меньше однокомнатных, преобладают двух- и трехкомнатные квартиры;  \n",
    "4) распределение высот потолков одинаковое (но высотой 3 м выделяются заметнее)."
   ]
  },
  {
   "cell_type": "markdown",
   "metadata": {},
   "source": [
    "<a name=\"4\"></a>"
   ]
  },
  {
   "cell_type": "code",
   "execution_count": 35,
   "metadata": {
    "scrolled": false
   },
   "outputs": [
    {
     "data": {
      "image/png": "[encoded data removed]",
      "text/plain": [
       "<Figure size 648x648 with 1 Axes>"
      ]
     },
     "metadata": {
      "needs_background": "light"
     },
     "output_type": "display_data"
    },
    {
     "data": {
      "image/png": "[encoded data removed]",
      "text/plain": [
       "<Figure size 648x648 with 1 Axes>"
      ]
     },
     "metadata": {
      "needs_background": "light"
     },
     "output_type": "display_data"
    },
    {
     "data": {
      "image/png": "[encoded data removed]",
      "text/plain": [
       "<Figure size 648x648 with 1 Axes>"
      ]
     },
     "metadata": {
      "needs_background": "light"
     },
     "output_type": "display_data"
    }
   ],
   "source": [
    "city_center_columns = ['day_of_week_name', 'month', 'year']\n",
    "city_center_date_analysis = []\n",
    "xlabels = ['День недели','Месяц','Год']\n",
    "i = 0\n",
    "for row in city_center_columns:\n",
    "    city_center_data_cycle = city_center_data.pivot_table(index = row, values = 'last_price', aggfunc = 'median')\n",
    "    k = city_center_data_cycle.plot(kind = 'bar', grid = True, figsize = (9,9));\n",
    "    #plt.ylim(0,10000000)\n",
    "    plt.xlabel(xlabels[i], fontsize = 'x-large')\n",
    "    plt.ylabel('Медиана цены', fontsize = 'x-large')\n",
    "    plt.title('Зависимость цены от времени', fontsize = 'xx-large')\n",
    "    city_center_date_analysis.append(k)\n",
    "    i += 1"
   ]
  },
  {
   "cell_type": "markdown",
   "metadata": {},
   "source": [
    "Сильного различия в днях и месяцах не замечаю (кроме декабря и ноября, но это не играет большой роли).    \n",
    "Разница в годах кардинально отличается.   \n",
    "Цена на недвижимость с годами падает, 2016 год был самый выгодный."
   ]
  },
  {
   "cell_type": "code",
   "execution_count": 36,
   "metadata": {},
   "outputs": [
    {
     "data": {
      "text/html": [
       "<div>\n",
       "<style scoped>\n",
       "    .dataframe tbody tr th:only-of-type {\n",
       "        vertical-align: middle;\n",
       "    }\n",
       "\n",
       "    .dataframe tbody tr th {\n",
       "        vertical-align: top;\n",
       "    }\n",
       "\n",
       "    .dataframe thead th {\n",
       "        text-align: right;\n",
       "    }\n",
       "</style>\n",
       "<table border=\"1\" class=\"dataframe\">\n",
       "  <thead>\n",
       "    <tr style=\"text-align: right;\">\n",
       "      <th></th>\n",
       "      <th>last_price</th>\n",
       "      <th>total_area</th>\n",
       "      <th>rooms</th>\n",
       "      <th>cityCenters_nearest</th>\n",
       "      <th>ceiling_height</th>\n",
       "    </tr>\n",
       "  </thead>\n",
       "  <tbody>\n",
       "    <tr>\n",
       "      <td>last_price</td>\n",
       "      <td>1.000000</td>\n",
       "      <td>0.650969</td>\n",
       "      <td>0.349901</td>\n",
       "      <td>-0.092931</td>\n",
       "      <td>0.134323</td>\n",
       "    </tr>\n",
       "    <tr>\n",
       "      <td>total_area</td>\n",
       "      <td>0.650969</td>\n",
       "      <td>1.000000</td>\n",
       "      <td>0.768484</td>\n",
       "      <td>-0.156295</td>\n",
       "      <td>0.241574</td>\n",
       "    </tr>\n",
       "    <tr>\n",
       "      <td>rooms</td>\n",
       "      <td>0.349901</td>\n",
       "      <td>0.768484</td>\n",
       "      <td>1.000000</td>\n",
       "      <td>-0.215563</td>\n",
       "      <td>0.244651</td>\n",
       "    </tr>\n",
       "    <tr>\n",
       "      <td>cityCenters_nearest</td>\n",
       "      <td>-0.092931</td>\n",
       "      <td>-0.156295</td>\n",
       "      <td>-0.215563</td>\n",
       "      <td>1.000000</td>\n",
       "      <td>-0.230732</td>\n",
       "    </tr>\n",
       "    <tr>\n",
       "      <td>ceiling_height</td>\n",
       "      <td>0.134323</td>\n",
       "      <td>0.241574</td>\n",
       "      <td>0.244651</td>\n",
       "      <td>-0.230732</td>\n",
       "      <td>1.000000</td>\n",
       "    </tr>\n",
       "  </tbody>\n",
       "</table>\n",
       "</div>"
      ],
      "text/plain": [
       "                     last_price  total_area     rooms  cityCenters_nearest  \\\n",
       "last_price             1.000000    0.650969  0.349901            -0.092931   \n",
       "total_area             0.650969    1.000000  0.768484            -0.156295   \n",
       "rooms                  0.349901    0.768484  1.000000            -0.215563   \n",
       "cityCenters_nearest   -0.092931   -0.156295 -0.215563             1.000000   \n",
       "ceiling_height         0.134323    0.241574  0.244651            -0.230732   \n",
       "\n",
       "                     ceiling_height  \n",
       "last_price                 0.134323  \n",
       "total_area                 0.241574  \n",
       "rooms                      0.244651  \n",
       "cityCenters_nearest       -0.230732  \n",
       "ceiling_height             1.000000  "
      ]
     },
     "execution_count": 36,
     "metadata": {},
     "output_type": "execute_result"
    }
   ],
   "source": [
    "city_center_data_corr = city_center_data.loc[:,['last_price','total_area','rooms',\n",
    "                                                'cityCenters_nearest','ceiling_height']]\n",
    "city_center_data_corr.corr()"
   ]
  },
  {
   "cell_type": "markdown",
   "metadata": {},
   "source": [
    "В этом случае влияние удаленности от центра можно уже не учитывать.    \n",
    "В остальном основные параметры ценообразования остаются теми же."
   ]
  },
  {
   "cell_type": "markdown",
   "metadata": {},
   "source": [
    "### Шаг 5. Общий вывод"
   ]
  },
  {
   "cell_type": "markdown",
   "metadata": {},
   "source": [
    "При первоначальной обработке данных (удаление и замена пропусков) я нашел проблему в программе, определяющую расстояние до центра и остальные географические параметры. "
   ]
  },
  {
   "cell_type": "code",
   "execution_count": 37,
   "metadata": {},
   "outputs": [
    {
     "data": {
      "text/html": [
       "<div>\n",
       "<style scoped>\n",
       "    .dataframe tbody tr th:only-of-type {\n",
       "        vertical-align: middle;\n",
       "    }\n",
       "\n",
       "    .dataframe tbody tr th {\n",
       "        vertical-align: top;\n",
       "    }\n",
       "\n",
       "    .dataframe thead th {\n",
       "        text-align: right;\n",
       "    }\n",
       "</style>\n",
       "<table border=\"1\" class=\"dataframe\">\n",
       "  <thead>\n",
       "    <tr style=\"text-align: right;\">\n",
       "      <th></th>\n",
       "      <th>total_images</th>\n",
       "      <th>last_price</th>\n",
       "      <th>total_area</th>\n",
       "      <th>first_day_exposition</th>\n",
       "      <th>rooms</th>\n",
       "      <th>ceiling_height</th>\n",
       "      <th>floors_total</th>\n",
       "      <th>living_area</th>\n",
       "      <th>floor</th>\n",
       "      <th>is_apartment</th>\n",
       "      <th>studio</th>\n",
       "      <th>open_plan</th>\n",
       "      <th>kitchen_area</th>\n",
       "      <th>balcony</th>\n",
       "      <th>locality_name</th>\n",
       "      <th>airports_nearest</th>\n",
       "      <th>cityCenters_nearest</th>\n",
       "      <th>parks_around3000</th>\n",
       "      <th>parks_nearest</th>\n",
       "      <th>ponds_around3000</th>\n",
       "      <th>ponds_nearest</th>\n",
       "      <th>days_exposition</th>\n",
       "    </tr>\n",
       "  </thead>\n",
       "  <tbody>\n",
       "    <tr>\n",
       "      <td>22</td>\n",
       "      <td>20</td>\n",
       "      <td>5000000.0</td>\n",
       "      <td>58.0</td>\n",
       "      <td>2017-04-24T00:00:00</td>\n",
       "      <td>2</td>\n",
       "      <td>2.75</td>\n",
       "      <td>25.0</td>\n",
       "      <td>30.0</td>\n",
       "      <td>15</td>\n",
       "      <td>False</td>\n",
       "      <td>False</td>\n",
       "      <td>False</td>\n",
       "      <td>11.0</td>\n",
       "      <td>2.0</td>\n",
       "      <td>деревня Кудрово</td>\n",
       "      <td>NaN</td>\n",
       "      <td>NaN</td>\n",
       "      <td>NaN</td>\n",
       "      <td>NaN</td>\n",
       "      <td>NaN</td>\n",
       "      <td>NaN</td>\n",
       "      <td>60.0</td>\n",
       "    </tr>\n",
       "    <tr>\n",
       "      <td>333</td>\n",
       "      <td>10</td>\n",
       "      <td>5800000.0</td>\n",
       "      <td>57.0</td>\n",
       "      <td>2017-08-30T00:00:00</td>\n",
       "      <td>2</td>\n",
       "      <td>2.76</td>\n",
       "      <td>18.0</td>\n",
       "      <td>29.0</td>\n",
       "      <td>3</td>\n",
       "      <td>False</td>\n",
       "      <td>False</td>\n",
       "      <td>False</td>\n",
       "      <td>13.0</td>\n",
       "      <td>0.0</td>\n",
       "      <td>деревня Кудрово</td>\n",
       "      <td>NaN</td>\n",
       "      <td>NaN</td>\n",
       "      <td>NaN</td>\n",
       "      <td>NaN</td>\n",
       "      <td>NaN</td>\n",
       "      <td>NaN</td>\n",
       "      <td>122.0</td>\n",
       "    </tr>\n",
       "    <tr>\n",
       "      <td>615</td>\n",
       "      <td>15</td>\n",
       "      <td>4100000.0</td>\n",
       "      <td>43.0</td>\n",
       "      <td>2017-06-30T00:00:00</td>\n",
       "      <td>1</td>\n",
       "      <td>2.65</td>\n",
       "      <td>18.0</td>\n",
       "      <td>10.0</td>\n",
       "      <td>12</td>\n",
       "      <td>False</td>\n",
       "      <td>False</td>\n",
       "      <td>False</td>\n",
       "      <td>20.0</td>\n",
       "      <td>2.0</td>\n",
       "      <td>деревня Кудрово</td>\n",
       "      <td>NaN</td>\n",
       "      <td>NaN</td>\n",
       "      <td>NaN</td>\n",
       "      <td>NaN</td>\n",
       "      <td>NaN</td>\n",
       "      <td>NaN</td>\n",
       "      <td>18.0</td>\n",
       "    </tr>\n",
       "    <tr>\n",
       "      <td>631</td>\n",
       "      <td>6</td>\n",
       "      <td>4990000.0</td>\n",
       "      <td>55.0</td>\n",
       "      <td>2016-08-08T00:00:00</td>\n",
       "      <td>2</td>\n",
       "      <td>2.65</td>\n",
       "      <td>16.0</td>\n",
       "      <td>32.0</td>\n",
       "      <td>15</td>\n",
       "      <td>False</td>\n",
       "      <td>False</td>\n",
       "      <td>False</td>\n",
       "      <td>11.0</td>\n",
       "      <td>0.0</td>\n",
       "      <td>деревня Кудрово</td>\n",
       "      <td>NaN</td>\n",
       "      <td>NaN</td>\n",
       "      <td>NaN</td>\n",
       "      <td>NaN</td>\n",
       "      <td>NaN</td>\n",
       "      <td>NaN</td>\n",
       "      <td>557.0</td>\n",
       "    </tr>\n",
       "    <tr>\n",
       "      <td>685</td>\n",
       "      <td>7</td>\n",
       "      <td>2800000.0</td>\n",
       "      <td>33.0</td>\n",
       "      <td>2016-01-11T00:00:00</td>\n",
       "      <td>1</td>\n",
       "      <td>2.55</td>\n",
       "      <td>27.0</td>\n",
       "      <td>16.0</td>\n",
       "      <td>1</td>\n",
       "      <td>False</td>\n",
       "      <td>False</td>\n",
       "      <td>False</td>\n",
       "      <td>8.4</td>\n",
       "      <td>0.0</td>\n",
       "      <td>деревня Кудрово</td>\n",
       "      <td>NaN</td>\n",
       "      <td>NaN</td>\n",
       "      <td>NaN</td>\n",
       "      <td>NaN</td>\n",
       "      <td>NaN</td>\n",
       "      <td>NaN</td>\n",
       "      <td>303.0</td>\n",
       "    </tr>\n",
       "  </tbody>\n",
       "</table>\n",
       "</div>"
      ],
      "text/plain": [
       "     total_images  last_price  total_area first_day_exposition  rooms  \\\n",
       "22             20   5000000.0        58.0  2017-04-24T00:00:00      2   \n",
       "333            10   5800000.0        57.0  2017-08-30T00:00:00      2   \n",
       "615            15   4100000.0        43.0  2017-06-30T00:00:00      1   \n",
       "631             6   4990000.0        55.0  2016-08-08T00:00:00      2   \n",
       "685             7   2800000.0        33.0  2016-01-11T00:00:00      1   \n",
       "\n",
       "     ceiling_height  floors_total  living_area  floor  is_apartment  studio  \\\n",
       "22             2.75          25.0         30.0     15         False   False   \n",
       "333            2.76          18.0         29.0      3         False   False   \n",
       "615            2.65          18.0         10.0     12         False   False   \n",
       "631            2.65          16.0         32.0     15         False   False   \n",
       "685            2.55          27.0         16.0      1         False   False   \n",
       "\n",
       "     open_plan  kitchen_area  balcony    locality_name  airports_nearest  \\\n",
       "22       False          11.0      2.0  деревня Кудрово               NaN   \n",
       "333      False          13.0      0.0  деревня Кудрово               NaN   \n",
       "615      False          20.0      2.0  деревня Кудрово               NaN   \n",
       "631      False          11.0      0.0  деревня Кудрово               NaN   \n",
       "685      False           8.4      0.0  деревня Кудрово               NaN   \n",
       "\n",
       "     cityCenters_nearest  parks_around3000  parks_nearest  ponds_around3000  \\\n",
       "22                   NaN               NaN            NaN               NaN   \n",
       "333                  NaN               NaN            NaN               NaN   \n",
       "615                  NaN               NaN            NaN               NaN   \n",
       "631                  NaN               NaN            NaN               NaN   \n",
       "685                  NaN               NaN            NaN               NaN   \n",
       "\n",
       "     ponds_nearest  days_exposition  \n",
       "22             NaN             60.0  \n",
       "333            NaN            122.0  \n",
       "615            NaN             18.0  \n",
       "631            NaN            557.0  \n",
       "685            NaN            303.0  "
      ]
     },
     "execution_count": 37,
     "metadata": {},
     "output_type": "execute_result"
    }
   ],
   "source": [
    "sd.head()"
   ]
  },
  {
   "cell_type": "markdown",
   "metadata": {},
   "source": [
    "В некоторых столбцах заполнил пропущенные данные (balcony=0, is_apartment = False).   \n",
    "Отфильтровав таблицу, поменяли тип данных в некоторых столбцах.    \n",
    "В следующем шаге добавил день недели, месяц, год, тип этажа, отношение жилой и кухонной площади к общей.   \n",
    "Получена такая таблица:"
   ]
  },
  {
   "cell_type": "code",
   "execution_count": 38,
   "metadata": {},
   "outputs": [
    {
     "data": {
      "text/html": [
       "<div>\n",
       "<style scoped>\n",
       "    .dataframe tbody tr th:only-of-type {\n",
       "        vertical-align: middle;\n",
       "    }\n",
       "\n",
       "    .dataframe tbody tr th {\n",
       "        vertical-align: top;\n",
       "    }\n",
       "\n",
       "    .dataframe thead th {\n",
       "        text-align: right;\n",
       "    }\n",
       "</style>\n",
       "<table border=\"1\" class=\"dataframe\">\n",
       "  <thead>\n",
       "    <tr style=\"text-align: right;\">\n",
       "      <th></th>\n",
       "      <th>total_images</th>\n",
       "      <th>last_price</th>\n",
       "      <th>total_area</th>\n",
       "      <th>first_day_exposition</th>\n",
       "      <th>rooms</th>\n",
       "      <th>ceiling_height</th>\n",
       "      <th>floors_total</th>\n",
       "      <th>living_area</th>\n",
       "      <th>floor</th>\n",
       "      <th>is_apartment</th>\n",
       "      <th>studio</th>\n",
       "      <th>open_plan</th>\n",
       "      <th>kitchen_area</th>\n",
       "      <th>balcony</th>\n",
       "      <th>locality_name</th>\n",
       "      <th>airports_nearest</th>\n",
       "      <th>cityCenters_nearest</th>\n",
       "      <th>parks_around3000</th>\n",
       "      <th>parks_nearest</th>\n",
       "      <th>ponds_around3000</th>\n",
       "      <th>ponds_nearest</th>\n",
       "      <th>days_exposition</th>\n",
       "      <th>price_per_meter</th>\n",
       "      <th>day_of_week</th>\n",
       "      <th>day_of_week_name</th>\n",
       "      <th>month</th>\n",
       "      <th>year</th>\n",
       "      <th>floor_type</th>\n",
       "      <th>living_to_total</th>\n",
       "      <th>kitchen_to_total</th>\n",
       "    </tr>\n",
       "  </thead>\n",
       "  <tbody>\n",
       "    <tr>\n",
       "      <td>0</td>\n",
       "      <td>20</td>\n",
       "      <td>13000000</td>\n",
       "      <td>108.0</td>\n",
       "      <td>2019-03-07</td>\n",
       "      <td>3</td>\n",
       "      <td>2.70</td>\n",
       "      <td>16</td>\n",
       "      <td>51.0</td>\n",
       "      <td>8</td>\n",
       "      <td>False</td>\n",
       "      <td>False</td>\n",
       "      <td>False</td>\n",
       "      <td>25.0</td>\n",
       "      <td>0</td>\n",
       "      <td>Санкт-Петербург</td>\n",
       "      <td>18863</td>\n",
       "      <td>16028</td>\n",
       "      <td>1.0</td>\n",
       "      <td>482</td>\n",
       "      <td>2</td>\n",
       "      <td>755</td>\n",
       "      <td>NaN</td>\n",
       "      <td>120370.370370</td>\n",
       "      <td>7</td>\n",
       "      <td>Thursday</td>\n",
       "      <td>3</td>\n",
       "      <td>2019</td>\n",
       "      <td>Другой</td>\n",
       "      <td>0.472222</td>\n",
       "      <td>0.231481</td>\n",
       "    </tr>\n",
       "    <tr>\n",
       "      <td>1</td>\n",
       "      <td>7</td>\n",
       "      <td>3350000</td>\n",
       "      <td>40.4</td>\n",
       "      <td>2018-12-04</td>\n",
       "      <td>1</td>\n",
       "      <td>2.65</td>\n",
       "      <td>11</td>\n",
       "      <td>18.6</td>\n",
       "      <td>1</td>\n",
       "      <td>False</td>\n",
       "      <td>False</td>\n",
       "      <td>False</td>\n",
       "      <td>11.0</td>\n",
       "      <td>2</td>\n",
       "      <td>посёлок Шушары</td>\n",
       "      <td>12817</td>\n",
       "      <td>18603</td>\n",
       "      <td>0.0</td>\n",
       "      <td>NaN</td>\n",
       "      <td>0</td>\n",
       "      <td>NaN</td>\n",
       "      <td>81.0</td>\n",
       "      <td>82920.792079</td>\n",
       "      <td>4</td>\n",
       "      <td>Tuesday</td>\n",
       "      <td>12</td>\n",
       "      <td>2018</td>\n",
       "      <td>Первый</td>\n",
       "      <td>0.460396</td>\n",
       "      <td>0.272277</td>\n",
       "    </tr>\n",
       "    <tr>\n",
       "      <td>2</td>\n",
       "      <td>10</td>\n",
       "      <td>5196000</td>\n",
       "      <td>56.0</td>\n",
       "      <td>2015-08-20</td>\n",
       "      <td>2</td>\n",
       "      <td>2.65</td>\n",
       "      <td>5</td>\n",
       "      <td>34.3</td>\n",
       "      <td>4</td>\n",
       "      <td>False</td>\n",
       "      <td>False</td>\n",
       "      <td>False</td>\n",
       "      <td>8.3</td>\n",
       "      <td>0</td>\n",
       "      <td>Санкт-Петербург</td>\n",
       "      <td>21741</td>\n",
       "      <td>13933</td>\n",
       "      <td>1.0</td>\n",
       "      <td>90</td>\n",
       "      <td>2</td>\n",
       "      <td>574</td>\n",
       "      <td>558.0</td>\n",
       "      <td>92785.714286</td>\n",
       "      <td>20</td>\n",
       "      <td>Thursday</td>\n",
       "      <td>8</td>\n",
       "      <td>2015</td>\n",
       "      <td>Другой</td>\n",
       "      <td>0.612500</td>\n",
       "      <td>0.148214</td>\n",
       "    </tr>\n",
       "    <tr>\n",
       "      <td>4</td>\n",
       "      <td>2</td>\n",
       "      <td>10000000</td>\n",
       "      <td>100.0</td>\n",
       "      <td>2018-06-19</td>\n",
       "      <td>2</td>\n",
       "      <td>3.03</td>\n",
       "      <td>14</td>\n",
       "      <td>32.0</td>\n",
       "      <td>13</td>\n",
       "      <td>False</td>\n",
       "      <td>False</td>\n",
       "      <td>False</td>\n",
       "      <td>41.0</td>\n",
       "      <td>0</td>\n",
       "      <td>Санкт-Петербург</td>\n",
       "      <td>31856</td>\n",
       "      <td>8098</td>\n",
       "      <td>2.0</td>\n",
       "      <td>112</td>\n",
       "      <td>1</td>\n",
       "      <td>48</td>\n",
       "      <td>121.0</td>\n",
       "      <td>100000.000000</td>\n",
       "      <td>19</td>\n",
       "      <td>Tuesday</td>\n",
       "      <td>6</td>\n",
       "      <td>2018</td>\n",
       "      <td>Другой</td>\n",
       "      <td>0.320000</td>\n",
       "      <td>0.410000</td>\n",
       "    </tr>\n",
       "    <tr>\n",
       "      <td>5</td>\n",
       "      <td>10</td>\n",
       "      <td>2890000</td>\n",
       "      <td>30.4</td>\n",
       "      <td>2018-09-10</td>\n",
       "      <td>1</td>\n",
       "      <td>2.65</td>\n",
       "      <td>12</td>\n",
       "      <td>14.4</td>\n",
       "      <td>5</td>\n",
       "      <td>False</td>\n",
       "      <td>False</td>\n",
       "      <td>False</td>\n",
       "      <td>9.1</td>\n",
       "      <td>0</td>\n",
       "      <td>городской посёлок Янино-1</td>\n",
       "      <td>NaN</td>\n",
       "      <td>NaN</td>\n",
       "      <td>NaN</td>\n",
       "      <td>NaN</td>\n",
       "      <td>NaN</td>\n",
       "      <td>NaN</td>\n",
       "      <td>55.0</td>\n",
       "      <td>95065.789474</td>\n",
       "      <td>10</td>\n",
       "      <td>Monday</td>\n",
       "      <td>9</td>\n",
       "      <td>2018</td>\n",
       "      <td>Другой</td>\n",
       "      <td>0.473684</td>\n",
       "      <td>0.299342</td>\n",
       "    </tr>\n",
       "  </tbody>\n",
       "</table>\n",
       "</div>"
      ],
      "text/plain": [
       "   total_images  last_price  total_area first_day_exposition  rooms  \\\n",
       "0            20    13000000       108.0           2019-03-07      3   \n",
       "1             7     3350000        40.4           2018-12-04      1   \n",
       "2            10     5196000        56.0           2015-08-20      2   \n",
       "4             2    10000000       100.0           2018-06-19      2   \n",
       "5            10     2890000        30.4           2018-09-10      1   \n",
       "\n",
       "   ceiling_height  floors_total  living_area  floor  is_apartment  studio  \\\n",
       "0            2.70            16         51.0      8         False   False   \n",
       "1            2.65            11         18.6      1         False   False   \n",
       "2            2.65             5         34.3      4         False   False   \n",
       "4            3.03            14         32.0     13         False   False   \n",
       "5            2.65            12         14.4      5         False   False   \n",
       "\n",
       "   open_plan  kitchen_area  balcony              locality_name  \\\n",
       "0      False          25.0        0            Санкт-Петербург   \n",
       "1      False          11.0        2             посёлок Шушары   \n",
       "2      False           8.3        0            Санкт-Петербург   \n",
       "4      False          41.0        0            Санкт-Петербург   \n",
       "5      False           9.1        0  городской посёлок Янино-1   \n",
       "\n",
       "   airports_nearest  cityCenters_nearest  parks_around3000  parks_nearest  \\\n",
       "0             18863                16028               1.0            482   \n",
       "1             12817                18603               0.0            NaN   \n",
       "2             21741                13933               1.0             90   \n",
       "4             31856                 8098               2.0            112   \n",
       "5               NaN                  NaN               NaN            NaN   \n",
       "\n",
       "   ponds_around3000  ponds_nearest  days_exposition  price_per_meter  \\\n",
       "0                 2            755              NaN    120370.370370   \n",
       "1                 0            NaN             81.0     82920.792079   \n",
       "2                 2            574            558.0     92785.714286   \n",
       "4                 1             48            121.0    100000.000000   \n",
       "5               NaN            NaN             55.0     95065.789474   \n",
       "\n",
       "   day_of_week day_of_week_name  month  year floor_type  living_to_total  \\\n",
       "0            7         Thursday      3  2019     Другой         0.472222   \n",
       "1            4          Tuesday     12  2018     Первый         0.460396   \n",
       "2           20         Thursday      8  2015     Другой         0.612500   \n",
       "4           19          Tuesday      6  2018     Другой         0.320000   \n",
       "5           10           Monday      9  2018     Другой         0.473684   \n",
       "\n",
       "   kitchen_to_total  \n",
       "0          0.231481  \n",
       "1          0.272277  \n",
       "2          0.148214  \n",
       "4          0.410000  \n",
       "5          0.299342  "
      ]
     },
     "execution_count": 38,
     "metadata": {},
     "output_type": "execute_result"
    }
   ],
   "source": [
    "df_to_end.head()"
   ]
  },
  {
   "cell_type": "markdown",
   "metadata": {},
   "source": [
    "Изучена зависимость цены от основных параметров и выяснено, что цена больше зависит от общей площади, чем от удаленности от центра"
   ]
  },
  {
   "cell_type": "markdown",
   "metadata": {},
   "source": [
    "Выяснено, что цена не зависит от дня публикации объявления, а также от месяца (полагаю, что различие имеет случайный характер).     \n",
    "Однако цена зависит от года, и в последние два года она растет.   \n",
    "Получен и отсортирован по цене за квадратный метр список 10 самых популярных населенных пунктов по продажам."
   ]
  },
  {
   "cell_type": "code",
   "execution_count": 39,
   "metadata": {},
   "outputs": [
    {
     "data": {
      "text/html": [
       "<div>\n",
       "<style scoped>\n",
       "    .dataframe tbody tr th:only-of-type {\n",
       "        vertical-align: middle;\n",
       "    }\n",
       "\n",
       "    .dataframe tbody tr th {\n",
       "        vertical-align: top;\n",
       "    }\n",
       "\n",
       "    .dataframe thead th {\n",
       "        text-align: right;\n",
       "    }\n",
       "</style>\n",
       "<table border=\"1\" class=\"dataframe\">\n",
       "  <thead>\n",
       "    <tr style=\"text-align: right;\">\n",
       "      <th></th>\n",
       "      <th>price_per_meter</th>\n",
       "    </tr>\n",
       "    <tr>\n",
       "      <th>locality_name</th>\n",
       "      <th></th>\n",
       "    </tr>\n",
       "  </thead>\n",
       "  <tbody>\n",
       "    <tr>\n",
       "      <td>Санкт-Петербург</td>\n",
       "      <td>112575.541527</td>\n",
       "    </tr>\n",
       "    <tr>\n",
       "      <td>Пушкин</td>\n",
       "      <td>103474.946140</td>\n",
       "    </tr>\n",
       "    <tr>\n",
       "      <td>деревня Кудрово</td>\n",
       "      <td>92275.248321</td>\n",
       "    </tr>\n",
       "    <tr>\n",
       "      <td>посёлок Парголово</td>\n",
       "      <td>89911.995183</td>\n",
       "    </tr>\n",
       "    <tr>\n",
       "      <td>посёлок Мурино</td>\n",
       "      <td>85560.730112</td>\n",
       "    </tr>\n",
       "    <tr>\n",
       "      <td>Петергоф</td>\n",
       "      <td>83388.274773</td>\n",
       "    </tr>\n",
       "    <tr>\n",
       "      <td>посёлок Шушары</td>\n",
       "      <td>77771.925501</td>\n",
       "    </tr>\n",
       "    <tr>\n",
       "      <td>Колпино</td>\n",
       "      <td>74740.505600</td>\n",
       "    </tr>\n",
       "    <tr>\n",
       "      <td>Всеволожск</td>\n",
       "      <td>69444.491372</td>\n",
       "    </tr>\n",
       "    <tr>\n",
       "      <td>Гатчина</td>\n",
       "      <td>67638.638223</td>\n",
       "    </tr>\n",
       "  </tbody>\n",
       "</table>\n",
       "</div>"
      ],
      "text/plain": [
       "                   price_per_meter\n",
       "locality_name                     \n",
       "Санкт-Петербург      112575.541527\n",
       "Пушкин               103474.946140\n",
       "деревня Кудрово       92275.248321\n",
       "посёлок Парголово     89911.995183\n",
       "посёлок Мурино        85560.730112\n",
       "Петергоф              83388.274773\n",
       "посёлок Шушары        77771.925501\n",
       "Колпино               74740.505600\n",
       "Всеволожск            69444.491372\n",
       "Гатчина               67638.638223"
      ]
     },
     "execution_count": 39,
     "metadata": {},
     "output_type": "execute_result"
    }
   ],
   "source": [
    "top_ten_end"
   ]
  },
  {
   "cell_type": "markdown",
   "metadata": {},
   "source": [
    "Выявлен сегмент квартир в центре и проведен аналогичный анализ.\n",
    "Я выяснил, что несмотря на то, что квартиры в центре, разумеется, стоят дороже, наблюдается тенденция падения цен на эти квартиры и тенденция роста цен на недвижимость за пределами центра."
   ]
  }
 ],
 "metadata": {
  "ExecuteTimeLog": [
   {
    "duration": 1862,
    "start_time": "2022-02-14T05:45:01.985Z"
   },
   {
    "duration": 635,
    "start_time": "2022-02-14T11:43:32.913Z"
   },
   {
    "duration": 1178,
    "start_time": "2022-02-14T11:43:38.783Z"
   },
   {
    "duration": 12,
    "start_time": "2022-02-14T11:43:39.969Z"
   },
   {
    "duration": 19,
    "start_time": "2022-02-14T11:43:39.984Z"
   },
   {
    "duration": 58,
    "start_time": "2022-02-14T11:43:40.006Z"
   },
   {
    "duration": 17,
    "start_time": "2022-02-14T11:43:40.067Z"
   },
   {
    "duration": 14,
    "start_time": "2022-02-14T11:43:40.087Z"
   },
   {
    "duration": 53,
    "start_time": "2022-02-14T11:43:40.107Z"
   },
   {
    "duration": 32,
    "start_time": "2022-02-14T11:43:40.164Z"
   },
   {
    "duration": 15,
    "start_time": "2022-02-14T11:43:40.199Z"
   },
   {
    "duration": 51,
    "start_time": "2022-02-14T11:43:40.216Z"
   },
   {
    "duration": 12,
    "start_time": "2022-02-14T11:43:40.269Z"
   },
   {
    "duration": 10,
    "start_time": "2022-02-14T11:43:40.283Z"
   },
   {
    "duration": 68,
    "start_time": "2022-02-14T11:43:40.295Z"
   },
   {
    "duration": 56,
    "start_time": "2022-02-14T11:43:40.365Z"
   },
   {
    "duration": 9,
    "start_time": "2022-02-14T11:43:40.423Z"
   },
   {
    "duration": 13,
    "start_time": "2022-02-14T11:43:40.460Z"
   },
   {
    "duration": 87,
    "start_time": "2022-02-14T11:43:40.475Z"
   },
   {
    "duration": 581,
    "start_time": "2022-02-14T11:43:40.564Z"
   },
   {
    "duration": 48,
    "start_time": "2022-02-14T11:43:41.148Z"
   },
   {
    "duration": 2086,
    "start_time": "2022-02-14T11:43:41.199Z"
   },
   {
    "duration": 7,
    "start_time": "2022-02-14T11:43:43.287Z"
   },
   {
    "duration": 12,
    "start_time": "2022-02-14T11:43:43.298Z"
   },
   {
    "duration": 818,
    "start_time": "2022-02-14T11:43:43.312Z"
   },
   {
    "duration": 66,
    "start_time": "2022-02-14T11:43:44.133Z"
   },
   {
    "duration": 1111,
    "start_time": "2022-02-14T11:43:44.201Z"
   },
   {
    "duration": 20,
    "start_time": "2022-02-14T11:43:45.314Z"
   },
   {
    "duration": 413,
    "start_time": "2022-02-14T11:43:45.336Z"
   },
   {
    "duration": 1326,
    "start_time": "2022-02-14T11:43:45.751Z"
   },
   {
    "duration": 30,
    "start_time": "2022-02-14T11:43:47.081Z"
   },
   {
    "duration": 95,
    "start_time": "2022-02-14T11:43:47.114Z"
   },
   {
    "duration": 25,
    "start_time": "2022-02-14T11:43:47.212Z"
   },
   {
    "duration": 9,
    "start_time": "2022-02-14T11:43:47.260Z"
   },
   {
    "duration": 742,
    "start_time": "2022-02-14T11:43:47.271Z"
   },
   {
    "duration": 11,
    "start_time": "2022-02-14T11:43:48.016Z"
   },
   {
    "duration": 1785,
    "start_time": "2022-02-14T11:43:48.030Z"
   },
   {
    "duration": 1354,
    "start_time": "2022-02-14T11:43:49.818Z"
   },
   {
    "duration": 20,
    "start_time": "2022-02-14T11:43:51.175Z"
   },
   {
    "duration": 63,
    "start_time": "2022-02-14T11:43:51.198Z"
   },
   {
    "duration": 38,
    "start_time": "2022-02-14T11:43:51.263Z"
   },
   {
    "duration": 9,
    "start_time": "2022-02-14T11:43:51.303Z"
   },
   {
    "duration": 19,
    "start_time": "2022-02-14T11:44:55.055Z"
   },
   {
    "duration": 997,
    "start_time": "2022-02-14T11:45:06.833Z"
   },
   {
    "duration": 12,
    "start_time": "2022-02-14T11:45:07.832Z"
   },
   {
    "duration": 16,
    "start_time": "2022-02-14T11:45:07.858Z"
   },
   {
    "duration": 16,
    "start_time": "2022-02-14T11:45:07.878Z"
   },
   {
    "duration": 18,
    "start_time": "2022-02-14T11:45:07.896Z"
   },
   {
    "duration": 61,
    "start_time": "2022-02-14T11:45:07.917Z"
   },
   {
    "duration": 9,
    "start_time": "2022-02-14T11:45:07.981Z"
   },
   {
    "duration": 30,
    "start_time": "2022-02-14T11:45:07.993Z"
   },
   {
    "duration": 40,
    "start_time": "2022-02-14T11:45:08.026Z"
   },
   {
    "duration": 14,
    "start_time": "2022-02-14T11:45:08.069Z"
   },
   {
    "duration": 14,
    "start_time": "2022-02-14T11:45:08.086Z"
   },
   {
    "duration": 62,
    "start_time": "2022-02-14T11:45:08.103Z"
   },
   {
    "duration": 31,
    "start_time": "2022-02-14T11:45:08.167Z"
   },
   {
    "duration": 82,
    "start_time": "2022-02-14T11:45:08.201Z"
   },
   {
    "duration": 10,
    "start_time": "2022-02-14T11:45:08.285Z"
   },
   {
    "duration": 17,
    "start_time": "2022-02-14T11:45:08.298Z"
   },
   {
    "duration": 88,
    "start_time": "2022-02-14T11:45:08.317Z"
   },
   {
    "duration": 553,
    "start_time": "2022-02-14T11:45:08.407Z"
   },
   {
    "duration": 44,
    "start_time": "2022-02-14T11:45:08.962Z"
   },
   {
    "duration": 1850,
    "start_time": "2022-02-14T11:45:09.009Z"
   },
   {
    "duration": 8,
    "start_time": "2022-02-14T11:45:10.861Z"
   },
   {
    "duration": 12,
    "start_time": "2022-02-14T11:45:10.872Z"
   },
   {
    "duration": 821,
    "start_time": "2022-02-14T11:45:10.888Z"
   },
   {
    "duration": 70,
    "start_time": "2022-02-14T11:45:11.713Z"
   },
   {
    "duration": 1123,
    "start_time": "2022-02-14T11:45:11.786Z"
   },
   {
    "duration": 20,
    "start_time": "2022-02-14T11:45:12.912Z"
   },
   {
    "duration": 403,
    "start_time": "2022-02-14T11:45:12.935Z"
   },
   {
    "duration": 1281,
    "start_time": "2022-02-14T11:45:13.341Z"
   },
   {
    "duration": 46,
    "start_time": "2022-02-14T11:45:14.625Z"
   },
   {
    "duration": 63,
    "start_time": "2022-02-14T11:45:14.673Z"
   },
   {
    "duration": 38,
    "start_time": "2022-02-14T11:45:14.738Z"
   },
   {
    "duration": 6,
    "start_time": "2022-02-14T11:45:14.779Z"
   },
   {
    "duration": 729,
    "start_time": "2022-02-14T11:45:14.788Z"
   },
   {
    "duration": 14,
    "start_time": "2022-02-14T11:45:15.520Z"
   },
   {
    "duration": 1767,
    "start_time": "2022-02-14T11:45:15.537Z"
   },
   {
    "duration": 1301,
    "start_time": "2022-02-14T11:45:17.307Z"
   },
   {
    "duration": 17,
    "start_time": "2022-02-14T11:45:18.611Z"
   },
   {
    "duration": 48,
    "start_time": "2022-02-14T11:45:18.630Z"
   },
   {
    "duration": 38,
    "start_time": "2022-02-14T11:45:18.680Z"
   },
   {
    "duration": 9,
    "start_time": "2022-02-14T11:45:18.721Z"
   },
   {
    "duration": 9,
    "start_time": "2022-02-14T12:06:08.652Z"
   },
   {
    "duration": 1050,
    "start_time": "2022-02-14T12:07:01.132Z"
   },
   {
    "duration": 15,
    "start_time": "2022-02-14T12:07:02.185Z"
   },
   {
    "duration": 14,
    "start_time": "2022-02-14T12:07:02.204Z"
   },
   {
    "duration": 45,
    "start_time": "2022-02-14T12:07:02.221Z"
   },
   {
    "duration": 15,
    "start_time": "2022-02-14T12:07:02.269Z"
   },
   {
    "duration": 12,
    "start_time": "2022-02-14T12:07:02.287Z"
   },
   {
    "duration": 10,
    "start_time": "2022-02-14T12:07:02.301Z"
   },
   {
    "duration": 75,
    "start_time": "2022-02-14T12:07:02.315Z"
   },
   {
    "duration": 13,
    "start_time": "2022-02-14T12:07:02.393Z"
   },
   {
    "duration": 16,
    "start_time": "2022-02-14T12:07:02.409Z"
   },
   {
    "duration": 41,
    "start_time": "2022-02-14T12:07:02.427Z"
   },
   {
    "duration": 11,
    "start_time": "2022-02-14T12:07:02.471Z"
   },
   {
    "duration": 30,
    "start_time": "2022-02-14T12:07:02.484Z"
   },
   {
    "duration": 93,
    "start_time": "2022-02-14T12:07:02.516Z"
   },
   {
    "duration": 9,
    "start_time": "2022-02-14T12:07:02.612Z"
   },
   {
    "duration": 21,
    "start_time": "2022-02-14T12:07:02.623Z"
   },
   {
    "duration": 53,
    "start_time": "2022-02-14T12:07:02.660Z"
   },
   {
    "duration": 560,
    "start_time": "2022-02-14T12:07:02.715Z"
   },
   {
    "duration": 42,
    "start_time": "2022-02-14T12:07:03.277Z"
   },
   {
    "duration": 1854,
    "start_time": "2022-02-14T12:07:03.321Z"
   },
   {
    "duration": 8,
    "start_time": "2022-02-14T12:07:05.177Z"
   },
   {
    "duration": 14,
    "start_time": "2022-02-14T12:07:05.188Z"
   },
   {
    "duration": 811,
    "start_time": "2022-02-14T12:07:05.207Z"
   },
   {
    "duration": 65,
    "start_time": "2022-02-14T12:07:06.020Z"
   },
   {
    "duration": 1074,
    "start_time": "2022-02-14T12:07:06.088Z"
   },
   {
    "duration": 21,
    "start_time": "2022-02-14T12:07:07.164Z"
   },
   {
    "duration": 409,
    "start_time": "2022-02-14T12:07:07.188Z"
   },
   {
    "duration": 1295,
    "start_time": "2022-02-14T12:07:07.600Z"
   },
   {
    "duration": 29,
    "start_time": "2022-02-14T12:07:08.897Z"
   },
   {
    "duration": 88,
    "start_time": "2022-02-14T12:07:08.928Z"
   },
   {
    "duration": 41,
    "start_time": "2022-02-14T12:07:09.018Z"
   },
   {
    "duration": 8,
    "start_time": "2022-02-14T12:07:09.062Z"
   },
   {
    "duration": 713,
    "start_time": "2022-02-14T12:07:09.072Z"
   },
   {
    "duration": 11,
    "start_time": "2022-02-14T12:07:09.787Z"
   },
   {
    "duration": 1800,
    "start_time": "2022-02-14T12:07:09.800Z"
   },
   {
    "duration": 1294,
    "start_time": "2022-02-14T12:07:11.603Z"
   },
   {
    "duration": 19,
    "start_time": "2022-02-14T12:07:12.900Z"
   },
   {
    "duration": 51,
    "start_time": "2022-02-14T12:07:12.922Z"
   },
   {
    "duration": 36,
    "start_time": "2022-02-14T12:07:12.975Z"
   },
   {
    "duration": 9,
    "start_time": "2022-02-14T12:07:13.014Z"
   },
   {
    "duration": 21,
    "start_time": "2022-02-14T12:07:57.958Z"
   },
   {
    "duration": 17,
    "start_time": "2022-02-14T12:08:10.408Z"
   },
   {
    "duration": 1015,
    "start_time": "2022-02-14T12:08:14.945Z"
   },
   {
    "duration": 12,
    "start_time": "2022-02-14T12:08:15.963Z"
   },
   {
    "duration": 15,
    "start_time": "2022-02-14T12:08:15.978Z"
   },
   {
    "duration": 14,
    "start_time": "2022-02-14T12:08:15.996Z"
   },
   {
    "duration": 58,
    "start_time": "2022-02-14T12:08:16.012Z"
   },
   {
    "duration": 15,
    "start_time": "2022-02-14T12:08:16.073Z"
   },
   {
    "duration": 10,
    "start_time": "2022-02-14T12:08:16.090Z"
   },
   {
    "duration": 67,
    "start_time": "2022-02-14T12:08:16.104Z"
   },
   {
    "duration": 14,
    "start_time": "2022-02-14T12:08:16.173Z"
   },
   {
    "duration": 16,
    "start_time": "2022-02-14T12:08:16.190Z"
   },
   {
    "duration": 51,
    "start_time": "2022-02-14T12:08:16.209Z"
   },
   {
    "duration": 11,
    "start_time": "2022-02-14T12:08:16.263Z"
   },
   {
    "duration": 32,
    "start_time": "2022-02-14T12:08:16.277Z"
   },
   {
    "duration": 96,
    "start_time": "2022-02-14T12:08:16.311Z"
   },
   {
    "duration": 10,
    "start_time": "2022-02-14T12:08:16.410Z"
   },
   {
    "duration": 38,
    "start_time": "2022-02-14T12:08:16.423Z"
   },
   {
    "duration": 60,
    "start_time": "2022-02-14T12:08:16.464Z"
   },
   {
    "duration": 589,
    "start_time": "2022-02-14T12:08:16.528Z"
   },
   {
    "duration": 51,
    "start_time": "2022-02-14T12:08:17.119Z"
   },
   {
    "duration": 1898,
    "start_time": "2022-02-14T12:08:17.172Z"
   },
   {
    "duration": 8,
    "start_time": "2022-02-14T12:08:19.072Z"
   },
   {
    "duration": 14,
    "start_time": "2022-02-14T12:08:19.084Z"
   },
   {
    "duration": 834,
    "start_time": "2022-02-14T12:08:19.105Z"
   },
   {
    "duration": 63,
    "start_time": "2022-02-14T12:08:19.943Z"
   },
   {
    "duration": 1144,
    "start_time": "2022-02-14T12:08:20.008Z"
   },
   {
    "duration": 23,
    "start_time": "2022-02-14T12:08:21.160Z"
   },
   {
    "duration": 414,
    "start_time": "2022-02-14T12:08:21.186Z"
   },
   {
    "duration": 1336,
    "start_time": "2022-02-14T12:08:21.604Z"
   },
   {
    "duration": 36,
    "start_time": "2022-02-14T12:08:22.942Z"
   },
   {
    "duration": 81,
    "start_time": "2022-02-14T12:08:22.980Z"
   },
   {
    "duration": 26,
    "start_time": "2022-02-14T12:08:23.065Z"
   },
   {
    "duration": 9,
    "start_time": "2022-02-14T12:08:23.094Z"
   },
   {
    "duration": 749,
    "start_time": "2022-02-14T12:08:23.106Z"
   },
   {
    "duration": 13,
    "start_time": "2022-02-14T12:08:23.860Z"
   },
   {
    "duration": 1753,
    "start_time": "2022-02-14T12:08:23.876Z"
   },
   {
    "duration": 1287,
    "start_time": "2022-02-14T12:08:25.631Z"
   },
   {
    "duration": 17,
    "start_time": "2022-02-14T12:08:26.921Z"
   },
   {
    "duration": 29,
    "start_time": "2022-02-14T12:08:26.959Z"
   },
   {
    "duration": 39,
    "start_time": "2022-02-14T12:08:26.991Z"
   },
   {
    "duration": 11,
    "start_time": "2022-02-14T12:08:27.060Z"
   },
   {
    "duration": 17,
    "start_time": "2022-02-14T12:10:29.489Z"
   },
   {
    "duration": 16,
    "start_time": "2022-02-14T12:18:14.727Z"
   },
   {
    "duration": 17,
    "start_time": "2022-02-14T13:27:46.320Z"
   },
   {
    "duration": 959,
    "start_time": "2022-02-14T13:27:52.575Z"
   },
   {
    "duration": 24,
    "start_time": "2022-02-14T13:27:53.537Z"
   },
   {
    "duration": 14,
    "start_time": "2022-02-14T13:27:53.564Z"
   },
   {
    "duration": 13,
    "start_time": "2022-02-14T13:27:53.581Z"
   },
   {
    "duration": 68,
    "start_time": "2022-02-14T13:27:53.596Z"
   },
   {
    "duration": 13,
    "start_time": "2022-02-14T13:27:53.666Z"
   },
   {
    "duration": 9,
    "start_time": "2022-02-14T13:27:53.681Z"
   },
   {
    "duration": 69,
    "start_time": "2022-02-14T13:27:53.694Z"
   },
   {
    "duration": 12,
    "start_time": "2022-02-14T13:27:53.766Z"
   },
   {
    "duration": 15,
    "start_time": "2022-02-14T13:27:53.780Z"
   },
   {
    "duration": 13,
    "start_time": "2022-02-14T13:27:53.797Z"
   },
   {
    "duration": 55,
    "start_time": "2022-02-14T13:27:53.813Z"
   },
   {
    "duration": 31,
    "start_time": "2022-02-14T13:27:53.870Z"
   },
   {
    "duration": 94,
    "start_time": "2022-02-14T13:27:53.904Z"
   },
   {
    "duration": 9,
    "start_time": "2022-02-14T13:27:54.001Z"
   },
   {
    "duration": 17,
    "start_time": "2022-02-14T13:27:54.012Z"
   },
   {
    "duration": 82,
    "start_time": "2022-02-14T13:27:54.031Z"
   },
   {
    "duration": 558,
    "start_time": "2022-02-14T13:27:54.117Z"
   },
   {
    "duration": 43,
    "start_time": "2022-02-14T13:27:54.678Z"
   },
   {
    "duration": 1907,
    "start_time": "2022-02-14T13:27:54.724Z"
   },
   {
    "duration": 8,
    "start_time": "2022-02-14T13:27:56.633Z"
   },
   {
    "duration": 11,
    "start_time": "2022-02-14T13:27:56.660Z"
   },
   {
    "duration": 808,
    "start_time": "2022-02-14T13:27:56.676Z"
   },
   {
    "duration": 72,
    "start_time": "2022-02-14T13:27:57.487Z"
   },
   {
    "duration": 1166,
    "start_time": "2022-02-14T13:27:57.562Z"
   },
   {
    "duration": 44,
    "start_time": "2022-02-14T13:27:58.731Z"
   },
   {
    "duration": 394,
    "start_time": "2022-02-14T13:27:58.778Z"
   },
   {
    "duration": 1291,
    "start_time": "2022-02-14T13:27:59.175Z"
   },
   {
    "duration": 29,
    "start_time": "2022-02-14T13:28:00.469Z"
   },
   {
    "duration": 106,
    "start_time": "2022-02-14T13:28:00.501Z"
   },
   {
    "duration": 50,
    "start_time": "2022-02-14T13:28:00.611Z"
   },
   {
    "duration": 10,
    "start_time": "2022-02-14T13:28:00.665Z"
   },
   {
    "duration": 786,
    "start_time": "2022-02-14T13:28:00.678Z"
   },
   {
    "duration": 11,
    "start_time": "2022-02-14T13:28:01.467Z"
   },
   {
    "duration": 1933,
    "start_time": "2022-02-14T13:28:01.481Z"
   },
   {
    "duration": 1336,
    "start_time": "2022-02-14T13:28:03.416Z"
   },
   {
    "duration": 24,
    "start_time": "2022-02-14T13:28:04.761Z"
   },
   {
    "duration": 28,
    "start_time": "2022-02-14T13:28:04.787Z"
   },
   {
    "duration": 74,
    "start_time": "2022-02-14T13:28:04.817Z"
   },
   {
    "duration": 9,
    "start_time": "2022-02-14T13:28:04.894Z"
   },
   {
    "duration": 14,
    "start_time": "2022-02-14T17:05:25.882Z"
   },
   {
    "duration": 13,
    "start_time": "2022-02-14T17:05:28.646Z"
   },
   {
    "duration": 1034,
    "start_time": "2022-02-14T17:05:33.536Z"
   },
   {
    "duration": 13,
    "start_time": "2022-02-14T17:05:34.573Z"
   },
   {
    "duration": 15,
    "start_time": "2022-02-14T17:05:34.589Z"
   },
   {
    "duration": 55,
    "start_time": "2022-02-14T17:05:34.607Z"
   },
   {
    "duration": 15,
    "start_time": "2022-02-14T17:05:34.664Z"
   },
   {
    "duration": 13,
    "start_time": "2022-02-14T17:05:34.682Z"
   },
   {
    "duration": 9,
    "start_time": "2022-02-14T17:05:34.697Z"
   },
   {
    "duration": 31,
    "start_time": "2022-02-14T17:05:34.760Z"
   },
   {
    "duration": 13,
    "start_time": "2022-02-14T17:05:34.794Z"
   },
   {
    "duration": 59,
    "start_time": "2022-02-14T17:05:34.809Z"
   },
   {
    "duration": 13,
    "start_time": "2022-02-14T17:05:34.870Z"
   },
   {
    "duration": 10,
    "start_time": "2022-02-14T17:05:34.885Z"
   },
   {
    "duration": 31,
    "start_time": "2022-02-14T17:05:34.897Z"
   },
   {
    "duration": 139,
    "start_time": "2022-02-14T17:05:34.930Z"
   },
   {
    "duration": 13,
    "start_time": "2022-02-14T17:05:35.072Z"
   },
   {
    "duration": 17,
    "start_time": "2022-02-14T17:05:35.088Z"
   },
   {
    "duration": 104,
    "start_time": "2022-02-14T17:05:35.108Z"
   },
   {
    "duration": 569,
    "start_time": "2022-02-14T17:05:35.215Z"
   },
   {
    "duration": 44,
    "start_time": "2022-02-14T17:05:35.787Z"
   },
   {
    "duration": 2034,
    "start_time": "2022-02-14T17:05:35.834Z"
   },
   {
    "duration": 8,
    "start_time": "2022-02-14T17:05:37.870Z"
   },
   {
    "duration": 11,
    "start_time": "2022-02-14T17:05:37.881Z"
   },
   {
    "duration": 839,
    "start_time": "2022-02-14T17:05:37.897Z"
   },
   {
    "duration": 66,
    "start_time": "2022-02-14T17:05:38.740Z"
   },
   {
    "duration": 1227,
    "start_time": "2022-02-14T17:05:38.809Z"
   },
   {
    "duration": 32,
    "start_time": "2022-02-14T17:05:40.038Z"
   },
   {
    "duration": 398,
    "start_time": "2022-02-14T17:05:40.073Z"
   },
   {
    "duration": 1298,
    "start_time": "2022-02-14T17:05:40.474Z"
   },
   {
    "duration": 28,
    "start_time": "2022-02-14T17:05:41.775Z"
   },
   {
    "duration": 95,
    "start_time": "2022-02-14T17:05:41.805Z"
   },
   {
    "duration": 20,
    "start_time": "2022-02-14T17:05:41.902Z"
   },
   {
    "duration": 34,
    "start_time": "2022-02-14T17:05:41.925Z"
   },
   {
    "duration": 1139,
    "start_time": "2022-02-14T17:05:41.962Z"
   },
   {
    "duration": 17,
    "start_time": "2022-02-14T17:05:43.104Z"
   },
   {
    "duration": 2173,
    "start_time": "2022-02-14T17:05:43.125Z"
   },
   {
    "duration": 1276,
    "start_time": "2022-02-14T17:05:45.300Z"
   },
   {
    "duration": 18,
    "start_time": "2022-02-14T17:05:46.579Z"
   },
   {
    "duration": 60,
    "start_time": "2022-02-14T17:05:46.599Z"
   },
   {
    "duration": 38,
    "start_time": "2022-02-14T17:05:46.661Z"
   },
   {
    "duration": 8,
    "start_time": "2022-02-14T17:05:46.702Z"
   },
   {
    "duration": 15,
    "start_time": "2022-02-14T17:06:24.356Z"
   },
   {
    "duration": 18,
    "start_time": "2022-02-14T17:07:00.828Z"
   },
   {
    "duration": 20,
    "start_time": "2022-02-14T17:07:17.188Z"
   },
   {
    "duration": 9,
    "start_time": "2022-02-14T17:07:43.596Z"
   },
   {
    "duration": 11,
    "start_time": "2022-02-14T17:08:04.657Z"
   },
   {
    "duration": 121,
    "start_time": "2022-02-14T17:09:49.809Z"
   },
   {
    "duration": 18,
    "start_time": "2022-02-14T17:10:03.968Z"
   },
   {
    "duration": 16,
    "start_time": "2022-02-14T17:10:09.147Z"
   },
   {
    "duration": 993,
    "start_time": "2022-02-14T17:10:14.116Z"
   },
   {
    "duration": 12,
    "start_time": "2022-02-14T17:10:15.112Z"
   },
   {
    "duration": 39,
    "start_time": "2022-02-14T17:10:15.127Z"
   },
   {
    "duration": 14,
    "start_time": "2022-02-14T17:10:15.169Z"
   },
   {
    "duration": 16,
    "start_time": "2022-02-14T17:10:15.185Z"
   },
   {
    "duration": 12,
    "start_time": "2022-02-14T17:10:15.203Z"
   },
   {
    "duration": 8,
    "start_time": "2022-02-14T17:10:15.260Z"
   },
   {
    "duration": 30,
    "start_time": "2022-02-14T17:10:15.272Z"
   },
   {
    "duration": 12,
    "start_time": "2022-02-14T17:10:15.305Z"
   },
   {
    "duration": 14,
    "start_time": "2022-02-14T17:10:15.360Z"
   },
   {
    "duration": 17,
    "start_time": "2022-02-14T17:10:15.376Z"
   },
   {
    "duration": 64,
    "start_time": "2022-02-14T17:10:15.397Z"
   },
   {
    "duration": 44,
    "start_time": "2022-02-14T17:10:15.464Z"
   },
   {
    "duration": 113,
    "start_time": "2022-02-14T17:10:15.511Z"
   },
   {
    "duration": 9,
    "start_time": "2022-02-14T17:10:15.627Z"
   },
   {
    "duration": 30,
    "start_time": "2022-02-14T17:10:15.640Z"
   },
   {
    "duration": 58,
    "start_time": "2022-02-14T17:10:15.673Z"
   },
   {
    "duration": 550,
    "start_time": "2022-02-14T17:10:15.760Z"
   },
   {
    "duration": 58,
    "start_time": "2022-02-14T17:10:16.312Z"
   },
   {
    "duration": 2016,
    "start_time": "2022-02-14T17:10:16.372Z"
   },
   {
    "duration": 6,
    "start_time": "2022-02-14T17:10:18.391Z"
   },
   {
    "duration": 12,
    "start_time": "2022-02-14T17:10:18.399Z"
   },
   {
    "duration": 809,
    "start_time": "2022-02-14T17:10:18.416Z"
   },
   {
    "duration": 66,
    "start_time": "2022-02-14T17:10:19.228Z"
   },
   {
    "duration": 1144,
    "start_time": "2022-02-14T17:10:19.296Z"
   },
   {
    "duration": 33,
    "start_time": "2022-02-14T17:10:20.443Z"
   },
   {
    "duration": 420,
    "start_time": "2022-02-14T17:10:20.479Z"
   },
   {
    "duration": 1571,
    "start_time": "2022-02-14T17:10:20.902Z"
   },
   {
    "duration": 27,
    "start_time": "2022-02-14T17:10:22.476Z"
   },
   {
    "duration": 115,
    "start_time": "2022-02-14T17:10:22.506Z"
   },
   {
    "duration": 38,
    "start_time": "2022-02-14T17:10:22.623Z"
   },
   {
    "duration": 8,
    "start_time": "2022-02-14T17:10:22.663Z"
   },
   {
    "duration": 773,
    "start_time": "2022-02-14T17:10:22.673Z"
   },
   {
    "duration": 16,
    "start_time": "2022-02-14T17:10:23.448Z"
   },
   {
    "duration": 1820,
    "start_time": "2022-02-14T17:10:23.467Z"
   },
   {
    "duration": 1597,
    "start_time": "2022-02-14T17:10:25.290Z"
   },
   {
    "duration": 21,
    "start_time": "2022-02-14T17:10:26.890Z"
   },
   {
    "duration": 61,
    "start_time": "2022-02-14T17:10:26.914Z"
   },
   {
    "duration": 48,
    "start_time": "2022-02-14T17:10:26.978Z"
   },
   {
    "duration": 38,
    "start_time": "2022-02-14T17:10:27.028Z"
   },
   {
    "duration": 16,
    "start_time": "2022-02-14T17:11:30.034Z"
   },
   {
    "duration": 18,
    "start_time": "2022-02-14T17:12:06.428Z"
   },
   {
    "duration": 1007,
    "start_time": "2022-02-14T17:12:11.675Z"
   },
   {
    "duration": 12,
    "start_time": "2022-02-14T17:12:12.685Z"
   },
   {
    "duration": 14,
    "start_time": "2022-02-14T17:12:12.701Z"
   },
   {
    "duration": 51,
    "start_time": "2022-02-14T17:12:12.718Z"
   },
   {
    "duration": 15,
    "start_time": "2022-02-14T17:12:12.772Z"
   },
   {
    "duration": 13,
    "start_time": "2022-02-14T17:12:12.789Z"
   },
   {
    "duration": 9,
    "start_time": "2022-02-14T17:12:12.804Z"
   },
   {
    "duration": 30,
    "start_time": "2022-02-14T17:12:12.860Z"
   },
   {
    "duration": 13,
    "start_time": "2022-02-14T17:12:12.893Z"
   },
   {
    "duration": 13,
    "start_time": "2022-02-14T17:12:12.960Z"
   },
   {
    "duration": 12,
    "start_time": "2022-02-14T17:12:12.976Z"
   },
   {
    "duration": 10,
    "start_time": "2022-02-14T17:12:12.991Z"
   },
   {
    "duration": 70,
    "start_time": "2022-02-14T17:12:13.003Z"
   },
   {
    "duration": 96,
    "start_time": "2022-02-14T17:12:13.076Z"
   },
   {
    "duration": 9,
    "start_time": "2022-02-14T17:12:13.174Z"
   },
   {
    "duration": 24,
    "start_time": "2022-02-14T17:12:13.185Z"
   },
   {
    "duration": 85,
    "start_time": "2022-02-14T17:12:13.211Z"
   },
   {
    "duration": 550,
    "start_time": "2022-02-14T17:12:13.298Z"
   },
   {
    "duration": 51,
    "start_time": "2022-02-14T17:12:13.850Z"
   },
   {
    "duration": 1860,
    "start_time": "2022-02-14T17:12:13.904Z"
   },
   {
    "duration": 7,
    "start_time": "2022-02-14T17:12:15.766Z"
   },
   {
    "duration": 11,
    "start_time": "2022-02-14T17:12:15.775Z"
   },
   {
    "duration": 819,
    "start_time": "2022-02-14T17:12:15.790Z"
   },
   {
    "duration": 72,
    "start_time": "2022-02-14T17:12:16.612Z"
   },
   {
    "duration": 1203,
    "start_time": "2022-02-14T17:12:16.686Z"
   },
   {
    "duration": 19,
    "start_time": "2022-02-14T17:12:17.892Z"
   },
   {
    "duration": 409,
    "start_time": "2022-02-14T17:12:17.913Z"
   },
   {
    "duration": 1312,
    "start_time": "2022-02-14T17:12:18.324Z"
   },
   {
    "duration": 38,
    "start_time": "2022-02-14T17:12:19.638Z"
   },
   {
    "duration": 110,
    "start_time": "2022-02-14T17:12:19.678Z"
   },
   {
    "duration": 27,
    "start_time": "2022-02-14T17:12:19.791Z"
   },
   {
    "duration": 40,
    "start_time": "2022-02-14T17:12:19.821Z"
   },
   {
    "duration": 885,
    "start_time": "2022-02-14T17:12:19.864Z"
   },
   {
    "duration": 15,
    "start_time": "2022-02-14T17:12:20.751Z"
   },
   {
    "duration": 1849,
    "start_time": "2022-02-14T17:12:20.769Z"
   },
   {
    "duration": 1465,
    "start_time": "2022-02-14T17:12:22.621Z"
   },
   {
    "duration": 19,
    "start_time": "2022-02-14T17:12:24.088Z"
   },
   {
    "duration": 53,
    "start_time": "2022-02-14T17:12:24.110Z"
   },
   {
    "duration": 42,
    "start_time": "2022-02-14T17:12:24.165Z"
   },
   {
    "duration": 9,
    "start_time": "2022-02-14T17:12:24.209Z"
   },
   {
    "duration": 62,
    "start_time": "2022-02-14T17:14:14.316Z"
   },
   {
    "duration": 59,
    "start_time": "2022-02-14T17:17:03.477Z"
   },
   {
    "duration": 560,
    "start_time": "2022-02-14T17:17:31.022Z"
   },
   {
    "duration": 59,
    "start_time": "2022-02-14T17:18:26.270Z"
   },
   {
    "duration": 2695,
    "start_time": "2022-02-14T17:20:18.522Z"
   },
   {
    "duration": 1898,
    "start_time": "2022-02-14T17:29:52.676Z"
   },
   {
    "duration": 51,
    "start_time": "2022-02-14T17:56:16.433Z"
   },
   {
    "duration": 32,
    "start_time": "2022-02-14T17:56:31.778Z"
   },
   {
    "duration": 51,
    "start_time": "2022-02-14T17:56:48.063Z"
   },
   {
    "duration": 1627,
    "start_time": "2022-02-14T17:58:54.928Z"
   },
   {
    "duration": 1100,
    "start_time": "2022-02-14T17:59:11.811Z"
   },
   {
    "duration": 208,
    "start_time": "2022-02-20T09:46:18.170Z"
   },
   {
    "duration": 779,
    "start_time": "2022-02-20T09:46:24.467Z"
   },
   {
    "duration": 9,
    "start_time": "2022-02-20T09:46:25.248Z"
   },
   {
    "duration": 9,
    "start_time": "2022-02-20T09:46:25.260Z"
   },
   {
    "duration": 9,
    "start_time": "2022-02-20T09:46:25.271Z"
   },
   {
    "duration": 11,
    "start_time": "2022-02-20T09:46:25.281Z"
   },
   {
    "duration": 9,
    "start_time": "2022-02-20T09:46:25.293Z"
   },
   {
    "duration": 11,
    "start_time": "2022-02-20T09:46:25.303Z"
   },
   {
    "duration": 26,
    "start_time": "2022-02-20T09:46:25.317Z"
   },
   {
    "duration": 14,
    "start_time": "2022-02-20T09:46:25.345Z"
   },
   {
    "duration": 14,
    "start_time": "2022-02-20T09:46:25.361Z"
   },
   {
    "duration": 9,
    "start_time": "2022-02-20T09:46:25.376Z"
   },
   {
    "duration": 8,
    "start_time": "2022-02-20T09:46:25.387Z"
   },
   {
    "duration": 31,
    "start_time": "2022-02-20T09:46:25.396Z"
   },
   {
    "duration": 38,
    "start_time": "2022-02-20T09:46:25.429Z"
   },
   {
    "duration": 7,
    "start_time": "2022-02-20T09:46:25.468Z"
   },
   {
    "duration": 12,
    "start_time": "2022-02-20T09:46:25.477Z"
   },
   {
    "duration": 35,
    "start_time": "2022-02-20T09:46:25.491Z"
   },
   {
    "duration": 439,
    "start_time": "2022-02-20T09:46:25.527Z"
   },
   {
    "duration": 26,
    "start_time": "2022-02-20T09:46:25.968Z"
   },
   {
    "duration": 1171,
    "start_time": "2022-02-20T09:46:25.995Z"
   },
   {
    "duration": 5,
    "start_time": "2022-02-20T09:46:27.168Z"
   },
   {
    "duration": 11,
    "start_time": "2022-02-20T09:46:27.175Z"
   },
   {
    "duration": 494,
    "start_time": "2022-02-20T09:46:27.190Z"
   },
   {
    "duration": 35,
    "start_time": "2022-02-20T09:46:27.687Z"
   },
   {
    "duration": 727,
    "start_time": "2022-02-20T09:46:27.723Z"
   },
   {
    "duration": 13,
    "start_time": "2022-02-20T09:46:28.458Z"
   },
   {
    "duration": 252,
    "start_time": "2022-02-20T09:46:28.473Z"
   },
   {
    "duration": 850,
    "start_time": "2022-02-20T09:46:28.727Z"
   },
   {
    "duration": 30,
    "start_time": "2022-02-20T09:46:29.580Z"
   },
   {
    "duration": 61,
    "start_time": "2022-02-20T09:46:29.611Z"
   },
   {
    "duration": 15,
    "start_time": "2022-02-20T09:46:29.674Z"
   },
   {
    "duration": 7,
    "start_time": "2022-02-20T09:46:29.691Z"
   },
   {
    "duration": 513,
    "start_time": "2022-02-20T09:46:29.699Z"
   },
   {
    "duration": 10,
    "start_time": "2022-02-20T09:46:30.215Z"
   },
   {
    "duration": 1170,
    "start_time": "2022-02-20T09:46:30.227Z"
   },
   {
    "duration": 855,
    "start_time": "2022-02-20T09:46:31.399Z"
   },
   {
    "duration": 13,
    "start_time": "2022-02-20T09:46:32.259Z"
   },
   {
    "duration": 28,
    "start_time": "2022-02-20T09:46:32.273Z"
   },
   {
    "duration": 39,
    "start_time": "2022-02-20T09:46:32.303Z"
   },
   {
    "duration": 11,
    "start_time": "2022-02-20T09:46:32.343Z"
   },
   {
    "duration": 758,
    "start_time": "2022-02-20T09:48:08.650Z"
   },
   {
    "duration": 20,
    "start_time": "2022-02-20T09:50:44.018Z"
   },
   {
    "duration": 24,
    "start_time": "2022-02-20T09:51:07.311Z"
   },
   {
    "duration": 28,
    "start_time": "2022-02-20T09:51:20.573Z"
   },
   {
    "duration": 20,
    "start_time": "2022-02-20T09:51:27.347Z"
   },
   {
    "duration": 15,
    "start_time": "2022-02-20T09:53:14.710Z"
   },
   {
    "duration": 444,
    "start_time": "2022-02-20T09:56:42.037Z"
   },
   {
    "duration": 1099,
    "start_time": "2022-02-20T09:59:27.071Z"
   },
   {
    "duration": 821,
    "start_time": "2022-02-20T10:02:32.369Z"
   },
   {
    "duration": 14,
    "start_time": "2022-02-20T10:03:15.501Z"
   },
   {
    "duration": 695,
    "start_time": "2022-03-02T05:51:11.982Z"
   },
   {
    "duration": 8,
    "start_time": "2022-03-02T05:51:12.679Z"
   },
   {
    "duration": 9,
    "start_time": "2022-03-02T05:51:12.690Z"
   },
   {
    "duration": 32,
    "start_time": "2022-03-02T05:51:12.701Z"
   },
   {
    "duration": 11,
    "start_time": "2022-03-02T05:51:12.735Z"
   },
   {
    "duration": 9,
    "start_time": "2022-03-02T05:51:12.747Z"
   },
   {
    "duration": 6,
    "start_time": "2022-03-02T05:51:12.758Z"
   },
   {
    "duration": 17,
    "start_time": "2022-03-02T05:51:12.766Z"
   },
   {
    "duration": 8,
    "start_time": "2022-03-02T05:51:12.785Z"
   },
   {
    "duration": 4,
    "start_time": "2022-03-02T05:51:12.795Z"
   },
   {
    "duration": 9,
    "start_time": "2022-03-02T05:51:12.834Z"
   },
   {
    "duration": 8,
    "start_time": "2022-03-02T05:51:12.845Z"
   },
   {
    "duration": 24,
    "start_time": "2022-03-02T05:51:12.854Z"
   },
   {
    "duration": 64,
    "start_time": "2022-03-02T05:51:12.879Z"
   },
   {
    "duration": 7,
    "start_time": "2022-03-02T05:51:12.945Z"
   },
   {
    "duration": 11,
    "start_time": "2022-03-02T05:51:12.954Z"
   },
   {
    "duration": 36,
    "start_time": "2022-03-02T05:51:12.966Z"
   },
   {
    "duration": 431,
    "start_time": "2022-03-02T05:51:13.004Z"
   },
   {
    "duration": 25,
    "start_time": "2022-03-02T05:51:13.436Z"
   },
   {
    "duration": 1134,
    "start_time": "2022-03-02T05:51:13.463Z"
   },
   {
    "duration": 5,
    "start_time": "2022-03-02T05:51:14.598Z"
   },
   {
    "duration": 8,
    "start_time": "2022-03-02T05:51:14.605Z"
   },
   {
    "duration": 450,
    "start_time": "2022-03-02T05:51:14.635Z"
   },
   {
    "duration": 47,
    "start_time": "2022-03-02T05:51:15.087Z"
   },
   {
    "duration": 836,
    "start_time": "2022-03-02T05:51:15.135Z"
   },
   {
    "duration": 19,
    "start_time": "2022-03-02T05:51:15.973Z"
   },
   {
    "duration": 398,
    "start_time": "2022-03-02T05:51:15.994Z"
   },
   {
    "duration": 708,
    "start_time": "2022-03-02T05:51:16.395Z"
   },
   {
    "duration": 29,
    "start_time": "2022-03-02T05:51:17.104Z"
   },
   {
    "duration": 35,
    "start_time": "2022-03-02T05:51:17.134Z"
   },
   {
    "duration": 13,
    "start_time": "2022-03-02T05:51:17.171Z"
   },
   {
    "duration": 1139,
    "start_time": "2022-03-02T05:51:17.185Z"
   },
   {
    "duration": -49,
    "start_time": "2022-03-02T05:51:18.375Z"
   },
   {
    "duration": -53,
    "start_time": "2022-03-02T05:51:18.380Z"
   },
   {
    "duration": -57,
    "start_time": "2022-03-02T05:51:18.385Z"
   },
   {
    "duration": -59,
    "start_time": "2022-03-02T05:51:18.389Z"
   },
   {
    "duration": -63,
    "start_time": "2022-03-02T05:51:18.394Z"
   },
   {
    "duration": -66,
    "start_time": "2022-03-02T05:51:18.398Z"
   },
   {
    "duration": -69,
    "start_time": "2022-03-02T05:51:18.402Z"
   },
   {
    "duration": -73,
    "start_time": "2022-03-02T05:51:18.407Z"
   },
   {
    "duration": 225,
    "start_time": "2022-03-02T05:52:18.708Z"
   },
   {
    "duration": 703,
    "start_time": "2022-03-02T05:52:25.649Z"
   },
   {
    "duration": 8,
    "start_time": "2022-03-02T05:52:26.353Z"
   },
   {
    "duration": 8,
    "start_time": "2022-03-02T05:52:26.363Z"
   },
   {
    "duration": 10,
    "start_time": "2022-03-02T05:52:26.373Z"
   },
   {
    "duration": 10,
    "start_time": "2022-03-02T05:52:26.384Z"
   },
   {
    "duration": 37,
    "start_time": "2022-03-02T05:52:26.396Z"
   },
   {
    "duration": 7,
    "start_time": "2022-03-02T05:52:26.434Z"
   },
   {
    "duration": 21,
    "start_time": "2022-03-02T05:52:26.443Z"
   },
   {
    "duration": 8,
    "start_time": "2022-03-02T05:52:26.466Z"
   },
   {
    "duration": 4,
    "start_time": "2022-03-02T05:52:26.475Z"
   },
   {
    "duration": 16,
    "start_time": "2022-03-02T05:52:26.480Z"
   },
   {
    "duration": 36,
    "start_time": "2022-03-02T05:52:26.497Z"
   },
   {
    "duration": 23,
    "start_time": "2022-03-02T05:52:26.535Z"
   },
   {
    "duration": 40,
    "start_time": "2022-03-02T05:52:26.559Z"
   },
   {
    "duration": 7,
    "start_time": "2022-03-02T05:52:26.600Z"
   },
   {
    "duration": 27,
    "start_time": "2022-03-02T05:52:26.609Z"
   },
   {
    "duration": 37,
    "start_time": "2022-03-02T05:52:26.637Z"
   },
   {
    "duration": 411,
    "start_time": "2022-03-02T05:52:26.676Z"
   },
   {
    "duration": 25,
    "start_time": "2022-03-02T05:52:27.088Z"
   },
   {
    "duration": 1094,
    "start_time": "2022-03-02T05:52:27.114Z"
   },
   {
    "duration": 5,
    "start_time": "2022-03-02T05:52:28.209Z"
   },
   {
    "duration": 24,
    "start_time": "2022-03-02T05:52:28.215Z"
   },
   {
    "duration": 444,
    "start_time": "2022-03-02T05:52:28.242Z"
   },
   {
    "duration": 45,
    "start_time": "2022-03-02T05:52:28.689Z"
   },
   {
    "duration": 674,
    "start_time": "2022-03-02T05:52:28.735Z"
   },
   {
    "duration": 26,
    "start_time": "2022-03-02T05:52:29.411Z"
   },
   {
    "duration": 271,
    "start_time": "2022-03-02T05:52:29.439Z"
   },
   {
    "duration": 716,
    "start_time": "2022-03-02T05:52:29.711Z"
   },
   {
    "duration": 22,
    "start_time": "2022-03-02T05:52:30.432Z"
   },
   {
    "duration": 35,
    "start_time": "2022-03-02T05:52:30.456Z"
   },
   {
    "duration": 12,
    "start_time": "2022-03-02T05:52:30.493Z"
   },
   {
    "duration": 279,
    "start_time": "2022-03-02T05:52:30.507Z"
   },
   {
    "duration": -34,
    "start_time": "2022-03-02T05:52:30.822Z"
   },
   {
    "duration": -50,
    "start_time": "2022-03-02T05:52:30.839Z"
   },
   {
    "duration": -66,
    "start_time": "2022-03-02T05:52:30.856Z"
   },
   {
    "duration": -90,
    "start_time": "2022-03-02T05:52:30.881Z"
   },
   {
    "duration": -107,
    "start_time": "2022-03-02T05:52:30.899Z"
   },
   {
    "duration": -114,
    "start_time": "2022-03-02T05:52:30.907Z"
   },
   {
    "duration": -117,
    "start_time": "2022-03-02T05:52:30.911Z"
   },
   {
    "duration": -124,
    "start_time": "2022-03-02T05:52:30.919Z"
   },
   {
    "duration": 720,
    "start_time": "2022-03-02T05:52:38.906Z"
   },
   {
    "duration": 10,
    "start_time": "2022-03-02T05:52:39.628Z"
   },
   {
    "duration": 17,
    "start_time": "2022-03-02T05:52:39.640Z"
   },
   {
    "duration": 12,
    "start_time": "2022-03-02T05:52:39.659Z"
   },
   {
    "duration": 18,
    "start_time": "2022-03-02T05:52:39.673Z"
   },
   {
    "duration": 8,
    "start_time": "2022-03-02T05:52:39.693Z"
   },
   {
    "duration": 9,
    "start_time": "2022-03-02T05:52:39.703Z"
   },
   {
    "duration": 36,
    "start_time": "2022-03-02T05:52:39.715Z"
   },
   {
    "duration": 9,
    "start_time": "2022-03-02T05:52:39.753Z"
   },
   {
    "duration": 2,
    "start_time": "2022-03-02T05:52:39.764Z"
   },
   {
    "duration": 10,
    "start_time": "2022-03-02T05:52:39.768Z"
   },
   {
    "duration": 8,
    "start_time": "2022-03-02T05:52:39.780Z"
   },
   {
    "duration": 51,
    "start_time": "2022-03-02T05:52:39.790Z"
   },
   {
    "duration": 38,
    "start_time": "2022-03-02T05:52:39.843Z"
   },
   {
    "duration": 6,
    "start_time": "2022-03-02T05:52:39.883Z"
   },
   {
    "duration": 14,
    "start_time": "2022-03-02T05:52:39.891Z"
   },
   {
    "duration": 54,
    "start_time": "2022-03-02T05:52:39.906Z"
   },
   {
    "duration": 415,
    "start_time": "2022-03-02T05:52:39.961Z"
   },
   {
    "duration": 25,
    "start_time": "2022-03-02T05:52:40.378Z"
   },
   {
    "duration": 1097,
    "start_time": "2022-03-02T05:52:40.404Z"
   },
   {
    "duration": 5,
    "start_time": "2022-03-02T05:52:41.503Z"
   },
   {
    "duration": 23,
    "start_time": "2022-03-02T05:52:41.510Z"
   },
   {
    "duration": 433,
    "start_time": "2022-03-02T05:52:41.536Z"
   },
   {
    "duration": 32,
    "start_time": "2022-03-02T05:52:41.971Z"
   },
   {
    "duration": 677,
    "start_time": "2022-03-02T05:52:42.004Z"
   },
   {
    "duration": 14,
    "start_time": "2022-03-02T05:52:42.683Z"
   },
   {
    "duration": 286,
    "start_time": "2022-03-02T05:52:42.699Z"
   },
   {
    "duration": 709,
    "start_time": "2022-03-02T05:52:42.987Z"
   },
   {
    "duration": 20,
    "start_time": "2022-03-02T05:52:43.698Z"
   },
   {
    "duration": 46,
    "start_time": "2022-03-02T05:52:43.719Z"
   },
   {
    "duration": 12,
    "start_time": "2022-03-02T05:52:43.767Z"
   },
   {
    "duration": 242,
    "start_time": "2022-03-02T05:52:43.780Z"
   },
   {
    "duration": -44,
    "start_time": "2022-03-02T05:52:44.068Z"
   },
   {
    "duration": -47,
    "start_time": "2022-03-02T05:52:44.072Z"
   },
   {
    "duration": -50,
    "start_time": "2022-03-02T05:52:44.076Z"
   },
   {
    "duration": -56,
    "start_time": "2022-03-02T05:52:44.083Z"
   },
   {
    "duration": -59,
    "start_time": "2022-03-02T05:52:44.087Z"
   },
   {
    "duration": -64,
    "start_time": "2022-03-02T05:52:44.093Z"
   },
   {
    "duration": -69,
    "start_time": "2022-03-02T05:52:44.098Z"
   },
   {
    "duration": -73,
    "start_time": "2022-03-02T05:52:44.103Z"
   },
   {
    "duration": 7,
    "start_time": "2022-03-02T05:53:02.157Z"
   },
   {
    "duration": 659,
    "start_time": "2022-03-02T05:53:06.381Z"
   },
   {
    "duration": 8,
    "start_time": "2022-03-02T05:53:07.042Z"
   },
   {
    "duration": 10,
    "start_time": "2022-03-02T05:53:07.052Z"
   },
   {
    "duration": 10,
    "start_time": "2022-03-02T05:53:07.064Z"
   },
   {
    "duration": 10,
    "start_time": "2022-03-02T05:53:07.075Z"
   },
   {
    "duration": 9,
    "start_time": "2022-03-02T05:53:07.086Z"
   },
   {
    "duration": 6,
    "start_time": "2022-03-02T05:53:07.134Z"
   },
   {
    "duration": 18,
    "start_time": "2022-03-02T05:53:07.142Z"
   },
   {
    "duration": 7,
    "start_time": "2022-03-02T05:53:07.162Z"
   },
   {
    "duration": 4,
    "start_time": "2022-03-02T05:53:07.171Z"
   },
   {
    "duration": 11,
    "start_time": "2022-03-02T05:53:07.177Z"
   },
   {
    "duration": 9,
    "start_time": "2022-03-02T05:53:07.189Z"
   },
   {
    "duration": 55,
    "start_time": "2022-03-02T05:53:07.200Z"
   },
   {
    "duration": 37,
    "start_time": "2022-03-02T05:53:07.256Z"
   },
   {
    "duration": 7,
    "start_time": "2022-03-02T05:53:07.295Z"
   },
   {
    "duration": 31,
    "start_time": "2022-03-02T05:53:07.303Z"
   },
   {
    "duration": 35,
    "start_time": "2022-03-02T05:53:07.335Z"
   },
   {
    "duration": 401,
    "start_time": "2022-03-02T05:53:07.372Z"
   },
   {
    "duration": 24,
    "start_time": "2022-03-02T05:53:07.774Z"
   },
   {
    "duration": 1086,
    "start_time": "2022-03-02T05:53:07.800Z"
   },
   {
    "duration": 5,
    "start_time": "2022-03-02T05:53:08.887Z"
   },
   {
    "duration": 9,
    "start_time": "2022-03-02T05:53:08.894Z"
   },
   {
    "duration": 453,
    "start_time": "2022-03-02T05:53:08.906Z"
   },
   {
    "duration": 31,
    "start_time": "2022-03-02T05:53:09.361Z"
   },
   {
    "duration": 698,
    "start_time": "2022-03-02T05:53:09.394Z"
   },
   {
    "duration": 20,
    "start_time": "2022-03-02T05:53:10.094Z"
   },
   {
    "duration": 355,
    "start_time": "2022-03-02T05:53:10.115Z"
   },
   {
    "duration": 819,
    "start_time": "2022-03-02T05:53:10.471Z"
   },
   {
    "duration": 21,
    "start_time": "2022-03-02T05:53:11.291Z"
   },
   {
    "duration": 53,
    "start_time": "2022-03-02T05:53:11.314Z"
   },
   {
    "duration": 13,
    "start_time": "2022-03-02T05:53:11.368Z"
   },
   {
    "duration": 270,
    "start_time": "2022-03-02T05:53:11.382Z"
   },
   {
    "duration": -33,
    "start_time": "2022-03-02T05:53:11.687Z"
   },
   {
    "duration": -35,
    "start_time": "2022-03-02T05:53:11.691Z"
   },
   {
    "duration": -38,
    "start_time": "2022-03-02T05:53:11.695Z"
   },
   {
    "duration": -44,
    "start_time": "2022-03-02T05:53:11.702Z"
   },
   {
    "duration": -47,
    "start_time": "2022-03-02T05:53:11.706Z"
   },
   {
    "duration": -50,
    "start_time": "2022-03-02T05:53:11.711Z"
   },
   {
    "duration": -54,
    "start_time": "2022-03-02T05:53:11.716Z"
   },
   {
    "duration": -58,
    "start_time": "2022-03-02T05:53:11.721Z"
   },
   {
    "duration": 207,
    "start_time": "2022-03-02T05:54:23.951Z"
   },
   {
    "duration": 180,
    "start_time": "2022-03-02T05:54:32.944Z"
   },
   {
    "duration": 167,
    "start_time": "2022-03-02T05:54:46.711Z"
   },
   {
    "duration": 11,
    "start_time": "2022-03-02T05:56:03.398Z"
   },
   {
    "duration": 172,
    "start_time": "2022-03-02T05:56:16.699Z"
   },
   {
    "duration": 670,
    "start_time": "2022-03-02T05:56:28.377Z"
   },
   {
    "duration": 7,
    "start_time": "2022-03-02T05:56:29.049Z"
   },
   {
    "duration": 9,
    "start_time": "2022-03-02T05:56:29.058Z"
   },
   {
    "duration": 9,
    "start_time": "2022-03-02T05:56:29.069Z"
   },
   {
    "duration": 10,
    "start_time": "2022-03-02T05:56:29.079Z"
   },
   {
    "duration": 42,
    "start_time": "2022-03-02T05:56:29.091Z"
   },
   {
    "duration": 8,
    "start_time": "2022-03-02T05:56:29.134Z"
   },
   {
    "duration": 18,
    "start_time": "2022-03-02T05:56:29.144Z"
   },
   {
    "duration": 11,
    "start_time": "2022-03-02T05:56:29.164Z"
   },
   {
    "duration": 11,
    "start_time": "2022-03-02T05:56:29.176Z"
   },
   {
    "duration": 8,
    "start_time": "2022-03-02T05:56:29.189Z"
   },
   {
    "duration": 39,
    "start_time": "2022-03-02T05:56:29.199Z"
   },
   {
    "duration": 21,
    "start_time": "2022-03-02T05:56:29.239Z"
   },
   {
    "duration": 37,
    "start_time": "2022-03-02T05:56:29.262Z"
   },
   {
    "duration": 7,
    "start_time": "2022-03-02T05:56:29.300Z"
   },
   {
    "duration": 34,
    "start_time": "2022-03-02T05:56:29.308Z"
   },
   {
    "duration": 34,
    "start_time": "2022-03-02T05:56:29.343Z"
   },
   {
    "duration": 332,
    "start_time": "2022-03-02T05:56:29.379Z"
   },
   {
    "duration": 34,
    "start_time": "2022-03-02T05:56:29.713Z"
   },
   {
    "duration": 1086,
    "start_time": "2022-03-02T05:56:29.749Z"
   },
   {
    "duration": 5,
    "start_time": "2022-03-02T05:56:30.836Z"
   },
   {
    "duration": 23,
    "start_time": "2022-03-02T05:56:30.842Z"
   },
   {
    "duration": 452,
    "start_time": "2022-03-02T05:56:30.868Z"
   },
   {
    "duration": 39,
    "start_time": "2022-03-02T05:56:31.322Z"
   },
   {
    "duration": 654,
    "start_time": "2022-03-02T05:56:31.363Z"
   },
   {
    "duration": 21,
    "start_time": "2022-03-02T05:56:32.018Z"
   },
   {
    "duration": 224,
    "start_time": "2022-03-02T05:56:32.041Z"
   },
   {
    "duration": 766,
    "start_time": "2022-03-02T05:56:32.266Z"
   },
   {
    "duration": 19,
    "start_time": "2022-03-02T05:56:33.034Z"
   },
   {
    "duration": 37,
    "start_time": "2022-03-02T05:56:33.054Z"
   },
   {
    "duration": 12,
    "start_time": "2022-03-02T05:56:33.093Z"
   },
   {
    "duration": 30,
    "start_time": "2022-03-02T05:56:33.107Z"
   },
   {
    "duration": 413,
    "start_time": "2022-03-02T05:56:33.138Z"
   },
   {
    "duration": 7,
    "start_time": "2022-03-02T05:56:33.553Z"
   },
   {
    "duration": 983,
    "start_time": "2022-03-02T05:56:33.562Z"
   },
   {
    "duration": 758,
    "start_time": "2022-03-02T05:56:34.546Z"
   },
   {
    "duration": 12,
    "start_time": "2022-03-02T05:56:35.306Z"
   },
   {
    "duration": 25,
    "start_time": "2022-03-02T05:56:35.319Z"
   },
   {
    "duration": 22,
    "start_time": "2022-03-02T05:56:35.346Z"
   },
   {
    "duration": 7,
    "start_time": "2022-03-02T05:56:35.369Z"
   },
   {
    "duration": 5,
    "start_time": "2022-03-02T05:57:33.544Z"
   },
   {
    "duration": 663,
    "start_time": "2022-03-02T05:57:46.458Z"
   },
   {
    "duration": 12,
    "start_time": "2022-03-02T05:57:47.122Z"
   },
   {
    "duration": 10,
    "start_time": "2022-03-02T05:57:47.136Z"
   },
   {
    "duration": 8,
    "start_time": "2022-03-02T05:57:47.148Z"
   },
   {
    "duration": 10,
    "start_time": "2022-03-02T05:57:47.158Z"
   },
   {
    "duration": 8,
    "start_time": "2022-03-02T05:57:47.170Z"
   },
   {
    "duration": 10,
    "start_time": "2022-03-02T05:57:47.180Z"
   },
   {
    "duration": 54,
    "start_time": "2022-03-02T05:57:47.192Z"
   },
   {
    "duration": 9,
    "start_time": "2022-03-02T05:57:47.248Z"
   },
   {
    "duration": 4,
    "start_time": "2022-03-02T05:57:47.259Z"
   },
   {
    "duration": 8,
    "start_time": "2022-03-02T05:57:47.265Z"
   },
   {
    "duration": 7,
    "start_time": "2022-03-02T05:57:47.275Z"
   },
   {
    "duration": 55,
    "start_time": "2022-03-02T05:57:47.284Z"
   },
   {
    "duration": 39,
    "start_time": "2022-03-02T05:57:47.341Z"
   },
   {
    "duration": 7,
    "start_time": "2022-03-02T05:57:47.382Z"
   },
   {
    "duration": 19,
    "start_time": "2022-03-02T05:57:47.390Z"
   },
   {
    "duration": 53,
    "start_time": "2022-03-02T05:57:47.411Z"
   },
   {
    "duration": 414,
    "start_time": "2022-03-02T05:57:47.466Z"
   },
   {
    "duration": 24,
    "start_time": "2022-03-02T05:57:47.882Z"
   },
   {
    "duration": 1088,
    "start_time": "2022-03-02T05:57:47.907Z"
   },
   {
    "duration": 5,
    "start_time": "2022-03-02T05:57:48.996Z"
   },
   {
    "duration": 7,
    "start_time": "2022-03-02T05:57:49.003Z"
   },
   {
    "duration": 466,
    "start_time": "2022-03-02T05:57:49.013Z"
   },
   {
    "duration": 33,
    "start_time": "2022-03-02T05:57:49.481Z"
   },
   {
    "duration": 702,
    "start_time": "2022-03-02T05:57:49.516Z"
   },
   {
    "duration": 21,
    "start_time": "2022-03-02T05:57:50.220Z"
   },
   {
    "duration": 278,
    "start_time": "2022-03-02T05:57:50.243Z"
   },
   {
    "duration": 730,
    "start_time": "2022-03-02T05:57:50.523Z"
   },
   {
    "duration": 21,
    "start_time": "2022-03-02T05:57:51.255Z"
   },
   {
    "duration": 34,
    "start_time": "2022-03-02T05:57:51.277Z"
   },
   {
    "duration": 21,
    "start_time": "2022-03-02T05:57:51.313Z"
   },
   {
    "duration": 232,
    "start_time": "2022-03-02T05:57:51.336Z"
   },
   {
    "duration": -262,
    "start_time": "2022-03-02T05:57:51.832Z"
   },
   {
    "duration": -267,
    "start_time": "2022-03-02T05:57:51.838Z"
   },
   {
    "duration": -272,
    "start_time": "2022-03-02T05:57:51.844Z"
   },
   {
    "duration": -275,
    "start_time": "2022-03-02T05:57:51.848Z"
   },
   {
    "duration": -277,
    "start_time": "2022-03-02T05:57:51.851Z"
   },
   {
    "duration": -285,
    "start_time": "2022-03-02T05:57:51.860Z"
   },
   {
    "duration": -289,
    "start_time": "2022-03-02T05:57:51.864Z"
   },
   {
    "duration": -292,
    "start_time": "2022-03-02T05:57:51.868Z"
   },
   {
    "duration": 164,
    "start_time": "2022-03-02T06:18:24.172Z"
   },
   {
    "duration": 13,
    "start_time": "2022-03-02T06:21:34.175Z"
   },
   {
    "duration": 15,
    "start_time": "2022-03-02T06:22:01.578Z"
   },
   {
    "duration": 13,
    "start_time": "2022-03-02T06:23:17.229Z"
   },
   {
    "duration": 188,
    "start_time": "2022-03-02T06:23:31.473Z"
   },
   {
    "duration": 650,
    "start_time": "2022-03-02T06:23:41.391Z"
   },
   {
    "duration": 7,
    "start_time": "2022-03-02T06:23:42.043Z"
   },
   {
    "duration": 9,
    "start_time": "2022-03-02T06:23:42.052Z"
   },
   {
    "duration": 8,
    "start_time": "2022-03-02T06:23:42.063Z"
   },
   {
    "duration": 10,
    "start_time": "2022-03-02T06:23:42.073Z"
   },
   {
    "duration": 8,
    "start_time": "2022-03-02T06:23:42.084Z"
   },
   {
    "duration": 40,
    "start_time": "2022-03-02T06:23:42.093Z"
   },
   {
    "duration": 18,
    "start_time": "2022-03-02T06:23:42.134Z"
   },
   {
    "duration": 8,
    "start_time": "2022-03-02T06:23:42.155Z"
   },
   {
    "duration": 10,
    "start_time": "2022-03-02T06:23:42.165Z"
   },
   {
    "duration": 7,
    "start_time": "2022-03-02T06:23:42.177Z"
   },
   {
    "duration": 7,
    "start_time": "2022-03-02T06:23:42.186Z"
   },
   {
    "duration": 59,
    "start_time": "2022-03-02T06:23:42.195Z"
   },
   {
    "duration": 38,
    "start_time": "2022-03-02T06:23:42.256Z"
   },
   {
    "duration": 7,
    "start_time": "2022-03-02T06:23:42.295Z"
   },
   {
    "duration": 12,
    "start_time": "2022-03-02T06:23:42.303Z"
   },
   {
    "duration": 35,
    "start_time": "2022-03-02T06:23:42.333Z"
   },
   {
    "duration": 400,
    "start_time": "2022-03-02T06:23:42.370Z"
   },
   {
    "duration": 25,
    "start_time": "2022-03-02T06:23:42.771Z"
   },
   {
    "duration": 1103,
    "start_time": "2022-03-02T06:23:42.798Z"
   },
   {
    "duration": 5,
    "start_time": "2022-03-02T06:23:43.902Z"
   },
   {
    "duration": 8,
    "start_time": "2022-03-02T06:23:43.909Z"
   },
   {
    "duration": 437,
    "start_time": "2022-03-02T06:23:43.933Z"
   },
   {
    "duration": 33,
    "start_time": "2022-03-02T06:23:44.371Z"
   },
   {
    "duration": 692,
    "start_time": "2022-03-02T06:23:44.405Z"
   },
   {
    "duration": 15,
    "start_time": "2022-03-02T06:23:45.099Z"
   },
   {
    "duration": 288,
    "start_time": "2022-03-02T06:23:45.117Z"
   },
   {
    "duration": 712,
    "start_time": "2022-03-02T06:23:45.407Z"
   },
   {
    "duration": 30,
    "start_time": "2022-03-02T06:23:46.120Z"
   },
   {
    "duration": 35,
    "start_time": "2022-03-02T06:23:46.152Z"
   },
   {
    "duration": 14,
    "start_time": "2022-03-02T06:23:46.188Z"
   },
   {
    "duration": 320,
    "start_time": "2022-03-02T06:23:46.203Z"
   },
   {
    "duration": -123,
    "start_time": "2022-03-02T06:23:46.647Z"
   },
   {
    "duration": -125,
    "start_time": "2022-03-02T06:23:46.651Z"
   },
   {
    "duration": -130,
    "start_time": "2022-03-02T06:23:46.657Z"
   },
   {
    "duration": -133,
    "start_time": "2022-03-02T06:23:46.661Z"
   },
   {
    "duration": -136,
    "start_time": "2022-03-02T06:23:46.665Z"
   },
   {
    "duration": -139,
    "start_time": "2022-03-02T06:23:46.669Z"
   },
   {
    "duration": -142,
    "start_time": "2022-03-02T06:23:46.673Z"
   },
   {
    "duration": -146,
    "start_time": "2022-03-02T06:23:46.678Z"
   },
   {
    "duration": 12,
    "start_time": "2022-03-02T07:27:53.856Z"
   },
   {
    "duration": 185,
    "start_time": "2022-03-02T07:28:03.969Z"
   },
   {
    "duration": 724,
    "start_time": "2022-03-02T07:28:09.514Z"
   },
   {
    "duration": 9,
    "start_time": "2022-03-02T07:28:10.240Z"
   },
   {
    "duration": 10,
    "start_time": "2022-03-02T07:28:10.251Z"
   },
   {
    "duration": 10,
    "start_time": "2022-03-02T07:28:10.262Z"
   },
   {
    "duration": 11,
    "start_time": "2022-03-02T07:28:10.273Z"
   },
   {
    "duration": 9,
    "start_time": "2022-03-02T07:28:10.285Z"
   },
   {
    "duration": 40,
    "start_time": "2022-03-02T07:28:10.296Z"
   },
   {
    "duration": 20,
    "start_time": "2022-03-02T07:28:10.340Z"
   },
   {
    "duration": 8,
    "start_time": "2022-03-02T07:28:10.362Z"
   },
   {
    "duration": 12,
    "start_time": "2022-03-02T07:28:10.372Z"
   },
   {
    "duration": 10,
    "start_time": "2022-03-02T07:28:10.385Z"
   },
   {
    "duration": 37,
    "start_time": "2022-03-02T07:28:10.396Z"
   },
   {
    "duration": 27,
    "start_time": "2022-03-02T07:28:10.434Z"
   },
   {
    "duration": 41,
    "start_time": "2022-03-02T07:28:10.463Z"
   },
   {
    "duration": 6,
    "start_time": "2022-03-02T07:28:10.505Z"
   },
   {
    "duration": 13,
    "start_time": "2022-03-02T07:28:10.533Z"
   },
   {
    "duration": 39,
    "start_time": "2022-03-02T07:28:10.547Z"
   },
   {
    "duration": 449,
    "start_time": "2022-03-02T07:28:10.588Z"
   },
   {
    "duration": 27,
    "start_time": "2022-03-02T07:28:11.039Z"
   },
   {
    "duration": 1109,
    "start_time": "2022-03-02T07:28:11.067Z"
   },
   {
    "duration": 5,
    "start_time": "2022-03-02T07:28:12.178Z"
   },
   {
    "duration": 11,
    "start_time": "2022-03-02T07:28:12.184Z"
   },
   {
    "duration": 463,
    "start_time": "2022-03-02T07:28:12.198Z"
   },
   {
    "duration": 31,
    "start_time": "2022-03-02T07:28:12.663Z"
   },
   {
    "duration": 706,
    "start_time": "2022-03-02T07:28:12.696Z"
   },
   {
    "duration": 14,
    "start_time": "2022-03-02T07:28:13.404Z"
   },
   {
    "duration": 289,
    "start_time": "2022-03-02T07:28:13.419Z"
   },
   {
    "duration": 724,
    "start_time": "2022-03-02T07:28:13.709Z"
   },
   {
    "duration": 24,
    "start_time": "2022-03-02T07:28:14.435Z"
   },
   {
    "duration": 37,
    "start_time": "2022-03-02T07:28:14.461Z"
   },
   {
    "duration": 43,
    "start_time": "2022-03-02T07:28:14.500Z"
   },
   {
    "duration": 248,
    "start_time": "2022-03-02T07:28:14.545Z"
   },
   {
    "duration": -152,
    "start_time": "2022-03-02T07:28:14.946Z"
   },
   {
    "duration": -160,
    "start_time": "2022-03-02T07:28:14.955Z"
   },
   {
    "duration": -164,
    "start_time": "2022-03-02T07:28:14.960Z"
   },
   {
    "duration": -169,
    "start_time": "2022-03-02T07:28:14.966Z"
   },
   {
    "duration": -173,
    "start_time": "2022-03-02T07:28:14.971Z"
   },
   {
    "duration": -178,
    "start_time": "2022-03-02T07:28:14.977Z"
   },
   {
    "duration": -181,
    "start_time": "2022-03-02T07:28:14.981Z"
   },
   {
    "duration": -185,
    "start_time": "2022-03-02T07:28:14.986Z"
   },
   {
    "duration": 32,
    "start_time": "2022-03-02T07:29:37.005Z"
   },
   {
    "duration": 316,
    "start_time": "2022-03-02T07:36:22.660Z"
   },
   {
    "duration": 197,
    "start_time": "2022-03-02T07:36:35.284Z"
   },
   {
    "duration": 742,
    "start_time": "2022-03-02T07:36:40.459Z"
   },
   {
    "duration": 8,
    "start_time": "2022-03-02T07:36:41.203Z"
   },
   {
    "duration": 15,
    "start_time": "2022-03-02T07:36:41.213Z"
   },
   {
    "duration": 12,
    "start_time": "2022-03-02T07:36:41.234Z"
   },
   {
    "duration": 11,
    "start_time": "2022-03-02T07:36:41.248Z"
   },
   {
    "duration": 10,
    "start_time": "2022-03-02T07:36:41.260Z"
   },
   {
    "duration": 10,
    "start_time": "2022-03-02T07:36:41.271Z"
   },
   {
    "duration": 22,
    "start_time": "2022-03-02T07:36:41.283Z"
   },
   {
    "duration": 40,
    "start_time": "2022-03-02T07:36:41.307Z"
   },
   {
    "duration": 413,
    "start_time": "2022-03-02T07:36:41.348Z"
   },
   {
    "duration": -41,
    "start_time": "2022-03-02T07:36:41.805Z"
   },
   {
    "duration": -56,
    "start_time": "2022-03-02T07:36:41.821Z"
   },
   {
    "duration": -82,
    "start_time": "2022-03-02T07:36:41.848Z"
   },
   {
    "duration": -97,
    "start_time": "2022-03-02T07:36:41.864Z"
   },
   {
    "duration": -114,
    "start_time": "2022-03-02T07:36:41.882Z"
   },
   {
    "duration": -136,
    "start_time": "2022-03-02T07:36:41.905Z"
   },
   {
    "duration": -144,
    "start_time": "2022-03-02T07:36:41.914Z"
   },
   {
    "duration": -168,
    "start_time": "2022-03-02T07:36:41.939Z"
   },
   {
    "duration": -175,
    "start_time": "2022-03-02T07:36:41.948Z"
   },
   {
    "duration": -198,
    "start_time": "2022-03-02T07:36:41.972Z"
   },
   {
    "duration": -213,
    "start_time": "2022-03-02T07:36:41.988Z"
   },
   {
    "duration": -221,
    "start_time": "2022-03-02T07:36:41.997Z"
   },
   {
    "duration": -235,
    "start_time": "2022-03-02T07:36:42.012Z"
   },
   {
    "duration": -239,
    "start_time": "2022-03-02T07:36:42.017Z"
   },
   {
    "duration": -240,
    "start_time": "2022-03-02T07:36:42.020Z"
   },
   {
    "duration": -247,
    "start_time": "2022-03-02T07:36:42.028Z"
   },
   {
    "duration": -250,
    "start_time": "2022-03-02T07:36:42.032Z"
   },
   {
    "duration": -253,
    "start_time": "2022-03-02T07:36:42.036Z"
   },
   {
    "duration": -256,
    "start_time": "2022-03-02T07:36:42.040Z"
   },
   {
    "duration": -261,
    "start_time": "2022-03-02T07:36:42.046Z"
   },
   {
    "duration": -264,
    "start_time": "2022-03-02T07:36:42.050Z"
   },
   {
    "duration": -267,
    "start_time": "2022-03-02T07:36:42.054Z"
   },
   {
    "duration": -270,
    "start_time": "2022-03-02T07:36:42.058Z"
   },
   {
    "duration": -273,
    "start_time": "2022-03-02T07:36:42.062Z"
   },
   {
    "duration": -275,
    "start_time": "2022-03-02T07:36:42.065Z"
   },
   {
    "duration": -278,
    "start_time": "2022-03-02T07:36:42.069Z"
   },
   {
    "duration": -282,
    "start_time": "2022-03-02T07:36:42.074Z"
   },
   {
    "duration": -285,
    "start_time": "2022-03-02T07:36:42.078Z"
   },
   {
    "duration": -287,
    "start_time": "2022-03-02T07:36:42.081Z"
   },
   {
    "duration": -289,
    "start_time": "2022-03-02T07:36:42.085Z"
   },
   {
    "duration": 188,
    "start_time": "2022-03-02T07:36:58.913Z"
   },
   {
    "duration": 738,
    "start_time": "2022-03-02T07:37:06.029Z"
   },
   {
    "duration": 9,
    "start_time": "2022-03-02T07:37:06.768Z"
   },
   {
    "duration": 9,
    "start_time": "2022-03-02T07:37:06.779Z"
   },
   {
    "duration": 10,
    "start_time": "2022-03-02T07:37:06.790Z"
   },
   {
    "duration": 48,
    "start_time": "2022-03-02T07:37:06.801Z"
   },
   {
    "duration": 9,
    "start_time": "2022-03-02T07:37:06.850Z"
   },
   {
    "duration": 12,
    "start_time": "2022-03-02T07:37:06.860Z"
   },
   {
    "duration": 21,
    "start_time": "2022-03-02T07:37:06.874Z"
   },
   {
    "duration": 8,
    "start_time": "2022-03-02T07:37:06.897Z"
   },
   {
    "duration": 406,
    "start_time": "2022-03-02T07:37:06.907Z"
   },
   {
    "duration": -76,
    "start_time": "2022-03-02T07:37:07.392Z"
   },
   {
    "duration": -80,
    "start_time": "2022-03-02T07:37:07.396Z"
   },
   {
    "duration": -84,
    "start_time": "2022-03-02T07:37:07.401Z"
   },
   {
    "duration": -87,
    "start_time": "2022-03-02T07:37:07.405Z"
   },
   {
    "duration": -90,
    "start_time": "2022-03-02T07:37:07.409Z"
   },
   {
    "duration": -93,
    "start_time": "2022-03-02T07:37:07.413Z"
   },
   {
    "duration": -96,
    "start_time": "2022-03-02T07:37:07.417Z"
   },
   {
    "duration": -99,
    "start_time": "2022-03-02T07:37:07.421Z"
   },
   {
    "duration": -102,
    "start_time": "2022-03-02T07:37:07.425Z"
   },
   {
    "duration": -108,
    "start_time": "2022-03-02T07:37:07.432Z"
   },
   {
    "duration": -111,
    "start_time": "2022-03-02T07:37:07.436Z"
   },
   {
    "duration": -114,
    "start_time": "2022-03-02T07:37:07.440Z"
   },
   {
    "duration": -117,
    "start_time": "2022-03-02T07:37:07.444Z"
   },
   {
    "duration": -119,
    "start_time": "2022-03-02T07:37:07.447Z"
   },
   {
    "duration": -122,
    "start_time": "2022-03-02T07:37:07.451Z"
   },
   {
    "duration": -125,
    "start_time": "2022-03-02T07:37:07.455Z"
   },
   {
    "duration": -127,
    "start_time": "2022-03-02T07:37:07.458Z"
   },
   {
    "duration": -130,
    "start_time": "2022-03-02T07:37:07.462Z"
   },
   {
    "duration": -133,
    "start_time": "2022-03-02T07:37:07.466Z"
   },
   {
    "duration": -137,
    "start_time": "2022-03-02T07:37:07.470Z"
   },
   {
    "duration": -140,
    "start_time": "2022-03-02T07:37:07.474Z"
   },
   {
    "duration": -143,
    "start_time": "2022-03-02T07:37:07.478Z"
   },
   {
    "duration": -159,
    "start_time": "2022-03-02T07:37:07.496Z"
   },
   {
    "duration": -161,
    "start_time": "2022-03-02T07:37:07.501Z"
   },
   {
    "duration": -162,
    "start_time": "2022-03-02T07:37:07.505Z"
   },
   {
    "duration": -165,
    "start_time": "2022-03-02T07:37:07.510Z"
   },
   {
    "duration": -169,
    "start_time": "2022-03-02T07:37:07.515Z"
   },
   {
    "duration": -171,
    "start_time": "2022-03-02T07:37:07.519Z"
   },
   {
    "duration": -175,
    "start_time": "2022-03-02T07:37:07.524Z"
   },
   {
    "duration": -177,
    "start_time": "2022-03-02T07:37:07.527Z"
   },
   {
    "duration": 740,
    "start_time": "2022-03-02T07:37:40.729Z"
   },
   {
    "duration": 10,
    "start_time": "2022-03-02T07:37:41.471Z"
   },
   {
    "duration": 11,
    "start_time": "2022-03-02T07:37:41.483Z"
   },
   {
    "duration": 50,
    "start_time": "2022-03-02T07:37:41.496Z"
   },
   {
    "duration": 11,
    "start_time": "2022-03-02T07:37:41.547Z"
   },
   {
    "duration": 8,
    "start_time": "2022-03-02T07:37:41.560Z"
   },
   {
    "duration": 8,
    "start_time": "2022-03-02T07:37:41.570Z"
   },
   {
    "duration": 18,
    "start_time": "2022-03-02T07:37:41.581Z"
   },
   {
    "duration": 8,
    "start_time": "2022-03-02T07:37:41.601Z"
   },
   {
    "duration": 171,
    "start_time": "2022-03-02T07:37:41.610Z"
   },
   {
    "duration": 9,
    "start_time": "2022-03-02T07:37:41.783Z"
   },
   {
    "duration": 8,
    "start_time": "2022-03-02T07:37:41.793Z"
   },
   {
    "duration": 46,
    "start_time": "2022-03-02T07:37:41.803Z"
   },
   {
    "duration": 38,
    "start_time": "2022-03-02T07:37:41.851Z"
   },
   {
    "duration": 7,
    "start_time": "2022-03-02T07:37:41.891Z"
   },
   {
    "duration": 10,
    "start_time": "2022-03-02T07:37:41.900Z"
   },
   {
    "duration": 64,
    "start_time": "2022-03-02T07:37:41.911Z"
   },
   {
    "duration": 414,
    "start_time": "2022-03-02T07:37:41.977Z"
   },
   {
    "duration": 24,
    "start_time": "2022-03-02T07:37:42.393Z"
   },
   {
    "duration": 1134,
    "start_time": "2022-03-02T07:37:42.419Z"
   },
   {
    "duration": 7,
    "start_time": "2022-03-02T07:37:43.554Z"
   },
   {
    "duration": 9,
    "start_time": "2022-03-02T07:37:43.562Z"
   },
   {
    "duration": 475,
    "start_time": "2022-03-02T07:37:43.575Z"
   },
   {
    "duration": 32,
    "start_time": "2022-03-02T07:37:44.053Z"
   },
   {
    "duration": 707,
    "start_time": "2022-03-02T07:37:44.086Z"
   },
   {
    "duration": 13,
    "start_time": "2022-03-02T07:37:44.795Z"
   },
   {
    "duration": 293,
    "start_time": "2022-03-02T07:37:44.809Z"
   },
   {
    "duration": 746,
    "start_time": "2022-03-02T07:37:45.105Z"
   },
   {
    "duration": 20,
    "start_time": "2022-03-02T07:37:45.852Z"
   },
   {
    "duration": 36,
    "start_time": "2022-03-02T07:37:45.873Z"
   },
   {
    "duration": 37,
    "start_time": "2022-03-02T07:37:45.910Z"
   },
   {
    "duration": 265,
    "start_time": "2022-03-02T07:37:45.949Z"
   },
   {
    "duration": -48,
    "start_time": "2022-03-02T07:37:46.263Z"
   },
   {
    "duration": -56,
    "start_time": "2022-03-02T07:37:46.272Z"
   },
   {
    "duration": -70,
    "start_time": "2022-03-02T07:37:46.287Z"
   },
   {
    "duration": -84,
    "start_time": "2022-03-02T07:37:46.302Z"
   },
   {
    "duration": -94,
    "start_time": "2022-03-02T07:37:46.313Z"
   },
   {
    "duration": -102,
    "start_time": "2022-03-02T07:37:46.322Z"
   },
   {
    "duration": -116,
    "start_time": "2022-03-02T07:37:46.337Z"
   },
   {
    "duration": -125,
    "start_time": "2022-03-02T07:37:46.347Z"
   },
   {
    "duration": 252,
    "start_time": "2022-03-02T07:39:54.728Z"
   },
   {
    "duration": 737,
    "start_time": "2022-03-02T07:39:59.857Z"
   },
   {
    "duration": 9,
    "start_time": "2022-03-02T07:40:00.596Z"
   },
   {
    "duration": 38,
    "start_time": "2022-03-02T07:40:00.610Z"
   },
   {
    "duration": 12,
    "start_time": "2022-03-02T07:40:00.650Z"
   },
   {
    "duration": 15,
    "start_time": "2022-03-02T07:40:00.664Z"
   },
   {
    "duration": 10,
    "start_time": "2022-03-02T07:40:00.681Z"
   },
   {
    "duration": 15,
    "start_time": "2022-03-02T07:40:00.695Z"
   },
   {
    "duration": 26,
    "start_time": "2022-03-02T07:40:00.733Z"
   },
   {
    "duration": 9,
    "start_time": "2022-03-02T07:40:00.760Z"
   },
   {
    "duration": 160,
    "start_time": "2022-03-02T07:40:00.771Z"
   },
   {
    "duration": 12,
    "start_time": "2022-03-02T07:40:00.933Z"
   },
   {
    "duration": 12,
    "start_time": "2022-03-02T07:40:00.947Z"
   },
   {
    "duration": 24,
    "start_time": "2022-03-02T07:40:00.960Z"
   },
   {
    "duration": 64,
    "start_time": "2022-03-02T07:40:00.986Z"
   },
   {
    "duration": 8,
    "start_time": "2022-03-02T07:40:01.051Z"
   },
   {
    "duration": 19,
    "start_time": "2022-03-02T07:40:01.061Z"
   },
   {
    "duration": 39,
    "start_time": "2022-03-02T07:40:01.081Z"
   },
   {
    "duration": 448,
    "start_time": "2022-03-02T07:40:01.122Z"
   },
   {
    "duration": 25,
    "start_time": "2022-03-02T07:40:01.572Z"
   },
   {
    "duration": 1210,
    "start_time": "2022-03-02T07:40:01.599Z"
   },
   {
    "duration": 6,
    "start_time": "2022-03-02T07:40:02.811Z"
   },
   {
    "duration": 11,
    "start_time": "2022-03-02T07:40:02.836Z"
   },
   {
    "duration": 472,
    "start_time": "2022-03-02T07:40:02.850Z"
   },
   {
    "duration": 44,
    "start_time": "2022-03-02T07:40:03.324Z"
   },
   {
    "duration": 733,
    "start_time": "2022-03-02T07:40:03.370Z"
   },
   {
    "duration": 14,
    "start_time": "2022-03-02T07:40:04.106Z"
   },
   {
    "duration": 320,
    "start_time": "2022-03-02T07:40:04.121Z"
   },
   {
    "duration": 751,
    "start_time": "2022-03-02T07:40:04.443Z"
   },
   {
    "duration": 36,
    "start_time": "2022-03-02T07:40:05.197Z"
   },
   {
    "duration": 42,
    "start_time": "2022-03-02T07:40:05.235Z"
   },
   {
    "duration": 14,
    "start_time": "2022-03-02T07:40:05.278Z"
   },
   {
    "duration": 273,
    "start_time": "2022-03-02T07:40:05.294Z"
   },
   {
    "duration": -130,
    "start_time": "2022-03-02T07:40:05.699Z"
   },
   {
    "duration": -133,
    "start_time": "2022-03-02T07:40:05.703Z"
   },
   {
    "duration": -136,
    "start_time": "2022-03-02T07:40:05.707Z"
   },
   {
    "duration": -141,
    "start_time": "2022-03-02T07:40:05.713Z"
   },
   {
    "duration": -143,
    "start_time": "2022-03-02T07:40:05.716Z"
   },
   {
    "duration": -148,
    "start_time": "2022-03-02T07:40:05.721Z"
   },
   {
    "duration": -151,
    "start_time": "2022-03-02T07:40:05.725Z"
   },
   {
    "duration": -168,
    "start_time": "2022-03-02T07:40:05.743Z"
   },
   {
    "duration": 5,
    "start_time": "2022-03-02T09:03:39.867Z"
   },
   {
    "duration": 755,
    "start_time": "2022-03-02T09:03:49.448Z"
   },
   {
    "duration": 8,
    "start_time": "2022-03-02T09:03:50.205Z"
   },
   {
    "duration": 24,
    "start_time": "2022-03-02T09:03:50.215Z"
   },
   {
    "duration": 14,
    "start_time": "2022-03-02T09:03:50.241Z"
   },
   {
    "duration": 12,
    "start_time": "2022-03-02T09:03:50.258Z"
   },
   {
    "duration": 10,
    "start_time": "2022-03-02T09:03:50.271Z"
   },
   {
    "duration": 11,
    "start_time": "2022-03-02T09:03:50.282Z"
   },
   {
    "duration": 48,
    "start_time": "2022-03-02T09:03:50.296Z"
   },
   {
    "duration": 10,
    "start_time": "2022-03-02T09:03:50.346Z"
   },
   {
    "duration": 10,
    "start_time": "2022-03-02T09:03:50.358Z"
   },
   {
    "duration": 9,
    "start_time": "2022-03-02T09:03:50.369Z"
   },
   {
    "duration": 8,
    "start_time": "2022-03-02T09:03:50.380Z"
   },
   {
    "duration": 48,
    "start_time": "2022-03-02T09:03:50.390Z"
   },
   {
    "duration": 37,
    "start_time": "2022-03-02T09:03:50.442Z"
   },
   {
    "duration": 6,
    "start_time": "2022-03-02T09:03:50.481Z"
   },
   {
    "duration": 12,
    "start_time": "2022-03-02T09:03:50.489Z"
   },
   {
    "duration": 62,
    "start_time": "2022-03-02T09:03:50.503Z"
   },
   {
    "duration": 330,
    "start_time": "2022-03-02T09:03:50.567Z"
   },
   {
    "duration": 24,
    "start_time": "2022-03-02T09:03:50.899Z"
   },
   {
    "duration": 1143,
    "start_time": "2022-03-02T09:03:50.935Z"
   },
   {
    "duration": 6,
    "start_time": "2022-03-02T09:03:52.080Z"
   },
   {
    "duration": 9,
    "start_time": "2022-03-02T09:03:52.087Z"
   },
   {
    "duration": 498,
    "start_time": "2022-03-02T09:03:52.100Z"
   },
   {
    "duration": 47,
    "start_time": "2022-03-02T09:03:52.600Z"
   },
   {
    "duration": 698,
    "start_time": "2022-03-02T09:03:52.649Z"
   },
   {
    "duration": 14,
    "start_time": "2022-03-02T09:03:53.349Z"
   },
   {
    "duration": 255,
    "start_time": "2022-03-02T09:03:53.364Z"
   },
   {
    "duration": 837,
    "start_time": "2022-03-02T09:03:53.620Z"
   },
   {
    "duration": 20,
    "start_time": "2022-03-02T09:03:54.460Z"
   },
   {
    "duration": 57,
    "start_time": "2022-03-02T09:03:54.482Z"
   },
   {
    "duration": 15,
    "start_time": "2022-03-02T09:03:54.541Z"
   },
   {
    "duration": 4,
    "start_time": "2022-03-02T09:03:54.558Z"
   },
   {
    "duration": 461,
    "start_time": "2022-03-02T09:03:54.563Z"
   },
   {
    "duration": 13,
    "start_time": "2022-03-02T09:03:55.026Z"
   },
   {
    "duration": 1048,
    "start_time": "2022-03-02T09:03:55.041Z"
   },
   {
    "duration": 804,
    "start_time": "2022-03-02T09:03:56.092Z"
   },
   {
    "duration": 13,
    "start_time": "2022-03-02T09:03:56.897Z"
   },
   {
    "duration": 35,
    "start_time": "2022-03-02T09:03:56.911Z"
   },
   {
    "duration": 29,
    "start_time": "2022-03-02T09:03:56.947Z"
   },
   {
    "duration": 5,
    "start_time": "2022-03-02T09:03:56.977Z"
   },
   {
    "duration": 3,
    "start_time": "2022-03-02T09:07:29.648Z"
   },
   {
    "duration": 760,
    "start_time": "2022-03-02T09:07:38.914Z"
   },
   {
    "duration": 11,
    "start_time": "2022-03-02T09:07:39.676Z"
   },
   {
    "duration": 11,
    "start_time": "2022-03-02T09:07:39.689Z"
   },
   {
    "duration": 36,
    "start_time": "2022-03-02T09:07:39.703Z"
   },
   {
    "duration": 13,
    "start_time": "2022-03-02T09:07:39.742Z"
   },
   {
    "duration": 10,
    "start_time": "2022-03-02T09:07:39.756Z"
   },
   {
    "duration": 8,
    "start_time": "2022-03-02T09:07:39.768Z"
   },
   {
    "duration": 19,
    "start_time": "2022-03-02T09:07:39.778Z"
   },
   {
    "duration": 53,
    "start_time": "2022-03-02T09:07:39.799Z"
   },
   {
    "duration": 4,
    "start_time": "2022-03-02T09:07:39.854Z"
   },
   {
    "duration": 13,
    "start_time": "2022-03-02T09:07:39.859Z"
   },
   {
    "duration": 10,
    "start_time": "2022-03-02T09:07:39.874Z"
   },
   {
    "duration": 50,
    "start_time": "2022-03-02T09:07:39.886Z"
   },
   {
    "duration": 51,
    "start_time": "2022-03-02T09:07:39.938Z"
   },
   {
    "duration": 8,
    "start_time": "2022-03-02T09:07:39.990Z"
   },
   {
    "duration": 21,
    "start_time": "2022-03-02T09:07:40.000Z"
   },
   {
    "duration": 45,
    "start_time": "2022-03-02T09:07:40.033Z"
   },
   {
    "duration": 456,
    "start_time": "2022-03-02T09:07:40.080Z"
   },
   {
    "duration": 30,
    "start_time": "2022-03-02T09:07:40.538Z"
   },
   {
    "duration": 1233,
    "start_time": "2022-03-02T09:07:40.569Z"
   },
   {
    "duration": 5,
    "start_time": "2022-03-02T09:07:41.804Z"
   },
   {
    "duration": 25,
    "start_time": "2022-03-02T09:07:41.810Z"
   },
   {
    "duration": 503,
    "start_time": "2022-03-02T09:07:41.839Z"
   },
   {
    "duration": 33,
    "start_time": "2022-03-02T09:07:42.345Z"
   },
   {
    "duration": 759,
    "start_time": "2022-03-02T09:07:42.379Z"
   },
   {
    "duration": 15,
    "start_time": "2022-03-02T09:07:43.145Z"
   },
   {
    "duration": 310,
    "start_time": "2022-03-02T09:07:43.162Z"
   },
   {
    "duration": 794,
    "start_time": "2022-03-02T09:07:43.475Z"
   },
   {
    "duration": 23,
    "start_time": "2022-03-02T09:07:44.270Z"
   },
   {
    "duration": 59,
    "start_time": "2022-03-02T09:07:44.295Z"
   },
   {
    "duration": 16,
    "start_time": "2022-03-02T09:07:44.356Z"
   },
   {
    "duration": 4,
    "start_time": "2022-03-02T09:07:44.374Z"
   },
   {
    "duration": 482,
    "start_time": "2022-03-02T09:07:44.380Z"
   },
   {
    "duration": 8,
    "start_time": "2022-03-02T09:07:44.864Z"
   },
   {
    "duration": 1119,
    "start_time": "2022-03-02T09:07:44.874Z"
   },
   {
    "duration": 831,
    "start_time": "2022-03-02T09:07:45.995Z"
   },
   {
    "duration": 20,
    "start_time": "2022-03-02T09:07:46.827Z"
   },
   {
    "duration": 20,
    "start_time": "2022-03-02T09:07:46.849Z"
   },
   {
    "duration": 26,
    "start_time": "2022-03-02T09:07:46.871Z"
   },
   {
    "duration": 7,
    "start_time": "2022-03-02T09:07:46.899Z"
   },
   {
    "duration": 748,
    "start_time": "2022-03-02T09:07:55.846Z"
   },
   {
    "duration": 747,
    "start_time": "2022-03-02T09:11:02.700Z"
   },
   {
    "duration": 8,
    "start_time": "2022-03-02T09:11:03.449Z"
   },
   {
    "duration": 10,
    "start_time": "2022-03-02T09:11:03.459Z"
   },
   {
    "duration": 11,
    "start_time": "2022-03-02T09:11:03.471Z"
   },
   {
    "duration": 11,
    "start_time": "2022-03-02T09:11:03.484Z"
   },
   {
    "duration": 49,
    "start_time": "2022-03-02T09:11:03.497Z"
   },
   {
    "duration": 9,
    "start_time": "2022-03-02T09:11:03.548Z"
   },
   {
    "duration": 21,
    "start_time": "2022-03-02T09:11:03.559Z"
   },
   {
    "duration": 10,
    "start_time": "2022-03-02T09:11:03.582Z"
   },
   {
    "duration": 10,
    "start_time": "2022-03-02T09:11:03.594Z"
   },
   {
    "duration": 11,
    "start_time": "2022-03-02T09:11:03.633Z"
   },
   {
    "duration": 27,
    "start_time": "2022-03-02T09:11:03.645Z"
   },
   {
    "duration": 69,
    "start_time": "2022-03-02T09:11:03.673Z"
   },
   {
    "duration": 9,
    "start_time": "2022-03-02T09:11:03.744Z"
   },
   {
    "duration": 14,
    "start_time": "2022-03-02T09:11:03.755Z"
   },
   {
    "duration": 39,
    "start_time": "2022-03-02T09:11:03.771Z"
   },
   {
    "duration": 486,
    "start_time": "2022-03-02T09:11:03.811Z"
   },
   {
    "duration": 42,
    "start_time": "2022-03-02T09:11:04.298Z"
   },
   {
    "duration": 1211,
    "start_time": "2022-03-02T09:11:04.343Z"
   },
   {
    "duration": 5,
    "start_time": "2022-03-02T09:11:05.556Z"
   },
   {
    "duration": 15,
    "start_time": "2022-03-02T09:11:05.563Z"
   },
   {
    "duration": 502,
    "start_time": "2022-03-02T09:11:05.580Z"
   },
   {
    "duration": 32,
    "start_time": "2022-03-02T09:11:06.086Z"
   },
   {
    "duration": 748,
    "start_time": "2022-03-02T09:11:06.120Z"
   },
   {
    "duration": 14,
    "start_time": "2022-03-02T09:11:06.869Z"
   },
   {
    "duration": 320,
    "start_time": "2022-03-02T09:11:06.885Z"
   },
   {
    "duration": 787,
    "start_time": "2022-03-02T09:11:07.207Z"
   },
   {
    "duration": 23,
    "start_time": "2022-03-02T09:11:07.996Z"
   },
   {
    "duration": 57,
    "start_time": "2022-03-02T09:11:08.020Z"
   },
   {
    "duration": 16,
    "start_time": "2022-03-02T09:11:08.078Z"
   },
   {
    "duration": 4,
    "start_time": "2022-03-02T09:11:08.096Z"
   },
   {
    "duration": 490,
    "start_time": "2022-03-02T09:11:08.102Z"
   },
   {
    "duration": 9,
    "start_time": "2022-03-02T09:11:08.594Z"
   },
   {
    "duration": 1095,
    "start_time": "2022-03-02T09:11:08.605Z"
   },
   {
    "duration": 846,
    "start_time": "2022-03-02T09:11:09.702Z"
   },
   {
    "duration": 13,
    "start_time": "2022-03-02T09:11:10.549Z"
   },
   {
    "duration": 24,
    "start_time": "2022-03-02T09:11:10.563Z"
   },
   {
    "duration": 25,
    "start_time": "2022-03-02T09:11:10.589Z"
   },
   {
    "duration": 31,
    "start_time": "2022-03-02T09:11:10.615Z"
   },
   {
    "duration": 832,
    "start_time": "2022-03-02T09:14:59.623Z"
   },
   {
    "duration": 9,
    "start_time": "2022-03-02T09:15:00.456Z"
   },
   {
    "duration": 18,
    "start_time": "2022-03-02T09:15:00.467Z"
   },
   {
    "duration": 14,
    "start_time": "2022-03-02T09:15:00.487Z"
   },
   {
    "duration": 13,
    "start_time": "2022-03-02T09:15:00.502Z"
   },
   {
    "duration": 34,
    "start_time": "2022-03-02T09:15:00.517Z"
   },
   {
    "duration": 6,
    "start_time": "2022-03-02T09:15:00.553Z"
   },
   {
    "duration": 25,
    "start_time": "2022-03-02T09:15:00.562Z"
   },
   {
    "duration": 9,
    "start_time": "2022-03-02T09:15:00.589Z"
   },
   {
    "duration": 16,
    "start_time": "2022-03-02T09:15:00.599Z"
   },
   {
    "duration": 12,
    "start_time": "2022-03-02T09:15:00.641Z"
   },
   {
    "duration": 42,
    "start_time": "2022-03-02T09:15:00.654Z"
   },
   {
    "duration": 48,
    "start_time": "2022-03-02T09:15:00.698Z"
   },
   {
    "duration": 8,
    "start_time": "2022-03-02T09:15:00.747Z"
   },
   {
    "duration": 23,
    "start_time": "2022-03-02T09:15:00.756Z"
   },
   {
    "duration": 53,
    "start_time": "2022-03-02T09:15:00.781Z"
   },
   {
    "duration": 431,
    "start_time": "2022-03-02T09:15:00.835Z"
   },
   {
    "duration": 26,
    "start_time": "2022-03-02T09:15:01.268Z"
   },
   {
    "duration": 1196,
    "start_time": "2022-03-02T09:15:01.296Z"
   },
   {
    "duration": 5,
    "start_time": "2022-03-02T09:15:02.494Z"
   },
   {
    "duration": 13,
    "start_time": "2022-03-02T09:15:02.500Z"
   },
   {
    "duration": 565,
    "start_time": "2022-03-02T09:15:02.514Z"
   },
   {
    "duration": 35,
    "start_time": "2022-03-02T09:15:03.082Z"
   },
   {
    "duration": 750,
    "start_time": "2022-03-02T09:15:03.119Z"
   },
   {
    "duration": 14,
    "start_time": "2022-03-02T09:15:03.871Z"
   },
   {
    "duration": 308,
    "start_time": "2022-03-02T09:15:03.886Z"
   },
   {
    "duration": 763,
    "start_time": "2022-03-02T09:15:04.196Z"
   },
   {
    "duration": 21,
    "start_time": "2022-03-02T09:15:04.961Z"
   },
   {
    "duration": 56,
    "start_time": "2022-03-02T09:15:04.984Z"
   },
   {
    "duration": 16,
    "start_time": "2022-03-02T09:15:05.042Z"
   },
   {
    "duration": 5,
    "start_time": "2022-03-02T09:15:05.059Z"
   },
   {
    "duration": 486,
    "start_time": "2022-03-02T09:15:05.065Z"
   },
   {
    "duration": 9,
    "start_time": "2022-03-02T09:15:05.552Z"
   },
   {
    "duration": 1061,
    "start_time": "2022-03-02T09:15:05.562Z"
   },
   {
    "duration": 834,
    "start_time": "2022-03-02T09:15:06.625Z"
   },
   {
    "duration": 14,
    "start_time": "2022-03-02T09:15:07.461Z"
   },
   {
    "duration": 16,
    "start_time": "2022-03-02T09:15:07.477Z"
   },
   {
    "duration": 57,
    "start_time": "2022-03-02T09:15:07.495Z"
   },
   {
    "duration": 6,
    "start_time": "2022-03-02T09:15:07.554Z"
   }
  ],
  "kernelspec": {
   "display_name": "Python 3",
   "language": "python",
   "name": "python3"
  },
  "language_info": {
   "codemirror_mode": {
    "name": "ipython",
    "version": 3
   },
   "file_extension": ".py",
   "mimetype": "text/x-python",
   "name": "python",
   "nbconvert_exporter": "python",
   "pygments_lexer": "ipython3",
   "version": "3.7.8"
  },
  "toc": {
   "base_numbering": 1,
   "nav_menu": {},
   "number_sections": true,
   "sideBar": true,
   "skip_h1_title": true,
   "title_cell": "Table of Contents",
   "title_sidebar": "Contents",
   "toc_cell": false,
   "toc_position": {},
   "toc_section_display": true,
   "toc_window_display": false
  }
 },
 "nbformat": 4,
 "nbformat_minor": 2
}
