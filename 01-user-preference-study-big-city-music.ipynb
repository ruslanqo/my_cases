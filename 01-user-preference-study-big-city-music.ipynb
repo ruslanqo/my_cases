{
 "cells": [
  {
   "cell_type": "markdown",
   "metadata": {
    "id": "E0vqbgi9ay0H"
   },
   "source": [
    "# Яндекс.Музыка"
   ]
  },
  {
   "cell_type": "markdown",
   "metadata": {
    "id": "VUC88oWjTJw2"
   },
   "source": [
    "Сравнение Москвы и Петербурга окружено мифами. Например:\n",
    " * Москва — мегаполис, подчинённый жёсткому ритму рабочей недели;\n",
    " * Петербург — культурная столица, со своими вкусами.\n",
    "\n",
    "На данных Яндекс.Музыки вы сравните поведение пользователей двух столиц.\n",
    "\n",
    "**Цель исследования** — проверьте три гипотезы:\n",
    "1. Активность пользователей зависит от дня недели. Причём в Москве и Петербурге это проявляется по-разному.\n",
    "2. В понедельник утром в Москве преобладают одни жанры, а в Петербурге — другие. Так же и вечером пятницы преобладают разные жанры — в зависимости от города. \n",
    "3. Москва и Петербург предпочитают разные жанры музыки. В Москве чаще слушают поп-музыку, в Петербурге — русский рэп.\n",
    "\n",
    "**Ход исследования**\n",
    "\n",
    "Данные о поведении пользователей вы получите из файла `yandex_music_project.csv`. О качестве данных ничего не известно. Поэтому перед проверкой гипотез понадобится обзор данных. \n",
    "\n",
    "Вы проверите данные на ошибки и оцените их влияние на исследование. Затем, на этапе предобработки вы поищете возможность исправить самые критичные ошибки данных.\n",
    " \n",
    "Таким образом, исследование пройдёт в три этапа:\n",
    " 1. Обзор данных.\n",
    " 2. Предобработка данных.\n",
    " 3. Проверка гипотез.\n",
    "\n"
   ]
  },
  {
   "cell_type": "markdown",
   "metadata": {
    "id": "Ml1hmfXC_Zcs"
   },
   "source": [
    "## Обзор данных\n",
    "\n",
    "Составьте первое представление о данных Яндекс.Музыки.\n",
    "\n",
    "\n"
   ]
  },
  {
   "cell_type": "markdown",
   "metadata": {
    "id": "57eAOGIz_Zcs"
   },
   "source": [
    "Основной инструмент аналитика — `pandas`. Импортируйте эту библиотеку."
   ]
  },
  {
   "cell_type": "code",
   "execution_count": 42,
   "metadata": {
    "id": "AXN7PHPN_Zcs"
   },
   "outputs": [],
   "source": [
    "import pandas as pd"
   ]
  },
  {
   "cell_type": "markdown",
   "metadata": {
    "id": "SG23P8tt_Zcs"
   },
   "source": [
    "Прочитайте файл `yandex_music_project.csv` из папки `/datasets` и сохраните его в переменной `df`:"
   ]
  },
  {
   "cell_type": "code",
   "execution_count": 43,
   "metadata": {
    "id": "fFVu7vqh_Zct"
   },
   "outputs": [],
   "source": [
    "df = pd.read_csv('/datasets/yandex_music_project.csv')"
   ]
  },
  {
   "cell_type": "markdown",
   "metadata": {
    "id": "rDoOMd3uTqnZ"
   },
   "source": [
    "Выведите на экран первые десять строк таблицы:"
   ]
  },
  {
   "cell_type": "code",
   "execution_count": 44,
   "metadata": {
    "id": "oWTVX3gW_Zct"
   },
   "outputs": [
    {
     "data": {
      "text/html": [
       "<div>\n",
       "<style scoped>\n",
       "    .dataframe tbody tr th:only-of-type {\n",
       "        vertical-align: middle;\n",
       "    }\n",
       "\n",
       "    .dataframe tbody tr th {\n",
       "        vertical-align: top;\n",
       "    }\n",
       "\n",
       "    .dataframe thead th {\n",
       "        text-align: right;\n",
       "    }\n",
       "</style>\n",
       "<table border=\"1\" class=\"dataframe\">\n",
       "  <thead>\n",
       "    <tr style=\"text-align: right;\">\n",
       "      <th></th>\n",
       "      <th>userID</th>\n",
       "      <th>Track</th>\n",
       "      <th>artist</th>\n",
       "      <th>genre</th>\n",
       "      <th>City</th>\n",
       "      <th>time</th>\n",
       "      <th>Day</th>\n",
       "    </tr>\n",
       "  </thead>\n",
       "  <tbody>\n",
       "    <tr>\n",
       "      <td>0</td>\n",
       "      <td>FFB692EC</td>\n",
       "      <td>Kamigata To Boots</td>\n",
       "      <td>The Mass Missile</td>\n",
       "      <td>rock</td>\n",
       "      <td>Saint-Petersburg</td>\n",
       "      <td>20:28:33</td>\n",
       "      <td>Wednesday</td>\n",
       "    </tr>\n",
       "    <tr>\n",
       "      <td>1</td>\n",
       "      <td>55204538</td>\n",
       "      <td>Delayed Because of Accident</td>\n",
       "      <td>Andreas Rönnberg</td>\n",
       "      <td>rock</td>\n",
       "      <td>Moscow</td>\n",
       "      <td>14:07:09</td>\n",
       "      <td>Friday</td>\n",
       "    </tr>\n",
       "    <tr>\n",
       "      <td>2</td>\n",
       "      <td>20EC38</td>\n",
       "      <td>Funiculì funiculà</td>\n",
       "      <td>Mario Lanza</td>\n",
       "      <td>pop</td>\n",
       "      <td>Saint-Petersburg</td>\n",
       "      <td>20:58:07</td>\n",
       "      <td>Wednesday</td>\n",
       "    </tr>\n",
       "    <tr>\n",
       "      <td>3</td>\n",
       "      <td>A3DD03C9</td>\n",
       "      <td>Dragons in the Sunset</td>\n",
       "      <td>Fire + Ice</td>\n",
       "      <td>folk</td>\n",
       "      <td>Saint-Petersburg</td>\n",
       "      <td>08:37:09</td>\n",
       "      <td>Monday</td>\n",
       "    </tr>\n",
       "    <tr>\n",
       "      <td>4</td>\n",
       "      <td>E2DC1FAE</td>\n",
       "      <td>Soul People</td>\n",
       "      <td>Space Echo</td>\n",
       "      <td>dance</td>\n",
       "      <td>Moscow</td>\n",
       "      <td>08:34:34</td>\n",
       "      <td>Monday</td>\n",
       "    </tr>\n",
       "    <tr>\n",
       "      <td>5</td>\n",
       "      <td>842029A1</td>\n",
       "      <td>Преданная</td>\n",
       "      <td>IMPERVTOR</td>\n",
       "      <td>rusrap</td>\n",
       "      <td>Saint-Petersburg</td>\n",
       "      <td>13:09:41</td>\n",
       "      <td>Friday</td>\n",
       "    </tr>\n",
       "    <tr>\n",
       "      <td>6</td>\n",
       "      <td>4CB90AA5</td>\n",
       "      <td>True</td>\n",
       "      <td>Roman Messer</td>\n",
       "      <td>dance</td>\n",
       "      <td>Moscow</td>\n",
       "      <td>13:00:07</td>\n",
       "      <td>Wednesday</td>\n",
       "    </tr>\n",
       "    <tr>\n",
       "      <td>7</td>\n",
       "      <td>F03E1C1F</td>\n",
       "      <td>Feeling This Way</td>\n",
       "      <td>Polina Griffith</td>\n",
       "      <td>dance</td>\n",
       "      <td>Moscow</td>\n",
       "      <td>20:47:49</td>\n",
       "      <td>Wednesday</td>\n",
       "    </tr>\n",
       "    <tr>\n",
       "      <td>8</td>\n",
       "      <td>8FA1D3BE</td>\n",
       "      <td>И вновь продолжается бой</td>\n",
       "      <td>NaN</td>\n",
       "      <td>ruspop</td>\n",
       "      <td>Moscow</td>\n",
       "      <td>09:17:40</td>\n",
       "      <td>Friday</td>\n",
       "    </tr>\n",
       "    <tr>\n",
       "      <td>9</td>\n",
       "      <td>E772D5C0</td>\n",
       "      <td>Pessimist</td>\n",
       "      <td>NaN</td>\n",
       "      <td>dance</td>\n",
       "      <td>Saint-Petersburg</td>\n",
       "      <td>21:20:49</td>\n",
       "      <td>Wednesday</td>\n",
       "    </tr>\n",
       "  </tbody>\n",
       "</table>\n",
       "</div>"
      ],
      "text/plain": [
       "     userID                        Track            artist   genre  \\\n",
       "0  FFB692EC            Kamigata To Boots  The Mass Missile    rock   \n",
       "1  55204538  Delayed Because of Accident  Andreas Rönnberg    rock   \n",
       "2    20EC38            Funiculì funiculà       Mario Lanza     pop   \n",
       "3  A3DD03C9        Dragons in the Sunset        Fire + Ice    folk   \n",
       "4  E2DC1FAE                  Soul People        Space Echo   dance   \n",
       "5  842029A1                    Преданная         IMPERVTOR  rusrap   \n",
       "6  4CB90AA5                         True      Roman Messer   dance   \n",
       "7  F03E1C1F             Feeling This Way   Polina Griffith   dance   \n",
       "8  8FA1D3BE     И вновь продолжается бой               NaN  ruspop   \n",
       "9  E772D5C0                    Pessimist               NaN   dance   \n",
       "\n",
       "             City        time        Day  \n",
       "0  Saint-Petersburg  20:28:33  Wednesday  \n",
       "1            Moscow  14:07:09     Friday  \n",
       "2  Saint-Petersburg  20:58:07  Wednesday  \n",
       "3  Saint-Petersburg  08:37:09     Monday  \n",
       "4            Moscow  08:34:34     Monday  \n",
       "5  Saint-Petersburg  13:09:41     Friday  \n",
       "6            Moscow  13:00:07  Wednesday  \n",
       "7            Moscow  20:47:49  Wednesday  \n",
       "8            Moscow  09:17:40     Friday  \n",
       "9  Saint-Petersburg  21:20:49  Wednesday  "
      ]
     },
     "execution_count": 44,
     "metadata": {},
     "output_type": "execute_result"
    }
   ],
   "source": [
    "df.head(10)"
   ]
  },
  {
   "cell_type": "markdown",
   "metadata": {
    "id": "EO73Kwic_Zct"
   },
   "source": [
    "Одной командой получить общую информацию о таблице:"
   ]
  },
  {
   "cell_type": "code",
   "execution_count": 45,
   "metadata": {
    "id": "DSf2kIb-_Zct"
   },
   "outputs": [
    {
     "name": "stdout",
     "output_type": "stream",
     "text": [
      "<class 'pandas.core.frame.DataFrame'>\n",
      "RangeIndex: 65079 entries, 0 to 65078\n",
      "Data columns (total 7 columns):\n",
      "  userID    65079 non-null object\n",
      "Track       63848 non-null object\n",
      "artist      57876 non-null object\n",
      "genre       63881 non-null object\n",
      "  City      65079 non-null object\n",
      "time        65079 non-null object\n",
      "Day         65079 non-null object\n",
      "dtypes: object(7)\n",
      "memory usage: 3.5+ MB\n"
     ]
    }
   ],
   "source": [
    "df.info()"
   ]
  },
  {
   "cell_type": "markdown",
   "metadata": {
    "id": "TaQ2Iwbr_Zct"
   },
   "source": [
    "Итак, в таблице семь столбцов. Тип данных во всех столбцах — `object`.\n",
    "\n",
    "Согласно документации к данным:\n",
    "* `userID` — идентификатор пользователя;\n",
    "* `Track` — название трека;  \n",
    "* `artist` — имя исполнителя;\n",
    "* `genre` — название жанра;\n",
    "* `City` — город пользователя;\n",
    "* `time` — время начала прослушивания;\n",
    "* `Day` — день недели.\n",
    "\n",
    "В названиях колонок видны три нарушения стиля:\n",
    "1. Строчные буквы сочетаются с прописными.\n",
    "2. Встречаются пробелы.\n",
    "3. Найдите ещё одну проблему в названии колонок и опишите её в этом пункте.\n",
    "\n",
    "\n",
    "\n",
    "Количество значений в столбцах различается. Значит, в данных есть пропущенные значения.\n"
   ]
  },
  {
   "cell_type": "markdown",
   "metadata": {
    "id": "MCB6-dXG_Zct"
   },
   "source": [
    "**Выводы**\n",
    "\n",
    "В каждой строке таблицы — данные о прослушанном треке. Часть колонок описывает саму композицию: название, исполнителя и жанр. Остальные данные рассказывают о пользователе: из какого он города, когда он слушал музыку. \n",
    "\n",
    "Предварительно можно утверждать, что, данных достаточно для проверки гипотез. Но встречаются пропуски в данных, а в названиях колонок — расхождения с хорошим стилем.\n",
    "\n",
    "Чтобы двигаться дальше, нужно устранить проблемы в данных."
   ]
  },
  {
   "cell_type": "markdown",
   "metadata": {
    "id": "SjYF6Ub9_Zct"
   },
   "source": [
    "## Предобработка данных\n",
    "Исправьте стиль в заголовках столбцов, исключите пропуски. Затем проверьте данные на дубликаты."
   ]
  },
  {
   "cell_type": "markdown",
   "metadata": {
    "id": "dIaKXr29_Zct"
   },
   "source": [
    "### Стиль заголовков\n",
    "Выведите на экран названия столбцов:"
   ]
  },
  {
   "cell_type": "code",
   "execution_count": 46,
   "metadata": {
    "id": "oKOTdF_Q_Zct"
   },
   "outputs": [
    {
     "data": {
      "text/plain": [
       "Index(['  userID', 'Track', 'artist', 'genre', '  City  ', 'time', 'Day'], dtype='object')"
      ]
     },
     "execution_count": 46,
     "metadata": {},
     "output_type": "execute_result"
    }
   ],
   "source": [
    "df.columns"
   ]
  },
  {
   "cell_type": "markdown",
   "metadata": {
    "id": "zj5534cv_Zct"
   },
   "source": [
    "Приведите названия в соответствие с хорошим стилем:\n",
    "* несколько слов в названии запишите в «змеином_регистре»,\n",
    "* все символы сделайте строчными,\n",
    "* устраните пробелы.\n",
    "\n",
    "Для этого переименуйте колонки так:\n",
    "* `'  userID'` → `'user_id'`;\n",
    "* `'Track'` → `'track'`;\n",
    "* `'  City  '` → `'city'`;\n",
    "* `'Day'` → `'day'`."
   ]
  },
  {
   "cell_type": "code",
   "execution_count": 47,
   "metadata": {
    "id": "ISlFqs5y_Zct"
   },
   "outputs": [],
   "source": [
    "df = df.rename(\n",
    "    columns={\n",
    "        '  userID': 'user_id',\n",
    "        'Track': 'track',\n",
    "        '  City  ': 'city', \n",
    "        'Day': 'day',\n",
    "    }\n",
    ")"
   ]
  },
  {
   "cell_type": "markdown",
   "metadata": {
    "id": "1dqbh00J_Zct"
   },
   "source": [
    "Проверьте результат. Для этого ещё раз выведите на экран названия столбцов:"
   ]
  },
  {
   "cell_type": "code",
   "execution_count": 48,
   "metadata": {
    "id": "d4NOAmTW_Zct"
   },
   "outputs": [
    {
     "data": {
      "text/plain": [
       "Index(['user_id', 'track', 'artist', 'genre', 'city', 'time', 'day'], dtype='object')"
      ]
     },
     "execution_count": 48,
     "metadata": {},
     "output_type": "execute_result"
    }
   ],
   "source": [
    "df.columns"
   ]
  },
  {
   "cell_type": "markdown",
   "metadata": {
    "id": "5ISfbcfY_Zct"
   },
   "source": [
    "### Пропуски значений\n",
    "Сначала посчитайте, сколько в таблице пропущенных значений. Для этого достаточно двух методов `pandas`:"
   ]
  },
  {
   "cell_type": "code",
   "execution_count": 49,
   "metadata": {
    "id": "RskX29qr_Zct"
   },
   "outputs": [
    {
     "data": {
      "text/plain": [
       "user_id       0\n",
       "track      1231\n",
       "artist     7203\n",
       "genre      1198\n",
       "city          0\n",
       "time          0\n",
       "day           0\n",
       "dtype: int64"
      ]
     },
     "execution_count": 49,
     "metadata": {},
     "output_type": "execute_result"
    }
   ],
   "source": [
    "df.isna().sum()"
   ]
  },
  {
   "cell_type": "markdown",
   "metadata": {
    "id": "qubhgnlO_Zct"
   },
   "source": [
    "Не все пропущенные значения влияют на исследование. Так в `track` и `artist` пропуски не важны для вашей работы. Достаточно заменить их явными обозначениями.\n",
    "\n",
    "Но пропуски в `genre` могут помешать сравнению музыкальных вкусов в Москве и Санкт-Петербурге. На практике было бы правильно установить причину пропусков и восстановить данные. Такой возможности нет в учебном проекте. Придётся:\n",
    "* заполнить и эти пропуски явными обозначениями,\n",
    "* оценить, насколько они повредят расчётам. "
   ]
  },
  {
   "cell_type": "markdown",
   "metadata": {
    "id": "fSv2laPA_Zct"
   },
   "source": [
    "Замените пропущенные значения в столбцах `track`, `artist` и `genre` на строку `'unknown'`. Для этого создайте список `columns_to_replace`, переберите его элементы циклом `for` и для каждого столбца выполните замену пропущенных значений:"
   ]
  },
  {
   "cell_type": "code",
   "execution_count": 50,
   "metadata": {
    "id": "KplB5qWs_Zct"
   },
   "outputs": [],
   "source": [
    "columns_to_replace = ['track', 'artist', 'genre'] \n",
    "for column in columns_to_replace:\n",
    "    df[column] = df[column].fillna('unknown') "
   ]
  },
  {
   "cell_type": "markdown",
   "metadata": {
    "id": "Ilsm-MZo_Zct"
   },
   "source": [
    "Убедитесь, что в таблице не осталось пропусков. Для этого ещё раз посчитайте пропущенные значения."
   ]
  },
  {
   "cell_type": "code",
   "execution_count": 51,
   "metadata": {
    "id": "Tq4nYRX4_Zct"
   },
   "outputs": [
    {
     "data": {
      "text/plain": [
       "user_id    0\n",
       "track      0\n",
       "artist     0\n",
       "genre      0\n",
       "city       0\n",
       "time       0\n",
       "day        0\n",
       "dtype: int64"
      ]
     },
     "execution_count": 51,
     "metadata": {},
     "output_type": "execute_result"
    }
   ],
   "source": [
    "df.isna().sum()"
   ]
  },
  {
   "cell_type": "markdown",
   "metadata": {
    "id": "BWKRtBJ3_Zct"
   },
   "source": [
    "### Дубликаты\n",
    "Посчитайте явные дубликаты в таблице одной командой:"
   ]
  },
  {
   "cell_type": "code",
   "execution_count": 52,
   "metadata": {
    "id": "36eES_S0_Zct"
   },
   "outputs": [
    {
     "data": {
      "text/plain": [
       "3826"
      ]
     },
     "execution_count": 52,
     "metadata": {},
     "output_type": "execute_result"
    }
   ],
   "source": [
    "df.duplicated().sum()"
   ]
  },
  {
   "cell_type": "markdown",
   "metadata": {
    "id": "Ot25h6XR_Zct"
   },
   "source": [
    "Вызовите специальный метод `pandas`, чтобы удалить явные дубликаты:"
   ]
  },
  {
   "cell_type": "code",
   "execution_count": 53,
   "metadata": {
    "id": "exFHq6tt_Zct"
   },
   "outputs": [],
   "source": [
    "df = df.drop_duplicates().reset_index(drop=True)"
   ]
  },
  {
   "cell_type": "markdown",
   "metadata": {
    "id": "Im2YwBEG_Zct"
   },
   "source": [
    "Ещё раз посчитайте явные дубликаты в таблице — убедитесь, что полностью от них избавились:"
   ]
  },
  {
   "cell_type": "code",
   "execution_count": 54,
   "metadata": {
    "id": "-8PuNWQ0_Zct"
   },
   "outputs": [
    {
     "data": {
      "text/plain": [
       "0"
      ]
     },
     "execution_count": 54,
     "metadata": {},
     "output_type": "execute_result"
    }
   ],
   "source": [
    "df.duplicated().sum()"
   ]
  },
  {
   "cell_type": "markdown",
   "metadata": {
    "id": "QlFBsxAr_Zct"
   },
   "source": [
    "Теперь избавьтесь от неявных дубликатов в колонке `genre`. Например, название одного и того же жанра может быть записано немного по-разному. Такие ошибки тоже повлияют на результат исследования."
   ]
  },
  {
   "cell_type": "markdown",
   "metadata": {
    "id": "eSjWwsOh_Zct"
   },
   "source": [
    "Выведите на экран список уникальных названий жанров, отсортированный в алфавитном порядке. Для этого:\n",
    "* извлеките нужный столбец датафрейма, \n",
    "* примените к нему метод сортировки,\n",
    "* для отсортированного столбца вызовите метод, который вернёт уникальные значения из столбца."
   ]
  },
  {
   "cell_type": "code",
   "execution_count": 55,
   "metadata": {
    "id": "JIUcqzZN_Zct"
   },
   "outputs": [
    {
     "data": {
      "text/plain": [
       "array(['acid', 'acoustic', 'action', 'adult', 'africa', 'afrikaans',\n",
       "       'alternative', 'alternativepunk', 'ambient', 'americana',\n",
       "       'animated', 'anime', 'arabesk', 'arabic', 'arena',\n",
       "       'argentinetango', 'art', 'audiobook', 'author', 'avantgarde',\n",
       "       'axé', 'baile', 'balkan', 'beats', 'bigroom', 'black', 'bluegrass',\n",
       "       'blues', 'bollywood', 'bossa', 'brazilian', 'breakbeat', 'breaks',\n",
       "       'broadway', 'cantautori', 'cantopop', 'canzone', 'caribbean',\n",
       "       'caucasian', 'celtic', 'chamber', 'chanson', 'children', 'chill',\n",
       "       'chinese', 'choral', 'christian', 'christmas', 'classical',\n",
       "       'classicmetal', 'club', 'colombian', 'comedy', 'conjazz',\n",
       "       'contemporary', 'country', 'cuban', 'dance', 'dancehall',\n",
       "       'dancepop', 'dark', 'death', 'deep', 'deutschrock', 'deutschspr',\n",
       "       'dirty', 'disco', 'dnb', 'documentary', 'downbeat', 'downtempo',\n",
       "       'drum', 'dub', 'dubstep', 'eastern', 'easy', 'electronic',\n",
       "       'electropop', 'emo', 'entehno', 'epicmetal', 'estrada', 'ethnic',\n",
       "       'eurofolk', 'european', 'experimental', 'extrememetal', 'fado',\n",
       "       'fairytail', 'film', 'fitness', 'flamenco', 'folk', 'folklore',\n",
       "       'folkmetal', 'folkrock', 'folktronica', 'forró', 'frankreich',\n",
       "       'französisch', 'french', 'funk', 'future', 'gangsta', 'garage',\n",
       "       'german', 'ghazal', 'gitarre', 'glitch', 'gospel', 'gothic',\n",
       "       'grime', 'grunge', 'gypsy', 'handsup', \"hard'n'heavy\", 'hardcore',\n",
       "       'hardstyle', 'hardtechno', 'hip', 'hip-hop', 'hiphop',\n",
       "       'historisch', 'holiday', 'hop', 'horror', 'house', 'hymn', 'idm',\n",
       "       'independent', 'indian', 'indie', 'indipop', 'industrial',\n",
       "       'inspirational', 'instrumental', 'international', 'irish', 'jam',\n",
       "       'japanese', 'jazz', 'jewish', 'jpop', 'jungle', 'k-pop',\n",
       "       'karadeniz', 'karaoke', 'kayokyoku', 'korean', 'laiko', 'latin',\n",
       "       'latino', 'leftfield', 'local', 'lounge', 'loungeelectronic',\n",
       "       'lovers', 'malaysian', 'mandopop', 'marschmusik', 'meditative',\n",
       "       'mediterranean', 'melodic', 'metal', 'metalcore', 'mexican',\n",
       "       'middle', 'minimal', 'miscellaneous', 'modern', 'mood', 'mpb',\n",
       "       'muslim', 'native', 'neoklassik', 'neue', 'new', 'newage',\n",
       "       'newwave', 'nu', 'nujazz', 'numetal', 'oceania', 'old', 'opera',\n",
       "       'orchestral', 'other', 'piano', 'podcasts', 'pop', 'popdance',\n",
       "       'popelectronic', 'popeurodance', 'poprussian', 'post',\n",
       "       'posthardcore', 'postrock', 'power', 'progmetal', 'progressive',\n",
       "       'psychedelic', 'punjabi', 'punk', 'quebecois', 'ragga', 'ram',\n",
       "       'rancheras', 'rap', 'rave', 'reggae', 'reggaeton', 'regional',\n",
       "       'relax', 'religious', 'retro', 'rhythm', 'rnb', 'rnr', 'rock',\n",
       "       'rockabilly', 'rockalternative', 'rockindie', 'rockother',\n",
       "       'romance', 'roots', 'ruspop', 'rusrap', 'rusrock', 'russian',\n",
       "       'salsa', 'samba', 'scenic', 'schlager', 'self', 'sertanejo',\n",
       "       'shanson', 'shoegazing', 'showtunes', 'singer', 'ska', 'skarock',\n",
       "       'slow', 'smooth', 'soft', 'soul', 'soulful', 'sound', 'soundtrack',\n",
       "       'southern', 'specialty', 'speech', 'spiritual', 'sport',\n",
       "       'stonerrock', 'surf', 'swing', 'synthpop', 'synthrock',\n",
       "       'sängerportrait', 'tango', 'tanzorchester', 'taraftar', 'tatar',\n",
       "       'tech', 'techno', 'teen', 'thrash', 'top', 'traditional',\n",
       "       'tradjazz', 'trance', 'tribal', 'trip', 'triphop', 'tropical',\n",
       "       'türk', 'türkçe', 'ukrrock', 'unknown', 'urban', 'uzbek',\n",
       "       'variété', 'vi', 'videogame', 'vocal', 'western', 'world',\n",
       "       'worldbeat', 'ïîï', 'электроника'], dtype=object)"
      ]
     },
     "execution_count": 55,
     "metadata": {},
     "output_type": "execute_result"
    }
   ],
   "source": [
    "sorted_df = df.sort_values(by='genre')\n",
    "sorted_df['genre'].unique()"
   ]
  },
  {
   "cell_type": "markdown",
   "metadata": {
    "id": "qej-Qmuo_Zct"
   },
   "source": [
    "Просмотрите список и найдите неявные дубликаты названия `hiphop`. Это могут быть названия с ошибками или альтернативные названия того же жанра.\n",
    "\n",
    "Вы увидите следующие неявные дубликаты:\n",
    "* *hip*,\n",
    "* *hop*,\n",
    "* *hip-hop*.\n",
    "\n",
    "Чтобы очистить от них таблицу, напишите функцию `replace_wrong_genres()` с двумя параметрами: \n",
    "* `wrong_genres` — список дубликатов,\n",
    "* `correct_genre` — строка с правильным значением.\n",
    "\n",
    "Функция должна исправить колонку `genre` в таблице `df`: заменить каждое значение из списка `wrong_genres` на значение из `correct_genre`."
   ]
  },
  {
   "cell_type": "code",
   "execution_count": 56,
   "metadata": {
    "id": "ErNDkmns_Zct"
   },
   "outputs": [],
   "source": [
    "def replace_wrong_genres(wrong_genres, correct_genre):\n",
    "    for wrong_genre in wrong_genres:\n",
    "        df['genre'] = df['genre'].replace(wrong_genres, correct_genre)\n",
    "wrong_genres = ['hip', 'hop', 'hip-hop'] \n",
    "correct_genre = 'hiphop'"
   ]
  },
  {
   "cell_type": "markdown",
   "metadata": {
    "id": "aDoBJxbA_Zct"
   },
   "source": [
    "Вызовите `replace_wrong_genres()` и передайте ей такие аргументы, чтобы она устранила неявные дубликаты: вместо `hip`, `hop` и `hip-hop` в таблице должно быть значение `hiphop`:"
   ]
  },
  {
   "cell_type": "code",
   "execution_count": 57,
   "metadata": {
    "id": "YN5i2hpmSo09"
   },
   "outputs": [],
   "source": [
    "replace_wrong_genres(wrong_genres, correct_genre)"
   ]
  },
  {
   "cell_type": "markdown",
   "metadata": {
    "id": "zQKF16_RG15m"
   },
   "source": [
    "Проверьте, что заменили неправильные названия:\n",
    "\n",
    "*   hip\n",
    "*   hop\n",
    "*   hip-hop\n",
    "\n",
    "Выведите отсортированный список уникальных значений столбца `genre`:"
   ]
  },
  {
   "cell_type": "code",
   "execution_count": 58,
   "metadata": {
    "id": "wvixALnFG15m"
   },
   "outputs": [
    {
     "data": {
      "text/plain": [
       "array(['acid', 'acoustic', 'action', 'adult', 'africa', 'afrikaans',\n",
       "       'alternative', 'alternativepunk', 'ambient', 'americana',\n",
       "       'animated', 'anime', 'arabesk', 'arabic', 'arena',\n",
       "       'argentinetango', 'art', 'audiobook', 'author', 'avantgarde',\n",
       "       'axé', 'baile', 'balkan', 'beats', 'bigroom', 'black', 'bluegrass',\n",
       "       'blues', 'bollywood', 'bossa', 'brazilian', 'breakbeat', 'breaks',\n",
       "       'broadway', 'cantautori', 'cantopop', 'canzone', 'caribbean',\n",
       "       'caucasian', 'celtic', 'chamber', 'chanson', 'children', 'chill',\n",
       "       'chinese', 'choral', 'christian', 'christmas', 'classical',\n",
       "       'classicmetal', 'club', 'colombian', 'comedy', 'conjazz',\n",
       "       'contemporary', 'country', 'cuban', 'dance', 'dancehall',\n",
       "       'dancepop', 'dark', 'death', 'deep', 'deutschrock', 'deutschspr',\n",
       "       'dirty', 'disco', 'dnb', 'documentary', 'downbeat', 'downtempo',\n",
       "       'drum', 'dub', 'dubstep', 'eastern', 'easy', 'electronic',\n",
       "       'electropop', 'emo', 'entehno', 'epicmetal', 'estrada', 'ethnic',\n",
       "       'eurofolk', 'european', 'experimental', 'extrememetal', 'fado',\n",
       "       'fairytail', 'film', 'fitness', 'flamenco', 'folk', 'folklore',\n",
       "       'folkmetal', 'folkrock', 'folktronica', 'forró', 'frankreich',\n",
       "       'französisch', 'french', 'funk', 'future', 'gangsta', 'garage',\n",
       "       'german', 'ghazal', 'gitarre', 'glitch', 'gospel', 'gothic',\n",
       "       'grime', 'grunge', 'gypsy', 'handsup', \"hard'n'heavy\", 'hardcore',\n",
       "       'hardstyle', 'hardtechno', 'hiphop', 'historisch', 'holiday',\n",
       "       'horror', 'house', 'hymn', 'idm', 'independent', 'indian', 'indie',\n",
       "       'indipop', 'industrial', 'inspirational', 'instrumental',\n",
       "       'international', 'irish', 'jam', 'japanese', 'jazz', 'jewish',\n",
       "       'jpop', 'jungle', 'k-pop', 'karadeniz', 'karaoke', 'kayokyoku',\n",
       "       'korean', 'laiko', 'latin', 'latino', 'leftfield', 'local',\n",
       "       'lounge', 'loungeelectronic', 'lovers', 'malaysian', 'mandopop',\n",
       "       'marschmusik', 'meditative', 'mediterranean', 'melodic', 'metal',\n",
       "       'metalcore', 'mexican', 'middle', 'minimal', 'miscellaneous',\n",
       "       'modern', 'mood', 'mpb', 'muslim', 'native', 'neoklassik', 'neue',\n",
       "       'new', 'newage', 'newwave', 'nu', 'nujazz', 'numetal', 'oceania',\n",
       "       'old', 'opera', 'orchestral', 'other', 'piano', 'podcasts', 'pop',\n",
       "       'popdance', 'popelectronic', 'popeurodance', 'poprussian', 'post',\n",
       "       'posthardcore', 'postrock', 'power', 'progmetal', 'progressive',\n",
       "       'psychedelic', 'punjabi', 'punk', 'quebecois', 'ragga', 'ram',\n",
       "       'rancheras', 'rap', 'rave', 'reggae', 'reggaeton', 'regional',\n",
       "       'relax', 'religious', 'retro', 'rhythm', 'rnb', 'rnr', 'rock',\n",
       "       'rockabilly', 'rockalternative', 'rockindie', 'rockother',\n",
       "       'romance', 'roots', 'ruspop', 'rusrap', 'rusrock', 'russian',\n",
       "       'salsa', 'samba', 'scenic', 'schlager', 'self', 'sertanejo',\n",
       "       'shanson', 'shoegazing', 'showtunes', 'singer', 'ska', 'skarock',\n",
       "       'slow', 'smooth', 'soft', 'soul', 'soulful', 'sound', 'soundtrack',\n",
       "       'southern', 'specialty', 'speech', 'spiritual', 'sport',\n",
       "       'stonerrock', 'surf', 'swing', 'synthpop', 'synthrock',\n",
       "       'sängerportrait', 'tango', 'tanzorchester', 'taraftar', 'tatar',\n",
       "       'tech', 'techno', 'teen', 'thrash', 'top', 'traditional',\n",
       "       'tradjazz', 'trance', 'tribal', 'trip', 'triphop', 'tropical',\n",
       "       'türk', 'türkçe', 'ukrrock', 'unknown', 'urban', 'uzbek',\n",
       "       'variété', 'vi', 'videogame', 'vocal', 'western', 'world',\n",
       "       'worldbeat', 'ïîï', 'электроника'], dtype=object)"
      ]
     },
     "execution_count": 58,
     "metadata": {},
     "output_type": "execute_result"
    }
   ],
   "source": [
    "sorted_df = df.sort_values(by='genre')\n",
    "sorted_df['genre'].unique()"
   ]
  },
  {
   "cell_type": "markdown",
   "metadata": {
    "id": "jz6a9-7HQUDd"
   },
   "source": [
    "**Выводы**\n",
    "\n",
    "Предобработка обнаружила три проблемы в данных:\n",
    "\n",
    "- нарушения в стиле заголовков,\n",
    "- пропущенные значения,\n",
    "- дубликаты — явные и неявные.\n",
    "\n",
    "Вы исправили заголовки, чтобы упростить работу с таблицей. Без дубликатов исследование станет более точным.\n",
    "\n",
    "Пропущенные значения вы заменили на `'unknown'`. Ещё предстоит увидеть, не повредят ли исследованию пропуски в колонке `genre`.\n",
    "\n",
    "Теперь можно перейти к проверке гипотез. "
   ]
  },
  {
   "cell_type": "markdown",
   "metadata": {
    "id": "WttZHXH0SqKk"
   },
   "source": [
    "## Проверка гипотез"
   ]
  },
  {
   "cell_type": "markdown",
   "metadata": {
    "id": "Im936VVi_Zcu"
   },
   "source": [
    "### Сравнение поведения пользователей двух столиц"
   ]
  },
  {
   "cell_type": "markdown",
   "metadata": {
    "id": "nwt_MuaL_Zcu"
   },
   "source": [
    "Первая гипотеза утверждает, что пользователи по-разному слушают музыку в Москве и Санкт-Петербурге. Проверьте это предположение по данным о трёх днях недели — понедельнике, среде и пятнице. Для этого:\n",
    "\n",
    "* Разделите пользователей Москвы и Санкт-Петербурга\n",
    "* Сравните, сколько треков послушала каждая группа пользователей в понедельник, среду и пятницу.\n"
   ]
  },
  {
   "cell_type": "markdown",
   "metadata": {
    "id": "8Dw_YMmT_Zcu"
   },
   "source": [
    "Для тренировки сначала выполните каждый из расчётов по отдельности. \n",
    "\n",
    "Оцените активность пользователей в каждом городе. Сгруппируйте данные по городу и посчитайте прослушивания в каждой группе.\n",
    "\n"
   ]
  },
  {
   "cell_type": "code",
   "execution_count": 59,
   "metadata": {
    "id": "0_Qs96oh_Zcu",
    "scrolled": true
   },
   "outputs": [
    {
     "name": "stdout",
     "output_type": "stream",
     "text": [
      "Прослушиваний в Москве: 42741\n",
      "Прослушиваний в Санкт-Петербурге: 18512\n"
     ]
    }
   ],
   "source": [
    "moscow_users = df[df['city'] == 'Moscow'].count()\n",
    "print('Прослушиваний в Москве:', moscow_users['city'])\n",
    "spb_users = df[df['city'] == 'Saint-Petersburg'].count()\n",
    "print('Прослушиваний в Санкт-Петербурге:', spb_users['city'])"
   ]
  },
  {
   "cell_type": "code",
   "execution_count": 81,
   "metadata": {},
   "outputs": [
    {
     "data": {
      "text/plain": [
       "city\n",
       "Moscow              42741\n",
       "Saint-Petersburg    18512\n",
       "Name: user_id, dtype: int64"
      ]
     },
     "execution_count": 81,
     "metadata": {},
     "output_type": "execute_result"
    }
   ],
   "source": [
    "# комментарий ревьюера\n",
    "df.groupby(['city'])['user_id'].count()"
   ]
  },
  {
   "cell_type": "markdown",
   "metadata": {
    "id": "dzli3w8o_Zcu"
   },
   "source": [
    "В Москве прослушиваний больше, чем в Петербурге. Из этого не следует, что московские пользователи чаще слушают музыку. Просто самих пользователей в Москве больше.\n",
    "\n",
    "Теперь сгруппируйте данные по дню недели и подсчитайте прослушивания в понедельник, среду и пятницу. Учтите, что в данных есть информация только о прослушиваниях только за эти дни.\n"
   ]
  },
  {
   "cell_type": "code",
   "execution_count": 60,
   "metadata": {
    "id": "uZMKjiJz_Zcu"
   },
   "outputs": [
    {
     "name": "stdout",
     "output_type": "stream",
     "text": [
      "Прослушиваний в Москве в понедельник: 15740\n",
      "Прослушиваний в Москве в среду: 11056\n",
      "Прослушиваний в Москве в пятницу: 15945\n",
      "Прослушиваний в Санкт-Петербурге в понедельник: 5614\n",
      "Прослушиваний в Санкт-Петербурге в среду: 7003\n",
      "Прослушиваний в Санкт-Петербурге в пятницу: 5895\n"
     ]
    }
   ],
   "source": [
    "moscow_users = df[df['city'] == 'Moscow']\n",
    "moscow_users_monday = moscow_users[moscow_users['day'] == 'Monday'].count()\n",
    "print('Прослушиваний в Москве в понедельник:', moscow_users_monday['day'])\n",
    "moscow_users_wednesday = moscow_users[moscow_users['day'] == 'Wednesday'].count()\n",
    "print('Прослушиваний в Москве в среду:', moscow_users_wednesday['day'])\n",
    "moscow_users_friday = moscow_users[moscow_users['day'] == 'Friday'].count()\n",
    "print('Прослушиваний в Москве в пятницу:', moscow_users_friday['day'])\n",
    "\n",
    "spb_users = df[df['city'] == 'Saint-Petersburg']\n",
    "spb_users_monday = spb_users[spb_users['day'] == 'Monday'].count()\n",
    "print('Прослушиваний в Санкт-Петербурге в понедельник:', spb_users_monday['day'])\n",
    "spb_users_wednesday = spb_users[spb_users['day'] == 'Wednesday'].count()\n",
    "print('Прослушиваний в Санкт-Петербурге в среду:', spb_users_wednesday['day'])\n",
    "spb_users_friday = spb_users[spb_users['day'] == 'Friday'].count()\n",
    "print('Прослушиваний в Санкт-Петербурге в пятницу:', spb_users_friday['day'])"
   ]
  },
  {
   "cell_type": "markdown",
   "metadata": {
    "id": "cC2tNrlL_Zcu"
   },
   "source": [
    "В среднем пользователи из двух городов менее активны по средам. Но картина может измениться, если рассмотреть каждый город в отдельности."
   ]
  },
  {
   "cell_type": "markdown",
   "metadata": {
    "id": "POzs8bGa_Zcu"
   },
   "source": [
    "Вы видели, как работает группировка по городу и по дням недели. Теперь напишите функцию, которая объединит два эти расчёта.\n",
    "\n",
    "Создайте функцию `number_tracks()`, которая посчитает прослушивания для заданного дня и города. Ей понадобятся два параметра:\n",
    "* день недели,\n",
    "* название города.\n",
    "\n",
    "В функции сохраните в переменную строки исходной таблицы, у которых значение:\n",
    "  * в колонке `day` равно параметру `day`,\n",
    "  * в колонке `city` равно параметру `city`.\n",
    "\n",
    "Для этого примените последовательную фильтрацию с логической индексацией.\n",
    "\n",
    "Затем посчитайте значения в столбце `user_id` получившейся таблицы. Результат сохраните в новую переменную. Верните эту переменную из функции."
   ]
  },
  {
   "cell_type": "code",
   "execution_count": 61,
   "metadata": {
    "id": "Nz3GdQB1_Zcu"
   },
   "outputs": [],
   "source": [
    "def number_tracks(day, city): \n",
    "    track_list = df.loc[df.loc[:, 'day'] == day]\n",
    "    track_list = track_list.loc[track_list.loc[:, 'city'] == city]\n",
    "    track_list_count = track_list['user_id'].count()\n",
    "    return track_list_count"
   ]
  },
  {
   "cell_type": "markdown",
   "metadata": {
    "id": "ytf7xFrFJQ2r"
   },
   "source": [
    "Вызовите `number_tracks()` шесть раз, меняя значение параметров — так, чтобы получить данные для каждого города в каждый из трёх дней."
   ]
  },
  {
   "cell_type": "code",
   "execution_count": 62,
   "metadata": {
    "id": "rJcRATNQ_Zcu"
   },
   "outputs": [
    {
     "data": {
      "text/plain": [
       "15740"
      ]
     },
     "execution_count": 62,
     "metadata": {},
     "output_type": "execute_result"
    }
   ],
   "source": [
    "number_tracks('Monday', 'Moscow')"
   ]
  },
  {
   "cell_type": "code",
   "execution_count": 63,
   "metadata": {
    "id": "hq_ncZ5T_Zcu"
   },
   "outputs": [
    {
     "data": {
      "text/plain": [
       "5614"
      ]
     },
     "execution_count": 63,
     "metadata": {},
     "output_type": "execute_result"
    }
   ],
   "source": [
    "number_tracks('Monday', 'Saint-Petersburg')"
   ]
  },
  {
   "cell_type": "code",
   "execution_count": 64,
   "metadata": {
    "id": "_NTy2VPU_Zcu"
   },
   "outputs": [
    {
     "data": {
      "text/plain": [
       "11056"
      ]
     },
     "execution_count": 64,
     "metadata": {},
     "output_type": "execute_result"
    }
   ],
   "source": [
    "number_tracks('Wednesday', 'Moscow')"
   ]
  },
  {
   "cell_type": "code",
   "execution_count": 65,
   "metadata": {
    "id": "j2y3TAwo_Zcu"
   },
   "outputs": [
    {
     "data": {
      "text/plain": [
       "7003"
      ]
     },
     "execution_count": 65,
     "metadata": {},
     "output_type": "execute_result"
    }
   ],
   "source": [
    "number_tracks('Wednesday', 'Saint-Petersburg')"
   ]
  },
  {
   "cell_type": "code",
   "execution_count": 66,
   "metadata": {
    "id": "vYDw5u_K_Zcu"
   },
   "outputs": [
    {
     "data": {
      "text/plain": [
       "15945"
      ]
     },
     "execution_count": 66,
     "metadata": {},
     "output_type": "execute_result"
    }
   ],
   "source": [
    "number_tracks('Friday', 'Moscow')"
   ]
  },
  {
   "cell_type": "code",
   "execution_count": 67,
   "metadata": {
    "id": "8_yzFtW3_Zcu"
   },
   "outputs": [
    {
     "data": {
      "text/plain": [
       "5895"
      ]
     },
     "execution_count": 67,
     "metadata": {},
     "output_type": "execute_result"
    }
   ],
   "source": [
    "number_tracks('Friday', 'Saint-Petersburg')"
   ]
  },
  {
   "cell_type": "markdown",
   "metadata": {
    "id": "7QXffbO-_Zcu"
   },
   "source": [
    "Создайте c помощью конструктора `pd.DataFrame` таблицу, где\n",
    "* названия колонок — `['city', 'monday', 'wednesday', 'friday']`;\n",
    "* данные — результаты, которые вы получили с помощью `number_tracks`."
   ]
  },
  {
   "cell_type": "code",
   "execution_count": 68,
   "metadata": {
    "id": "APAcLpOr_Zcu"
   },
   "outputs": [
    {
     "data": {
      "text/html": [
       "<div>\n",
       "<style scoped>\n",
       "    .dataframe tbody tr th:only-of-type {\n",
       "        vertical-align: middle;\n",
       "    }\n",
       "\n",
       "    .dataframe tbody tr th {\n",
       "        vertical-align: top;\n",
       "    }\n",
       "\n",
       "    .dataframe thead th {\n",
       "        text-align: right;\n",
       "    }\n",
       "</style>\n",
       "<table border=\"1\" class=\"dataframe\">\n",
       "  <thead>\n",
       "    <tr style=\"text-align: right;\">\n",
       "      <th></th>\n",
       "      <th>city</th>\n",
       "      <th>monday</th>\n",
       "      <th>wednesday</th>\n",
       "      <th>friday</th>\n",
       "    </tr>\n",
       "  </thead>\n",
       "  <tbody>\n",
       "    <tr>\n",
       "      <td>0</td>\n",
       "      <td>Moscow</td>\n",
       "      <td>15740</td>\n",
       "      <td>11056</td>\n",
       "      <td>15945</td>\n",
       "    </tr>\n",
       "    <tr>\n",
       "      <td>1</td>\n",
       "      <td>Saint-Petersburg</td>\n",
       "      <td>5614</td>\n",
       "      <td>7003</td>\n",
       "      <td>5895</td>\n",
       "    </tr>\n",
       "  </tbody>\n",
       "</table>\n",
       "</div>"
      ],
      "text/plain": [
       "               city  monday  wednesday  friday\n",
       "0            Moscow   15740      11056   15945\n",
       "1  Saint-Petersburg    5614       7003    5895"
      ]
     },
     "metadata": {},
     "output_type": "display_data"
    }
   ],
   "source": [
    "col = ['city', 'monday', 'wednesday', 'friday']\n",
    "data_city_day = [['Moscow', number_tracks('Monday', 'Moscow'), \n",
    "                  number_tracks('Wednesday', 'Moscow'), \n",
    "                  number_tracks('Friday', 'Moscow')], \n",
    "                 ['Saint-Petersburg',\n",
    "                  number_tracks('Monday', 'Saint-Petersburg'), \n",
    "                  number_tracks('Wednesday', 'Saint-Petersburg'), \n",
    "                  number_tracks('Friday', 'Saint-Petersburg')]]\n",
    "df_city_day = pd.DataFrame(data=data_city_day, columns=col)\n",
    "display(df_city_day)"
   ]
  },
  {
   "cell_type": "markdown",
   "metadata": {
    "id": "-EgPIHYu_Zcu"
   },
   "source": [
    "**Выводы**\n",
    "\n",
    "Данные показывают разницу поведения пользователей:\n",
    "\n",
    "- В Москве пик прослушиваний приходится на понедельник и пятницу, а в среду заметен спад.\n",
    "- В Петербурге, наоборот, больше слушают музыку по средам. Активность в понедельник и пятницу здесь почти в равной мере уступает среде.\n",
    "\n",
    "Значит, данные говорят в пользу первой гипотезы."
   ]
  },
  {
   "cell_type": "markdown",
   "metadata": {
    "id": "atZAxtq4_Zcu"
   },
   "source": [
    "### Музыка в начале и в конце недели"
   ]
  },
  {
   "cell_type": "markdown",
   "metadata": {
    "id": "eXrQqXFH_Zcu"
   },
   "source": [
    "Согласно второй гипотезе, утром в понедельник в Москве преобладают одни жанры, а в Петербурге — другие. Так же и вечером пятницы преобладают разные жанры — в зависимости от города."
   ]
  },
  {
   "cell_type": "markdown",
   "metadata": {
    "id": "S8UcW6Hw_Zcu"
   },
   "source": [
    "Сохраните таблицы с данными в две переменные:\n",
    "* по Москве — в `moscow_general`;\n",
    "* по Санкт-Петербургу — в `spb_general`."
   ]
  },
  {
   "cell_type": "code",
   "execution_count": 69,
   "metadata": {
    "id": "qeaFfM_P_Zcu"
   },
   "outputs": [],
   "source": [
    "moscow_general = df.loc[df.loc[:, 'city'] == 'Moscow']\n",
    "# получение таблицы moscow_general из тех строк таблицы df, \n",
    "# для которых значение в столбце 'city' равно 'Moscow'"
   ]
  },
  {
   "cell_type": "code",
   "execution_count": 70,
   "metadata": {
    "id": "ORaVRKto_Zcu"
   },
   "outputs": [],
   "source": [
    "spb_general = df.loc[df.loc[:, 'city'] == 'Saint-Petersburg']\n",
    "# получение таблицы spb_general из тех строк таблицы df,\n",
    "# для которых значение в столбце 'city' равно 'Saint-Petersburg'"
   ]
  },
  {
   "cell_type": "markdown",
   "metadata": {
    "id": "MEJV-CX2_Zcu"
   },
   "source": [
    "Создайте функцию `genre_weekday()` с четырьмя параметрами:\n",
    "* таблица (датафрейм) с данными,\n",
    "* день недели,\n",
    "* начальная временная метка в формате 'hh:mm', \n",
    "* последняя временная метка в формате 'hh:mm'.\n",
    "\n",
    "Функция должна вернуть информацию о топ-10 жанров тех треков, которые прослушивали в указанный день, в промежутке между двумя отметками времени."
   ]
  },
  {
   "cell_type": "code",
   "execution_count": 71,
   "metadata": {
    "id": "laJT9BYl_Zcu"
   },
   "outputs": [],
   "source": [
    "def genre_weekday(table, day, time1, time2):\n",
    "    genre_df = table.loc[table.loc[:, 'day'] == day]\n",
    "    genre_df = genre_df.loc[genre_df.loc[:, 'time'] > time1]\n",
    "    genre_df = genre_df.loc[genre_df.loc[:, 'time'] < time2]\n",
    "    genre_grouping = genre_df.groupby('genre')\n",
    "    genre_df_count = genre_grouping['track'].count()\n",
    "    genre_df_sorted = genre_df_count.sort_values(ascending = False)\n",
    "    return genre_df_sorted[:10]\n",
    "\n",
    "# Объявление функции genre_weekday() с параметрами table, day, time1, time2,\n",
    "# которая возвращает информацию о самых популярных жанрах в указанный день в\n",
    "# заданное время:\n",
    "# 1) в переменную genre_df сохраняются те строки переданного датафрейма table, для\n",
    "#    которых одновременно:\n",
    "#    - значение в столбце day равно значению аргумента day\n",
    "#    - значение в столбце time больше значения аргумента time1\n",
    "#    - значение в столбце time меньше значения аргумента time2\n",
    "#    Используйте последовательную фильтрацию с помощью логической индексации.\n",
    "# 2) сгруппировать датафрейм genre_df по столбцу genre, взять один из его\n",
    "#    столбцов и посчитать методом count() количество записей для каждого из\n",
    "#    присутствующих жанров, получившийся Series записать в переменную\n",
    "#    genre_df_count\n",
    "# 3) отсортировать genre_df_count по убыванию встречаемости и сохранить\n",
    "#    в переменную genre_df_sorted\n",
    "# 4) вернуть Series из 10 первых значений genre_df_sorted, это будут топ-10\n",
    "#    популярных жанров (в указанный день, в заданное время)"
   ]
  },
  {
   "cell_type": "markdown",
   "metadata": {
    "id": "la2s2_PF_Zcu"
   },
   "source": [
    "Cравните результаты функции `genre_weekday()` для Москвы и Санкт-Петербурга в понедельник утром (с 7:00 до 11:00) и в пятницу вечером (с 17:00 до 23:00):"
   ]
  },
  {
   "cell_type": "code",
   "execution_count": 72,
   "metadata": {
    "id": "yz7itPUQ_Zcu"
   },
   "outputs": [
    {
     "data": {
      "text/plain": [
       "genre\n",
       "pop            781\n",
       "dance          549\n",
       "electronic     480\n",
       "rock           474\n",
       "hiphop         286\n",
       "ruspop         186\n",
       "world          181\n",
       "rusrap         175\n",
       "alternative    164\n",
       "unknown        161\n",
       "Name: track, dtype: int64"
      ]
     },
     "execution_count": 72,
     "metadata": {},
     "output_type": "execute_result"
    }
   ],
   "source": [
    "genre_weekday(moscow_general, 'Monday', '07:00', '11:00')\n",
    "# вызов функции для утра понедельника в Москве (вместо df — таблица moscow_general)\n",
    "# объекты, хранящие время, являются строками и сравниваются как строки\n",
    "# пример вызова: genre_weekday(moscow_general, 'Monday', '07:00', '11:00')"
   ]
  },
  {
   "cell_type": "code",
   "execution_count": 73,
   "metadata": {
    "id": "kwUcHPdy_Zcu"
   },
   "outputs": [
    {
     "data": {
      "text/plain": [
       "genre\n",
       "pop            218\n",
       "dance          182\n",
       "rock           162\n",
       "electronic     147\n",
       "hiphop          80\n",
       "ruspop          64\n",
       "alternative     58\n",
       "rusrap          55\n",
       "jazz            44\n",
       "classical       40\n",
       "Name: track, dtype: int64"
      ]
     },
     "execution_count": 73,
     "metadata": {},
     "output_type": "execute_result"
    }
   ],
   "source": [
    "genre_weekday(spb_general, 'Monday', '07:00', '11:00')\n",
    "# вызов функции для утра понедельника в Петербурге (вместо df — таблица spb_general)"
   ]
  },
  {
   "cell_type": "code",
   "execution_count": 74,
   "metadata": {
    "id": "EzXVRE1o_Zcu"
   },
   "outputs": [
    {
     "data": {
      "text/plain": [
       "genre\n",
       "pop            713\n",
       "rock           517\n",
       "dance          495\n",
       "electronic     482\n",
       "hiphop         273\n",
       "world          208\n",
       "ruspop         170\n",
       "alternative    163\n",
       "classical      163\n",
       "rusrap         142\n",
       "Name: track, dtype: int64"
      ]
     },
     "execution_count": 74,
     "metadata": {},
     "output_type": "execute_result"
    }
   ],
   "source": [
    "genre_weekday(moscow_general, 'Friday', '17:00', '23:00')\n",
    "# вызов функции для вечера пятницы в Москве"
   ]
  },
  {
   "cell_type": "code",
   "execution_count": 75,
   "metadata": {
    "id": "JZaEKu5v_Zcu"
   },
   "outputs": [
    {
     "data": {
      "text/plain": [
       "genre\n",
       "pop            256\n",
       "rock           216\n",
       "electronic     216\n",
       "dance          210\n",
       "hiphop          97\n",
       "alternative     63\n",
       "jazz            61\n",
       "classical       60\n",
       "rusrap          59\n",
       "world           54\n",
       "Name: track, dtype: int64"
      ]
     },
     "execution_count": 75,
     "metadata": {},
     "output_type": "execute_result"
    }
   ],
   "source": [
    "genre_weekday(spb_general, 'Friday', '17:00', '23:00')\n",
    "# вызов функции для вечера пятницы в Петербурге"
   ]
  },
  {
   "cell_type": "markdown",
   "metadata": {
    "id": "wrCe4MNX_Zcu"
   },
   "source": [
    "**Выводы**\n",
    "\n",
    "Если сравнить топ-10 жанров в понедельник утром, можно сделать такие выводы:\n",
    "\n",
    "1. В Москве и Петербурге слушают похожую музыку. Единственное отличие — в московский рейтинг вошёл жанр “world”, а в петербургский — джаз и классика.\n",
    "\n",
    "2. В Москве пропущенных значений оказалось так много, что значение `'unknown'` заняло десятое место среди самых популярных жанров. Значит, пропущенные значения занимают существенную долю в данных и угрожают достоверности исследования.\n",
    "\n",
    "Вечер пятницы не меняет эту картину. Некоторые жанры поднимаются немного выше, другие спускаются, но в целом топ-10 остаётся тем же самым.\n",
    "\n",
    "Таким образом, вторая гипотеза подтвердилась лишь частично:\n",
    "* Пользователи слушают похожую музыку в начале недели и в конце.\n",
    "* Разница между Москвой и Петербургом не слишком выражена. В Москве чаще слушают русскую популярную музыку, в Петербурге — джаз.\n",
    "\n",
    "Однако пропуски в данных ставят под сомнение этот результат. В Москве их так много, что рейтинг топ-10 мог бы выглядеть иначе, если бы не утерянные  данные о жанрах."
   ]
  },
  {
   "cell_type": "markdown",
   "metadata": {
    "id": "JolODAqr_Zcu"
   },
   "source": [
    "### Жанровые предпочтения в Москве и Петербурге\n",
    "\n",
    "Гипотеза: Петербург — столица рэпа, музыку этого жанра там слушают чаще, чем в Москве.  А Москва — город контрастов, в котором, тем не менее, преобладает поп-музыка."
   ]
  },
  {
   "cell_type": "markdown",
   "metadata": {
    "id": "DlegSvaT_Zcu"
   },
   "source": [
    "Сгруппируйте таблицу `moscow_general` по жанру и посчитайте прослушивания треков каждого жанра методом `count()`. Затем отсортируйте результат в порядке убывания и сохраните его в таблице `moscow_genres`."
   ]
  },
  {
   "cell_type": "code",
   "execution_count": 76,
   "metadata": {
    "id": "r19lIPke_Zcu"
   },
   "outputs": [],
   "source": [
    "moscow_genres = moscow_general.groupby('genre')['user_id'].count()\n",
    "moscow_genres = moscow_genres.sort_values(ascending = False)\n",
    "# одной строкой: группировка таблицы moscow_general по столбцу 'genre', \n",
    "# подсчёт числа значений 'genre' в этой группировке методом count(), \n",
    "# сортировка получившегося Series в порядке убывания и сохранение в moscow_genres"
   ]
  },
  {
   "cell_type": "markdown",
   "metadata": {
    "id": "6kMuomxTiIr8"
   },
   "source": [
    "Выведите на экран первые десять строк `moscow_genres`:"
   ]
  },
  {
   "cell_type": "code",
   "execution_count": 77,
   "metadata": {
    "id": "WhCSooF8_Zcv"
   },
   "outputs": [
    {
     "data": {
      "text/plain": [
       "genre\n",
       "pop            5892\n",
       "dance          4435\n",
       "rock           3965\n",
       "electronic     3786\n",
       "hiphop         2096\n",
       "classical      1616\n",
       "world          1432\n",
       "alternative    1379\n",
       "ruspop         1372\n",
       "rusrap         1161\n",
       "Name: user_id, dtype: int64"
      ]
     },
     "metadata": {},
     "output_type": "display_data"
    }
   ],
   "source": [
    "display(moscow_genres.head(10))\n",
    "# просмотр первых 10 строк moscow_genres"
   ]
  },
  {
   "cell_type": "markdown",
   "metadata": {
    "id": "cnPG2vnN_Zcv"
   },
   "source": [
    "Теперь повторите то же и для Петербурга.\n",
    "\n",
    "Сгруппируйте таблицу `spb_general` по жанру. Посчитайте прослушивания треков каждого жанра. Результат отсортируйте в порядке убывания и сохраните в таблице `spb_genres`:\n"
   ]
  },
  {
   "cell_type": "code",
   "execution_count": 78,
   "metadata": {
    "id": "gluLIpE7_Zcv"
   },
   "outputs": [],
   "source": [
    "spb_genres = spb_general.groupby('genre')['user_id'].count()\n",
    "spb_genres = spb_genres.sort_values(ascending = False)\n",
    "# одной строкой: группировка таблицы spb_general по столбцу 'genre', \n",
    "# подсчёт числа значений 'genre' в этой группировке методом count(), \n",
    "# сортировка получившегося Series в порядке убывания и сохранение в spb_genres"
   ]
  },
  {
   "cell_type": "markdown",
   "metadata": {
    "id": "5Doha_ODgyQ8"
   },
   "source": [
    "Выведите на экран первые десять строк `spb_genres`:"
   ]
  },
  {
   "cell_type": "code",
   "execution_count": 79,
   "metadata": {
    "id": "uaGJHjVU_Zcv"
   },
   "outputs": [
    {
     "data": {
      "text/plain": [
       "genre\n",
       "pop            2431\n",
       "dance          1932\n",
       "rock           1879\n",
       "electronic     1736\n",
       "hiphop          960\n",
       "alternative     649\n",
       "classical       646\n",
       "rusrap          564\n",
       "ruspop          538\n",
       "world           515\n",
       "Name: user_id, dtype: int64"
      ]
     },
     "metadata": {},
     "output_type": "display_data"
    }
   ],
   "source": [
    "display(spb_genres.head(10))\n",
    "# просмотр первых 10 строк spb_genres"
   ]
  },
  {
   "cell_type": "markdown",
   "metadata": {
    "id": "RY51YJYu_Zcv"
   },
   "source": [
    "**Выводы**"
   ]
  },
  {
   "cell_type": "markdown",
   "metadata": {
    "id": "nVhnJEm__Zcv"
   },
   "source": [
    "Гипотеза частично подтвердилась:\n",
    "* Поп-музыка — самый популярный жанр в Москве, как и предполагала гипотеза. Более того, в топ-10 жанров встречается близкий жанр — русская популярная музыка.\n",
    "* Вопреки ожиданиям, рэп одинаково популярен в Москве и Петербурге. \n"
   ]
  },
  {
   "cell_type": "markdown",
   "metadata": {
    "id": "ykKQ0N65_Zcv"
   },
   "source": [
    "## Итоги исследования"
   ]
  },
  {
   "cell_type": "markdown",
   "metadata": {
    "id": "tjUwbHb3_Zcv"
   },
   "source": [
    "Вы проверили три гипотезы и установили:\n",
    "\n",
    "1. День недели по-разному влияет на активность пользователей в Москве и Петербурге. \n",
    "\n",
    "Первая гипотеза полностью подтвердилась.\n",
    "\n",
    "2. Музыкальные предпочтения не сильно меняются в течение недели — будь то Москва или Петербург. Небольшие различия заметны в начале недели, по понедельникам:\n",
    "* в Москве слушают музыку жанра “world”,\n",
    "* в Петербурге — джаз и классику.\n",
    "\n",
    "Таким образом, вторая гипотеза подтвердилась лишь отчасти. Этот результат мог оказаться иным, если бы не пропуски в данных.\n",
    "\n",
    "3. Во вкусах пользователей Москвы и Петербурга больше общего чем различий. Вопреки ожиданиям, предпочтения жанров в Петербурге напоминают московские.\n",
    "\n",
    "Третья гипотеза не подтвердилась. Если различия в предпочтениях и существуют, на основной массе пользователей они незаметны.\n",
    "\n",
    "**На практике исследования содержат проверки статистических гипотез.**\n",
    "Из данных одного сервиса не всегда можно сделать вывод о всех жителях города.\n",
    "Проверки статистических гипотез покажут, насколько они достоверны, исходя из имеющихся данных. \n",
    "С методами проверок гипотез вы ещё познакомитесь в следующих темах."
   ]
  }
 ],
 "metadata": {
  "ExecuteTimeLog": [
   {
    "duration": 840,
    "start_time": "2022-01-23T09:36:33.666Z"
   },
   {
    "duration": 185,
    "start_time": "2022-01-23T09:38:45.082Z"
   },
   {
    "duration": 41,
    "start_time": "2022-01-23T09:40:23.881Z"
   },
   {
    "duration": 30,
    "start_time": "2022-01-23T09:40:41.455Z"
   },
   {
    "duration": 6,
    "start_time": "2022-01-23T09:44:23.836Z"
   },
   {
    "duration": 27,
    "start_time": "2022-01-23T09:47:37.795Z"
   },
   {
    "duration": 6,
    "start_time": "2022-01-23T09:47:41.871Z"
   },
   {
    "duration": 39,
    "start_time": "2022-01-23T09:48:25.873Z"
   },
   {
    "duration": 53,
    "start_time": "2022-01-23T09:48:39.456Z"
   },
   {
    "duration": 23,
    "start_time": "2022-01-23T09:55:04.573Z"
   },
   {
    "duration": 53,
    "start_time": "2022-01-23T09:55:15.638Z"
   },
   {
    "duration": 85,
    "start_time": "2022-01-23T09:55:44.686Z"
   },
   {
    "duration": 90,
    "start_time": "2022-01-23T09:57:35.978Z"
   },
   {
    "duration": 74,
    "start_time": "2022-01-23T09:57:41.668Z"
   },
   {
    "duration": 9,
    "start_time": "2022-01-23T09:59:38.016Z"
   },
   {
    "duration": 65,
    "start_time": "2022-01-23T10:00:48.481Z"
   },
   {
    "duration": 70,
    "start_time": "2022-01-23T10:00:50.934Z"
   },
   {
    "duration": 71,
    "start_time": "2022-01-23T10:00:59.330Z"
   },
   {
    "duration": 10,
    "start_time": "2022-01-23T10:01:05.096Z"
   },
   {
    "duration": 351,
    "start_time": "2022-01-23T10:01:26.033Z"
   },
   {
    "duration": 11,
    "start_time": "2022-01-23T10:01:33.288Z"
   },
   {
    "duration": 317,
    "start_time": "2022-01-23T10:13:46.645Z"
   },
   {
    "duration": 319,
    "start_time": "2022-01-23T10:14:13.125Z"
   },
   {
    "duration": 10,
    "start_time": "2022-01-23T10:15:56.430Z"
   },
   {
    "duration": 74,
    "start_time": "2022-01-23T10:17:32.900Z"
   },
   {
    "duration": 24,
    "start_time": "2022-01-23T10:26:39.048Z"
   },
   {
    "duration": 78,
    "start_time": "2022-01-23T10:26:44.277Z"
   },
   {
    "duration": 23,
    "start_time": "2022-01-23T10:27:51.353Z"
   },
   {
    "duration": 102,
    "start_time": "2022-01-23T10:28:01.813Z"
   },
   {
    "duration": 9,
    "start_time": "2022-01-23T10:51:15.377Z"
   },
   {
    "duration": 9,
    "start_time": "2022-01-23T10:52:03.352Z"
   },
   {
    "duration": 71,
    "start_time": "2022-01-23T10:52:30.154Z"
   },
   {
    "duration": 70,
    "start_time": "2022-01-23T10:52:32.936Z"
   },
   {
    "duration": 71,
    "start_time": "2022-01-23T10:52:33.993Z"
   },
   {
    "duration": 71,
    "start_time": "2022-01-23T10:53:15.579Z"
   },
   {
    "duration": 300,
    "start_time": "2022-01-23T10:54:25.113Z"
   },
   {
    "duration": 70,
    "start_time": "2022-01-23T10:54:49.416Z"
   },
   {
    "duration": 74,
    "start_time": "2022-01-23T10:55:16.261Z"
   },
   {
    "duration": 114,
    "start_time": "2022-01-23T10:55:25.252Z"
   },
   {
    "duration": 74,
    "start_time": "2022-01-23T11:00:31.456Z"
   },
   {
    "duration": 72,
    "start_time": "2022-01-23T11:00:34.797Z"
   },
   {
    "duration": 2298,
    "start_time": "2022-01-23T11:07:08.096Z"
   },
   {
    "duration": 76,
    "start_time": "2022-01-23T11:08:09.925Z"
   },
   {
    "duration": 333,
    "start_time": "2022-01-23T11:09:08.624Z"
   },
   {
    "duration": 348,
    "start_time": "2022-01-23T11:09:16.655Z"
   },
   {
    "duration": 73,
    "start_time": "2022-01-23T11:09:36.081Z"
   },
   {
    "duration": 72,
    "start_time": "2022-01-23T11:09:46.377Z"
   },
   {
    "duration": 76,
    "start_time": "2022-01-23T11:09:57.207Z"
   },
   {
    "duration": 360,
    "start_time": "2022-01-23T16:53:11.436Z"
   },
   {
    "duration": 362,
    "start_time": "2022-01-23T16:53:28.026Z"
   },
   {
    "duration": 309,
    "start_time": "2022-01-23T16:54:13.674Z"
   },
   {
    "duration": 828,
    "start_time": "2022-01-23T16:54:33.122Z"
   },
   {
    "duration": 350,
    "start_time": "2022-01-23T16:54:37.822Z"
   },
   {
    "duration": 330,
    "start_time": "2022-01-23T16:55:03.005Z"
   },
   {
    "duration": 342,
    "start_time": "2022-01-23T16:55:14.656Z"
   },
   {
    "duration": 375,
    "start_time": "2022-01-23T16:55:20.647Z"
   },
   {
    "duration": 365,
    "start_time": "2022-01-23T16:55:25.620Z"
   },
   {
    "duration": 592,
    "start_time": "2022-01-23T16:55:33.091Z"
   },
   {
    "duration": 122,
    "start_time": "2022-01-23T16:55:36.248Z"
   },
   {
    "duration": 3,
    "start_time": "2022-01-23T16:55:40.259Z"
   },
   {
    "duration": 536,
    "start_time": "2022-01-23T16:55:46.468Z"
   },
   {
    "duration": 116,
    "start_time": "2022-01-23T16:55:49.561Z"
   },
   {
    "duration": 15,
    "start_time": "2022-01-23T16:55:51.516Z"
   },
   {
    "duration": 22,
    "start_time": "2022-01-23T16:55:55.451Z"
   },
   {
    "duration": 4,
    "start_time": "2022-01-23T16:56:00.496Z"
   },
   {
    "duration": 17,
    "start_time": "2022-01-23T16:56:03.979Z"
   },
   {
    "duration": 4,
    "start_time": "2022-01-23T16:56:06.773Z"
   },
   {
    "duration": 39,
    "start_time": "2022-01-23T16:56:09.046Z"
   },
   {
    "duration": 15,
    "start_time": "2022-01-23T16:56:15.760Z"
   },
   {
    "duration": 36,
    "start_time": "2022-01-23T16:56:41.685Z"
   },
   {
    "duration": 53,
    "start_time": "2022-01-23T16:56:45.799Z"
   },
   {
    "duration": 62,
    "start_time": "2022-01-23T16:56:48.752Z"
   },
   {
    "duration": 49,
    "start_time": "2022-01-23T16:56:50.668Z"
   },
   {
    "duration": 45,
    "start_time": "2022-01-23T16:57:10.074Z"
   },
   {
    "duration": 3,
    "start_time": "2022-01-23T16:57:52.940Z"
   },
   {
    "duration": 13,
    "start_time": "2022-01-23T16:57:56.238Z"
   },
   {
    "duration": 47,
    "start_time": "2022-01-23T16:57:59.401Z"
   },
   {
    "duration": 374,
    "start_time": "2022-01-23T17:06:38.591Z"
   },
   {
    "duration": 39,
    "start_time": "2022-01-23T17:07:21.126Z"
   },
   {
    "duration": 24,
    "start_time": "2022-01-23T17:08:14.089Z"
   },
   {
    "duration": 36,
    "start_time": "2022-01-23T17:08:57.582Z"
   },
   {
    "duration": 51,
    "start_time": "2022-01-23T17:12:54.490Z"
   },
   {
    "duration": 35,
    "start_time": "2022-01-23T17:13:57.478Z"
   },
   {
    "duration": 429,
    "start_time": "2022-01-23T17:14:39.582Z"
   },
   {
    "duration": 33,
    "start_time": "2022-01-23T17:14:55.654Z"
   },
   {
    "duration": 36,
    "start_time": "2022-01-23T17:15:05.884Z"
   },
   {
    "duration": 40,
    "start_time": "2022-01-23T17:15:16.632Z"
   },
   {
    "duration": 40,
    "start_time": "2022-01-23T17:16:47.978Z"
   },
   {
    "duration": 314,
    "start_time": "2022-01-23T17:19:32.990Z"
   },
   {
    "duration": 700,
    "start_time": "2022-01-23T17:20:03.393Z"
   },
   {
    "duration": -56,
    "start_time": "2022-01-23T17:20:40.223Z"
   },
   {
    "duration": 18,
    "start_time": "2022-01-23T17:20:47.711Z"
   },
   {
    "duration": 402,
    "start_time": "2022-01-23T17:21:33.867Z"
   },
   {
    "duration": 25,
    "start_time": "2022-01-23T17:23:26.118Z"
   },
   {
    "duration": 17,
    "start_time": "2022-01-23T17:23:35.582Z"
   },
   {
    "duration": 29,
    "start_time": "2022-01-23T17:24:30.660Z"
   },
   {
    "duration": 41,
    "start_time": "2022-01-23T17:25:14.715Z"
   },
   {
    "duration": 406,
    "start_time": "2022-01-23T17:26:11.333Z"
   },
   {
    "duration": 385,
    "start_time": "2022-01-23T17:27:59.117Z"
   },
   {
    "duration": 9799,
    "start_time": "2022-01-23T17:28:57.595Z"
   },
   {
    "duration": 354,
    "start_time": "2022-01-23T17:29:17.982Z"
   },
   {
    "duration": 350,
    "start_time": "2022-01-23T17:29:31.334Z"
   },
   {
    "duration": 349,
    "start_time": "2022-01-23T17:30:28.147Z"
   },
   {
    "duration": 107,
    "start_time": "2022-01-23T17:31:07.095Z"
   },
   {
    "duration": 523,
    "start_time": "2022-01-23T17:31:17.009Z"
   },
   {
    "duration": 3,
    "start_time": "2022-01-23T17:31:32.193Z"
   },
   {
    "duration": 447,
    "start_time": "2022-01-23T17:31:38.893Z"
   },
   {
    "duration": 409,
    "start_time": "2022-01-23T17:31:56.262Z"
   },
   {
    "duration": 3,
    "start_time": "2022-01-23T17:32:34.202Z"
   },
   {
    "duration": 4,
    "start_time": "2022-01-23T17:32:52.558Z"
   },
   {
    "duration": 335,
    "start_time": "2022-01-23T17:33:53.156Z"
   },
   {
    "duration": 8717,
    "start_time": "2022-01-23T17:34:08.721Z"
   },
   {
    "duration": 8748,
    "start_time": "2022-01-23T17:34:37.498Z"
   },
   {
    "duration": 329,
    "start_time": "2022-01-23T17:34:58.124Z"
   },
   {
    "duration": 3186,
    "start_time": "2022-01-23T17:35:08.029Z"
   },
   {
    "duration": 2651,
    "start_time": "2022-01-23T17:35:18.367Z"
   },
   {
    "duration": 19,
    "start_time": "2022-01-23T17:36:19.478Z"
   },
   {
    "duration": 23,
    "start_time": "2022-01-23T17:36:33.040Z"
   },
   {
    "duration": 21,
    "start_time": "2022-01-23T17:36:54.695Z"
   },
   {
    "duration": 28,
    "start_time": "2022-01-23T17:37:47.653Z"
   },
   {
    "duration": 39,
    "start_time": "2022-01-23T17:38:15.413Z"
   },
   {
    "duration": 389,
    "start_time": "2022-01-23T17:40:17.159Z"
   },
   {
    "duration": 389,
    "start_time": "2022-01-23T17:40:34.803Z"
   },
   {
    "duration": 61,
    "start_time": "2022-01-23T17:40:52.488Z"
   },
   {
    "duration": 3,
    "start_time": "2022-01-23T19:04:01.491Z"
   },
   {
    "duration": 3,
    "start_time": "2022-01-23T19:04:08.625Z"
   },
   {
    "duration": 57,
    "start_time": "2022-01-23T19:04:21.794Z"
   },
   {
    "duration": 3,
    "start_time": "2022-01-23T19:04:24.449Z"
   },
   {
    "duration": 4,
    "start_time": "2022-01-23T19:04:54.686Z"
   },
   {
    "duration": 374,
    "start_time": "2022-01-23T19:05:07.669Z"
   },
   {
    "duration": 4,
    "start_time": "2022-01-23T19:05:22.322Z"
   },
   {
    "duration": 327,
    "start_time": "2022-01-23T19:05:34.850Z"
   },
   {
    "duration": 3,
    "start_time": "2022-01-23T19:05:44.561Z"
   },
   {
    "duration": 662,
    "start_time": "2022-01-23T19:07:19.197Z"
   },
   {
    "duration": 3,
    "start_time": "2022-01-23T19:07:28.211Z"
   },
   {
    "duration": 433,
    "start_time": "2022-01-23T19:07:33.323Z"
   },
   {
    "duration": 319,
    "start_time": "2022-01-23T19:09:08.254Z"
   },
   {
    "duration": 2046,
    "start_time": "2022-01-23T19:10:04.375Z"
   },
   {
    "duration": 5,
    "start_time": "2022-01-23T19:10:16.983Z"
   },
   {
    "duration": 1707,
    "start_time": "2022-01-23T19:10:19.289Z"
   },
   {
    "duration": 639,
    "start_time": "2022-01-23T19:11:43.570Z"
   },
   {
    "duration": 354,
    "start_time": "2022-01-23T19:11:50.292Z"
   },
   {
    "duration": 319,
    "start_time": "2022-01-23T19:12:42.819Z"
   },
   {
    "duration": 4,
    "start_time": "2022-01-23T19:12:53.332Z"
   },
   {
    "duration": 683,
    "start_time": "2022-01-23T19:12:55.771Z"
   },
   {
    "duration": 531,
    "start_time": "2022-01-23T19:13:18.380Z"
   },
   {
    "duration": 119,
    "start_time": "2022-01-23T19:13:20.041Z"
   },
   {
    "duration": 16,
    "start_time": "2022-01-23T19:13:21.480Z"
   },
   {
    "duration": 23,
    "start_time": "2022-01-23T19:13:26.923Z"
   },
   {
    "duration": 4,
    "start_time": "2022-01-23T19:13:29.973Z"
   },
   {
    "duration": 18,
    "start_time": "2022-01-23T19:13:34.380Z"
   },
   {
    "duration": 3,
    "start_time": "2022-01-23T19:14:16.410Z"
   },
   {
    "duration": 36,
    "start_time": "2022-01-23T19:14:21.148Z"
   },
   {
    "duration": 16,
    "start_time": "2022-01-23T19:14:24.716Z"
   },
   {
    "duration": 36,
    "start_time": "2022-01-23T19:14:31.727Z"
   },
   {
    "duration": 52,
    "start_time": "2022-01-23T19:14:34.143Z"
   },
   {
    "duration": 60,
    "start_time": "2022-01-23T19:14:36.167Z"
   },
   {
    "duration": 45,
    "start_time": "2022-01-23T19:14:37.866Z"
   },
   {
    "duration": 45,
    "start_time": "2022-01-23T19:14:40.327Z"
   },
   {
    "duration": 3,
    "start_time": "2022-01-23T19:14:44.641Z"
   },
   {
    "duration": 14,
    "start_time": "2022-01-23T19:14:46.390Z"
   },
   {
    "duration": 46,
    "start_time": "2022-01-23T19:14:48.247Z"
   },
   {
    "duration": 36,
    "start_time": "2022-01-23T19:14:52.020Z"
   },
   {
    "duration": 63,
    "start_time": "2022-01-23T19:14:54.435Z"
   },
   {
    "duration": 4,
    "start_time": "2022-01-23T19:14:58.326Z"
   },
   {
    "duration": 17,
    "start_time": "2022-01-23T19:15:04.009Z"
   },
   {
    "duration": 14,
    "start_time": "2022-01-23T19:15:08.051Z"
   },
   {
    "duration": 15,
    "start_time": "2022-01-23T19:15:09.843Z"
   },
   {
    "duration": 14,
    "start_time": "2022-01-23T19:15:11.505Z"
   },
   {
    "duration": 17,
    "start_time": "2022-01-23T19:15:13.307Z"
   },
   {
    "duration": 13,
    "start_time": "2022-01-23T19:15:16.175Z"
   },
   {
    "duration": 59,
    "start_time": "2022-01-23T19:22:05.703Z"
   },
   {
    "duration": 325,
    "start_time": "2022-01-24T04:47:54.931Z"
   },
   {
    "duration": 560,
    "start_time": "2022-01-24T04:48:13.810Z"
   },
   {
    "duration": 118,
    "start_time": "2022-01-24T04:48:14.372Z"
   },
   {
    "duration": 15,
    "start_time": "2022-01-24T04:48:14.492Z"
   },
   {
    "duration": 21,
    "start_time": "2022-01-24T04:48:14.509Z"
   },
   {
    "duration": 3,
    "start_time": "2022-01-24T04:48:14.532Z"
   },
   {
    "duration": 36,
    "start_time": "2022-01-24T04:48:14.536Z"
   },
   {
    "duration": 3,
    "start_time": "2022-01-24T04:48:14.574Z"
   },
   {
    "duration": 36,
    "start_time": "2022-01-24T04:48:14.580Z"
   },
   {
    "duration": 14,
    "start_time": "2022-01-24T04:48:14.618Z"
   },
   {
    "duration": 49,
    "start_time": "2022-01-24T04:48:14.633Z"
   },
   {
    "duration": 52,
    "start_time": "2022-01-24T04:48:14.684Z"
   },
   {
    "duration": 80,
    "start_time": "2022-01-24T04:48:14.738Z"
   },
   {
    "duration": 46,
    "start_time": "2022-01-24T04:48:14.820Z"
   },
   {
    "duration": 43,
    "start_time": "2022-01-24T04:48:14.872Z"
   },
   {
    "duration": 2,
    "start_time": "2022-01-24T04:48:14.917Z"
   },
   {
    "duration": 14,
    "start_time": "2022-01-24T04:48:14.921Z"
   },
   {
    "duration": 70,
    "start_time": "2022-01-24T04:48:14.937Z"
   },
   {
    "duration": 41,
    "start_time": "2022-01-24T04:48:15.009Z"
   },
   {
    "duration": 76,
    "start_time": "2022-01-24T04:48:15.052Z"
   },
   {
    "duration": 3,
    "start_time": "2022-01-24T04:48:15.130Z"
   },
   {
    "duration": 17,
    "start_time": "2022-01-24T04:48:15.135Z"
   },
   {
    "duration": 15,
    "start_time": "2022-01-24T04:48:15.172Z"
   },
   {
    "duration": 15,
    "start_time": "2022-01-24T04:48:15.191Z"
   },
   {
    "duration": 14,
    "start_time": "2022-01-24T04:48:15.208Z"
   },
   {
    "duration": 48,
    "start_time": "2022-01-24T04:48:15.224Z"
   },
   {
    "duration": 16,
    "start_time": "2022-01-24T04:48:15.274Z"
   },
   {
    "duration": 83,
    "start_time": "2022-01-24T04:48:15.292Z"
   },
   {
    "duration": 3,
    "start_time": "2022-01-24T04:48:15.377Z"
   },
   {
    "duration": 3,
    "start_time": "2022-01-24T04:48:15.382Z"
   },
   {
    "duration": 5,
    "start_time": "2022-01-24T04:48:15.387Z"
   },
   {
    "duration": 6,
    "start_time": "2022-01-24T04:48:15.393Z"
   },
   {
    "duration": 3,
    "start_time": "2022-01-24T04:48:15.401Z"
   },
   {
    "duration": 8,
    "start_time": "2022-01-24T04:48:15.406Z"
   },
   {
    "duration": 8,
    "start_time": "2022-01-24T04:48:15.415Z"
   },
   {
    "duration": 7,
    "start_time": "2022-01-24T04:48:15.425Z"
   },
   {
    "duration": 10,
    "start_time": "2022-01-24T04:48:15.434Z"
   },
   {
    "duration": 8,
    "start_time": "2022-01-24T04:48:15.446Z"
   },
   {
    "duration": 16,
    "start_time": "2022-01-24T04:48:15.456Z"
   },
   {
    "duration": 16,
    "start_time": "2022-01-24T05:33:17.997Z"
   },
   {
    "duration": 23,
    "start_time": "2022-01-24T05:34:02.002Z"
   },
   {
    "duration": 17,
    "start_time": "2022-01-24T05:41:02.282Z"
   },
   {
    "duration": 37,
    "start_time": "2022-01-24T05:43:35.292Z"
   },
   {
    "duration": 4,
    "start_time": "2022-01-24T05:57:31.964Z"
   },
   {
    "duration": 19,
    "start_time": "2022-01-24T06:00:24.647Z"
   },
   {
    "duration": 18,
    "start_time": "2022-01-24T06:00:52.940Z"
   },
   {
    "duration": 2,
    "start_time": "2022-01-24T06:00:53.973Z"
   },
   {
    "duration": 18,
    "start_time": "2022-01-24T06:00:55.389Z"
   },
   {
    "duration": -10,
    "start_time": "2022-01-24T06:01:06.130Z"
   },
   {
    "duration": -21,
    "start_time": "2022-01-24T06:01:06.142Z"
   },
   {
    "duration": -33,
    "start_time": "2022-01-24T06:01:06.155Z"
   },
   {
    "duration": -41,
    "start_time": "2022-01-24T06:01:06.164Z"
   },
   {
    "duration": -45,
    "start_time": "2022-01-24T06:01:06.169Z"
   },
   {
    "duration": -47,
    "start_time": "2022-01-24T06:01:06.172Z"
   },
   {
    "duration": -52,
    "start_time": "2022-01-24T06:01:06.177Z"
   },
   {
    "duration": -55,
    "start_time": "2022-01-24T06:01:06.181Z"
   },
   {
    "duration": -57,
    "start_time": "2022-01-24T06:01:06.184Z"
   },
   {
    "duration": -61,
    "start_time": "2022-01-24T06:01:06.189Z"
   },
   {
    "duration": -64,
    "start_time": "2022-01-24T06:01:06.193Z"
   },
   {
    "duration": -68,
    "start_time": "2022-01-24T06:01:06.198Z"
   },
   {
    "duration": -71,
    "start_time": "2022-01-24T06:01:06.202Z"
   },
   {
    "duration": -75,
    "start_time": "2022-01-24T06:01:06.206Z"
   },
   {
    "duration": -80,
    "start_time": "2022-01-24T06:01:06.212Z"
   },
   {
    "duration": -82,
    "start_time": "2022-01-24T06:01:06.215Z"
   },
   {
    "duration": -84,
    "start_time": "2022-01-24T06:01:06.218Z"
   },
   {
    "duration": -87,
    "start_time": "2022-01-24T06:01:06.222Z"
   },
   {
    "duration": 336,
    "start_time": "2022-01-24T06:01:06.232Z"
   },
   {
    "duration": -33,
    "start_time": "2022-01-24T06:01:06.604Z"
   },
   {
    "duration": -40,
    "start_time": "2022-01-24T06:01:06.612Z"
   },
   {
    "duration": -43,
    "start_time": "2022-01-24T06:01:06.615Z"
   },
   {
    "duration": -46,
    "start_time": "2022-01-24T06:01:06.619Z"
   },
   {
    "duration": -48,
    "start_time": "2022-01-24T06:01:06.622Z"
   },
   {
    "duration": -53,
    "start_time": "2022-01-24T06:01:06.628Z"
   },
   {
    "duration": -55,
    "start_time": "2022-01-24T06:01:06.631Z"
   },
   {
    "duration": -58,
    "start_time": "2022-01-24T06:01:06.635Z"
   },
   {
    "duration": -61,
    "start_time": "2022-01-24T06:01:06.638Z"
   },
   {
    "duration": -65,
    "start_time": "2022-01-24T06:01:06.643Z"
   },
   {
    "duration": -68,
    "start_time": "2022-01-24T06:01:06.647Z"
   },
   {
    "duration": -71,
    "start_time": "2022-01-24T06:01:06.651Z"
   },
   {
    "duration": -74,
    "start_time": "2022-01-24T06:01:06.655Z"
   },
   {
    "duration": -78,
    "start_time": "2022-01-24T06:01:06.660Z"
   },
   {
    "duration": -81,
    "start_time": "2022-01-24T06:01:06.664Z"
   },
   {
    "duration": -86,
    "start_time": "2022-01-24T06:01:06.670Z"
   },
   {
    "duration": -90,
    "start_time": "2022-01-24T06:01:06.675Z"
   },
   {
    "duration": -94,
    "start_time": "2022-01-24T06:01:06.680Z"
   },
   {
    "duration": -96,
    "start_time": "2022-01-24T06:01:06.683Z"
   },
   {
    "duration": 322,
    "start_time": "2022-01-24T06:01:12.672Z"
   },
   {
    "duration": 609,
    "start_time": "2022-01-24T06:01:29.463Z"
   },
   {
    "duration": 133,
    "start_time": "2022-01-24T06:01:30.074Z"
   },
   {
    "duration": 16,
    "start_time": "2022-01-24T06:01:30.209Z"
   },
   {
    "duration": 28,
    "start_time": "2022-01-24T06:01:30.227Z"
   },
   {
    "duration": 10,
    "start_time": "2022-01-24T06:01:30.256Z"
   },
   {
    "duration": 21,
    "start_time": "2022-01-24T06:01:30.267Z"
   },
   {
    "duration": 3,
    "start_time": "2022-01-24T06:01:30.290Z"
   },
   {
    "duration": 39,
    "start_time": "2022-01-24T06:01:30.295Z"
   },
   {
    "duration": 36,
    "start_time": "2022-01-24T06:01:30.337Z"
   },
   {
    "duration": 40,
    "start_time": "2022-01-24T06:01:30.375Z"
   },
   {
    "duration": 68,
    "start_time": "2022-01-24T06:01:30.416Z"
   },
   {
    "duration": 59,
    "start_time": "2022-01-24T06:01:30.486Z"
   },
   {
    "duration": 72,
    "start_time": "2022-01-24T06:01:30.547Z"
   },
   {
    "duration": 55,
    "start_time": "2022-01-24T06:01:30.620Z"
   },
   {
    "duration": 3,
    "start_time": "2022-01-24T06:01:30.677Z"
   },
   {
    "duration": 20,
    "start_time": "2022-01-24T06:01:30.682Z"
   },
   {
    "duration": 48,
    "start_time": "2022-01-24T06:01:30.704Z"
   },
   {
    "duration": 58,
    "start_time": "2022-01-24T06:01:30.753Z"
   },
   {
    "duration": 81,
    "start_time": "2022-01-24T06:01:30.813Z"
   },
   {
    "duration": 3,
    "start_time": "2022-01-24T06:01:30.896Z"
   },
   {
    "duration": 22,
    "start_time": "2022-01-24T06:01:30.900Z"
   },
   {
    "duration": 16,
    "start_time": "2022-01-24T06:01:30.924Z"
   },
   {
    "duration": 37,
    "start_time": "2022-01-24T06:01:30.942Z"
   },
   {
    "duration": 18,
    "start_time": "2022-01-24T06:01:30.981Z"
   },
   {
    "duration": 22,
    "start_time": "2022-01-24T06:01:31.000Z"
   },
   {
    "duration": 14,
    "start_time": "2022-01-24T06:01:31.024Z"
   },
   {
    "duration": 77,
    "start_time": "2022-01-24T06:01:31.071Z"
   },
   {
    "duration": 24,
    "start_time": "2022-01-24T06:01:31.150Z"
   },
   {
    "duration": 9,
    "start_time": "2022-01-24T06:01:31.175Z"
   },
   {
    "duration": 4,
    "start_time": "2022-01-24T06:01:31.186Z"
   },
   {
    "duration": 33,
    "start_time": "2022-01-24T06:01:31.192Z"
   },
   {
    "duration": 3,
    "start_time": "2022-01-24T06:01:31.227Z"
   },
   {
    "duration": 20,
    "start_time": "2022-01-24T06:01:31.232Z"
   },
   {
    "duration": 10,
    "start_time": "2022-01-24T06:01:31.254Z"
   },
   {
    "duration": 11,
    "start_time": "2022-01-24T06:01:31.266Z"
   },
   {
    "duration": 11,
    "start_time": "2022-01-24T06:01:31.278Z"
   },
   {
    "duration": 9,
    "start_time": "2022-01-24T06:01:31.291Z"
   },
   {
    "duration": 8,
    "start_time": "2022-01-24T06:01:31.302Z"
   },
   {
    "duration": 27,
    "start_time": "2022-01-24T06:02:34.296Z"
   },
   {
    "duration": 2,
    "start_time": "2022-01-24T06:02:35.457Z"
   },
   {
    "duration": 866,
    "start_time": "2022-01-24T06:02:49.884Z"
   },
   {
    "duration": -48,
    "start_time": "2022-01-24T06:02:50.801Z"
   },
   {
    "duration": -51,
    "start_time": "2022-01-24T06:02:50.805Z"
   },
   {
    "duration": -54,
    "start_time": "2022-01-24T06:02:50.809Z"
   },
   {
    "duration": -56,
    "start_time": "2022-01-24T06:02:50.812Z"
   },
   {
    "duration": -59,
    "start_time": "2022-01-24T06:02:50.816Z"
   },
   {
    "duration": -62,
    "start_time": "2022-01-24T06:02:50.820Z"
   },
   {
    "duration": -64,
    "start_time": "2022-01-24T06:02:50.823Z"
   },
   {
    "duration": -68,
    "start_time": "2022-01-24T06:02:50.828Z"
   },
   {
    "duration": -70,
    "start_time": "2022-01-24T06:02:50.831Z"
   },
   {
    "duration": -73,
    "start_time": "2022-01-24T06:02:50.835Z"
   },
   {
    "duration": -75,
    "start_time": "2022-01-24T06:02:50.838Z"
   },
   {
    "duration": -78,
    "start_time": "2022-01-24T06:02:50.842Z"
   },
   {
    "duration": -82,
    "start_time": "2022-01-24T06:02:50.847Z"
   },
   {
    "duration": -86,
    "start_time": "2022-01-24T06:02:50.852Z"
   },
   {
    "duration": -88,
    "start_time": "2022-01-24T06:02:50.855Z"
   },
   {
    "duration": -93,
    "start_time": "2022-01-24T06:02:50.860Z"
   },
   {
    "duration": -96,
    "start_time": "2022-01-24T06:02:50.864Z"
   },
   {
    "duration": -100,
    "start_time": "2022-01-24T06:02:50.869Z"
   },
   {
    "duration": -104,
    "start_time": "2022-01-24T06:02:50.874Z"
   },
   {
    "duration": -107,
    "start_time": "2022-01-24T06:02:50.878Z"
   },
   {
    "duration": -110,
    "start_time": "2022-01-24T06:02:50.881Z"
   },
   {
    "duration": -145,
    "start_time": "2022-01-24T06:02:50.917Z"
   },
   {
    "duration": -151,
    "start_time": "2022-01-24T06:02:50.924Z"
   },
   {
    "duration": -154,
    "start_time": "2022-01-24T06:02:50.928Z"
   },
   {
    "duration": -158,
    "start_time": "2022-01-24T06:02:50.932Z"
   },
   {
    "duration": -162,
    "start_time": "2022-01-24T06:02:50.937Z"
   },
   {
    "duration": -166,
    "start_time": "2022-01-24T06:02:50.942Z"
   },
   {
    "duration": -169,
    "start_time": "2022-01-24T06:02:50.946Z"
   },
   {
    "duration": -173,
    "start_time": "2022-01-24T06:02:50.951Z"
   },
   {
    "duration": -177,
    "start_time": "2022-01-24T06:02:50.955Z"
   },
   {
    "duration": -179,
    "start_time": "2022-01-24T06:02:50.958Z"
   },
   {
    "duration": -181,
    "start_time": "2022-01-24T06:02:50.961Z"
   },
   {
    "duration": -183,
    "start_time": "2022-01-24T06:02:50.964Z"
   },
   {
    "duration": -185,
    "start_time": "2022-01-24T06:02:50.967Z"
   },
   {
    "duration": -189,
    "start_time": "2022-01-24T06:02:50.972Z"
   },
   {
    "duration": -190,
    "start_time": "2022-01-24T06:02:50.974Z"
   },
   {
    "duration": -193,
    "start_time": "2022-01-24T06:02:50.978Z"
   },
   {
    "duration": 324,
    "start_time": "2022-01-24T06:02:58.006Z"
   },
   {
    "duration": 552,
    "start_time": "2022-01-24T06:03:04.609Z"
   },
   {
    "duration": 122,
    "start_time": "2022-01-24T06:03:05.163Z"
   },
   {
    "duration": 17,
    "start_time": "2022-01-24T06:03:05.288Z"
   },
   {
    "duration": 36,
    "start_time": "2022-01-24T06:03:05.307Z"
   },
   {
    "duration": 6,
    "start_time": "2022-01-24T06:03:05.345Z"
   },
   {
    "duration": 33,
    "start_time": "2022-01-24T06:03:05.352Z"
   },
   {
    "duration": 15,
    "start_time": "2022-01-24T06:03:05.387Z"
   },
   {
    "duration": 44,
    "start_time": "2022-01-24T06:03:05.403Z"
   },
   {
    "duration": 23,
    "start_time": "2022-01-24T06:03:05.450Z"
   },
   {
    "duration": 40,
    "start_time": "2022-01-24T06:03:05.476Z"
   },
   {
    "duration": 71,
    "start_time": "2022-01-24T06:03:05.518Z"
   },
   {
    "duration": 66,
    "start_time": "2022-01-24T06:03:05.590Z"
   },
   {
    "duration": 55,
    "start_time": "2022-01-24T06:03:05.658Z"
   },
   {
    "duration": 45,
    "start_time": "2022-01-24T06:03:05.715Z"
   },
   {
    "duration": 3,
    "start_time": "2022-01-24T06:03:05.772Z"
   },
   {
    "duration": 24,
    "start_time": "2022-01-24T06:03:05.776Z"
   },
   {
    "duration": 49,
    "start_time": "2022-01-24T06:03:05.802Z"
   },
   {
    "duration": 45,
    "start_time": "2022-01-24T06:03:05.853Z"
   },
   {
    "duration": 78,
    "start_time": "2022-01-24T06:03:05.900Z"
   },
   {
    "duration": 3,
    "start_time": "2022-01-24T06:03:05.980Z"
   },
   {
    "duration": 27,
    "start_time": "2022-01-24T06:03:05.984Z"
   },
   {
    "duration": 16,
    "start_time": "2022-01-24T06:03:06.013Z"
   },
   {
    "duration": 26,
    "start_time": "2022-01-24T06:03:06.030Z"
   },
   {
    "duration": 16,
    "start_time": "2022-01-24T06:03:06.058Z"
   },
   {
    "duration": 22,
    "start_time": "2022-01-24T06:03:06.076Z"
   },
   {
    "duration": 22,
    "start_time": "2022-01-24T06:03:06.100Z"
   },
   {
    "duration": 68,
    "start_time": "2022-01-24T06:03:06.125Z"
   },
   {
    "duration": 10,
    "start_time": "2022-01-24T06:03:06.195Z"
   },
   {
    "duration": 22,
    "start_time": "2022-01-24T06:03:06.206Z"
   },
   {
    "duration": 18,
    "start_time": "2022-01-24T06:03:06.229Z"
   },
   {
    "duration": 46,
    "start_time": "2022-01-24T06:03:06.249Z"
   },
   {
    "duration": 4,
    "start_time": "2022-01-24T06:03:06.296Z"
   },
   {
    "duration": 8,
    "start_time": "2022-01-24T06:03:06.302Z"
   },
   {
    "duration": 16,
    "start_time": "2022-01-24T06:03:06.311Z"
   },
   {
    "duration": 18,
    "start_time": "2022-01-24T06:03:06.328Z"
   },
   {
    "duration": 20,
    "start_time": "2022-01-24T06:03:06.348Z"
   },
   {
    "duration": 11,
    "start_time": "2022-01-24T06:03:06.370Z"
   },
   {
    "duration": 5,
    "start_time": "2022-01-24T06:03:06.382Z"
   },
   {
    "duration": 18,
    "start_time": "2022-01-24T06:18:52.206Z"
   },
   {
    "duration": 14,
    "start_time": "2022-01-24T06:19:28.869Z"
   },
   {
    "duration": 15,
    "start_time": "2022-01-24T06:19:59.212Z"
   },
   {
    "duration": 13,
    "start_time": "2022-01-24T06:20:13.864Z"
   },
   {
    "duration": 445,
    "start_time": "2022-01-24T06:27:21.404Z"
   },
   {
    "duration": 570,
    "start_time": "2022-01-24T06:27:34.301Z"
   },
   {
    "duration": 135,
    "start_time": "2022-01-24T06:27:34.873Z"
   },
   {
    "duration": 16,
    "start_time": "2022-01-24T06:27:35.013Z"
   },
   {
    "duration": 42,
    "start_time": "2022-01-24T06:27:35.030Z"
   },
   {
    "duration": 4,
    "start_time": "2022-01-24T06:27:35.074Z"
   },
   {
    "duration": 20,
    "start_time": "2022-01-24T06:27:35.080Z"
   },
   {
    "duration": 5,
    "start_time": "2022-01-24T06:27:35.101Z"
   },
   {
    "duration": 66,
    "start_time": "2022-01-24T06:27:35.110Z"
   },
   {
    "duration": 18,
    "start_time": "2022-01-24T06:27:35.179Z"
   },
   {
    "duration": 39,
    "start_time": "2022-01-24T06:27:35.199Z"
   },
   {
    "duration": 79,
    "start_time": "2022-01-24T06:27:35.240Z"
   },
   {
    "duration": 77,
    "start_time": "2022-01-24T06:27:35.321Z"
   },
   {
    "duration": 50,
    "start_time": "2022-01-24T06:27:35.399Z"
   },
   {
    "duration": 59,
    "start_time": "2022-01-24T06:27:35.451Z"
   },
   {
    "duration": 3,
    "start_time": "2022-01-24T06:27:35.512Z"
   },
   {
    "duration": 21,
    "start_time": "2022-01-24T06:27:35.516Z"
   },
   {
    "duration": 56,
    "start_time": "2022-01-24T06:27:35.539Z"
   },
   {
    "duration": 39,
    "start_time": "2022-01-24T06:27:35.597Z"
   },
   {
    "duration": 79,
    "start_time": "2022-01-24T06:27:35.637Z"
   },
   {
    "duration": 2,
    "start_time": "2022-01-24T06:27:35.718Z"
   },
   {
    "duration": 18,
    "start_time": "2022-01-24T06:27:35.722Z"
   },
   {
    "duration": 32,
    "start_time": "2022-01-24T06:27:35.741Z"
   },
   {
    "duration": 14,
    "start_time": "2022-01-24T06:27:35.775Z"
   },
   {
    "duration": 13,
    "start_time": "2022-01-24T06:27:35.790Z"
   },
   {
    "duration": 16,
    "start_time": "2022-01-24T06:27:35.804Z"
   },
   {
    "duration": 12,
    "start_time": "2022-01-24T06:27:35.824Z"
   },
   {
    "duration": 91,
    "start_time": "2022-01-24T06:27:35.838Z"
   },
   {
    "duration": 10,
    "start_time": "2022-01-24T06:27:35.931Z"
   },
   {
    "duration": 9,
    "start_time": "2022-01-24T06:27:35.942Z"
   },
   {
    "duration": 20,
    "start_time": "2022-01-24T06:27:35.953Z"
   },
   {
    "duration": 22,
    "start_time": "2022-01-24T06:27:35.975Z"
   },
   {
    "duration": 13,
    "start_time": "2022-01-24T06:27:35.999Z"
   },
   {
    "duration": 18,
    "start_time": "2022-01-24T06:27:36.014Z"
   },
   {
    "duration": 11,
    "start_time": "2022-01-24T06:27:36.033Z"
   },
   {
    "duration": 445,
    "start_time": "2022-01-24T06:27:36.045Z"
   },
   {
    "duration": -24,
    "start_time": "2022-01-24T06:27:36.516Z"
   },
   {
    "duration": -36,
    "start_time": "2022-01-24T06:27:36.529Z"
   },
   {
    "duration": -48,
    "start_time": "2022-01-24T06:27:36.542Z"
   },
   {
    "duration": 547,
    "start_time": "2022-01-24T06:31:02.442Z"
   },
   {
    "duration": 414,
    "start_time": "2022-01-24T06:31:35.033Z"
   },
   {
    "duration": 564,
    "start_time": "2022-01-24T06:31:45.798Z"
   },
   {
    "duration": 131,
    "start_time": "2022-01-24T06:31:46.364Z"
   },
   {
    "duration": 16,
    "start_time": "2022-01-24T06:31:46.496Z"
   },
   {
    "duration": 22,
    "start_time": "2022-01-24T06:31:46.513Z"
   },
   {
    "duration": 4,
    "start_time": "2022-01-24T06:31:46.537Z"
   },
   {
    "duration": 39,
    "start_time": "2022-01-24T06:31:46.542Z"
   },
   {
    "duration": 4,
    "start_time": "2022-01-24T06:31:46.582Z"
   },
   {
    "duration": 36,
    "start_time": "2022-01-24T06:31:46.588Z"
   },
   {
    "duration": 14,
    "start_time": "2022-01-24T06:31:46.626Z"
   },
   {
    "duration": 57,
    "start_time": "2022-01-24T06:31:46.642Z"
   },
   {
    "duration": 54,
    "start_time": "2022-01-24T06:31:46.701Z"
   },
   {
    "duration": 71,
    "start_time": "2022-01-24T06:31:46.756Z"
   },
   {
    "duration": 62,
    "start_time": "2022-01-24T06:31:46.828Z"
   },
   {
    "duration": 46,
    "start_time": "2022-01-24T06:31:46.892Z"
   },
   {
    "duration": 4,
    "start_time": "2022-01-24T06:31:46.940Z"
   },
   {
    "duration": 31,
    "start_time": "2022-01-24T06:31:46.945Z"
   },
   {
    "duration": 44,
    "start_time": "2022-01-24T06:31:46.978Z"
   },
   {
    "duration": 34,
    "start_time": "2022-01-24T06:31:47.024Z"
   },
   {
    "duration": 59,
    "start_time": "2022-01-24T06:31:47.071Z"
   },
   {
    "duration": 3,
    "start_time": "2022-01-24T06:31:47.131Z"
   },
   {
    "duration": 16,
    "start_time": "2022-01-24T06:31:47.136Z"
   },
   {
    "duration": 25,
    "start_time": "2022-01-24T06:31:47.154Z"
   },
   {
    "duration": 14,
    "start_time": "2022-01-24T06:31:47.182Z"
   },
   {
    "duration": 13,
    "start_time": "2022-01-24T06:31:47.198Z"
   },
   {
    "duration": 15,
    "start_time": "2022-01-24T06:31:47.213Z"
   },
   {
    "duration": 45,
    "start_time": "2022-01-24T06:31:47.230Z"
   },
   {
    "duration": 64,
    "start_time": "2022-01-24T06:31:47.277Z"
   },
   {
    "duration": 9,
    "start_time": "2022-01-24T06:31:47.343Z"
   },
   {
    "duration": 9,
    "start_time": "2022-01-24T06:31:47.372Z"
   },
   {
    "duration": 4,
    "start_time": "2022-01-24T06:31:47.383Z"
   },
   {
    "duration": 20,
    "start_time": "2022-01-24T06:31:47.388Z"
   },
   {
    "duration": 12,
    "start_time": "2022-01-24T06:31:47.410Z"
   },
   {
    "duration": 15,
    "start_time": "2022-01-24T06:31:47.423Z"
   },
   {
    "duration": 35,
    "start_time": "2022-01-24T06:31:47.440Z"
   },
   {
    "duration": 365,
    "start_time": "2022-01-24T06:31:47.476Z"
   },
   {
    "duration": -23,
    "start_time": "2022-01-24T06:31:47.866Z"
   },
   {
    "duration": -28,
    "start_time": "2022-01-24T06:31:47.872Z"
   },
   {
    "duration": -36,
    "start_time": "2022-01-24T06:31:47.882Z"
   },
   {
    "duration": 17,
    "start_time": "2022-01-24T07:27:11.167Z"
   },
   {
    "duration": 12,
    "start_time": "2022-01-24T07:27:14.479Z"
   },
   {
    "duration": 13,
    "start_time": "2022-01-24T07:27:17.384Z"
   },
   {
    "duration": 359,
    "start_time": "2022-01-24T07:27:20.261Z"
   },
   {
    "duration": 19,
    "start_time": "2022-01-24T07:28:54.558Z"
   },
   {
    "duration": 350,
    "start_time": "2022-01-24T07:29:00.319Z"
   },
   {
    "duration": 22,
    "start_time": "2022-01-24T07:51:54.136Z"
   },
   {
    "duration": 22,
    "start_time": "2022-01-24T07:51:58.135Z"
   },
   {
    "duration": 8,
    "start_time": "2022-01-24T07:52:32.358Z"
   },
   {
    "duration": 623,
    "start_time": "2022-01-24T07:54:41.348Z"
   },
   {
    "duration": 132,
    "start_time": "2022-01-24T07:54:41.973Z"
   },
   {
    "duration": 16,
    "start_time": "2022-01-24T07:54:42.107Z"
   },
   {
    "duration": 23,
    "start_time": "2022-01-24T07:54:42.124Z"
   },
   {
    "duration": 3,
    "start_time": "2022-01-24T07:54:42.149Z"
   },
   {
    "duration": 33,
    "start_time": "2022-01-24T07:54:42.153Z"
   },
   {
    "duration": 3,
    "start_time": "2022-01-24T07:54:42.188Z"
   },
   {
    "duration": 37,
    "start_time": "2022-01-24T07:54:42.193Z"
   },
   {
    "duration": 17,
    "start_time": "2022-01-24T07:54:42.232Z"
   },
   {
    "duration": 53,
    "start_time": "2022-01-24T07:54:42.251Z"
   },
   {
    "duration": 70,
    "start_time": "2022-01-24T07:54:42.306Z"
   },
   {
    "duration": 65,
    "start_time": "2022-01-24T07:54:42.378Z"
   },
   {
    "duration": 64,
    "start_time": "2022-01-24T07:54:42.445Z"
   },
   {
    "duration": 50,
    "start_time": "2022-01-24T07:54:42.510Z"
   },
   {
    "duration": 11,
    "start_time": "2022-01-24T07:54:42.562Z"
   },
   {
    "duration": 19,
    "start_time": "2022-01-24T07:54:42.574Z"
   },
   {
    "duration": 47,
    "start_time": "2022-01-24T07:54:42.594Z"
   },
   {
    "duration": 52,
    "start_time": "2022-01-24T07:54:42.643Z"
   },
   {
    "duration": 62,
    "start_time": "2022-01-24T07:54:42.697Z"
   },
   {
    "duration": 12,
    "start_time": "2022-01-24T07:54:42.760Z"
   },
   {
    "duration": 16,
    "start_time": "2022-01-24T07:54:42.773Z"
   },
   {
    "duration": 13,
    "start_time": "2022-01-24T07:54:42.790Z"
   },
   {
    "duration": 13,
    "start_time": "2022-01-24T07:54:42.804Z"
   },
   {
    "duration": 12,
    "start_time": "2022-01-24T07:54:42.819Z"
   },
   {
    "duration": 50,
    "start_time": "2022-01-24T07:54:42.832Z"
   },
   {
    "duration": 13,
    "start_time": "2022-01-24T07:54:42.883Z"
   },
   {
    "duration": 81,
    "start_time": "2022-01-24T07:54:42.899Z"
   },
   {
    "duration": 10,
    "start_time": "2022-01-24T07:54:42.982Z"
   },
   {
    "duration": 9,
    "start_time": "2022-01-24T07:54:42.994Z"
   },
   {
    "duration": 4,
    "start_time": "2022-01-24T07:54:43.005Z"
   },
   {
    "duration": 21,
    "start_time": "2022-01-24T07:54:43.011Z"
   },
   {
    "duration": 39,
    "start_time": "2022-01-24T07:54:43.033Z"
   },
   {
    "duration": 15,
    "start_time": "2022-01-24T07:54:43.074Z"
   },
   {
    "duration": 10,
    "start_time": "2022-01-24T07:54:43.091Z"
   },
   {
    "duration": 22,
    "start_time": "2022-01-24T07:54:43.103Z"
   },
   {
    "duration": 8,
    "start_time": "2022-01-24T07:54:43.126Z"
   },
   {
    "duration": 6,
    "start_time": "2022-01-24T07:54:43.135Z"
   },
   {
    "duration": 30,
    "start_time": "2022-01-24T07:54:43.142Z"
   },
   {
    "duration": 22,
    "start_time": "2022-01-24T07:58:08.939Z"
   },
   {
    "duration": 546,
    "start_time": "2022-01-24T07:58:19.017Z"
   },
   {
    "duration": 131,
    "start_time": "2022-01-24T07:58:19.565Z"
   },
   {
    "duration": 17,
    "start_time": "2022-01-24T07:58:19.698Z"
   },
   {
    "duration": 24,
    "start_time": "2022-01-24T07:58:19.717Z"
   },
   {
    "duration": 4,
    "start_time": "2022-01-24T07:58:19.743Z"
   },
   {
    "duration": 21,
    "start_time": "2022-01-24T07:58:19.772Z"
   },
   {
    "duration": 5,
    "start_time": "2022-01-24T07:58:19.795Z"
   },
   {
    "duration": 39,
    "start_time": "2022-01-24T07:58:19.802Z"
   },
   {
    "duration": 39,
    "start_time": "2022-01-24T07:58:19.845Z"
   },
   {
    "duration": 36,
    "start_time": "2022-01-24T07:58:19.886Z"
   },
   {
    "duration": 69,
    "start_time": "2022-01-24T07:58:19.924Z"
   },
   {
    "duration": 81,
    "start_time": "2022-01-24T07:58:19.994Z"
   },
   {
    "duration": 48,
    "start_time": "2022-01-24T07:58:20.077Z"
   },
   {
    "duration": 57,
    "start_time": "2022-01-24T07:58:20.126Z"
   },
   {
    "duration": 3,
    "start_time": "2022-01-24T07:58:20.184Z"
   },
   {
    "duration": 15,
    "start_time": "2022-01-24T07:58:20.188Z"
   },
   {
    "duration": 44,
    "start_time": "2022-01-24T07:58:20.205Z"
   },
   {
    "duration": 55,
    "start_time": "2022-01-24T07:58:20.251Z"
   },
   {
    "duration": 78,
    "start_time": "2022-01-24T07:58:20.308Z"
   },
   {
    "duration": 3,
    "start_time": "2022-01-24T07:58:20.387Z"
   },
   {
    "duration": 17,
    "start_time": "2022-01-24T07:58:20.392Z"
   },
   {
    "duration": 14,
    "start_time": "2022-01-24T07:58:20.410Z"
   },
   {
    "duration": 13,
    "start_time": "2022-01-24T07:58:20.425Z"
   },
   {
    "duration": 41,
    "start_time": "2022-01-24T07:58:20.440Z"
   },
   {
    "duration": 16,
    "start_time": "2022-01-24T07:58:20.482Z"
   },
   {
    "duration": 15,
    "start_time": "2022-01-24T07:58:20.499Z"
   },
   {
    "duration": 91,
    "start_time": "2022-01-24T07:58:20.517Z"
   },
   {
    "duration": 9,
    "start_time": "2022-01-24T07:58:20.610Z"
   },
   {
    "duration": 8,
    "start_time": "2022-01-24T07:58:20.620Z"
   },
   {
    "duration": 7,
    "start_time": "2022-01-24T07:58:20.630Z"
   },
   {
    "duration": 34,
    "start_time": "2022-01-24T07:58:20.638Z"
   },
   {
    "duration": 13,
    "start_time": "2022-01-24T07:58:20.674Z"
   },
   {
    "duration": 15,
    "start_time": "2022-01-24T07:58:20.689Z"
   },
   {
    "duration": 10,
    "start_time": "2022-01-24T07:58:20.706Z"
   },
   {
    "duration": 22,
    "start_time": "2022-01-24T07:58:20.718Z"
   },
   {
    "duration": 35,
    "start_time": "2022-01-24T07:58:20.741Z"
   },
   {
    "duration": 2,
    "start_time": "2022-01-24T07:58:20.778Z"
   },
   {
    "duration": 4,
    "start_time": "2022-01-24T07:58:20.782Z"
   },
   {
    "duration": 13,
    "start_time": "2022-01-24T08:04:12.335Z"
   },
   {
    "duration": 8,
    "start_time": "2022-01-24T08:04:24.640Z"
   },
   {
    "duration": 915,
    "start_time": "2022-01-31T09:20:28.672Z"
   },
   {
    "duration": 188,
    "start_time": "2022-01-31T09:20:29.589Z"
   },
   {
    "duration": 27,
    "start_time": "2022-01-31T09:20:29.781Z"
   },
   {
    "duration": 57,
    "start_time": "2022-01-31T09:20:29.812Z"
   },
   {
    "duration": 7,
    "start_time": "2022-01-31T09:20:29.872Z"
   },
   {
    "duration": 43,
    "start_time": "2022-01-31T09:20:29.881Z"
   },
   {
    "duration": 16,
    "start_time": "2022-01-31T09:20:29.927Z"
   },
   {
    "duration": 75,
    "start_time": "2022-01-31T09:20:29.948Z"
   },
   {
    "duration": 25,
    "start_time": "2022-01-31T09:20:30.027Z"
   },
   {
    "duration": 62,
    "start_time": "2022-01-31T09:20:30.054Z"
   },
   {
    "duration": 103,
    "start_time": "2022-01-31T09:20:30.119Z"
   },
   {
    "duration": 117,
    "start_time": "2022-01-31T09:20:30.224Z"
   },
   {
    "duration": 87,
    "start_time": "2022-01-31T09:20:30.343Z"
   },
   {
    "duration": 85,
    "start_time": "2022-01-31T09:20:30.433Z"
   },
   {
    "duration": 4,
    "start_time": "2022-01-31T09:20:30.520Z"
   },
   {
    "duration": 43,
    "start_time": "2022-01-31T09:20:30.526Z"
   },
   {
    "duration": 100,
    "start_time": "2022-01-31T09:20:30.572Z"
   },
   {
    "duration": 56,
    "start_time": "2022-01-31T09:20:30.674Z"
   },
   {
    "duration": 107,
    "start_time": "2022-01-31T09:20:30.732Z"
   },
   {
    "duration": 5,
    "start_time": "2022-01-31T09:20:30.842Z"
   },
   {
    "duration": 43,
    "start_time": "2022-01-31T09:20:30.849Z"
   },
   {
    "duration": 26,
    "start_time": "2022-01-31T09:20:30.895Z"
   },
   {
    "duration": 44,
    "start_time": "2022-01-31T09:20:30.925Z"
   },
   {
    "duration": 23,
    "start_time": "2022-01-31T09:20:30.973Z"
   },
   {
    "duration": 24,
    "start_time": "2022-01-31T09:20:30.999Z"
   },
   {
    "duration": 53,
    "start_time": "2022-01-31T09:20:31.025Z"
   },
   {
    "duration": 120,
    "start_time": "2022-01-31T09:20:31.080Z"
   },
   {
    "duration": 16,
    "start_time": "2022-01-31T09:20:31.202Z"
   },
   {
    "duration": 20,
    "start_time": "2022-01-31T09:20:31.220Z"
   },
   {
    "duration": 26,
    "start_time": "2022-01-31T09:20:31.243Z"
   },
   {
    "duration": 31,
    "start_time": "2022-01-31T09:20:31.272Z"
   },
   {
    "duration": 18,
    "start_time": "2022-01-31T09:20:31.306Z"
   },
   {
    "duration": 52,
    "start_time": "2022-01-31T09:20:31.326Z"
   },
   {
    "duration": 17,
    "start_time": "2022-01-31T09:20:31.380Z"
   },
   {
    "duration": 31,
    "start_time": "2022-01-31T09:20:31.400Z"
   },
   {
    "duration": 38,
    "start_time": "2022-01-31T09:20:31.433Z"
   },
   {
    "duration": 17,
    "start_time": "2022-01-31T09:20:31.473Z"
   },
   {
    "duration": 11,
    "start_time": "2022-01-31T09:20:31.493Z"
   },
   {
    "duration": 41,
    "start_time": "2022-01-31T09:20:47.080Z"
   },
   {
    "duration": 19,
    "start_time": "2022-01-31T09:42:16.461Z"
   },
   {
    "duration": 3,
    "start_time": "2022-01-31T09:58:56.453Z"
   },
   {
    "duration": 346,
    "start_time": "2022-01-31T10:52:56.934Z"
   },
   {
    "duration": 288,
    "start_time": "2022-01-31T10:53:06.776Z"
   },
   {
    "duration": 254,
    "start_time": "2022-01-31T10:53:18.231Z"
   },
   {
    "duration": 244,
    "start_time": "2022-01-31T10:53:26.873Z"
   },
   {
    "duration": 752,
    "start_time": "2022-01-31T10:53:32.529Z"
   },
   {
    "duration": 173,
    "start_time": "2022-01-31T10:53:33.283Z"
   },
   {
    "duration": 26,
    "start_time": "2022-01-31T10:53:33.459Z"
   },
   {
    "duration": 51,
    "start_time": "2022-01-31T10:53:33.487Z"
   },
   {
    "duration": 5,
    "start_time": "2022-01-31T10:53:33.541Z"
   },
   {
    "duration": 26,
    "start_time": "2022-01-31T10:53:33.549Z"
   },
   {
    "duration": 11,
    "start_time": "2022-01-31T10:53:33.577Z"
   },
   {
    "duration": 59,
    "start_time": "2022-01-31T10:53:33.592Z"
   },
   {
    "duration": 22,
    "start_time": "2022-01-31T10:53:33.654Z"
   },
   {
    "duration": 28,
    "start_time": "2022-01-31T10:53:33.678Z"
   },
   {
    "duration": 100,
    "start_time": "2022-01-31T10:53:33.709Z"
   },
   {
    "duration": 102,
    "start_time": "2022-01-31T10:53:33.812Z"
   },
   {
    "duration": 86,
    "start_time": "2022-01-31T10:53:33.916Z"
   },
   {
    "duration": 84,
    "start_time": "2022-01-31T10:53:34.005Z"
   },
   {
    "duration": 4,
    "start_time": "2022-01-31T10:53:34.092Z"
   },
   {
    "duration": 39,
    "start_time": "2022-01-31T10:53:34.098Z"
   },
   {
    "duration": 73,
    "start_time": "2022-01-31T10:53:34.139Z"
   },
   {
    "duration": 61,
    "start_time": "2022-01-31T10:53:34.215Z"
   },
   {
    "duration": 103,
    "start_time": "2022-01-31T10:53:34.279Z"
   },
   {
    "duration": 4,
    "start_time": "2022-01-31T10:53:34.384Z"
   },
   {
    "duration": 24,
    "start_time": "2022-01-31T10:53:34.391Z"
   },
   {
    "duration": 19,
    "start_time": "2022-01-31T10:53:34.433Z"
   },
   {
    "duration": 18,
    "start_time": "2022-01-31T10:53:34.457Z"
   },
   {
    "duration": 18,
    "start_time": "2022-01-31T10:53:34.478Z"
   },
   {
    "duration": 52,
    "start_time": "2022-01-31T10:53:34.498Z"
   },
   {
    "duration": 17,
    "start_time": "2022-01-31T10:53:34.552Z"
   },
   {
    "duration": 117,
    "start_time": "2022-01-31T10:53:34.571Z"
   },
   {
    "duration": 14,
    "start_time": "2022-01-31T10:53:34.691Z"
   },
   {
    "duration": 25,
    "start_time": "2022-01-31T10:53:34.708Z"
   },
   {
    "duration": 6,
    "start_time": "2022-01-31T10:53:34.735Z"
   },
   {
    "duration": 28,
    "start_time": "2022-01-31T10:53:34.744Z"
   },
   {
    "duration": 16,
    "start_time": "2022-01-31T10:53:34.774Z"
   },
   {
    "duration": 54,
    "start_time": "2022-01-31T10:53:34.792Z"
   },
   {
    "duration": 17,
    "start_time": "2022-01-31T10:53:34.849Z"
   },
   {
    "duration": 31,
    "start_time": "2022-01-31T10:53:34.868Z"
   },
   {
    "duration": 38,
    "start_time": "2022-01-31T10:53:34.902Z"
   },
   {
    "duration": 21,
    "start_time": "2022-01-31T10:53:34.943Z"
   },
   {
    "duration": 13,
    "start_time": "2022-01-31T10:53:34.966Z"
   },
   {
    "duration": 71,
    "start_time": "2022-01-31T10:57:52.333Z"
   },
   {
    "duration": 76,
    "start_time": "2022-01-31T10:58:22.570Z"
   },
   {
    "duration": 74,
    "start_time": "2022-01-31T10:59:06.002Z"
   },
   {
    "duration": 746,
    "start_time": "2022-01-31T10:59:10.372Z"
   },
   {
    "duration": 183,
    "start_time": "2022-01-31T10:59:11.121Z"
   },
   {
    "duration": 34,
    "start_time": "2022-01-31T10:59:11.310Z"
   },
   {
    "duration": 32,
    "start_time": "2022-01-31T10:59:11.347Z"
   },
   {
    "duration": 5,
    "start_time": "2022-01-31T10:59:11.381Z"
   },
   {
    "duration": 57,
    "start_time": "2022-01-31T10:59:11.388Z"
   },
   {
    "duration": 5,
    "start_time": "2022-01-31T10:59:11.449Z"
   },
   {
    "duration": 30,
    "start_time": "2022-01-31T10:59:11.457Z"
   },
   {
    "duration": 49,
    "start_time": "2022-01-31T10:59:11.489Z"
   },
   {
    "duration": 33,
    "start_time": "2022-01-31T10:59:11.541Z"
   },
   {
    "duration": 101,
    "start_time": "2022-01-31T10:59:11.576Z"
   },
   {
    "duration": 109,
    "start_time": "2022-01-31T10:59:11.679Z"
   },
   {
    "duration": 78,
    "start_time": "2022-01-31T10:59:11.790Z"
   },
   {
    "duration": 81,
    "start_time": "2022-01-31T10:59:11.870Z"
   },
   {
    "duration": 4,
    "start_time": "2022-01-31T10:59:11.954Z"
   },
   {
    "duration": 43,
    "start_time": "2022-01-31T10:59:11.960Z"
   },
   {
    "duration": 87,
    "start_time": "2022-01-31T10:59:12.005Z"
   },
   {
    "duration": 77,
    "start_time": "2022-01-31T10:59:12.095Z"
   },
   {
    "duration": 96,
    "start_time": "2022-01-31T10:59:12.174Z"
   },
   {
    "duration": 5,
    "start_time": "2022-01-31T10:59:12.272Z"
   },
   {
    "duration": 35,
    "start_time": "2022-01-31T10:59:12.279Z"
   },
   {
    "duration": 20,
    "start_time": "2022-01-31T10:59:12.331Z"
   },
   {
    "duration": 19,
    "start_time": "2022-01-31T10:59:12.354Z"
   },
   {
    "duration": 26,
    "start_time": "2022-01-31T10:59:12.376Z"
   },
   {
    "duration": 44,
    "start_time": "2022-01-31T10:59:12.405Z"
   },
   {
    "duration": 19,
    "start_time": "2022-01-31T10:59:12.452Z"
   },
   {
    "duration": 132,
    "start_time": "2022-01-31T10:59:12.473Z"
   },
   {
    "duration": 25,
    "start_time": "2022-01-31T10:59:12.607Z"
   },
   {
    "duration": 14,
    "start_time": "2022-01-31T10:59:12.634Z"
   },
   {
    "duration": 5,
    "start_time": "2022-01-31T10:59:12.651Z"
   },
   {
    "duration": 32,
    "start_time": "2022-01-31T10:59:12.659Z"
   },
   {
    "duration": 41,
    "start_time": "2022-01-31T10:59:12.693Z"
   },
   {
    "duration": 21,
    "start_time": "2022-01-31T10:59:12.736Z"
   },
   {
    "duration": 17,
    "start_time": "2022-01-31T10:59:12.759Z"
   },
   {
    "duration": 65,
    "start_time": "2022-01-31T10:59:12.779Z"
   },
   {
    "duration": 14,
    "start_time": "2022-01-31T10:59:12.847Z"
   },
   {
    "duration": 19,
    "start_time": "2022-01-31T10:59:12.864Z"
   },
   {
    "duration": 13,
    "start_time": "2022-01-31T10:59:12.885Z"
   },
   {
    "duration": 735,
    "start_time": "2022-01-31T11:01:51.969Z"
   },
   {
    "duration": 192,
    "start_time": "2022-01-31T11:01:52.706Z"
   },
   {
    "duration": 37,
    "start_time": "2022-01-31T11:01:52.902Z"
   },
   {
    "duration": 38,
    "start_time": "2022-01-31T11:01:52.941Z"
   },
   {
    "duration": 9,
    "start_time": "2022-01-31T11:01:52.981Z"
   },
   {
    "duration": 49,
    "start_time": "2022-01-31T11:01:52.993Z"
   },
   {
    "duration": 7,
    "start_time": "2022-01-31T11:01:53.045Z"
   },
   {
    "duration": 44,
    "start_time": "2022-01-31T11:01:53.055Z"
   },
   {
    "duration": 48,
    "start_time": "2022-01-31T11:01:53.106Z"
   },
   {
    "duration": 30,
    "start_time": "2022-01-31T11:01:53.158Z"
   },
   {
    "duration": 113,
    "start_time": "2022-01-31T11:01:53.190Z"
   },
   {
    "duration": 115,
    "start_time": "2022-01-31T11:01:53.306Z"
   },
   {
    "duration": 84,
    "start_time": "2022-01-31T11:01:53.424Z"
   },
   {
    "duration": 84,
    "start_time": "2022-01-31T11:01:53.510Z"
   },
   {
    "duration": 4,
    "start_time": "2022-01-31T11:01:53.597Z"
   },
   {
    "duration": 44,
    "start_time": "2022-01-31T11:01:53.603Z"
   },
   {
    "duration": 93,
    "start_time": "2022-01-31T11:01:53.649Z"
   },
   {
    "duration": 56,
    "start_time": "2022-01-31T11:01:53.745Z"
   },
   {
    "duration": 114,
    "start_time": "2022-01-31T11:01:53.803Z"
   },
   {
    "duration": 14,
    "start_time": "2022-01-31T11:01:53.919Z"
   },
   {
    "duration": 29,
    "start_time": "2022-01-31T11:01:53.935Z"
   },
   {
    "duration": 25,
    "start_time": "2022-01-31T11:01:53.966Z"
   },
   {
    "duration": 51,
    "start_time": "2022-01-31T11:01:53.993Z"
   },
   {
    "duration": 19,
    "start_time": "2022-01-31T11:01:54.048Z"
   },
   {
    "duration": 22,
    "start_time": "2022-01-31T11:01:54.070Z"
   },
   {
    "duration": 52,
    "start_time": "2022-01-31T11:01:54.094Z"
   },
   {
    "duration": 112,
    "start_time": "2022-01-31T11:01:54.152Z"
   },
   {
    "duration": 15,
    "start_time": "2022-01-31T11:01:54.266Z"
   },
   {
    "duration": 14,
    "start_time": "2022-01-31T11:01:54.283Z"
   },
   {
    "duration": 7,
    "start_time": "2022-01-31T11:01:54.299Z"
   },
   {
    "duration": 31,
    "start_time": "2022-01-31T11:01:54.333Z"
   },
   {
    "duration": 17,
    "start_time": "2022-01-31T11:01:54.366Z"
   },
   {
    "duration": 56,
    "start_time": "2022-01-31T11:01:54.386Z"
   },
   {
    "duration": 17,
    "start_time": "2022-01-31T11:01:54.445Z"
   },
   {
    "duration": 77,
    "start_time": "2022-01-31T11:01:54.464Z"
   },
   {
    "duration": 13,
    "start_time": "2022-01-31T11:01:54.544Z"
   },
   {
    "duration": 23,
    "start_time": "2022-01-31T11:01:54.560Z"
   },
   {
    "duration": 14,
    "start_time": "2022-01-31T11:01:54.586Z"
   },
   {
    "duration": 740,
    "start_time": "2022-01-31T11:03:16.104Z"
   },
   {
    "duration": 186,
    "start_time": "2022-01-31T11:03:16.847Z"
   },
   {
    "duration": 25,
    "start_time": "2022-01-31T11:03:17.036Z"
   },
   {
    "duration": 32,
    "start_time": "2022-01-31T11:03:17.064Z"
   },
   {
    "duration": 5,
    "start_time": "2022-01-31T11:03:17.099Z"
   },
   {
    "duration": 25,
    "start_time": "2022-01-31T11:03:17.133Z"
   },
   {
    "duration": 8,
    "start_time": "2022-01-31T11:03:17.160Z"
   },
   {
    "duration": 34,
    "start_time": "2022-01-31T11:03:17.170Z"
   },
   {
    "duration": 31,
    "start_time": "2022-01-31T11:03:17.235Z"
   },
   {
    "duration": 29,
    "start_time": "2022-01-31T11:03:17.269Z"
   },
   {
    "duration": 108,
    "start_time": "2022-01-31T11:03:17.300Z"
   },
   {
    "duration": 107,
    "start_time": "2022-01-31T11:03:17.411Z"
   },
   {
    "duration": 77,
    "start_time": "2022-01-31T11:03:17.520Z"
   },
   {
    "duration": 86,
    "start_time": "2022-01-31T11:03:17.601Z"
   },
   {
    "duration": 4,
    "start_time": "2022-01-31T11:03:17.691Z"
   },
   {
    "duration": 42,
    "start_time": "2022-01-31T11:03:17.698Z"
   },
   {
    "duration": 75,
    "start_time": "2022-01-31T11:03:17.742Z"
   },
   {
    "duration": 63,
    "start_time": "2022-01-31T11:03:17.819Z"
   },
   {
    "duration": 118,
    "start_time": "2022-01-31T11:03:17.885Z"
   },
   {
    "duration": 4,
    "start_time": "2022-01-31T11:03:18.006Z"
   },
   {
    "duration": 35,
    "start_time": "2022-01-31T11:03:18.013Z"
   },
   {
    "duration": 19,
    "start_time": "2022-01-31T11:03:18.051Z"
   },
   {
    "duration": 18,
    "start_time": "2022-01-31T11:03:18.073Z"
   },
   {
    "duration": 51,
    "start_time": "2022-01-31T11:03:18.093Z"
   },
   {
    "duration": 23,
    "start_time": "2022-01-31T11:03:18.147Z"
   },
   {
    "duration": 21,
    "start_time": "2022-01-31T11:03:18.172Z"
   },
   {
    "duration": 119,
    "start_time": "2022-01-31T11:03:18.197Z"
   },
   {
    "duration": 22,
    "start_time": "2022-01-31T11:03:18.319Z"
   },
   {
    "duration": 12,
    "start_time": "2022-01-31T11:03:18.343Z"
   },
   {
    "duration": 5,
    "start_time": "2022-01-31T11:03:18.358Z"
   },
   {
    "duration": 32,
    "start_time": "2022-01-31T11:03:18.365Z"
   },
   {
    "duration": 46,
    "start_time": "2022-01-31T11:03:18.399Z"
   },
   {
    "duration": 22,
    "start_time": "2022-01-31T11:03:18.448Z"
   },
   {
    "duration": 16,
    "start_time": "2022-01-31T11:03:18.472Z"
   },
   {
    "duration": 349,
    "start_time": "2022-01-31T11:03:18.490Z"
   },
   {
    "duration": -176,
    "start_time": "2022-01-31T11:03:19.018Z"
   },
   {
    "duration": -180,
    "start_time": "2022-01-31T11:03:19.023Z"
   },
   {
    "duration": -183,
    "start_time": "2022-01-31T11:03:19.027Z"
   },
   {
    "duration": 249,
    "start_time": "2022-01-31T11:04:22.190Z"
   },
   {
    "duration": 31,
    "start_time": "2022-01-31T11:04:39.652Z"
   },
   {
    "duration": 38,
    "start_time": "2022-01-31T11:04:43.913Z"
   },
   {
    "duration": 735,
    "start_time": "2022-01-31T11:04:48.631Z"
   },
   {
    "duration": 174,
    "start_time": "2022-01-31T11:04:49.369Z"
   },
   {
    "duration": 24,
    "start_time": "2022-01-31T11:04:49.546Z"
   },
   {
    "duration": 30,
    "start_time": "2022-01-31T11:04:49.573Z"
   },
   {
    "duration": 29,
    "start_time": "2022-01-31T11:04:49.606Z"
   },
   {
    "duration": 32,
    "start_time": "2022-01-31T11:04:49.638Z"
   },
   {
    "duration": 5,
    "start_time": "2022-01-31T11:04:49.673Z"
   },
   {
    "duration": 57,
    "start_time": "2022-01-31T11:04:49.682Z"
   },
   {
    "duration": 22,
    "start_time": "2022-01-31T11:04:49.743Z"
   },
   {
    "duration": 29,
    "start_time": "2022-01-31T11:04:49.767Z"
   },
   {
    "duration": 104,
    "start_time": "2022-01-31T11:04:49.798Z"
   },
   {
    "duration": 110,
    "start_time": "2022-01-31T11:04:49.904Z"
   },
   {
    "duration": 84,
    "start_time": "2022-01-31T11:04:50.016Z"
   },
   {
    "duration": 81,
    "start_time": "2022-01-31T11:04:50.102Z"
   },
   {
    "duration": 4,
    "start_time": "2022-01-31T11:04:50.186Z"
   },
   {
    "duration": 42,
    "start_time": "2022-01-31T11:04:50.192Z"
   },
   {
    "duration": 76,
    "start_time": "2022-01-31T11:04:50.237Z"
   },
   {
    "duration": 58,
    "start_time": "2022-01-31T11:04:50.316Z"
   },
   {
    "duration": 99,
    "start_time": "2022-01-31T11:04:50.377Z"
   },
   {
    "duration": 4,
    "start_time": "2022-01-31T11:04:50.479Z"
   },
   {
    "duration": 33,
    "start_time": "2022-01-31T11:04:50.485Z"
   },
   {
    "duration": 22,
    "start_time": "2022-01-31T11:04:50.521Z"
   },
   {
    "duration": 22,
    "start_time": "2022-01-31T11:04:50.548Z"
   },
   {
    "duration": 17,
    "start_time": "2022-01-31T11:04:50.573Z"
   },
   {
    "duration": 50,
    "start_time": "2022-01-31T11:04:50.593Z"
   },
   {
    "duration": 19,
    "start_time": "2022-01-31T11:04:50.646Z"
   },
   {
    "duration": 126,
    "start_time": "2022-01-31T11:04:50.668Z"
   },
   {
    "duration": 15,
    "start_time": "2022-01-31T11:04:50.797Z"
   },
   {
    "duration": 24,
    "start_time": "2022-01-31T11:04:50.815Z"
   },
   {
    "duration": 9,
    "start_time": "2022-01-31T11:04:50.841Z"
   },
   {
    "duration": 31,
    "start_time": "2022-01-31T11:04:50.853Z"
   },
   {
    "duration": 50,
    "start_time": "2022-01-31T11:04:50.886Z"
   },
   {
    "duration": 23,
    "start_time": "2022-01-31T11:04:50.938Z"
   },
   {
    "duration": 17,
    "start_time": "2022-01-31T11:04:50.963Z"
   },
   {
    "duration": 68,
    "start_time": "2022-01-31T11:04:50.983Z"
   },
   {
    "duration": 12,
    "start_time": "2022-01-31T11:04:51.053Z"
   },
   {
    "duration": 21,
    "start_time": "2022-01-31T11:04:51.067Z"
   },
   {
    "duration": 11,
    "start_time": "2022-01-31T11:04:51.090Z"
   },
   {
    "duration": 6,
    "start_time": "2022-01-31T11:12:53.541Z"
   },
   {
    "duration": 775,
    "start_time": "2022-01-31T11:13:00.259Z"
   },
   {
    "duration": 180,
    "start_time": "2022-01-31T11:13:01.037Z"
   },
   {
    "duration": 29,
    "start_time": "2022-01-31T11:13:01.220Z"
   },
   {
    "duration": 39,
    "start_time": "2022-01-31T11:13:01.251Z"
   },
   {
    "duration": 5,
    "start_time": "2022-01-31T11:13:01.292Z"
   },
   {
    "duration": 50,
    "start_time": "2022-01-31T11:13:01.300Z"
   },
   {
    "duration": 5,
    "start_time": "2022-01-31T11:13:01.353Z"
   },
   {
    "duration": 35,
    "start_time": "2022-01-31T11:13:01.362Z"
   },
   {
    "duration": 47,
    "start_time": "2022-01-31T11:13:01.400Z"
   },
   {
    "duration": 33,
    "start_time": "2022-01-31T11:13:01.449Z"
   },
   {
    "duration": 111,
    "start_time": "2022-01-31T11:13:01.485Z"
   },
   {
    "duration": 106,
    "start_time": "2022-01-31T11:13:01.599Z"
   },
   {
    "duration": 87,
    "start_time": "2022-01-31T11:13:01.708Z"
   },
   {
    "duration": 83,
    "start_time": "2022-01-31T11:13:01.798Z"
   },
   {
    "duration": 5,
    "start_time": "2022-01-31T11:13:01.884Z"
   },
   {
    "duration": 44,
    "start_time": "2022-01-31T11:13:01.892Z"
   },
   {
    "duration": 74,
    "start_time": "2022-01-31T11:13:01.939Z"
   },
   {
    "duration": 65,
    "start_time": "2022-01-31T11:13:02.016Z"
   },
   {
    "duration": 112,
    "start_time": "2022-01-31T11:13:02.084Z"
   },
   {
    "duration": 5,
    "start_time": "2022-01-31T11:13:02.199Z"
   },
   {
    "duration": 44,
    "start_time": "2022-01-31T11:13:02.207Z"
   },
   {
    "duration": 22,
    "start_time": "2022-01-31T11:13:02.254Z"
   },
   {
    "duration": 18,
    "start_time": "2022-01-31T11:13:02.282Z"
   },
   {
    "duration": 46,
    "start_time": "2022-01-31T11:13:02.303Z"
   },
   {
    "duration": 23,
    "start_time": "2022-01-31T11:13:02.352Z"
   },
   {
    "duration": 54,
    "start_time": "2022-01-31T11:13:02.378Z"
   },
   {
    "duration": 100,
    "start_time": "2022-01-31T11:13:02.434Z"
   },
   {
    "duration": 15,
    "start_time": "2022-01-31T11:13:02.536Z"
   },
   {
    "duration": 13,
    "start_time": "2022-01-31T11:13:02.554Z"
   },
   {
    "duration": 6,
    "start_time": "2022-01-31T11:13:02.570Z"
   },
   {
    "duration": 642,
    "start_time": "2022-01-31T11:13:02.579Z"
   },
   {
    "duration": -146,
    "start_time": "2022-01-31T11:13:03.369Z"
   },
   {
    "duration": -173,
    "start_time": "2022-01-31T11:13:03.398Z"
   },
   {
    "duration": -197,
    "start_time": "2022-01-31T11:13:03.423Z"
   },
   {
    "duration": -207,
    "start_time": "2022-01-31T11:13:03.435Z"
   },
   {
    "duration": -213,
    "start_time": "2022-01-31T11:13:03.442Z"
   },
   {
    "duration": -221,
    "start_time": "2022-01-31T11:13:03.451Z"
   },
   {
    "duration": -224,
    "start_time": "2022-01-31T11:13:03.456Z"
   },
   {
    "duration": 762,
    "start_time": "2022-01-31T11:14:29.818Z"
   },
   {
    "duration": 189,
    "start_time": "2022-01-31T11:14:30.584Z"
   },
   {
    "duration": 27,
    "start_time": "2022-01-31T11:14:30.776Z"
   },
   {
    "duration": 57,
    "start_time": "2022-01-31T11:14:30.805Z"
   },
   {
    "duration": 7,
    "start_time": "2022-01-31T11:14:30.865Z"
   },
   {
    "duration": 42,
    "start_time": "2022-01-31T11:14:30.875Z"
   },
   {
    "duration": 12,
    "start_time": "2022-01-31T11:14:30.920Z"
   },
   {
    "duration": 28,
    "start_time": "2022-01-31T11:14:30.936Z"
   },
   {
    "duration": 22,
    "start_time": "2022-01-31T11:14:30.967Z"
   },
   {
    "duration": 59,
    "start_time": "2022-01-31T11:14:30.991Z"
   },
   {
    "duration": 92,
    "start_time": "2022-01-31T11:14:31.052Z"
   },
   {
    "duration": 105,
    "start_time": "2022-01-31T11:14:31.147Z"
   },
   {
    "duration": 84,
    "start_time": "2022-01-31T11:14:31.254Z"
   },
   {
    "duration": 67,
    "start_time": "2022-01-31T11:14:31.340Z"
   },
   {
    "duration": 5,
    "start_time": "2022-01-31T11:14:31.409Z"
   },
   {
    "duration": 20,
    "start_time": "2022-01-31T11:14:31.432Z"
   },
   {
    "duration": 90,
    "start_time": "2022-01-31T11:14:31.455Z"
   },
   {
    "duration": 46,
    "start_time": "2022-01-31T11:14:31.547Z"
   },
   {
    "duration": 103,
    "start_time": "2022-01-31T11:14:31.595Z"
   },
   {
    "duration": 5,
    "start_time": "2022-01-31T11:14:31.701Z"
   },
   {
    "duration": 42,
    "start_time": "2022-01-31T11:14:31.708Z"
   },
   {
    "duration": 18,
    "start_time": "2022-01-31T11:14:31.753Z"
   },
   {
    "duration": 20,
    "start_time": "2022-01-31T11:14:31.775Z"
   },
   {
    "duration": 47,
    "start_time": "2022-01-31T11:14:31.798Z"
   },
   {
    "duration": 24,
    "start_time": "2022-01-31T11:14:31.848Z"
   },
   {
    "duration": 18,
    "start_time": "2022-01-31T11:14:31.874Z"
   },
   {
    "duration": 124,
    "start_time": "2022-01-31T11:14:31.894Z"
   },
   {
    "duration": 23,
    "start_time": "2022-01-31T11:14:32.020Z"
   },
   {
    "duration": 13,
    "start_time": "2022-01-31T11:14:32.045Z"
   },
   {
    "duration": 6,
    "start_time": "2022-01-31T11:14:32.061Z"
   },
   {
    "duration": 32,
    "start_time": "2022-01-31T11:14:32.069Z"
   },
   {
    "duration": 41,
    "start_time": "2022-01-31T11:14:32.104Z"
   },
   {
    "duration": 23,
    "start_time": "2022-01-31T11:14:32.147Z"
   },
   {
    "duration": 16,
    "start_time": "2022-01-31T11:14:32.172Z"
   },
   {
    "duration": 70,
    "start_time": "2022-01-31T11:14:32.190Z"
   },
   {
    "duration": 13,
    "start_time": "2022-01-31T11:14:32.262Z"
   },
   {
    "duration": 54,
    "start_time": "2022-01-31T11:14:32.278Z"
   },
   {
    "duration": 13,
    "start_time": "2022-01-31T11:14:32.335Z"
   },
   {
    "duration": 336,
    "start_time": "2022-01-31T11:41:34.586Z"
   },
   {
    "duration": 12,
    "start_time": "2022-01-31T11:41:51.896Z"
   },
   {
    "duration": 12,
    "start_time": "2022-01-31T11:41:56.331Z"
   },
   {
    "duration": 750,
    "start_time": "2022-01-31T11:42:01.951Z"
   },
   {
    "duration": 180,
    "start_time": "2022-01-31T11:42:02.703Z"
   },
   {
    "duration": 26,
    "start_time": "2022-01-31T11:42:02.887Z"
   },
   {
    "duration": 48,
    "start_time": "2022-01-31T11:42:02.916Z"
   },
   {
    "duration": 5,
    "start_time": "2022-01-31T11:42:02.967Z"
   },
   {
    "duration": 68,
    "start_time": "2022-01-31T11:42:02.975Z"
   },
   {
    "duration": 9,
    "start_time": "2022-01-31T11:42:03.046Z"
   },
   {
    "duration": 31,
    "start_time": "2022-01-31T11:42:03.059Z"
   },
   {
    "duration": 50,
    "start_time": "2022-01-31T11:42:03.093Z"
   },
   {
    "duration": 30,
    "start_time": "2022-01-31T11:42:03.146Z"
   },
   {
    "duration": 110,
    "start_time": "2022-01-31T11:42:03.178Z"
   },
   {
    "duration": 111,
    "start_time": "2022-01-31T11:42:03.291Z"
   },
   {
    "duration": 84,
    "start_time": "2022-01-31T11:42:03.404Z"
   },
   {
    "duration": 94,
    "start_time": "2022-01-31T11:42:03.491Z"
   },
   {
    "duration": 4,
    "start_time": "2022-01-31T11:42:03.588Z"
   },
   {
    "duration": 43,
    "start_time": "2022-01-31T11:42:03.594Z"
   },
   {
    "duration": 77,
    "start_time": "2022-01-31T11:42:03.639Z"
   },
   {
    "duration": 61,
    "start_time": "2022-01-31T11:42:03.719Z"
   },
   {
    "duration": 122,
    "start_time": "2022-01-31T11:42:03.783Z"
   },
   {
    "duration": 5,
    "start_time": "2022-01-31T11:42:03.908Z"
   },
   {
    "duration": 23,
    "start_time": "2022-01-31T11:42:03.933Z"
   },
   {
    "duration": 19,
    "start_time": "2022-01-31T11:42:03.958Z"
   },
   {
    "duration": 60,
    "start_time": "2022-01-31T11:42:03.982Z"
   },
   {
    "duration": 18,
    "start_time": "2022-01-31T11:42:04.045Z"
   },
   {
    "duration": 21,
    "start_time": "2022-01-31T11:42:04.065Z"
   },
   {
    "duration": 60,
    "start_time": "2022-01-31T11:42:04.089Z"
   },
   {
    "duration": 121,
    "start_time": "2022-01-31T11:42:04.152Z"
   },
   {
    "duration": 19,
    "start_time": "2022-01-31T11:42:04.276Z"
   },
   {
    "duration": 40,
    "start_time": "2022-01-31T11:42:04.297Z"
   },
   {
    "duration": 9,
    "start_time": "2022-01-31T11:42:04.340Z"
   },
   {
    "duration": 35,
    "start_time": "2022-01-31T11:42:04.352Z"
   },
   {
    "duration": 54,
    "start_time": "2022-01-31T11:42:04.391Z"
   },
   {
    "duration": 26,
    "start_time": "2022-01-31T11:42:04.448Z"
   },
   {
    "duration": 62,
    "start_time": "2022-01-31T11:42:04.477Z"
   },
   {
    "duration": 11,
    "start_time": "2022-01-31T11:42:04.542Z"
   },
   {
    "duration": 6,
    "start_time": "2022-01-31T11:42:04.556Z"
   },
   {
    "duration": 23,
    "start_time": "2022-01-31T11:42:04.565Z"
   },
   {
    "duration": 53,
    "start_time": "2022-01-31T11:42:04.590Z"
   },
   {
    "duration": 772,
    "start_time": "2022-01-31T11:47:05.810Z"
   },
   {
    "duration": 193,
    "start_time": "2022-01-31T11:47:06.585Z"
   },
   {
    "duration": 29,
    "start_time": "2022-01-31T11:47:06.781Z"
   },
   {
    "duration": 33,
    "start_time": "2022-01-31T11:47:06.833Z"
   },
   {
    "duration": 7,
    "start_time": "2022-01-31T11:47:06.869Z"
   },
   {
    "duration": 63,
    "start_time": "2022-01-31T11:47:06.879Z"
   },
   {
    "duration": 8,
    "start_time": "2022-01-31T11:47:06.945Z"
   },
   {
    "duration": 32,
    "start_time": "2022-01-31T11:47:06.956Z"
   },
   {
    "duration": 53,
    "start_time": "2022-01-31T11:47:06.991Z"
   },
   {
    "duration": 32,
    "start_time": "2022-01-31T11:47:07.046Z"
   },
   {
    "duration": 120,
    "start_time": "2022-01-31T11:47:07.081Z"
   },
   {
    "duration": 113,
    "start_time": "2022-01-31T11:47:07.203Z"
   },
   {
    "duration": 82,
    "start_time": "2022-01-31T11:47:07.319Z"
   },
   {
    "duration": 87,
    "start_time": "2022-01-31T11:47:07.404Z"
   },
   {
    "duration": 5,
    "start_time": "2022-01-31T11:47:07.493Z"
   },
   {
    "duration": 50,
    "start_time": "2022-01-31T11:47:07.500Z"
   },
   {
    "duration": 94,
    "start_time": "2022-01-31T11:47:07.553Z"
   },
   {
    "duration": 54,
    "start_time": "2022-01-31T11:47:07.649Z"
   },
   {
    "duration": 105,
    "start_time": "2022-01-31T11:47:07.705Z"
   },
   {
    "duration": 21,
    "start_time": "2022-01-31T11:47:07.812Z"
   },
   {
    "duration": 26,
    "start_time": "2022-01-31T11:47:07.836Z"
   },
   {
    "duration": 19,
    "start_time": "2022-01-31T11:47:07.865Z"
   },
   {
    "duration": 56,
    "start_time": "2022-01-31T11:47:07.889Z"
   },
   {
    "duration": 22,
    "start_time": "2022-01-31T11:47:07.949Z"
   },
   {
    "duration": 21,
    "start_time": "2022-01-31T11:47:07.973Z"
   },
   {
    "duration": 53,
    "start_time": "2022-01-31T11:47:07.996Z"
   },
   {
    "duration": 134,
    "start_time": "2022-01-31T11:47:08.052Z"
   },
   {
    "duration": 18,
    "start_time": "2022-01-31T11:47:08.188Z"
   },
   {
    "duration": 25,
    "start_time": "2022-01-31T11:47:08.208Z"
   },
   {
    "duration": 6,
    "start_time": "2022-01-31T11:47:08.235Z"
   },
   {
    "duration": 32,
    "start_time": "2022-01-31T11:47:08.244Z"
   },
   {
    "duration": 54,
    "start_time": "2022-01-31T11:47:08.278Z"
   },
   {
    "duration": 23,
    "start_time": "2022-01-31T11:47:08.335Z"
   },
   {
    "duration": 16,
    "start_time": "2022-01-31T11:47:08.360Z"
   },
   {
    "duration": 54,
    "start_time": "2022-01-31T11:47:08.378Z"
   },
   {
    "duration": 7,
    "start_time": "2022-01-31T11:47:08.434Z"
   },
   {
    "duration": 11,
    "start_time": "2022-01-31T11:47:08.443Z"
   },
   {
    "duration": 6,
    "start_time": "2022-01-31T11:47:08.457Z"
   },
   {
    "duration": 340,
    "start_time": "2022-01-31T12:13:31.161Z"
   },
   {
    "duration": 327,
    "start_time": "2022-01-31T12:13:44.844Z"
   },
   {
    "duration": 330,
    "start_time": "2022-01-31T12:18:35.814Z"
   },
   {
    "duration": 329,
    "start_time": "2022-01-31T12:19:58.867Z"
   },
   {
    "duration": 771,
    "start_time": "2022-01-31T12:20:03.220Z"
   },
   {
    "duration": 183,
    "start_time": "2022-01-31T12:20:03.994Z"
   },
   {
    "duration": 26,
    "start_time": "2022-01-31T12:20:04.180Z"
   },
   {
    "duration": 49,
    "start_time": "2022-01-31T12:20:04.210Z"
   },
   {
    "duration": 7,
    "start_time": "2022-01-31T12:20:04.262Z"
   },
   {
    "duration": 29,
    "start_time": "2022-01-31T12:20:04.272Z"
   },
   {
    "duration": 6,
    "start_time": "2022-01-31T12:20:04.333Z"
   },
   {
    "duration": 33,
    "start_time": "2022-01-31T12:20:04.344Z"
   },
   {
    "duration": 57,
    "start_time": "2022-01-31T12:20:04.381Z"
   },
   {
    "duration": 33,
    "start_time": "2022-01-31T12:20:04.440Z"
   },
   {
    "duration": 106,
    "start_time": "2022-01-31T12:20:04.475Z"
   },
   {
    "duration": 107,
    "start_time": "2022-01-31T12:20:04.585Z"
   },
   {
    "duration": 86,
    "start_time": "2022-01-31T12:20:04.694Z"
   },
   {
    "duration": 117,
    "start_time": "2022-01-31T12:20:04.783Z"
   },
   {
    "duration": 6,
    "start_time": "2022-01-31T12:20:04.903Z"
   },
   {
    "duration": 43,
    "start_time": "2022-01-31T12:20:04.911Z"
   },
   {
    "duration": 120,
    "start_time": "2022-01-31T12:20:04.957Z"
   },
   {
    "duration": 400,
    "start_time": "2022-01-31T12:20:05.080Z"
   },
   {
    "duration": -66,
    "start_time": "2022-01-31T12:20:05.549Z"
   },
   {
    "duration": -72,
    "start_time": "2022-01-31T12:20:05.557Z"
   },
   {
    "duration": -76,
    "start_time": "2022-01-31T12:20:05.562Z"
   },
   {
    "duration": -78,
    "start_time": "2022-01-31T12:20:05.566Z"
   },
   {
    "duration": -81,
    "start_time": "2022-01-31T12:20:05.570Z"
   },
   {
    "duration": -87,
    "start_time": "2022-01-31T12:20:05.578Z"
   },
   {
    "duration": -90,
    "start_time": "2022-01-31T12:20:05.582Z"
   },
   {
    "duration": -94,
    "start_time": "2022-01-31T12:20:05.587Z"
   },
   {
    "duration": -97,
    "start_time": "2022-01-31T12:20:05.592Z"
   },
   {
    "duration": -100,
    "start_time": "2022-01-31T12:20:05.596Z"
   },
   {
    "duration": -103,
    "start_time": "2022-01-31T12:20:05.601Z"
   },
   {
    "duration": -106,
    "start_time": "2022-01-31T12:20:05.606Z"
   },
   {
    "duration": -110,
    "start_time": "2022-01-31T12:20:05.611Z"
   },
   {
    "duration": -136,
    "start_time": "2022-01-31T12:20:05.638Z"
   },
   {
    "duration": -150,
    "start_time": "2022-01-31T12:20:05.654Z"
   },
   {
    "duration": -164,
    "start_time": "2022-01-31T12:20:05.669Z"
   },
   {
    "duration": -166,
    "start_time": "2022-01-31T12:20:05.673Z"
   },
   {
    "duration": -174,
    "start_time": "2022-01-31T12:20:05.682Z"
   },
   {
    "duration": -186,
    "start_time": "2022-01-31T12:20:05.695Z"
   },
   {
    "duration": -191,
    "start_time": "2022-01-31T12:20:05.701Z"
   },
   {
    "duration": 89,
    "start_time": "2022-01-31T12:21:17.318Z"
   },
   {
    "duration": 276,
    "start_time": "2022-01-31T12:21:23.550Z"
   },
   {
    "duration": 53,
    "start_time": "2022-01-31T12:27:00.500Z"
   },
   {
    "duration": 3,
    "start_time": "2022-01-31T13:48:40.073Z"
   },
   {
    "duration": 216,
    "start_time": "2022-01-31T13:48:40.079Z"
   },
   {
    "duration": 14,
    "start_time": "2022-01-31T13:48:40.298Z"
   },
   {
    "duration": 43,
    "start_time": "2022-01-31T13:48:40.315Z"
   },
   {
    "duration": 6,
    "start_time": "2022-01-31T13:48:40.368Z"
   },
   {
    "duration": 33,
    "start_time": "2022-01-31T13:48:40.376Z"
   },
   {
    "duration": 6,
    "start_time": "2022-01-31T13:48:40.411Z"
   },
   {
    "duration": 52,
    "start_time": "2022-01-31T13:48:40.419Z"
   },
   {
    "duration": 23,
    "start_time": "2022-01-31T13:48:40.474Z"
   },
   {
    "duration": 30,
    "start_time": "2022-01-31T13:48:40.499Z"
   },
   {
    "duration": 112,
    "start_time": "2022-01-31T13:48:40.531Z"
   },
   {
    "duration": 121,
    "start_time": "2022-01-31T13:48:40.645Z"
   },
   {
    "duration": 80,
    "start_time": "2022-01-31T13:48:40.769Z"
   },
   {
    "duration": 84,
    "start_time": "2022-01-31T13:48:40.851Z"
   },
   {
    "duration": 4,
    "start_time": "2022-01-31T13:48:40.937Z"
   },
   {
    "duration": 42,
    "start_time": "2022-01-31T13:48:40.944Z"
   },
   {
    "duration": 88,
    "start_time": "2022-01-31T13:48:40.988Z"
   },
   {
    "duration": 57,
    "start_time": "2022-01-31T13:48:41.079Z"
   },
   {
    "duration": 103,
    "start_time": "2022-01-31T13:48:41.138Z"
   },
   {
    "duration": 4,
    "start_time": "2022-01-31T13:48:41.243Z"
   },
   {
    "duration": 41,
    "start_time": "2022-01-31T13:48:41.249Z"
   },
   {
    "duration": 19,
    "start_time": "2022-01-31T13:48:41.294Z"
   },
   {
    "duration": 19,
    "start_time": "2022-01-31T13:48:41.315Z"
   },
   {
    "duration": 45,
    "start_time": "2022-01-31T13:48:41.336Z"
   },
   {
    "duration": 22,
    "start_time": "2022-01-31T13:48:41.384Z"
   },
   {
    "duration": 20,
    "start_time": "2022-01-31T13:48:41.408Z"
   },
   {
    "duration": 102,
    "start_time": "2022-01-31T13:48:41.469Z"
   },
   {
    "duration": 16,
    "start_time": "2022-01-31T13:48:41.574Z"
   },
   {
    "duration": 15,
    "start_time": "2022-01-31T13:48:41.592Z"
   },
   {
    "duration": 7,
    "start_time": "2022-01-31T13:48:41.610Z"
   },
   {
    "duration": 63,
    "start_time": "2022-01-31T13:48:41.619Z"
   },
   {
    "duration": 16,
    "start_time": "2022-01-31T13:48:41.685Z"
   },
   {
    "duration": 25,
    "start_time": "2022-01-31T13:48:41.704Z"
   },
   {
    "duration": 46,
    "start_time": "2022-01-31T13:48:41.731Z"
   },
   {
    "duration": 12,
    "start_time": "2022-01-31T13:48:41.780Z"
   },
   {
    "duration": 12,
    "start_time": "2022-01-31T13:48:41.794Z"
   },
   {
    "duration": 33,
    "start_time": "2022-01-31T13:48:41.809Z"
   },
   {
    "duration": 7,
    "start_time": "2022-01-31T13:48:41.844Z"
   },
   {
    "duration": 6,
    "start_time": "2022-01-31T13:50:54.100Z"
   },
   {
    "duration": 15,
    "start_time": "2022-01-31T13:51:03.169Z"
   }
  ],
  "colab": {
   "collapsed_sections": [
    "E0vqbgi9ay0H",
    "VUC88oWjTJw2"
   ],
   "name": "yandex_music_project_2021.2.ipynb",
   "provenance": []
  },
  "kernelspec": {
   "display_name": "Python 3",
   "language": "python",
   "name": "python3"
  },
  "language_info": {
   "codemirror_mode": {
    "name": "ipython",
    "version": 3
   },
   "file_extension": ".py",
   "mimetype": "text/x-python",
   "name": "python",
   "nbconvert_exporter": "python",
   "pygments_lexer": "ipython3",
   "version": "3.7.8"
  },
  "toc": {
   "base_numbering": 1,
   "nav_menu": {},
   "number_sections": true,
   "sideBar": true,
   "skip_h1_title": true,
   "title_cell": "Table of Contents",
   "title_sidebar": "Contents",
   "toc_cell": false,
   "toc_position": {},
   "toc_section_display": true,
   "toc_window_display": false
  }
 },
 "nbformat": 4,
 "nbformat_minor": 1
}
